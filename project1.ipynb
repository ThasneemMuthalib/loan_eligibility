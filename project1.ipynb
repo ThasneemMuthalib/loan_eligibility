{
  "nbformat": 4,
  "nbformat_minor": 0,
  "metadata": {
    "colab": {
      "provenance": []
    },
    "kernelspec": {
      "name": "python3",
      "display_name": "Python 3"
    },
    "language_info": {
      "name": "python"
    }
  },
  "cells": [
    {
      "cell_type": "markdown",
      "source": [
        "# Importing libraries"
      ],
      "metadata": {
        "id": "So9_J77zHZFX"
      }
    },
    {
      "cell_type": "code",
      "execution_count": null,
      "metadata": {
        "id": "86n9vbm2tGYQ"
      },
      "outputs": [],
      "source": [
        "import numpy as np        # To perform the Mathematical operation\n",
        "import pandas as pd       # Data Manipulation tool\n",
        "\n",
        "# Data Visualisation tool\n",
        "import matplotlib.pyplot as plt       \n",
        "import seaborn as sns                 \n",
        "\n",
        "# To check accuracy\n",
        "from sklearn.metrics import confusion_matrix, accuracy_score, mean_squared_error\n",
        "\n",
        "# For encoding and scaling \n",
        "from sklearn.preprocessing import LabelEncoder, OneHotEncoder, MinMaxScaler\n",
        "\n",
        "# train_test_split <- divide train and test set\n",
        "# GridSearchCV <- classifier hyper parameter tunning \n",
        "from sklearn.model_selection import train_test_split, GridSearchCV\n",
        "\n",
        "# Classification methods \n",
        "from sklearn.ensemble import RandomForestClassifier, ExtraTreesClassifier\n",
        "from sklearn.tree import DecisionTreeClassifier\n",
        "from sklearn.svm import SVC                         # Support vector classifier \n",
        "from sklearn.naive_bayes import GaussianNB\n",
        "from sklearn.linear_model import LogisticRegression"
      ]
    },
    {
      "cell_type": "markdown",
      "source": [
        "# Importing the datasets"
      ],
      "metadata": {
        "id": "JUkOLTQ6IKh-"
      }
    },
    {
      "cell_type": "code",
      "source": [
        "train = pd.read_csv('/content/Copy of Training Data.csv')\n",
        "test = pd.read_csv('/content/Copy of Testing Data.csv')"
      ],
      "metadata": {
        "id": "9YqOyDcGt9Xb"
      },
      "execution_count": null,
      "outputs": []
    },
    {
      "cell_type": "markdown",
      "source": [
        "**Variables**\n",
        "\n",
        "* Loan_ID----------------> Unique Loan ID.\n",
        "* Gender ----------------> Male/ Female\n",
        "* Married ---------------> Applicant married (Y/N)\n",
        "* Dependents ------------> Number of dependents\n",
        "* Education -------------> Applicant Education (Graduate/ Under Graduate)\n",
        "* Self_Employed ---------> Self-employed (Y/N)\n",
        "* ApplicantIncome -------> Applicant income\n",
        "* CoapplicantIncome -----> Coapplicant income\n",
        "* LoanAmount ------------> Loan amount in thousands\n",
        "* Loan_Amount_Term ------> Term of a loan in months\n",
        "* Credit_History --------> Credit history meets guidelines\n",
        "* Property_Area ---------> Urban/ Semi-Urban/ Rural\n",
        "* Loan_Status -----------> Loan approved (Y/N)"
      ],
      "metadata": {
        "id": "xEEXfwO_72vc"
      }
    },
    {
      "cell_type": "code",
      "source": [
        "train.head()"
      ],
      "metadata": {
        "colab": {
          "base_uri": "https://localhost:8080/",
          "height": 287
        },
        "id": "hzcyblyI7n65",
        "outputId": "c01acfb5-7b39-4cfe-852b-a95191e807f4"
      },
      "execution_count": null,
      "outputs": [
        {
          "output_type": "execute_result",
          "data": {
            "text/html": [
              "\n",
              "  <div id=\"df-53de33ad-b115-4956-9122-00d2ada8de1d\">\n",
              "    <div class=\"colab-df-container\">\n",
              "      <div>\n",
              "<style scoped>\n",
              "    .dataframe tbody tr th:only-of-type {\n",
              "        vertical-align: middle;\n",
              "    }\n",
              "\n",
              "    .dataframe tbody tr th {\n",
              "        vertical-align: top;\n",
              "    }\n",
              "\n",
              "    .dataframe thead th {\n",
              "        text-align: right;\n",
              "    }\n",
              "</style>\n",
              "<table border=\"1\" class=\"dataframe\">\n",
              "  <thead>\n",
              "    <tr style=\"text-align: right;\">\n",
              "      <th></th>\n",
              "      <th>Loan_ID</th>\n",
              "      <th>Gender</th>\n",
              "      <th>Married</th>\n",
              "      <th>Dependents</th>\n",
              "      <th>Education</th>\n",
              "      <th>Self_Employed</th>\n",
              "      <th>ApplicantIncome</th>\n",
              "      <th>CoapplicantIncome</th>\n",
              "      <th>LoanAmount</th>\n",
              "      <th>Loan_Amount_Term</th>\n",
              "      <th>Credit_History</th>\n",
              "      <th>Property_Area</th>\n",
              "      <th>Loan_Status</th>\n",
              "    </tr>\n",
              "  </thead>\n",
              "  <tbody>\n",
              "    <tr>\n",
              "      <th>0</th>\n",
              "      <td>LP001002</td>\n",
              "      <td>Male</td>\n",
              "      <td>No</td>\n",
              "      <td>0</td>\n",
              "      <td>Graduate</td>\n",
              "      <td>No</td>\n",
              "      <td>5849</td>\n",
              "      <td>0.0</td>\n",
              "      <td>NaN</td>\n",
              "      <td>360.0</td>\n",
              "      <td>1.0</td>\n",
              "      <td>Urban</td>\n",
              "      <td>Y</td>\n",
              "    </tr>\n",
              "    <tr>\n",
              "      <th>1</th>\n",
              "      <td>LP001003</td>\n",
              "      <td>Male</td>\n",
              "      <td>Yes</td>\n",
              "      <td>1</td>\n",
              "      <td>Graduate</td>\n",
              "      <td>No</td>\n",
              "      <td>4583</td>\n",
              "      <td>1508.0</td>\n",
              "      <td>128.0</td>\n",
              "      <td>360.0</td>\n",
              "      <td>1.0</td>\n",
              "      <td>Rural</td>\n",
              "      <td>N</td>\n",
              "    </tr>\n",
              "    <tr>\n",
              "      <th>2</th>\n",
              "      <td>LP001005</td>\n",
              "      <td>Male</td>\n",
              "      <td>Yes</td>\n",
              "      <td>0</td>\n",
              "      <td>Graduate</td>\n",
              "      <td>Yes</td>\n",
              "      <td>3000</td>\n",
              "      <td>0.0</td>\n",
              "      <td>66.0</td>\n",
              "      <td>360.0</td>\n",
              "      <td>1.0</td>\n",
              "      <td>Urban</td>\n",
              "      <td>Y</td>\n",
              "    </tr>\n",
              "    <tr>\n",
              "      <th>3</th>\n",
              "      <td>LP001006</td>\n",
              "      <td>Male</td>\n",
              "      <td>Yes</td>\n",
              "      <td>0</td>\n",
              "      <td>Not Graduate</td>\n",
              "      <td>No</td>\n",
              "      <td>2583</td>\n",
              "      <td>2358.0</td>\n",
              "      <td>120.0</td>\n",
              "      <td>360.0</td>\n",
              "      <td>1.0</td>\n",
              "      <td>Urban</td>\n",
              "      <td>Y</td>\n",
              "    </tr>\n",
              "    <tr>\n",
              "      <th>4</th>\n",
              "      <td>LP001008</td>\n",
              "      <td>Male</td>\n",
              "      <td>No</td>\n",
              "      <td>0</td>\n",
              "      <td>Graduate</td>\n",
              "      <td>No</td>\n",
              "      <td>6000</td>\n",
              "      <td>0.0</td>\n",
              "      <td>141.0</td>\n",
              "      <td>360.0</td>\n",
              "      <td>1.0</td>\n",
              "      <td>Urban</td>\n",
              "      <td>Y</td>\n",
              "    </tr>\n",
              "  </tbody>\n",
              "</table>\n",
              "</div>\n",
              "      <button class=\"colab-df-convert\" onclick=\"convertToInteractive('df-53de33ad-b115-4956-9122-00d2ada8de1d')\"\n",
              "              title=\"Convert this dataframe to an interactive table.\"\n",
              "              style=\"display:none;\">\n",
              "        \n",
              "  <svg xmlns=\"http://www.w3.org/2000/svg\" height=\"24px\"viewBox=\"0 0 24 24\"\n",
              "       width=\"24px\">\n",
              "    <path d=\"M0 0h24v24H0V0z\" fill=\"none\"/>\n",
              "    <path d=\"M18.56 5.44l.94 2.06.94-2.06 2.06-.94-2.06-.94-.94-2.06-.94 2.06-2.06.94zm-11 1L8.5 8.5l.94-2.06 2.06-.94-2.06-.94L8.5 2.5l-.94 2.06-2.06.94zm10 10l.94 2.06.94-2.06 2.06-.94-2.06-.94-.94-2.06-.94 2.06-2.06.94z\"/><path d=\"M17.41 7.96l-1.37-1.37c-.4-.4-.92-.59-1.43-.59-.52 0-1.04.2-1.43.59L10.3 9.45l-7.72 7.72c-.78.78-.78 2.05 0 2.83L4 21.41c.39.39.9.59 1.41.59.51 0 1.02-.2 1.41-.59l7.78-7.78 2.81-2.81c.8-.78.8-2.07 0-2.86zM5.41 20L4 18.59l7.72-7.72 1.47 1.35L5.41 20z\"/>\n",
              "  </svg>\n",
              "      </button>\n",
              "      \n",
              "  <style>\n",
              "    .colab-df-container {\n",
              "      display:flex;\n",
              "      flex-wrap:wrap;\n",
              "      gap: 12px;\n",
              "    }\n",
              "\n",
              "    .colab-df-convert {\n",
              "      background-color: #E8F0FE;\n",
              "      border: none;\n",
              "      border-radius: 50%;\n",
              "      cursor: pointer;\n",
              "      display: none;\n",
              "      fill: #1967D2;\n",
              "      height: 32px;\n",
              "      padding: 0 0 0 0;\n",
              "      width: 32px;\n",
              "    }\n",
              "\n",
              "    .colab-df-convert:hover {\n",
              "      background-color: #E2EBFA;\n",
              "      box-shadow: 0px 1px 2px rgba(60, 64, 67, 0.3), 0px 1px 3px 1px rgba(60, 64, 67, 0.15);\n",
              "      fill: #174EA6;\n",
              "    }\n",
              "\n",
              "    [theme=dark] .colab-df-convert {\n",
              "      background-color: #3B4455;\n",
              "      fill: #D2E3FC;\n",
              "    }\n",
              "\n",
              "    [theme=dark] .colab-df-convert:hover {\n",
              "      background-color: #434B5C;\n",
              "      box-shadow: 0px 1px 3px 1px rgba(0, 0, 0, 0.15);\n",
              "      filter: drop-shadow(0px 1px 2px rgba(0, 0, 0, 0.3));\n",
              "      fill: #FFFFFF;\n",
              "    }\n",
              "  </style>\n",
              "\n",
              "      <script>\n",
              "        const buttonEl =\n",
              "          document.querySelector('#df-53de33ad-b115-4956-9122-00d2ada8de1d button.colab-df-convert');\n",
              "        buttonEl.style.display =\n",
              "          google.colab.kernel.accessAllowed ? 'block' : 'none';\n",
              "\n",
              "        async function convertToInteractive(key) {\n",
              "          const element = document.querySelector('#df-53de33ad-b115-4956-9122-00d2ada8de1d');\n",
              "          const dataTable =\n",
              "            await google.colab.kernel.invokeFunction('convertToInteractive',\n",
              "                                                     [key], {});\n",
              "          if (!dataTable) return;\n",
              "\n",
              "          const docLinkHtml = 'Like what you see? Visit the ' +\n",
              "            '<a target=\"_blank\" href=https://colab.research.google.com/notebooks/data_table.ipynb>data table notebook</a>'\n",
              "            + ' to learn more about interactive tables.';\n",
              "          element.innerHTML = '';\n",
              "          dataTable['output_type'] = 'display_data';\n",
              "          await google.colab.output.renderOutput(dataTable, element);\n",
              "          const docLink = document.createElement('div');\n",
              "          docLink.innerHTML = docLinkHtml;\n",
              "          element.appendChild(docLink);\n",
              "        }\n",
              "      </script>\n",
              "    </div>\n",
              "  </div>\n",
              "  "
            ],
            "text/plain": [
              "    Loan_ID Gender Married  ... Credit_History Property_Area Loan_Status\n",
              "0  LP001002   Male      No  ...            1.0         Urban           Y\n",
              "1  LP001003   Male     Yes  ...            1.0         Rural           N\n",
              "2  LP001005   Male     Yes  ...            1.0         Urban           Y\n",
              "3  LP001006   Male     Yes  ...            1.0         Urban           Y\n",
              "4  LP001008   Male      No  ...            1.0         Urban           Y\n",
              "\n",
              "[5 rows x 13 columns]"
            ]
          },
          "metadata": {},
          "execution_count": 3
        }
      ]
    },
    {
      "cell_type": "code",
      "source": [
        "train.info()"
      ],
      "metadata": {
        "colab": {
          "base_uri": "https://localhost:8080/"
        },
        "id": "sUU5ixkp7pnJ",
        "outputId": "e60c1a36-eca6-46c7-81b7-7873b8426d1b"
      },
      "execution_count": null,
      "outputs": [
        {
          "output_type": "stream",
          "name": "stdout",
          "text": [
            "<class 'pandas.core.frame.DataFrame'>\n",
            "RangeIndex: 614 entries, 0 to 613\n",
            "Data columns (total 13 columns):\n",
            " #   Column             Non-Null Count  Dtype  \n",
            "---  ------             --------------  -----  \n",
            " 0   Loan_ID            614 non-null    object \n",
            " 1   Gender             601 non-null    object \n",
            " 2   Married            611 non-null    object \n",
            " 3   Dependents         599 non-null    object \n",
            " 4   Education          614 non-null    object \n",
            " 5   Self_Employed      582 non-null    object \n",
            " 6   ApplicantIncome    614 non-null    int64  \n",
            " 7   CoapplicantIncome  614 non-null    float64\n",
            " 8   LoanAmount         592 non-null    float64\n",
            " 9   Loan_Amount_Term   600 non-null    float64\n",
            " 10  Credit_History     564 non-null    float64\n",
            " 11  Property_Area      614 non-null    object \n",
            " 12  Loan_Status        614 non-null    object \n",
            "dtypes: float64(4), int64(1), object(8)\n",
            "memory usage: 62.5+ KB\n"
          ]
        }
      ]
    },
    {
      "cell_type": "code",
      "source": [
        "test.head()"
      ],
      "metadata": {
        "colab": {
          "base_uri": "https://localhost:8080/",
          "height": 287
        },
        "id": "VhL9Tdr8-FaE",
        "outputId": "d8dfbd90-3884-4986-8f95-7bc70712dd57"
      },
      "execution_count": null,
      "outputs": [
        {
          "output_type": "execute_result",
          "data": {
            "text/html": [
              "\n",
              "  <div id=\"df-66e7b79a-78c8-474d-9e92-800148312c4e\">\n",
              "    <div class=\"colab-df-container\">\n",
              "      <div>\n",
              "<style scoped>\n",
              "    .dataframe tbody tr th:only-of-type {\n",
              "        vertical-align: middle;\n",
              "    }\n",
              "\n",
              "    .dataframe tbody tr th {\n",
              "        vertical-align: top;\n",
              "    }\n",
              "\n",
              "    .dataframe thead th {\n",
              "        text-align: right;\n",
              "    }\n",
              "</style>\n",
              "<table border=\"1\" class=\"dataframe\">\n",
              "  <thead>\n",
              "    <tr style=\"text-align: right;\">\n",
              "      <th></th>\n",
              "      <th>Loan_ID</th>\n",
              "      <th>Gender</th>\n",
              "      <th>Married</th>\n",
              "      <th>Dependents</th>\n",
              "      <th>Education</th>\n",
              "      <th>Self_Employed</th>\n",
              "      <th>ApplicantIncome</th>\n",
              "      <th>CoapplicantIncome</th>\n",
              "      <th>LoanAmount</th>\n",
              "      <th>Loan_Amount_Term</th>\n",
              "      <th>Credit_History</th>\n",
              "      <th>Property_Area</th>\n",
              "    </tr>\n",
              "  </thead>\n",
              "  <tbody>\n",
              "    <tr>\n",
              "      <th>0</th>\n",
              "      <td>LP001015</td>\n",
              "      <td>Male</td>\n",
              "      <td>Yes</td>\n",
              "      <td>0</td>\n",
              "      <td>Graduate</td>\n",
              "      <td>No</td>\n",
              "      <td>5720</td>\n",
              "      <td>0</td>\n",
              "      <td>110.0</td>\n",
              "      <td>360.0</td>\n",
              "      <td>1.0</td>\n",
              "      <td>Urban</td>\n",
              "    </tr>\n",
              "    <tr>\n",
              "      <th>1</th>\n",
              "      <td>LP001022</td>\n",
              "      <td>Male</td>\n",
              "      <td>Yes</td>\n",
              "      <td>1</td>\n",
              "      <td>Graduate</td>\n",
              "      <td>No</td>\n",
              "      <td>3076</td>\n",
              "      <td>1500</td>\n",
              "      <td>126.0</td>\n",
              "      <td>360.0</td>\n",
              "      <td>1.0</td>\n",
              "      <td>Urban</td>\n",
              "    </tr>\n",
              "    <tr>\n",
              "      <th>2</th>\n",
              "      <td>LP001031</td>\n",
              "      <td>Male</td>\n",
              "      <td>Yes</td>\n",
              "      <td>2</td>\n",
              "      <td>Graduate</td>\n",
              "      <td>No</td>\n",
              "      <td>5000</td>\n",
              "      <td>1800</td>\n",
              "      <td>208.0</td>\n",
              "      <td>360.0</td>\n",
              "      <td>1.0</td>\n",
              "      <td>Urban</td>\n",
              "    </tr>\n",
              "    <tr>\n",
              "      <th>3</th>\n",
              "      <td>LP001035</td>\n",
              "      <td>Male</td>\n",
              "      <td>Yes</td>\n",
              "      <td>2</td>\n",
              "      <td>Graduate</td>\n",
              "      <td>No</td>\n",
              "      <td>2340</td>\n",
              "      <td>2546</td>\n",
              "      <td>100.0</td>\n",
              "      <td>360.0</td>\n",
              "      <td>NaN</td>\n",
              "      <td>Urban</td>\n",
              "    </tr>\n",
              "    <tr>\n",
              "      <th>4</th>\n",
              "      <td>LP001051</td>\n",
              "      <td>Male</td>\n",
              "      <td>No</td>\n",
              "      <td>0</td>\n",
              "      <td>Not Graduate</td>\n",
              "      <td>No</td>\n",
              "      <td>3276</td>\n",
              "      <td>0</td>\n",
              "      <td>78.0</td>\n",
              "      <td>360.0</td>\n",
              "      <td>1.0</td>\n",
              "      <td>Urban</td>\n",
              "    </tr>\n",
              "  </tbody>\n",
              "</table>\n",
              "</div>\n",
              "      <button class=\"colab-df-convert\" onclick=\"convertToInteractive('df-66e7b79a-78c8-474d-9e92-800148312c4e')\"\n",
              "              title=\"Convert this dataframe to an interactive table.\"\n",
              "              style=\"display:none;\">\n",
              "        \n",
              "  <svg xmlns=\"http://www.w3.org/2000/svg\" height=\"24px\"viewBox=\"0 0 24 24\"\n",
              "       width=\"24px\">\n",
              "    <path d=\"M0 0h24v24H0V0z\" fill=\"none\"/>\n",
              "    <path d=\"M18.56 5.44l.94 2.06.94-2.06 2.06-.94-2.06-.94-.94-2.06-.94 2.06-2.06.94zm-11 1L8.5 8.5l.94-2.06 2.06-.94-2.06-.94L8.5 2.5l-.94 2.06-2.06.94zm10 10l.94 2.06.94-2.06 2.06-.94-2.06-.94-.94-2.06-.94 2.06-2.06.94z\"/><path d=\"M17.41 7.96l-1.37-1.37c-.4-.4-.92-.59-1.43-.59-.52 0-1.04.2-1.43.59L10.3 9.45l-7.72 7.72c-.78.78-.78 2.05 0 2.83L4 21.41c.39.39.9.59 1.41.59.51 0 1.02-.2 1.41-.59l7.78-7.78 2.81-2.81c.8-.78.8-2.07 0-2.86zM5.41 20L4 18.59l7.72-7.72 1.47 1.35L5.41 20z\"/>\n",
              "  </svg>\n",
              "      </button>\n",
              "      \n",
              "  <style>\n",
              "    .colab-df-container {\n",
              "      display:flex;\n",
              "      flex-wrap:wrap;\n",
              "      gap: 12px;\n",
              "    }\n",
              "\n",
              "    .colab-df-convert {\n",
              "      background-color: #E8F0FE;\n",
              "      border: none;\n",
              "      border-radius: 50%;\n",
              "      cursor: pointer;\n",
              "      display: none;\n",
              "      fill: #1967D2;\n",
              "      height: 32px;\n",
              "      padding: 0 0 0 0;\n",
              "      width: 32px;\n",
              "    }\n",
              "\n",
              "    .colab-df-convert:hover {\n",
              "      background-color: #E2EBFA;\n",
              "      box-shadow: 0px 1px 2px rgba(60, 64, 67, 0.3), 0px 1px 3px 1px rgba(60, 64, 67, 0.15);\n",
              "      fill: #174EA6;\n",
              "    }\n",
              "\n",
              "    [theme=dark] .colab-df-convert {\n",
              "      background-color: #3B4455;\n",
              "      fill: #D2E3FC;\n",
              "    }\n",
              "\n",
              "    [theme=dark] .colab-df-convert:hover {\n",
              "      background-color: #434B5C;\n",
              "      box-shadow: 0px 1px 3px 1px rgba(0, 0, 0, 0.15);\n",
              "      filter: drop-shadow(0px 1px 2px rgba(0, 0, 0, 0.3));\n",
              "      fill: #FFFFFF;\n",
              "    }\n",
              "  </style>\n",
              "\n",
              "      <script>\n",
              "        const buttonEl =\n",
              "          document.querySelector('#df-66e7b79a-78c8-474d-9e92-800148312c4e button.colab-df-convert');\n",
              "        buttonEl.style.display =\n",
              "          google.colab.kernel.accessAllowed ? 'block' : 'none';\n",
              "\n",
              "        async function convertToInteractive(key) {\n",
              "          const element = document.querySelector('#df-66e7b79a-78c8-474d-9e92-800148312c4e');\n",
              "          const dataTable =\n",
              "            await google.colab.kernel.invokeFunction('convertToInteractive',\n",
              "                                                     [key], {});\n",
              "          if (!dataTable) return;\n",
              "\n",
              "          const docLinkHtml = 'Like what you see? Visit the ' +\n",
              "            '<a target=\"_blank\" href=https://colab.research.google.com/notebooks/data_table.ipynb>data table notebook</a>'\n",
              "            + ' to learn more about interactive tables.';\n",
              "          element.innerHTML = '';\n",
              "          dataTable['output_type'] = 'display_data';\n",
              "          await google.colab.output.renderOutput(dataTable, element);\n",
              "          const docLink = document.createElement('div');\n",
              "          docLink.innerHTML = docLinkHtml;\n",
              "          element.appendChild(docLink);\n",
              "        }\n",
              "      </script>\n",
              "    </div>\n",
              "  </div>\n",
              "  "
            ],
            "text/plain": [
              "    Loan_ID Gender Married  ... Loan_Amount_Term Credit_History Property_Area\n",
              "0  LP001015   Male     Yes  ...            360.0            1.0         Urban\n",
              "1  LP001022   Male     Yes  ...            360.0            1.0         Urban\n",
              "2  LP001031   Male     Yes  ...            360.0            1.0         Urban\n",
              "3  LP001035   Male     Yes  ...            360.0            NaN         Urban\n",
              "4  LP001051   Male      No  ...            360.0            1.0         Urban\n",
              "\n",
              "[5 rows x 12 columns]"
            ]
          },
          "metadata": {},
          "execution_count": 622
        }
      ]
    },
    {
      "cell_type": "code",
      "source": [
        "test.info()"
      ],
      "metadata": {
        "colab": {
          "base_uri": "https://localhost:8080/"
        },
        "id": "XAch0b1V-IZE",
        "outputId": "f7357014-bfe0-4314-e3ac-0c3b935e3483"
      },
      "execution_count": null,
      "outputs": [
        {
          "output_type": "stream",
          "name": "stdout",
          "text": [
            "<class 'pandas.core.frame.DataFrame'>\n",
            "RangeIndex: 367 entries, 0 to 366\n",
            "Data columns (total 12 columns):\n",
            " #   Column             Non-Null Count  Dtype  \n",
            "---  ------             --------------  -----  \n",
            " 0   Loan_ID            367 non-null    object \n",
            " 1   Gender             356 non-null    object \n",
            " 2   Married            367 non-null    object \n",
            " 3   Dependents         357 non-null    object \n",
            " 4   Education          367 non-null    object \n",
            " 5   Self_Employed      344 non-null    object \n",
            " 6   ApplicantIncome    367 non-null    int64  \n",
            " 7   CoapplicantIncome  367 non-null    int64  \n",
            " 8   LoanAmount         362 non-null    float64\n",
            " 9   Loan_Amount_Term   361 non-null    float64\n",
            " 10  Credit_History     338 non-null    float64\n",
            " 11  Property_Area      367 non-null    object \n",
            "dtypes: float64(3), int64(2), object(7)\n",
            "memory usage: 34.5+ KB\n"
          ]
        }
      ]
    },
    {
      "cell_type": "code",
      "source": [
        "train.isnull().sum()\n",
        "# There are null values "
      ],
      "metadata": {
        "colab": {
          "base_uri": "https://localhost:8080/"
        },
        "id": "MTBzVfkN_EbS",
        "outputId": "bd93702e-dc32-4ea4-aa19-b692245e30ba"
      },
      "execution_count": null,
      "outputs": [
        {
          "output_type": "execute_result",
          "data": {
            "text/plain": [
              "Loan_ID               0\n",
              "Gender               13\n",
              "Married               3\n",
              "Dependents           15\n",
              "Education             0\n",
              "Self_Employed        32\n",
              "ApplicantIncome       0\n",
              "CoapplicantIncome     0\n",
              "LoanAmount           22\n",
              "Loan_Amount_Term     14\n",
              "Credit_History       50\n",
              "Property_Area         0\n",
              "Loan_Status           0\n",
              "dtype: int64"
            ]
          },
          "metadata": {},
          "execution_count": 624
        }
      ]
    },
    {
      "cell_type": "code",
      "source": [
        "test.isnull().sum()"
      ],
      "metadata": {
        "colab": {
          "base_uri": "https://localhost:8080/"
        },
        "id": "a8Wd8yVSNHg5",
        "outputId": "7763daef-6cc5-4d85-c3ab-47f522451c64"
      },
      "execution_count": null,
      "outputs": [
        {
          "output_type": "execute_result",
          "data": {
            "text/plain": [
              "Loan_ID               0\n",
              "Gender               11\n",
              "Married               0\n",
              "Dependents           10\n",
              "Education             0\n",
              "Self_Employed        23\n",
              "ApplicantIncome       0\n",
              "CoapplicantIncome     0\n",
              "LoanAmount            5\n",
              "Loan_Amount_Term      6\n",
              "Credit_History       29\n",
              "Property_Area         0\n",
              "dtype: int64"
            ]
          },
          "metadata": {},
          "execution_count": 625
        }
      ]
    },
    {
      "cell_type": "markdown",
      "source": [
        "**Missing values in training set**\n",
        "* Credit_History 50\n",
        "* Self_Employed 32\n",
        "* LoanAmount 22\n",
        "* Dependents 15\n",
        "* Loan_Amount_Term 14\n",
        "* Gender 13\n",
        "* Married 3\n"
      ],
      "metadata": {
        "id": "PJBshfDkCl8h"
      }
    },
    {
      "cell_type": "markdown",
      "source": [
        "#Descriptive analysis"
      ],
      "metadata": {
        "id": "JERUDeA9GZms"
      }
    },
    {
      "cell_type": "markdown",
      "source": [
        "##Data visualization"
      ],
      "metadata": {
        "id": "r4I4swf7g8rB"
      }
    },
    {
      "cell_type": "markdown",
      "source": [
        "*1. Applicant income*"
      ],
      "metadata": {
        "id": "rLqLP2EJhDJB"
      }
    },
    {
      "cell_type": "code",
      "source": [
        "sns.boxplot(x = train.ApplicantIncome)"
      ],
      "metadata": {
        "colab": {
          "base_uri": "https://localhost:8080/",
          "height": 297
        },
        "id": "LyYBVNIgUkDd",
        "outputId": "f0619361-82f8-46c5-ac04-3b685a94c90d"
      },
      "execution_count": null,
      "outputs": [
        {
          "output_type": "execute_result",
          "data": {
            "text/plain": [
              "<matplotlib.axes._subplots.AxesSubplot at 0x7f74792bec90>"
            ]
          },
          "metadata": {},
          "execution_count": 626
        },
        {
          "output_type": "display_data",
          "data": {
            "image/png": "[encoded data removed]",
            "text/plain": [
              "<Figure size 432x288 with 1 Axes>"
            ]
          },
          "metadata": {
            "needs_background": "light"
          }
        }
      ]
    },
    {
      "cell_type": "markdown",
      "source": [
        "**Applicant Income has outliers and it is right skewed. Boxplots cannot be observed clearly due to their high range. So, in order to sort it out, log transformation can be used on ApplicantIncome variable to shrink the range**"
      ],
      "metadata": {
        "id": "ykUHb2KriIIO"
      }
    },
    {
      "cell_type": "code",
      "source": [
        "sns.boxplot(x = np.log(train.ApplicantIncome))"
      ],
      "metadata": {
        "colab": {
          "base_uri": "https://localhost:8080/",
          "height": 297
        },
        "id": "AyPHU3ldUzhL",
        "outputId": "266b4fce-5550-4912-9c40-9b1fa0fef3aa"
      },
      "execution_count": null,
      "outputs": [
        {
          "output_type": "execute_result",
          "data": {
            "text/plain": [
              "<matplotlib.axes._subplots.AxesSubplot at 0x7f7478c73650>"
            ]
          },
          "metadata": {},
          "execution_count": 627
        },
        {
          "output_type": "display_data",
          "data": {
            "image/png": "[encoded data removed]",
            "text/plain": [
              "<Figure size 432x288 with 1 Axes>"
            ]
          },
          "metadata": {
            "needs_background": "light"
          }
        }
      ]
    },
    {
      "cell_type": "markdown",
      "source": [
        "**Even after transforming, there are outliers to be seen. But towards symmetric**"
      ],
      "metadata": {
        "id": "_HxzawFhW1ox"
      }
    },
    {
      "cell_type": "markdown",
      "source": [
        "*2. Coapplicant income*"
      ],
      "metadata": {
        "id": "tJAEqntsiVLA"
      }
    },
    {
      "cell_type": "code",
      "source": [
        "sns.boxplot(x = train.CoapplicantIncome)"
      ],
      "metadata": {
        "colab": {
          "base_uri": "https://localhost:8080/",
          "height": 297
        },
        "id": "AgINxVQNXDmB",
        "outputId": "d1bff103-ba78-4c8d-f4e4-476d021b9711"
      },
      "execution_count": null,
      "outputs": [
        {
          "output_type": "execute_result",
          "data": {
            "text/plain": [
              "<matplotlib.axes._subplots.AxesSubplot at 0x7f7478be8810>"
            ]
          },
          "metadata": {},
          "execution_count": 628
        },
        {
          "output_type": "display_data",
          "data": {
            "image/png": "[encoded data removed]",
            "text/plain": [
              "<Figure size 432x288 with 1 Axes>"
            ]
          },
          "metadata": {
            "needs_background": "light"
          }
        }
      ]
    },
    {
      "cell_type": "markdown",
      "source": [
        "**CoapplicantIncome is also right skewed and with clear outliers.**"
      ],
      "metadata": {
        "id": "uwHlSlcfi93l"
      }
    },
    {
      "cell_type": "code",
      "source": [
        "sns.boxplot(x = np.log(train.CoapplicantIncome))"
      ],
      "metadata": {
        "colab": {
          "base_uri": "https://localhost:8080/",
          "height": 334
        },
        "id": "am6umLlRXMtM",
        "outputId": "67f6d485-c8e7-4431-8247-30d3b79a1306"
      },
      "execution_count": null,
      "outputs": [
        {
          "output_type": "stream",
          "name": "stderr",
          "text": [
            "/usr/local/lib/python3.7/dist-packages/pandas/core/series.py:726: RuntimeWarning: divide by zero encountered in log\n",
            "  result = getattr(ufunc, method)(*inputs, **kwargs)\n"
          ]
        },
        {
          "output_type": "execute_result",
          "data": {
            "text/plain": [
              "<matplotlib.axes._subplots.AxesSubplot at 0x7f7478bce9d0>"
            ]
          },
          "metadata": {},
          "execution_count": 629
        },
        {
          "output_type": "display_data",
          "data": {
            "image/png": "[encoded data removed]",
            "text/plain": [
              "<Figure size 432x288 with 1 Axes>"
            ]
          },
          "metadata": {
            "needs_background": "light"
          }
        }
      ]
    },
    {
      "cell_type": "markdown",
      "source": [
        "**Log transformation does not work.**"
      ],
      "metadata": {
        "id": "ZnwQw7__XW4s"
      }
    },
    {
      "cell_type": "markdown",
      "source": [
        "*3. Loan Amount*"
      ],
      "metadata": {
        "id": "iPbfYil0jLEU"
      }
    },
    {
      "cell_type": "code",
      "source": [
        "sns.boxplot(x = train.LoanAmount)"
      ],
      "metadata": {
        "colab": {
          "base_uri": "https://localhost:8080/",
          "height": 297
        },
        "id": "ZC_E8QQLXb1Z",
        "outputId": "07b85ae9-2ff3-44e1-b69d-00476eb6f497"
      },
      "execution_count": null,
      "outputs": [
        {
          "output_type": "execute_result",
          "data": {
            "text/plain": [
              "<matplotlib.axes._subplots.AxesSubplot at 0x7f7478b31110>"
            ]
          },
          "metadata": {},
          "execution_count": 630
        },
        {
          "output_type": "display_data",
          "data": {
            "image/png": "[encoded data removed]",
            "text/plain": [
              "<Figure size 432x288 with 1 Axes>"
            ]
          },
          "metadata": {
            "needs_background": "light"
          }
        }
      ]
    },
    {
      "cell_type": "markdown",
      "source": [
        "**There are outliers and right skewed. So, try log transfering.**"
      ],
      "metadata": {
        "id": "9OZgQ0PrXisb"
      }
    },
    {
      "cell_type": "code",
      "source": [
        "sns.boxplot(x = np.log(train.LoanAmount))"
      ],
      "metadata": {
        "colab": {
          "base_uri": "https://localhost:8080/",
          "height": 297
        },
        "id": "ovM84GM8XqjR",
        "outputId": "00e9e68b-e9cc-4228-ea49-685dc9804b06"
      },
      "execution_count": null,
      "outputs": [
        {
          "output_type": "execute_result",
          "data": {
            "text/plain": [
              "<matplotlib.axes._subplots.AxesSubplot at 0x7f7478aa70d0>"
            ]
          },
          "metadata": {},
          "execution_count": 631
        },
        {
          "output_type": "display_data",
          "data": {
            "image/png": "[encoded data removed]",
            "text/plain": [
              "<Figure size 432x288 with 1 Axes>"
            ]
          },
          "metadata": {
            "needs_background": "light"
          }
        }
      ]
    },
    {
      "cell_type": "markdown",
      "source": [
        "**Transfered more towards normal after applying log transformation but yet with outliers.**"
      ],
      "metadata": {
        "id": "vv8zK1hylOcw"
      }
    },
    {
      "cell_type": "markdown",
      "source": [
        "*4. Loan amount term*"
      ],
      "metadata": {
        "id": "RfqYyuNrkwlu"
      }
    },
    {
      "cell_type": "code",
      "source": [
        "plt.hist(train.Loan_Amount_Term)"
      ],
      "metadata": {
        "colab": {
          "base_uri": "https://localhost:8080/",
          "height": 338
        },
        "id": "evm15Olaky8c",
        "outputId": "26a8dc8b-72ab-4ac8-df9b-940159d43925"
      },
      "execution_count": null,
      "outputs": [
        {
          "output_type": "execute_result",
          "data": {
            "text/plain": [
              "(array([  3.,   6.,   3.,  44.,   4.,   0.,  13., 512.,   0.,  15.]),\n",
              " array([ 12. ,  58.8, 105.6, 152.4, 199.2, 246. , 292.8, 339.6, 386.4,\n",
              "        433.2, 480. ]),\n",
              " <a list of 10 Patch objects>)"
            ]
          },
          "metadata": {},
          "execution_count": 632
        },
        {
          "output_type": "display_data",
          "data": {
            "image/png": "[encoded data removed]",
            "text/plain": [
              "<Figure size 432x288 with 1 Axes>"
            ]
          },
          "metadata": {
            "needs_background": "light"
          }
        }
      ]
    },
    {
      "cell_type": "markdown",
      "source": [
        "*5. Correlation between numerical variables*"
      ],
      "metadata": {
        "id": "dJKuhdvXmaMd"
      }
    },
    {
      "cell_type": "code",
      "source": [
        "plt.figure(figsize=(7, 7))\n",
        "sns.heatmap(train.corr(), annot=True, cmap='seismic', fmt='.2f')"
      ],
      "metadata": {
        "colab": {
          "base_uri": "https://localhost:8080/",
          "height": 537
        },
        "id": "ZH7cLU-Amft0",
        "outputId": "af1ff757-2cd1-448c-b37a-1183d7e828b3"
      },
      "execution_count": null,
      "outputs": [
        {
          "output_type": "execute_result",
          "data": {
            "text/plain": [
              "<matplotlib.axes._subplots.AxesSubplot at 0x7f747899f8d0>"
            ]
          },
          "metadata": {},
          "execution_count": 633
        },
        {
          "output_type": "display_data",
          "data": {
            "image/png": "[encoded data removed]",
            "text/plain": [
              "<Figure size 504x504 with 2 Axes>"
            ]
          },
          "metadata": {
            "needs_background": "light"
          }
        }
      ]
    },
    {
      "cell_type": "markdown",
      "source": [
        "**Applicant income is strongly related with the Loan amount compared to other variables.**"
      ],
      "metadata": {
        "id": "l2BSji9dox-5"
      }
    },
    {
      "cell_type": "code",
      "source": [
        "# sns.boxplot(x = train['Loan_Status'], y = train.ApplicantIncome)"
      ],
      "metadata": {
        "id": "j3tkL86Srql-"
      },
      "execution_count": null,
      "outputs": []
    },
    {
      "cell_type": "code",
      "source": [
        "# Log transfered ApplicantIncome\n",
        "# sns.boxplot(x = train['Loan_Status'], y = np.log(train.ApplicantIncome))"
      ],
      "metadata": {
        "id": "Ikay6v3FpcPc"
      },
      "execution_count": null,
      "outputs": []
    },
    {
      "cell_type": "code",
      "source": [
        "# sns.boxplot(x = train['Loan_Status'], y = train.LoanAmount)"
      ],
      "metadata": {
        "id": "VGx9KHnCwrIN"
      },
      "execution_count": null,
      "outputs": []
    },
    {
      "cell_type": "code",
      "source": [
        "# Log transfered LoanAmount\n",
        "# sns.boxplot(x = train['Loan_Status'], y = np.log(train.LoanAmount))"
      ],
      "metadata": {
        "id": "JMVdioQzwx6W"
      },
      "execution_count": null,
      "outputs": []
    },
    {
      "cell_type": "markdown",
      "source": [
        "##Q1.\n",
        "1. What's the ratio of Male to Female?\n"
      ],
      "metadata": {
        "id": "qB9hSRq3HQTb"
      }
    },
    {
      "cell_type": "code",
      "source": [
        "train['Gender'].value_counts()"
      ],
      "metadata": {
        "colab": {
          "base_uri": "https://localhost:8080/"
        },
        "id": "Naxpi3IpGcxk",
        "outputId": "20ce7c91-9dc4-4adb-96b3-bf37ce044292"
      },
      "execution_count": null,
      "outputs": [
        {
          "output_type": "execute_result",
          "data": {
            "text/plain": [
              "Male      489\n",
              "Female    112\n",
              "Name: Gender, dtype: int64"
            ]
          },
          "metadata": {},
          "execution_count": 638
        }
      ]
    },
    {
      "cell_type": "code",
      "source": [
        "print(train['Gender'].value_counts()[0], ':', train['Gender'].value_counts()[1])"
      ],
      "metadata": {
        "colab": {
          "base_uri": "https://localhost:8080/"
        },
        "id": "9Oq_PQIJHT2A",
        "outputId": "02cfa83e-0404-4daa-ac66-f4b1be4a6cc3"
      },
      "execution_count": null,
      "outputs": [
        {
          "output_type": "stream",
          "name": "stdout",
          "text": [
            "489 : 112\n"
          ]
        }
      ]
    },
    {
      "cell_type": "markdown",
      "source": [
        "##Q2.\n",
        "2. How many Males are married and non-married?"
      ],
      "metadata": {
        "id": "FsEq6_0IHyJ6"
      }
    },
    {
      "cell_type": "code",
      "source": [
        "train[train['Gender'] == 'Male']['Married'].value_counts()"
      ],
      "metadata": {
        "colab": {
          "base_uri": "https://localhost:8080/"
        },
        "id": "U5MhAPLiIjxb",
        "outputId": "7891dbcb-1e90-43a6-adcc-31974abbee32"
      },
      "execution_count": null,
      "outputs": [
        {
          "output_type": "execute_result",
          "data": {
            "text/plain": [
              "Yes    357\n",
              "No     130\n",
              "Name: Married, dtype: int64"
            ]
          },
          "metadata": {},
          "execution_count": 640
        }
      ]
    },
    {
      "cell_type": "code",
      "source": [
        "print('Married male', train[train['Gender'] == 'Male']['Married'].value_counts()[0])\n",
        "print('Unmarried male', train[train['Gender'] == 'Male']['Married'].value_counts()[1])"
      ],
      "metadata": {
        "colab": {
          "base_uri": "https://localhost:8080/"
        },
        "id": "nX5PYFHEH11N",
        "outputId": "30899bef-cce8-4445-9ddf-d530016008ac"
      },
      "execution_count": null,
      "outputs": [
        {
          "output_type": "stream",
          "name": "stdout",
          "text": [
            "Married male 357\n",
            "Unmarried male 130\n"
          ]
        }
      ]
    },
    {
      "cell_type": "markdown",
      "source": [
        "##Q3.\n",
        "3. How many Females are married and non-married?\n"
      ],
      "metadata": {
        "id": "n-tqzvwfIE1k"
      }
    },
    {
      "cell_type": "code",
      "source": [
        "train[train['Gender'] == 'Female']['Married'].value_counts()"
      ],
      "metadata": {
        "colab": {
          "base_uri": "https://localhost:8080/"
        },
        "id": "PwZ1nzgpIFSO",
        "outputId": "e88c773b-7091-4f64-99b6-e122b81cbbe5"
      },
      "execution_count": null,
      "outputs": [
        {
          "output_type": "execute_result",
          "data": {
            "text/plain": [
              "No     80\n",
              "Yes    31\n",
              "Name: Married, dtype: int64"
            ]
          },
          "metadata": {},
          "execution_count": 642
        }
      ]
    },
    {
      "cell_type": "code",
      "source": [
        "print('Married female', train[train['Gender'] == 'Female']['Married'].value_counts()[1])\n",
        "print('Unmarried female', train[train['Gender'] == 'Female']['Married'].value_counts()[0])"
      ],
      "metadata": {
        "colab": {
          "base_uri": "https://localhost:8080/"
        },
        "id": "0TMVtFzgI9mv",
        "outputId": "6ffd04fc-0576-4eb5-86d0-4f38bceb180c"
      },
      "execution_count": null,
      "outputs": [
        {
          "output_type": "stream",
          "name": "stdout",
          "text": [
            "Married female 31\n",
            "Unmarried female 80\n"
          ]
        }
      ]
    },
    {
      "cell_type": "markdown",
      "source": [
        "##Q4.\n",
        "4. How many Males and Females are graduated and non-graduated with respect to their Marital status?\n"
      ],
      "metadata": {
        "id": "xfjM6_jTJMPh"
      }
    },
    {
      "cell_type": "code",
      "source": [
        "train[train['Married'] == 'Yes'][train['Gender'] == 'Female']['Education'].value_counts()"
      ],
      "metadata": {
        "colab": {
          "base_uri": "https://localhost:8080/"
        },
        "id": "fLZhDxO9JMto",
        "outputId": "1d07e3c4-4670-45a6-8feb-7e3e8ece79a2"
      },
      "execution_count": null,
      "outputs": [
        {
          "output_type": "stream",
          "name": "stderr",
          "text": [
            "/usr/local/lib/python3.7/dist-packages/ipykernel_launcher.py:1: UserWarning: Boolean Series key will be reindexed to match DataFrame index.\n",
            "  \"\"\"Entry point for launching an IPython kernel.\n"
          ]
        },
        {
          "output_type": "execute_result",
          "data": {
            "text/plain": [
              "Graduate        25\n",
              "Not Graduate     6\n",
              "Name: Education, dtype: int64"
            ]
          },
          "metadata": {},
          "execution_count": 644
        }
      ]
    },
    {
      "cell_type": "markdown",
      "source": [
        "**There are 25 female married graduates and 6 female married not graduates**"
      ],
      "metadata": {
        "id": "h7l4NOM0KbQi"
      }
    },
    {
      "cell_type": "code",
      "source": [
        "train[train['Married'] == 'No'][train['Gender'] == 'Female']['Education'].value_counts()"
      ],
      "metadata": {
        "colab": {
          "base_uri": "https://localhost:8080/"
        },
        "id": "tQes2u55KPc4",
        "outputId": "a4029ea3-4eb8-451c-c089-6a86758bb68f"
      },
      "execution_count": null,
      "outputs": [
        {
          "output_type": "stream",
          "name": "stderr",
          "text": [
            "/usr/local/lib/python3.7/dist-packages/ipykernel_launcher.py:1: UserWarning: Boolean Series key will be reindexed to match DataFrame index.\n",
            "  \"\"\"Entry point for launching an IPython kernel.\n"
          ]
        },
        {
          "output_type": "execute_result",
          "data": {
            "text/plain": [
              "Graduate        66\n",
              "Not Graduate    14\n",
              "Name: Education, dtype: int64"
            ]
          },
          "metadata": {},
          "execution_count": 645
        }
      ]
    },
    {
      "cell_type": "markdown",
      "source": [
        "**There are 66 female unmarried graduates and 14 unmarried not graduates**"
      ],
      "metadata": {
        "id": "RXS26rL3Krmb"
      }
    },
    {
      "cell_type": "code",
      "source": [
        "train[train['Married'] == 'Yes'][train['Gender'] == 'Male']['Education'].value_counts()"
      ],
      "metadata": {
        "colab": {
          "base_uri": "https://localhost:8080/"
        },
        "id": "k8NcFt6KKSz6",
        "outputId": "dc827c0c-e808-43e0-a1dc-d3371106e4af"
      },
      "execution_count": null,
      "outputs": [
        {
          "output_type": "stream",
          "name": "stderr",
          "text": [
            "/usr/local/lib/python3.7/dist-packages/ipykernel_launcher.py:1: UserWarning: Boolean Series key will be reindexed to match DataFrame index.\n",
            "  \"\"\"Entry point for launching an IPython kernel.\n"
          ]
        },
        {
          "output_type": "execute_result",
          "data": {
            "text/plain": [
              "Graduate        275\n",
              "Not Graduate     82\n",
              "Name: Education, dtype: int64"
            ]
          },
          "metadata": {},
          "execution_count": 646
        }
      ]
    },
    {
      "cell_type": "markdown",
      "source": [
        "**There are 275 married male graduates and 82 married male not graduates**"
      ],
      "metadata": {
        "id": "-a7whxL-K17s"
      }
    },
    {
      "cell_type": "code",
      "source": [
        "train[train['Married'] == 'No'][train['Gender'] == 'Male']['Education'].value_counts()"
      ],
      "metadata": {
        "colab": {
          "base_uri": "https://localhost:8080/"
        },
        "id": "FLAx9cMOKU95",
        "outputId": "581c7658-2895-4d63-e748-981d933dda29"
      },
      "execution_count": null,
      "outputs": [
        {
          "output_type": "stream",
          "name": "stderr",
          "text": [
            "/usr/local/lib/python3.7/dist-packages/ipykernel_launcher.py:1: UserWarning: Boolean Series key will be reindexed to match DataFrame index.\n",
            "  \"\"\"Entry point for launching an IPython kernel.\n"
          ]
        },
        {
          "output_type": "execute_result",
          "data": {
            "text/plain": [
              "Graduate        99\n",
              "Not Graduate    31\n",
              "Name: Education, dtype: int64"
            ]
          },
          "metadata": {},
          "execution_count": 647
        }
      ]
    },
    {
      "cell_type": "markdown",
      "source": [
        "**There are 99 unmarried male graduates and 31 unmarried male not graduates**"
      ],
      "metadata": {
        "id": "NrVlN1YJLAcq"
      }
    },
    {
      "cell_type": "markdown",
      "source": [
        "##Q6.\n",
        "6. Is it a male or a female whose loan amount is the highest?\n"
      ],
      "metadata": {
        "id": "_2SsMRpdLgMx"
      }
    },
    {
      "cell_type": "code",
      "source": [
        "train.loc[train.LoanAmount == train.LoanAmount.max(), :]"
      ],
      "metadata": {
        "colab": {
          "base_uri": "https://localhost:8080/",
          "height": 144
        },
        "id": "KhvuDdeELhEf",
        "outputId": "ce8c01ac-1088-4903-b489-97d9569ea00e"
      },
      "execution_count": null,
      "outputs": [
        {
          "output_type": "execute_result",
          "data": {
            "text/html": [
              "\n",
              "  <div id=\"df-4fecb357-87b0-45ed-aba1-683265a2c140\">\n",
              "    <div class=\"colab-df-container\">\n",
              "      <div>\n",
              "<style scoped>\n",
              "    .dataframe tbody tr th:only-of-type {\n",
              "        vertical-align: middle;\n",
              "    }\n",
              "\n",
              "    .dataframe tbody tr th {\n",
              "        vertical-align: top;\n",
              "    }\n",
              "\n",
              "    .dataframe thead th {\n",
              "        text-align: right;\n",
              "    }\n",
              "</style>\n",
              "<table border=\"1\" class=\"dataframe\">\n",
              "  <thead>\n",
              "    <tr style=\"text-align: right;\">\n",
              "      <th></th>\n",
              "      <th>Loan_ID</th>\n",
              "      <th>Gender</th>\n",
              "      <th>Married</th>\n",
              "      <th>Dependents</th>\n",
              "      <th>Education</th>\n",
              "      <th>Self_Employed</th>\n",
              "      <th>ApplicantIncome</th>\n",
              "      <th>CoapplicantIncome</th>\n",
              "      <th>LoanAmount</th>\n",
              "      <th>Loan_Amount_Term</th>\n",
              "      <th>Credit_History</th>\n",
              "      <th>Property_Area</th>\n",
              "      <th>Loan_Status</th>\n",
              "    </tr>\n",
              "  </thead>\n",
              "  <tbody>\n",
              "    <tr>\n",
              "      <th>171</th>\n",
              "      <td>LP001585</td>\n",
              "      <td>NaN</td>\n",
              "      <td>Yes</td>\n",
              "      <td>3+</td>\n",
              "      <td>Graduate</td>\n",
              "      <td>No</td>\n",
              "      <td>51763</td>\n",
              "      <td>0.0</td>\n",
              "      <td>700.0</td>\n",
              "      <td>300.0</td>\n",
              "      <td>1.0</td>\n",
              "      <td>Urban</td>\n",
              "      <td>Y</td>\n",
              "    </tr>\n",
              "  </tbody>\n",
              "</table>\n",
              "</div>\n",
              "      <button class=\"colab-df-convert\" onclick=\"convertToInteractive('df-4fecb357-87b0-45ed-aba1-683265a2c140')\"\n",
              "              title=\"Convert this dataframe to an interactive table.\"\n",
              "              style=\"display:none;\">\n",
              "        \n",
              "  <svg xmlns=\"http://www.w3.org/2000/svg\" height=\"24px\"viewBox=\"0 0 24 24\"\n",
              "       width=\"24px\">\n",
              "    <path d=\"M0 0h24v24H0V0z\" fill=\"none\"/>\n",
              "    <path d=\"M18.56 5.44l.94 2.06.94-2.06 2.06-.94-2.06-.94-.94-2.06-.94 2.06-2.06.94zm-11 1L8.5 8.5l.94-2.06 2.06-.94-2.06-.94L8.5 2.5l-.94 2.06-2.06.94zm10 10l.94 2.06.94-2.06 2.06-.94-2.06-.94-.94-2.06-.94 2.06-2.06.94z\"/><path d=\"M17.41 7.96l-1.37-1.37c-.4-.4-.92-.59-1.43-.59-.52 0-1.04.2-1.43.59L10.3 9.45l-7.72 7.72c-.78.78-.78 2.05 0 2.83L4 21.41c.39.39.9.59 1.41.59.51 0 1.02-.2 1.41-.59l7.78-7.78 2.81-2.81c.8-.78.8-2.07 0-2.86zM5.41 20L4 18.59l7.72-7.72 1.47 1.35L5.41 20z\"/>\n",
              "  </svg>\n",
              "      </button>\n",
              "      \n",
              "  <style>\n",
              "    .colab-df-container {\n",
              "      display:flex;\n",
              "      flex-wrap:wrap;\n",
              "      gap: 12px;\n",
              "    }\n",
              "\n",
              "    .colab-df-convert {\n",
              "      background-color: #E8F0FE;\n",
              "      border: none;\n",
              "      border-radius: 50%;\n",
              "      cursor: pointer;\n",
              "      display: none;\n",
              "      fill: #1967D2;\n",
              "      height: 32px;\n",
              "      padding: 0 0 0 0;\n",
              "      width: 32px;\n",
              "    }\n",
              "\n",
              "    .colab-df-convert:hover {\n",
              "      background-color: #E2EBFA;\n",
              "      box-shadow: 0px 1px 2px rgba(60, 64, 67, 0.3), 0px 1px 3px 1px rgba(60, 64, 67, 0.15);\n",
              "      fill: #174EA6;\n",
              "    }\n",
              "\n",
              "    [theme=dark] .colab-df-convert {\n",
              "      background-color: #3B4455;\n",
              "      fill: #D2E3FC;\n",
              "    }\n",
              "\n",
              "    [theme=dark] .colab-df-convert:hover {\n",
              "      background-color: #434B5C;\n",
              "      box-shadow: 0px 1px 3px 1px rgba(0, 0, 0, 0.15);\n",
              "      filter: drop-shadow(0px 1px 2px rgba(0, 0, 0, 0.3));\n",
              "      fill: #FFFFFF;\n",
              "    }\n",
              "  </style>\n",
              "\n",
              "      <script>\n",
              "        const buttonEl =\n",
              "          document.querySelector('#df-4fecb357-87b0-45ed-aba1-683265a2c140 button.colab-df-convert');\n",
              "        buttonEl.style.display =\n",
              "          google.colab.kernel.accessAllowed ? 'block' : 'none';\n",
              "\n",
              "        async function convertToInteractive(key) {\n",
              "          const element = document.querySelector('#df-4fecb357-87b0-45ed-aba1-683265a2c140');\n",
              "          const dataTable =\n",
              "            await google.colab.kernel.invokeFunction('convertToInteractive',\n",
              "                                                     [key], {});\n",
              "          if (!dataTable) return;\n",
              "\n",
              "          const docLinkHtml = 'Like what you see? Visit the ' +\n",
              "            '<a target=\"_blank\" href=https://colab.research.google.com/notebooks/data_table.ipynb>data table notebook</a>'\n",
              "            + ' to learn more about interactive tables.';\n",
              "          element.innerHTML = '';\n",
              "          dataTable['output_type'] = 'display_data';\n",
              "          await google.colab.output.renderOutput(dataTable, element);\n",
              "          const docLink = document.createElement('div');\n",
              "          docLink.innerHTML = docLinkHtml;\n",
              "          element.appendChild(docLink);\n",
              "        }\n",
              "      </script>\n",
              "    </div>\n",
              "  </div>\n",
              "  "
            ],
            "text/plain": [
              "      Loan_ID Gender Married  ... Credit_History Property_Area Loan_Status\n",
              "171  LP001585    NaN     Yes  ...            1.0         Urban           Y\n",
              "\n",
              "[1 rows x 13 columns]"
            ]
          },
          "metadata": {},
          "execution_count": 648
        }
      ]
    },
    {
      "cell_type": "markdown",
      "source": [
        "**Gender not mentioned of the highest LoanAMount taker**"
      ],
      "metadata": {
        "id": "5w_jJuZUOPBP"
      }
    },
    {
      "cell_type": "markdown",
      "source": [
        "##Q7.\n",
        "7. the specification and information about the applicant who has the highest income?"
      ],
      "metadata": {
        "id": "mQJyNcAkOhaE"
      }
    },
    {
      "cell_type": "code",
      "source": [
        "train.loc[train.ApplicantIncome == train.ApplicantIncome.max(), :]"
      ],
      "metadata": {
        "colab": {
          "base_uri": "https://localhost:8080/",
          "height": 144
        },
        "id": "54LD9tjLOh1I",
        "outputId": "8e145de8-6154-4d5d-8c94-06f98f89507c"
      },
      "execution_count": null,
      "outputs": [
        {
          "output_type": "execute_result",
          "data": {
            "text/html": [
              "\n",
              "  <div id=\"df-595f7d4a-11d0-44f7-9985-bc32721e0380\">\n",
              "    <div class=\"colab-df-container\">\n",
              "      <div>\n",
              "<style scoped>\n",
              "    .dataframe tbody tr th:only-of-type {\n",
              "        vertical-align: middle;\n",
              "    }\n",
              "\n",
              "    .dataframe tbody tr th {\n",
              "        vertical-align: top;\n",
              "    }\n",
              "\n",
              "    .dataframe thead th {\n",
              "        text-align: right;\n",
              "    }\n",
              "</style>\n",
              "<table border=\"1\" class=\"dataframe\">\n",
              "  <thead>\n",
              "    <tr style=\"text-align: right;\">\n",
              "      <th></th>\n",
              "      <th>Loan_ID</th>\n",
              "      <th>Gender</th>\n",
              "      <th>Married</th>\n",
              "      <th>Dependents</th>\n",
              "      <th>Education</th>\n",
              "      <th>Self_Employed</th>\n",
              "      <th>ApplicantIncome</th>\n",
              "      <th>CoapplicantIncome</th>\n",
              "      <th>LoanAmount</th>\n",
              "      <th>Loan_Amount_Term</th>\n",
              "      <th>Credit_History</th>\n",
              "      <th>Property_Area</th>\n",
              "      <th>Loan_Status</th>\n",
              "    </tr>\n",
              "  </thead>\n",
              "  <tbody>\n",
              "    <tr>\n",
              "      <th>409</th>\n",
              "      <td>LP002317</td>\n",
              "      <td>Male</td>\n",
              "      <td>Yes</td>\n",
              "      <td>3+</td>\n",
              "      <td>Graduate</td>\n",
              "      <td>No</td>\n",
              "      <td>81000</td>\n",
              "      <td>0.0</td>\n",
              "      <td>360.0</td>\n",
              "      <td>360.0</td>\n",
              "      <td>0.0</td>\n",
              "      <td>Rural</td>\n",
              "      <td>N</td>\n",
              "    </tr>\n",
              "  </tbody>\n",
              "</table>\n",
              "</div>\n",
              "      <button class=\"colab-df-convert\" onclick=\"convertToInteractive('df-595f7d4a-11d0-44f7-9985-bc32721e0380')\"\n",
              "              title=\"Convert this dataframe to an interactive table.\"\n",
              "              style=\"display:none;\">\n",
              "        \n",
              "  <svg xmlns=\"http://www.w3.org/2000/svg\" height=\"24px\"viewBox=\"0 0 24 24\"\n",
              "       width=\"24px\">\n",
              "    <path d=\"M0 0h24v24H0V0z\" fill=\"none\"/>\n",
              "    <path d=\"M18.56 5.44l.94 2.06.94-2.06 2.06-.94-2.06-.94-.94-2.06-.94 2.06-2.06.94zm-11 1L8.5 8.5l.94-2.06 2.06-.94-2.06-.94L8.5 2.5l-.94 2.06-2.06.94zm10 10l.94 2.06.94-2.06 2.06-.94-2.06-.94-.94-2.06-.94 2.06-2.06.94z\"/><path d=\"M17.41 7.96l-1.37-1.37c-.4-.4-.92-.59-1.43-.59-.52 0-1.04.2-1.43.59L10.3 9.45l-7.72 7.72c-.78.78-.78 2.05 0 2.83L4 21.41c.39.39.9.59 1.41.59.51 0 1.02-.2 1.41-.59l7.78-7.78 2.81-2.81c.8-.78.8-2.07 0-2.86zM5.41 20L4 18.59l7.72-7.72 1.47 1.35L5.41 20z\"/>\n",
              "  </svg>\n",
              "      </button>\n",
              "      \n",
              "  <style>\n",
              "    .colab-df-container {\n",
              "      display:flex;\n",
              "      flex-wrap:wrap;\n",
              "      gap: 12px;\n",
              "    }\n",
              "\n",
              "    .colab-df-convert {\n",
              "      background-color: #E8F0FE;\n",
              "      border: none;\n",
              "      border-radius: 50%;\n",
              "      cursor: pointer;\n",
              "      display: none;\n",
              "      fill: #1967D2;\n",
              "      height: 32px;\n",
              "      padding: 0 0 0 0;\n",
              "      width: 32px;\n",
              "    }\n",
              "\n",
              "    .colab-df-convert:hover {\n",
              "      background-color: #E2EBFA;\n",
              "      box-shadow: 0px 1px 2px rgba(60, 64, 67, 0.3), 0px 1px 3px 1px rgba(60, 64, 67, 0.15);\n",
              "      fill: #174EA6;\n",
              "    }\n",
              "\n",
              "    [theme=dark] .colab-df-convert {\n",
              "      background-color: #3B4455;\n",
              "      fill: #D2E3FC;\n",
              "    }\n",
              "\n",
              "    [theme=dark] .colab-df-convert:hover {\n",
              "      background-color: #434B5C;\n",
              "      box-shadow: 0px 1px 3px 1px rgba(0, 0, 0, 0.15);\n",
              "      filter: drop-shadow(0px 1px 2px rgba(0, 0, 0, 0.3));\n",
              "      fill: #FFFFFF;\n",
              "    }\n",
              "  </style>\n",
              "\n",
              "      <script>\n",
              "        const buttonEl =\n",
              "          document.querySelector('#df-595f7d4a-11d0-44f7-9985-bc32721e0380 button.colab-df-convert');\n",
              "        buttonEl.style.display =\n",
              "          google.colab.kernel.accessAllowed ? 'block' : 'none';\n",
              "\n",
              "        async function convertToInteractive(key) {\n",
              "          const element = document.querySelector('#df-595f7d4a-11d0-44f7-9985-bc32721e0380');\n",
              "          const dataTable =\n",
              "            await google.colab.kernel.invokeFunction('convertToInteractive',\n",
              "                                                     [key], {});\n",
              "          if (!dataTable) return;\n",
              "\n",
              "          const docLinkHtml = 'Like what you see? Visit the ' +\n",
              "            '<a target=\"_blank\" href=https://colab.research.google.com/notebooks/data_table.ipynb>data table notebook</a>'\n",
              "            + ' to learn more about interactive tables.';\n",
              "          element.innerHTML = '';\n",
              "          dataTable['output_type'] = 'display_data';\n",
              "          await google.colab.output.renderOutput(dataTable, element);\n",
              "          const docLink = document.createElement('div');\n",
              "          docLink.innerHTML = docLinkHtml;\n",
              "          element.appendChild(docLink);\n",
              "        }\n",
              "      </script>\n",
              "    </div>\n",
              "  </div>\n",
              "  "
            ],
            "text/plain": [
              "      Loan_ID Gender Married  ... Credit_History Property_Area Loan_Status\n",
              "409  LP002317   Male     Yes  ...            0.0         Rural           N\n",
              "\n",
              "[1 rows x 13 columns]"
            ]
          },
          "metadata": {},
          "execution_count": 649
        }
      ]
    },
    {
      "cell_type": "markdown",
      "source": [
        "**The highest income person is a married graduate male with 3+ dependents. He is not self employed and property area is rural. He has the highest income 81000 but credit history doesn't meet the guidelines (0 value) and with loan status No, Loan has not been approved.**"
      ],
      "metadata": {
        "id": "LS3m5CSPOzAP"
      }
    },
    {
      "cell_type": "markdown",
      "source": [
        "Relationship between Loan status and Credit history"
      ],
      "metadata": {
        "id": "3yZdbnYwPqmf"
      }
    },
    {
      "cell_type": "code",
      "source": [
        "train[train['Credit_History'] == 1]['Loan_Status'].value_counts()"
      ],
      "metadata": {
        "colab": {
          "base_uri": "https://localhost:8080/"
        },
        "id": "V-PG7TF0PwYR",
        "outputId": "141c9caa-641d-419a-d8f4-bd75cf2aad7a"
      },
      "execution_count": null,
      "outputs": [
        {
          "output_type": "execute_result",
          "data": {
            "text/plain": [
              "Y    378\n",
              "N     97\n",
              "Name: Loan_Status, dtype: int64"
            ]
          },
          "metadata": {},
          "execution_count": 651
        }
      ]
    },
    {
      "cell_type": "code",
      "source": [
        "train[train['Credit_History'] == 0]['Loan_Status'].value_counts()"
      ],
      "metadata": {
        "colab": {
          "base_uri": "https://localhost:8080/"
        },
        "id": "ECS5esEEQZ-e",
        "outputId": "dc6d831b-5ada-4d74-88af-8fbd2ca31087"
      },
      "execution_count": null,
      "outputs": [
        {
          "output_type": "execute_result",
          "data": {
            "text/plain": [
              "N    82\n",
              "Y     7\n",
              "Name: Loan_Status, dtype: int64"
            ]
          },
          "metadata": {},
          "execution_count": 652
        }
      ]
    },
    {
      "cell_type": "markdown",
      "source": [
        "**Most of the loans have been approved when the credit history has met the guidelines. And diproved when the credit history has not met the guidelines.**"
      ],
      "metadata": {
        "id": "WcmLXdVOQc5X"
      }
    },
    {
      "cell_type": "markdown",
      "source": [
        "##Data cleaning"
      ],
      "metadata": {
        "id": "r8Russ2YtA6c"
      }
    },
    {
      "cell_type": "markdown",
      "source": [
        "###**Credit_History NaN values imputation**"
      ],
      "metadata": {
        "id": "dxMgzvysPWMF"
      }
    },
    {
      "cell_type": "code",
      "source": [
        "train[train['Credit_History'].isnull()]"
      ],
      "metadata": {
        "id": "N_QBWtLf-WBS",
        "colab": {
          "base_uri": "https://localhost:8080/",
          "height": 1000
        },
        "outputId": "da1fb652-7bf8-4ad9-95a8-682f804d428a"
      },
      "execution_count": null,
      "outputs": [
        {
          "output_type": "execute_result",
          "data": {
            "text/html": [
              "\n",
              "  <div id=\"df-b8b62a07-ce2d-4e99-bd5b-056eada46647\">\n",
              "    <div class=\"colab-df-container\">\n",
              "      <div>\n",
              "<style scoped>\n",
              "    .dataframe tbody tr th:only-of-type {\n",
              "        vertical-align: middle;\n",
              "    }\n",
              "\n",
              "    .dataframe tbody tr th {\n",
              "        vertical-align: top;\n",
              "    }\n",
              "\n",
              "    .dataframe thead th {\n",
              "        text-align: right;\n",
              "    }\n",
              "</style>\n",
              "<table border=\"1\" class=\"dataframe\">\n",
              "  <thead>\n",
              "    <tr style=\"text-align: right;\">\n",
              "      <th></th>\n",
              "      <th>Loan_ID</th>\n",
              "      <th>Gender</th>\n",
              "      <th>Married</th>\n",
              "      <th>Dependents</th>\n",
              "      <th>Education</th>\n",
              "      <th>Self_Employed</th>\n",
              "      <th>ApplicantIncome</th>\n",
              "      <th>CoapplicantIncome</th>\n",
              "      <th>LoanAmount</th>\n",
              "      <th>Loan_Amount_Term</th>\n",
              "      <th>Credit_History</th>\n",
              "      <th>Property_Area</th>\n",
              "      <th>Loan_Status</th>\n",
              "    </tr>\n",
              "  </thead>\n",
              "  <tbody>\n",
              "    <tr>\n",
              "      <th>16</th>\n",
              "      <td>LP001034</td>\n",
              "      <td>Male</td>\n",
              "      <td>No</td>\n",
              "      <td>1</td>\n",
              "      <td>Not Graduate</td>\n",
              "      <td>No</td>\n",
              "      <td>3596</td>\n",
              "      <td>0.0</td>\n",
              "      <td>100.0</td>\n",
              "      <td>240.0</td>\n",
              "      <td>NaN</td>\n",
              "      <td>Urban</td>\n",
              "      <td>Y</td>\n",
              "    </tr>\n",
              "    <tr>\n",
              "      <th>24</th>\n",
              "      <td>LP001052</td>\n",
              "      <td>Male</td>\n",
              "      <td>Yes</td>\n",
              "      <td>1</td>\n",
              "      <td>Graduate</td>\n",
              "      <td>NaN</td>\n",
              "      <td>3717</td>\n",
              "      <td>2925.0</td>\n",
              "      <td>151.0</td>\n",
              "      <td>360.0</td>\n",
              "      <td>NaN</td>\n",
              "      <td>Semiurban</td>\n",
              "      <td>N</td>\n",
              "    </tr>\n",
              "    <tr>\n",
              "      <th>30</th>\n",
              "      <td>LP001091</td>\n",
              "      <td>Male</td>\n",
              "      <td>Yes</td>\n",
              "      <td>1</td>\n",
              "      <td>Graduate</td>\n",
              "      <td>NaN</td>\n",
              "      <td>4166</td>\n",
              "      <td>3369.0</td>\n",
              "      <td>201.0</td>\n",
              "      <td>360.0</td>\n",
              "      <td>NaN</td>\n",
              "      <td>Urban</td>\n",
              "      <td>N</td>\n",
              "    </tr>\n",
              "    <tr>\n",
              "      <th>42</th>\n",
              "      <td>LP001123</td>\n",
              "      <td>Male</td>\n",
              "      <td>Yes</td>\n",
              "      <td>0</td>\n",
              "      <td>Graduate</td>\n",
              "      <td>No</td>\n",
              "      <td>2400</td>\n",
              "      <td>0.0</td>\n",
              "      <td>75.0</td>\n",
              "      <td>360.0</td>\n",
              "      <td>NaN</td>\n",
              "      <td>Urban</td>\n",
              "      <td>Y</td>\n",
              "    </tr>\n",
              "    <tr>\n",
              "      <th>79</th>\n",
              "      <td>LP001264</td>\n",
              "      <td>Male</td>\n",
              "      <td>Yes</td>\n",
              "      <td>3+</td>\n",
              "      <td>Not Graduate</td>\n",
              "      <td>Yes</td>\n",
              "      <td>3333</td>\n",
              "      <td>2166.0</td>\n",
              "      <td>130.0</td>\n",
              "      <td>360.0</td>\n",
              "      <td>NaN</td>\n",
              "      <td>Semiurban</td>\n",
              "      <td>Y</td>\n",
              "    </tr>\n",
              "    <tr>\n",
              "      <th>83</th>\n",
              "      <td>LP001273</td>\n",
              "      <td>Male</td>\n",
              "      <td>Yes</td>\n",
              "      <td>0</td>\n",
              "      <td>Graduate</td>\n",
              "      <td>No</td>\n",
              "      <td>6000</td>\n",
              "      <td>2250.0</td>\n",
              "      <td>265.0</td>\n",
              "      <td>360.0</td>\n",
              "      <td>NaN</td>\n",
              "      <td>Semiurban</td>\n",
              "      <td>N</td>\n",
              "    </tr>\n",
              "    <tr>\n",
              "      <th>86</th>\n",
              "      <td>LP001280</td>\n",
              "      <td>Male</td>\n",
              "      <td>Yes</td>\n",
              "      <td>2</td>\n",
              "      <td>Not Graduate</td>\n",
              "      <td>No</td>\n",
              "      <td>3333</td>\n",
              "      <td>2000.0</td>\n",
              "      <td>99.0</td>\n",
              "      <td>360.0</td>\n",
              "      <td>NaN</td>\n",
              "      <td>Semiurban</td>\n",
              "      <td>Y</td>\n",
              "    </tr>\n",
              "    <tr>\n",
              "      <th>95</th>\n",
              "      <td>LP001326</td>\n",
              "      <td>Male</td>\n",
              "      <td>No</td>\n",
              "      <td>0</td>\n",
              "      <td>Graduate</td>\n",
              "      <td>NaN</td>\n",
              "      <td>6782</td>\n",
              "      <td>0.0</td>\n",
              "      <td>NaN</td>\n",
              "      <td>360.0</td>\n",
              "      <td>NaN</td>\n",
              "      <td>Urban</td>\n",
              "      <td>N</td>\n",
              "    </tr>\n",
              "    <tr>\n",
              "      <th>117</th>\n",
              "      <td>LP001405</td>\n",
              "      <td>Male</td>\n",
              "      <td>Yes</td>\n",
              "      <td>1</td>\n",
              "      <td>Graduate</td>\n",
              "      <td>No</td>\n",
              "      <td>2214</td>\n",
              "      <td>1398.0</td>\n",
              "      <td>85.0</td>\n",
              "      <td>360.0</td>\n",
              "      <td>NaN</td>\n",
              "      <td>Urban</td>\n",
              "      <td>Y</td>\n",
              "    </tr>\n",
              "    <tr>\n",
              "      <th>125</th>\n",
              "      <td>LP001443</td>\n",
              "      <td>Female</td>\n",
              "      <td>No</td>\n",
              "      <td>0</td>\n",
              "      <td>Graduate</td>\n",
              "      <td>No</td>\n",
              "      <td>3692</td>\n",
              "      <td>0.0</td>\n",
              "      <td>93.0</td>\n",
              "      <td>360.0</td>\n",
              "      <td>NaN</td>\n",
              "      <td>Rural</td>\n",
              "      <td>Y</td>\n",
              "    </tr>\n",
              "    <tr>\n",
              "      <th>129</th>\n",
              "      <td>LP001465</td>\n",
              "      <td>Male</td>\n",
              "      <td>Yes</td>\n",
              "      <td>0</td>\n",
              "      <td>Graduate</td>\n",
              "      <td>No</td>\n",
              "      <td>6080</td>\n",
              "      <td>2569.0</td>\n",
              "      <td>182.0</td>\n",
              "      <td>360.0</td>\n",
              "      <td>NaN</td>\n",
              "      <td>Rural</td>\n",
              "      <td>N</td>\n",
              "    </tr>\n",
              "    <tr>\n",
              "      <th>130</th>\n",
              "      <td>LP001469</td>\n",
              "      <td>Male</td>\n",
              "      <td>No</td>\n",
              "      <td>0</td>\n",
              "      <td>Graduate</td>\n",
              "      <td>Yes</td>\n",
              "      <td>20166</td>\n",
              "      <td>0.0</td>\n",
              "      <td>650.0</td>\n",
              "      <td>480.0</td>\n",
              "      <td>NaN</td>\n",
              "      <td>Urban</td>\n",
              "      <td>Y</td>\n",
              "    </tr>\n",
              "    <tr>\n",
              "      <th>156</th>\n",
              "      <td>LP001541</td>\n",
              "      <td>Male</td>\n",
              "      <td>Yes</td>\n",
              "      <td>1</td>\n",
              "      <td>Graduate</td>\n",
              "      <td>No</td>\n",
              "      <td>6000</td>\n",
              "      <td>0.0</td>\n",
              "      <td>160.0</td>\n",
              "      <td>360.0</td>\n",
              "      <td>NaN</td>\n",
              "      <td>Rural</td>\n",
              "      <td>Y</td>\n",
              "    </tr>\n",
              "    <tr>\n",
              "      <th>181</th>\n",
              "      <td>LP001634</td>\n",
              "      <td>Male</td>\n",
              "      <td>No</td>\n",
              "      <td>0</td>\n",
              "      <td>Graduate</td>\n",
              "      <td>No</td>\n",
              "      <td>1916</td>\n",
              "      <td>5063.0</td>\n",
              "      <td>67.0</td>\n",
              "      <td>360.0</td>\n",
              "      <td>NaN</td>\n",
              "      <td>Rural</td>\n",
              "      <td>N</td>\n",
              "    </tr>\n",
              "    <tr>\n",
              "      <th>187</th>\n",
              "      <td>LP001643</td>\n",
              "      <td>Male</td>\n",
              "      <td>Yes</td>\n",
              "      <td>0</td>\n",
              "      <td>Graduate</td>\n",
              "      <td>No</td>\n",
              "      <td>2383</td>\n",
              "      <td>2138.0</td>\n",
              "      <td>58.0</td>\n",
              "      <td>360.0</td>\n",
              "      <td>NaN</td>\n",
              "      <td>Rural</td>\n",
              "      <td>Y</td>\n",
              "    </tr>\n",
              "    <tr>\n",
              "      <th>198</th>\n",
              "      <td>LP001671</td>\n",
              "      <td>Female</td>\n",
              "      <td>Yes</td>\n",
              "      <td>0</td>\n",
              "      <td>Graduate</td>\n",
              "      <td>No</td>\n",
              "      <td>3416</td>\n",
              "      <td>2816.0</td>\n",
              "      <td>113.0</td>\n",
              "      <td>360.0</td>\n",
              "      <td>NaN</td>\n",
              "      <td>Semiurban</td>\n",
              "      <td>Y</td>\n",
              "    </tr>\n",
              "    <tr>\n",
              "      <th>219</th>\n",
              "      <td>LP001734</td>\n",
              "      <td>Female</td>\n",
              "      <td>Yes</td>\n",
              "      <td>2</td>\n",
              "      <td>Graduate</td>\n",
              "      <td>No</td>\n",
              "      <td>4283</td>\n",
              "      <td>2383.0</td>\n",
              "      <td>127.0</td>\n",
              "      <td>360.0</td>\n",
              "      <td>NaN</td>\n",
              "      <td>Semiurban</td>\n",
              "      <td>Y</td>\n",
              "    </tr>\n",
              "    <tr>\n",
              "      <th>236</th>\n",
              "      <td>LP001786</td>\n",
              "      <td>Male</td>\n",
              "      <td>Yes</td>\n",
              "      <td>0</td>\n",
              "      <td>Graduate</td>\n",
              "      <td>NaN</td>\n",
              "      <td>5746</td>\n",
              "      <td>0.0</td>\n",
              "      <td>255.0</td>\n",
              "      <td>360.0</td>\n",
              "      <td>NaN</td>\n",
              "      <td>Urban</td>\n",
              "      <td>N</td>\n",
              "    </tr>\n",
              "    <tr>\n",
              "      <th>237</th>\n",
              "      <td>LP001788</td>\n",
              "      <td>Female</td>\n",
              "      <td>No</td>\n",
              "      <td>0</td>\n",
              "      <td>Graduate</td>\n",
              "      <td>Yes</td>\n",
              "      <td>3463</td>\n",
              "      <td>0.0</td>\n",
              "      <td>122.0</td>\n",
              "      <td>360.0</td>\n",
              "      <td>NaN</td>\n",
              "      <td>Urban</td>\n",
              "      <td>Y</td>\n",
              "    </tr>\n",
              "    <tr>\n",
              "      <th>259</th>\n",
              "      <td>LP001864</td>\n",
              "      <td>Male</td>\n",
              "      <td>Yes</td>\n",
              "      <td>3+</td>\n",
              "      <td>Not Graduate</td>\n",
              "      <td>No</td>\n",
              "      <td>4931</td>\n",
              "      <td>0.0</td>\n",
              "      <td>128.0</td>\n",
              "      <td>360.0</td>\n",
              "      <td>NaN</td>\n",
              "      <td>Semiurban</td>\n",
              "      <td>N</td>\n",
              "    </tr>\n",
              "    <tr>\n",
              "      <th>260</th>\n",
              "      <td>LP001865</td>\n",
              "      <td>Male</td>\n",
              "      <td>Yes</td>\n",
              "      <td>1</td>\n",
              "      <td>Graduate</td>\n",
              "      <td>No</td>\n",
              "      <td>6083</td>\n",
              "      <td>4250.0</td>\n",
              "      <td>330.0</td>\n",
              "      <td>360.0</td>\n",
              "      <td>NaN</td>\n",
              "      <td>Urban</td>\n",
              "      <td>Y</td>\n",
              "    </tr>\n",
              "    <tr>\n",
              "      <th>279</th>\n",
              "      <td>LP001908</td>\n",
              "      <td>Female</td>\n",
              "      <td>Yes</td>\n",
              "      <td>0</td>\n",
              "      <td>Not Graduate</td>\n",
              "      <td>No</td>\n",
              "      <td>4100</td>\n",
              "      <td>0.0</td>\n",
              "      <td>124.0</td>\n",
              "      <td>360.0</td>\n",
              "      <td>NaN</td>\n",
              "      <td>Rural</td>\n",
              "      <td>Y</td>\n",
              "    </tr>\n",
              "    <tr>\n",
              "      <th>309</th>\n",
              "      <td>LP001998</td>\n",
              "      <td>Male</td>\n",
              "      <td>Yes</td>\n",
              "      <td>2</td>\n",
              "      <td>Not Graduate</td>\n",
              "      <td>No</td>\n",
              "      <td>7667</td>\n",
              "      <td>0.0</td>\n",
              "      <td>185.0</td>\n",
              "      <td>360.0</td>\n",
              "      <td>NaN</td>\n",
              "      <td>Rural</td>\n",
              "      <td>Y</td>\n",
              "    </tr>\n",
              "    <tr>\n",
              "      <th>313</th>\n",
              "      <td>LP002008</td>\n",
              "      <td>Male</td>\n",
              "      <td>Yes</td>\n",
              "      <td>2</td>\n",
              "      <td>Graduate</td>\n",
              "      <td>Yes</td>\n",
              "      <td>5746</td>\n",
              "      <td>0.0</td>\n",
              "      <td>144.0</td>\n",
              "      <td>84.0</td>\n",
              "      <td>NaN</td>\n",
              "      <td>Rural</td>\n",
              "      <td>Y</td>\n",
              "    </tr>\n",
              "    <tr>\n",
              "      <th>317</th>\n",
              "      <td>LP002036</td>\n",
              "      <td>Male</td>\n",
              "      <td>Yes</td>\n",
              "      <td>0</td>\n",
              "      <td>Graduate</td>\n",
              "      <td>No</td>\n",
              "      <td>2058</td>\n",
              "      <td>2134.0</td>\n",
              "      <td>88.0</td>\n",
              "      <td>360.0</td>\n",
              "      <td>NaN</td>\n",
              "      <td>Urban</td>\n",
              "      <td>Y</td>\n",
              "    </tr>\n",
              "    <tr>\n",
              "      <th>318</th>\n",
              "      <td>LP002043</td>\n",
              "      <td>Female</td>\n",
              "      <td>No</td>\n",
              "      <td>1</td>\n",
              "      <td>Graduate</td>\n",
              "      <td>No</td>\n",
              "      <td>3541</td>\n",
              "      <td>0.0</td>\n",
              "      <td>112.0</td>\n",
              "      <td>360.0</td>\n",
              "      <td>NaN</td>\n",
              "      <td>Semiurban</td>\n",
              "      <td>Y</td>\n",
              "    </tr>\n",
              "    <tr>\n",
              "      <th>323</th>\n",
              "      <td>LP002055</td>\n",
              "      <td>Female</td>\n",
              "      <td>No</td>\n",
              "      <td>0</td>\n",
              "      <td>Graduate</td>\n",
              "      <td>No</td>\n",
              "      <td>3166</td>\n",
              "      <td>2985.0</td>\n",
              "      <td>132.0</td>\n",
              "      <td>360.0</td>\n",
              "      <td>NaN</td>\n",
              "      <td>Rural</td>\n",
              "      <td>Y</td>\n",
              "    </tr>\n",
              "    <tr>\n",
              "      <th>348</th>\n",
              "      <td>LP002137</td>\n",
              "      <td>Male</td>\n",
              "      <td>Yes</td>\n",
              "      <td>0</td>\n",
              "      <td>Graduate</td>\n",
              "      <td>No</td>\n",
              "      <td>6333</td>\n",
              "      <td>4583.0</td>\n",
              "      <td>259.0</td>\n",
              "      <td>360.0</td>\n",
              "      <td>NaN</td>\n",
              "      <td>Semiurban</td>\n",
              "      <td>Y</td>\n",
              "    </tr>\n",
              "    <tr>\n",
              "      <th>363</th>\n",
              "      <td>LP002178</td>\n",
              "      <td>Male</td>\n",
              "      <td>Yes</td>\n",
              "      <td>0</td>\n",
              "      <td>Graduate</td>\n",
              "      <td>No</td>\n",
              "      <td>3013</td>\n",
              "      <td>3033.0</td>\n",
              "      <td>95.0</td>\n",
              "      <td>300.0</td>\n",
              "      <td>NaN</td>\n",
              "      <td>Urban</td>\n",
              "      <td>Y</td>\n",
              "    </tr>\n",
              "    <tr>\n",
              "      <th>377</th>\n",
              "      <td>LP002223</td>\n",
              "      <td>Male</td>\n",
              "      <td>Yes</td>\n",
              "      <td>0</td>\n",
              "      <td>Graduate</td>\n",
              "      <td>No</td>\n",
              "      <td>4310</td>\n",
              "      <td>0.0</td>\n",
              "      <td>130.0</td>\n",
              "      <td>360.0</td>\n",
              "      <td>NaN</td>\n",
              "      <td>Semiurban</td>\n",
              "      <td>Y</td>\n",
              "    </tr>\n",
              "    <tr>\n",
              "      <th>392</th>\n",
              "      <td>LP002263</td>\n",
              "      <td>Male</td>\n",
              "      <td>Yes</td>\n",
              "      <td>0</td>\n",
              "      <td>Graduate</td>\n",
              "      <td>No</td>\n",
              "      <td>2583</td>\n",
              "      <td>2115.0</td>\n",
              "      <td>120.0</td>\n",
              "      <td>360.0</td>\n",
              "      <td>NaN</td>\n",
              "      <td>Urban</td>\n",
              "      <td>Y</td>\n",
              "    </tr>\n",
              "    <tr>\n",
              "      <th>395</th>\n",
              "      <td>LP002272</td>\n",
              "      <td>Male</td>\n",
              "      <td>Yes</td>\n",
              "      <td>2</td>\n",
              "      <td>Graduate</td>\n",
              "      <td>No</td>\n",
              "      <td>3276</td>\n",
              "      <td>484.0</td>\n",
              "      <td>135.0</td>\n",
              "      <td>360.0</td>\n",
              "      <td>NaN</td>\n",
              "      <td>Semiurban</td>\n",
              "      <td>Y</td>\n",
              "    </tr>\n",
              "    <tr>\n",
              "      <th>411</th>\n",
              "      <td>LP002319</td>\n",
              "      <td>Male</td>\n",
              "      <td>Yes</td>\n",
              "      <td>0</td>\n",
              "      <td>Graduate</td>\n",
              "      <td>NaN</td>\n",
              "      <td>6256</td>\n",
              "      <td>0.0</td>\n",
              "      <td>160.0</td>\n",
              "      <td>360.0</td>\n",
              "      <td>NaN</td>\n",
              "      <td>Urban</td>\n",
              "      <td>Y</td>\n",
              "    </tr>\n",
              "    <tr>\n",
              "      <th>444</th>\n",
              "      <td>LP002424</td>\n",
              "      <td>Male</td>\n",
              "      <td>Yes</td>\n",
              "      <td>0</td>\n",
              "      <td>Graduate</td>\n",
              "      <td>No</td>\n",
              "      <td>7333</td>\n",
              "      <td>8333.0</td>\n",
              "      <td>175.0</td>\n",
              "      <td>300.0</td>\n",
              "      <td>NaN</td>\n",
              "      <td>Rural</td>\n",
              "      <td>Y</td>\n",
              "    </tr>\n",
              "    <tr>\n",
              "      <th>449</th>\n",
              "      <td>LP002444</td>\n",
              "      <td>Male</td>\n",
              "      <td>No</td>\n",
              "      <td>1</td>\n",
              "      <td>Not Graduate</td>\n",
              "      <td>Yes</td>\n",
              "      <td>2769</td>\n",
              "      <td>1542.0</td>\n",
              "      <td>190.0</td>\n",
              "      <td>360.0</td>\n",
              "      <td>NaN</td>\n",
              "      <td>Semiurban</td>\n",
              "      <td>N</td>\n",
              "    </tr>\n",
              "    <tr>\n",
              "      <th>451</th>\n",
              "      <td>LP002447</td>\n",
              "      <td>Male</td>\n",
              "      <td>Yes</td>\n",
              "      <td>2</td>\n",
              "      <td>Not Graduate</td>\n",
              "      <td>No</td>\n",
              "      <td>1958</td>\n",
              "      <td>1456.0</td>\n",
              "      <td>60.0</td>\n",
              "      <td>300.0</td>\n",
              "      <td>NaN</td>\n",
              "      <td>Urban</td>\n",
              "      <td>Y</td>\n",
              "    </tr>\n",
              "    <tr>\n",
              "      <th>460</th>\n",
              "      <td>LP002478</td>\n",
              "      <td>NaN</td>\n",
              "      <td>Yes</td>\n",
              "      <td>0</td>\n",
              "      <td>Graduate</td>\n",
              "      <td>Yes</td>\n",
              "      <td>2083</td>\n",
              "      <td>4083.0</td>\n",
              "      <td>160.0</td>\n",
              "      <td>360.0</td>\n",
              "      <td>NaN</td>\n",
              "      <td>Semiurban</td>\n",
              "      <td>Y</td>\n",
              "    </tr>\n",
              "    <tr>\n",
              "      <th>473</th>\n",
              "      <td>LP002522</td>\n",
              "      <td>Female</td>\n",
              "      <td>No</td>\n",
              "      <td>0</td>\n",
              "      <td>Graduate</td>\n",
              "      <td>Yes</td>\n",
              "      <td>2500</td>\n",
              "      <td>0.0</td>\n",
              "      <td>93.0</td>\n",
              "      <td>360.0</td>\n",
              "      <td>NaN</td>\n",
              "      <td>Urban</td>\n",
              "      <td>Y</td>\n",
              "    </tr>\n",
              "    <tr>\n",
              "      <th>490</th>\n",
              "      <td>LP002560</td>\n",
              "      <td>Male</td>\n",
              "      <td>No</td>\n",
              "      <td>0</td>\n",
              "      <td>Not Graduate</td>\n",
              "      <td>No</td>\n",
              "      <td>2699</td>\n",
              "      <td>2785.0</td>\n",
              "      <td>96.0</td>\n",
              "      <td>360.0</td>\n",
              "      <td>NaN</td>\n",
              "      <td>Semiurban</td>\n",
              "      <td>Y</td>\n",
              "    </tr>\n",
              "    <tr>\n",
              "      <th>491</th>\n",
              "      <td>LP002562</td>\n",
              "      <td>Male</td>\n",
              "      <td>Yes</td>\n",
              "      <td>1</td>\n",
              "      <td>Not Graduate</td>\n",
              "      <td>No</td>\n",
              "      <td>5333</td>\n",
              "      <td>1131.0</td>\n",
              "      <td>186.0</td>\n",
              "      <td>360.0</td>\n",
              "      <td>NaN</td>\n",
              "      <td>Urban</td>\n",
              "      <td>Y</td>\n",
              "    </tr>\n",
              "    <tr>\n",
              "      <th>497</th>\n",
              "      <td>LP002588</td>\n",
              "      <td>Male</td>\n",
              "      <td>Yes</td>\n",
              "      <td>0</td>\n",
              "      <td>Graduate</td>\n",
              "      <td>No</td>\n",
              "      <td>4625</td>\n",
              "      <td>2857.0</td>\n",
              "      <td>111.0</td>\n",
              "      <td>12.0</td>\n",
              "      <td>NaN</td>\n",
              "      <td>Urban</td>\n",
              "      <td>Y</td>\n",
              "    </tr>\n",
              "    <tr>\n",
              "      <th>503</th>\n",
              "      <td>LP002618</td>\n",
              "      <td>Male</td>\n",
              "      <td>Yes</td>\n",
              "      <td>1</td>\n",
              "      <td>Not Graduate</td>\n",
              "      <td>No</td>\n",
              "      <td>4050</td>\n",
              "      <td>5302.0</td>\n",
              "      <td>138.0</td>\n",
              "      <td>360.0</td>\n",
              "      <td>NaN</td>\n",
              "      <td>Rural</td>\n",
              "      <td>N</td>\n",
              "    </tr>\n",
              "    <tr>\n",
              "      <th>506</th>\n",
              "      <td>LP002624</td>\n",
              "      <td>Male</td>\n",
              "      <td>Yes</td>\n",
              "      <td>0</td>\n",
              "      <td>Graduate</td>\n",
              "      <td>No</td>\n",
              "      <td>20833</td>\n",
              "      <td>6667.0</td>\n",
              "      <td>480.0</td>\n",
              "      <td>360.0</td>\n",
              "      <td>NaN</td>\n",
              "      <td>Urban</td>\n",
              "      <td>Y</td>\n",
              "    </tr>\n",
              "    <tr>\n",
              "      <th>530</th>\n",
              "      <td>LP002717</td>\n",
              "      <td>Male</td>\n",
              "      <td>Yes</td>\n",
              "      <td>0</td>\n",
              "      <td>Graduate</td>\n",
              "      <td>No</td>\n",
              "      <td>1025</td>\n",
              "      <td>5500.0</td>\n",
              "      <td>216.0</td>\n",
              "      <td>360.0</td>\n",
              "      <td>NaN</td>\n",
              "      <td>Rural</td>\n",
              "      <td>Y</td>\n",
              "    </tr>\n",
              "    <tr>\n",
              "      <th>533</th>\n",
              "      <td>LP002729</td>\n",
              "      <td>Male</td>\n",
              "      <td>No</td>\n",
              "      <td>1</td>\n",
              "      <td>Graduate</td>\n",
              "      <td>No</td>\n",
              "      <td>11250</td>\n",
              "      <td>0.0</td>\n",
              "      <td>196.0</td>\n",
              "      <td>360.0</td>\n",
              "      <td>NaN</td>\n",
              "      <td>Semiurban</td>\n",
              "      <td>N</td>\n",
              "    </tr>\n",
              "    <tr>\n",
              "      <th>544</th>\n",
              "      <td>LP002757</td>\n",
              "      <td>Female</td>\n",
              "      <td>Yes</td>\n",
              "      <td>0</td>\n",
              "      <td>Not Graduate</td>\n",
              "      <td>No</td>\n",
              "      <td>3017</td>\n",
              "      <td>663.0</td>\n",
              "      <td>102.0</td>\n",
              "      <td>360.0</td>\n",
              "      <td>NaN</td>\n",
              "      <td>Semiurban</td>\n",
              "      <td>Y</td>\n",
              "    </tr>\n",
              "    <tr>\n",
              "      <th>556</th>\n",
              "      <td>LP002794</td>\n",
              "      <td>Female</td>\n",
              "      <td>No</td>\n",
              "      <td>0</td>\n",
              "      <td>Graduate</td>\n",
              "      <td>No</td>\n",
              "      <td>2667</td>\n",
              "      <td>1625.0</td>\n",
              "      <td>84.0</td>\n",
              "      <td>360.0</td>\n",
              "      <td>NaN</td>\n",
              "      <td>Urban</td>\n",
              "      <td>Y</td>\n",
              "    </tr>\n",
              "    <tr>\n",
              "      <th>565</th>\n",
              "      <td>LP002833</td>\n",
              "      <td>Male</td>\n",
              "      <td>Yes</td>\n",
              "      <td>0</td>\n",
              "      <td>Not Graduate</td>\n",
              "      <td>No</td>\n",
              "      <td>4467</td>\n",
              "      <td>0.0</td>\n",
              "      <td>120.0</td>\n",
              "      <td>360.0</td>\n",
              "      <td>NaN</td>\n",
              "      <td>Rural</td>\n",
              "      <td>Y</td>\n",
              "    </tr>\n",
              "    <tr>\n",
              "      <th>583</th>\n",
              "      <td>LP002898</td>\n",
              "      <td>Male</td>\n",
              "      <td>Yes</td>\n",
              "      <td>1</td>\n",
              "      <td>Graduate</td>\n",
              "      <td>No</td>\n",
              "      <td>1880</td>\n",
              "      <td>0.0</td>\n",
              "      <td>61.0</td>\n",
              "      <td>360.0</td>\n",
              "      <td>NaN</td>\n",
              "      <td>Rural</td>\n",
              "      <td>N</td>\n",
              "    </tr>\n",
              "    <tr>\n",
              "      <th>600</th>\n",
              "      <td>LP002949</td>\n",
              "      <td>Female</td>\n",
              "      <td>No</td>\n",
              "      <td>3+</td>\n",
              "      <td>Graduate</td>\n",
              "      <td>NaN</td>\n",
              "      <td>416</td>\n",
              "      <td>41667.0</td>\n",
              "      <td>350.0</td>\n",
              "      <td>180.0</td>\n",
              "      <td>NaN</td>\n",
              "      <td>Urban</td>\n",
              "      <td>N</td>\n",
              "    </tr>\n",
              "  </tbody>\n",
              "</table>\n",
              "</div>\n",
              "      <button class=\"colab-df-convert\" onclick=\"convertToInteractive('df-b8b62a07-ce2d-4e99-bd5b-056eada46647')\"\n",
              "              title=\"Convert this dataframe to an interactive table.\"\n",
              "              style=\"display:none;\">\n",
              "        \n",
              "  <svg xmlns=\"http://www.w3.org/2000/svg\" height=\"24px\"viewBox=\"0 0 24 24\"\n",
              "       width=\"24px\">\n",
              "    <path d=\"M0 0h24v24H0V0z\" fill=\"none\"/>\n",
              "    <path d=\"M18.56 5.44l.94 2.06.94-2.06 2.06-.94-2.06-.94-.94-2.06-.94 2.06-2.06.94zm-11 1L8.5 8.5l.94-2.06 2.06-.94-2.06-.94L8.5 2.5l-.94 2.06-2.06.94zm10 10l.94 2.06.94-2.06 2.06-.94-2.06-.94-.94-2.06-.94 2.06-2.06.94z\"/><path d=\"M17.41 7.96l-1.37-1.37c-.4-.4-.92-.59-1.43-.59-.52 0-1.04.2-1.43.59L10.3 9.45l-7.72 7.72c-.78.78-.78 2.05 0 2.83L4 21.41c.39.39.9.59 1.41.59.51 0 1.02-.2 1.41-.59l7.78-7.78 2.81-2.81c.8-.78.8-2.07 0-2.86zM5.41 20L4 18.59l7.72-7.72 1.47 1.35L5.41 20z\"/>\n",
              "  </svg>\n",
              "      </button>\n",
              "      \n",
              "  <style>\n",
              "    .colab-df-container {\n",
              "      display:flex;\n",
              "      flex-wrap:wrap;\n",
              "      gap: 12px;\n",
              "    }\n",
              "\n",
              "    .colab-df-convert {\n",
              "      background-color: #E8F0FE;\n",
              "      border: none;\n",
              "      border-radius: 50%;\n",
              "      cursor: pointer;\n",
              "      display: none;\n",
              "      fill: #1967D2;\n",
              "      height: 32px;\n",
              "      padding: 0 0 0 0;\n",
              "      width: 32px;\n",
              "    }\n",
              "\n",
              "    .colab-df-convert:hover {\n",
              "      background-color: #E2EBFA;\n",
              "      box-shadow: 0px 1px 2px rgba(60, 64, 67, 0.3), 0px 1px 3px 1px rgba(60, 64, 67, 0.15);\n",
              "      fill: #174EA6;\n",
              "    }\n",
              "\n",
              "    [theme=dark] .colab-df-convert {\n",
              "      background-color: #3B4455;\n",
              "      fill: #D2E3FC;\n",
              "    }\n",
              "\n",
              "    [theme=dark] .colab-df-convert:hover {\n",
              "      background-color: #434B5C;\n",
              "      box-shadow: 0px 1px 3px 1px rgba(0, 0, 0, 0.15);\n",
              "      filter: drop-shadow(0px 1px 2px rgba(0, 0, 0, 0.3));\n",
              "      fill: #FFFFFF;\n",
              "    }\n",
              "  </style>\n",
              "\n",
              "      <script>\n",
              "        const buttonEl =\n",
              "          document.querySelector('#df-b8b62a07-ce2d-4e99-bd5b-056eada46647 button.colab-df-convert');\n",
              "        buttonEl.style.display =\n",
              "          google.colab.kernel.accessAllowed ? 'block' : 'none';\n",
              "\n",
              "        async function convertToInteractive(key) {\n",
              "          const element = document.querySelector('#df-b8b62a07-ce2d-4e99-bd5b-056eada46647');\n",
              "          const dataTable =\n",
              "            await google.colab.kernel.invokeFunction('convertToInteractive',\n",
              "                                                     [key], {});\n",
              "          if (!dataTable) return;\n",
              "\n",
              "          const docLinkHtml = 'Like what you see? Visit the ' +\n",
              "            '<a target=\"_blank\" href=https://colab.research.google.com/notebooks/data_table.ipynb>data table notebook</a>'\n",
              "            + ' to learn more about interactive tables.';\n",
              "          element.innerHTML = '';\n",
              "          dataTable['output_type'] = 'display_data';\n",
              "          await google.colab.output.renderOutput(dataTable, element);\n",
              "          const docLink = document.createElement('div');\n",
              "          docLink.innerHTML = docLinkHtml;\n",
              "          element.appendChild(docLink);\n",
              "        }\n",
              "      </script>\n",
              "    </div>\n",
              "  </div>\n",
              "  "
            ],
            "text/plain": [
              "      Loan_ID  Gender Married  ... Credit_History Property_Area Loan_Status\n",
              "16   LP001034    Male      No  ...            NaN         Urban           Y\n",
              "24   LP001052    Male     Yes  ...            NaN     Semiurban           N\n",
              "30   LP001091    Male     Yes  ...            NaN         Urban           N\n",
              "42   LP001123    Male     Yes  ...            NaN         Urban           Y\n",
              "79   LP001264    Male     Yes  ...            NaN     Semiurban           Y\n",
              "83   LP001273    Male     Yes  ...            NaN     Semiurban           N\n",
              "86   LP001280    Male     Yes  ...            NaN     Semiurban           Y\n",
              "95   LP001326    Male      No  ...            NaN         Urban           N\n",
              "117  LP001405    Male     Yes  ...            NaN         Urban           Y\n",
              "125  LP001443  Female      No  ...            NaN         Rural           Y\n",
              "129  LP001465    Male     Yes  ...            NaN         Rural           N\n",
              "130  LP001469    Male      No  ...            NaN         Urban           Y\n",
              "156  LP001541    Male     Yes  ...            NaN         Rural           Y\n",
              "181  LP001634    Male      No  ...            NaN         Rural           N\n",
              "187  LP001643    Male     Yes  ...            NaN         Rural           Y\n",
              "198  LP001671  Female     Yes  ...            NaN     Semiurban           Y\n",
              "219  LP001734  Female     Yes  ...            NaN     Semiurban           Y\n",
              "236  LP001786    Male     Yes  ...            NaN         Urban           N\n",
              "237  LP001788  Female      No  ...            NaN         Urban           Y\n",
              "259  LP001864    Male     Yes  ...            NaN     Semiurban           N\n",
              "260  LP001865    Male     Yes  ...            NaN         Urban           Y\n",
              "279  LP001908  Female     Yes  ...            NaN         Rural           Y\n",
              "309  LP001998    Male     Yes  ...            NaN         Rural           Y\n",
              "313  LP002008    Male     Yes  ...            NaN         Rural           Y\n",
              "317  LP002036    Male     Yes  ...            NaN         Urban           Y\n",
              "318  LP002043  Female      No  ...            NaN     Semiurban           Y\n",
              "323  LP002055  Female      No  ...            NaN         Rural           Y\n",
              "348  LP002137    Male     Yes  ...            NaN     Semiurban           Y\n",
              "363  LP002178    Male     Yes  ...            NaN         Urban           Y\n",
              "377  LP002223    Male     Yes  ...            NaN     Semiurban           Y\n",
              "392  LP002263    Male     Yes  ...            NaN         Urban           Y\n",
              "395  LP002272    Male     Yes  ...            NaN     Semiurban           Y\n",
              "411  LP002319    Male     Yes  ...            NaN         Urban           Y\n",
              "444  LP002424    Male     Yes  ...            NaN         Rural           Y\n",
              "449  LP002444    Male      No  ...            NaN     Semiurban           N\n",
              "451  LP002447    Male     Yes  ...            NaN         Urban           Y\n",
              "460  LP002478     NaN     Yes  ...            NaN     Semiurban           Y\n",
              "473  LP002522  Female      No  ...            NaN         Urban           Y\n",
              "490  LP002560    Male      No  ...            NaN     Semiurban           Y\n",
              "491  LP002562    Male     Yes  ...            NaN         Urban           Y\n",
              "497  LP002588    Male     Yes  ...            NaN         Urban           Y\n",
              "503  LP002618    Male     Yes  ...            NaN         Rural           N\n",
              "506  LP002624    Male     Yes  ...            NaN         Urban           Y\n",
              "530  LP002717    Male     Yes  ...            NaN         Rural           Y\n",
              "533  LP002729    Male      No  ...            NaN     Semiurban           N\n",
              "544  LP002757  Female     Yes  ...            NaN     Semiurban           Y\n",
              "556  LP002794  Female      No  ...            NaN         Urban           Y\n",
              "565  LP002833    Male     Yes  ...            NaN         Rural           Y\n",
              "583  LP002898    Male     Yes  ...            NaN         Rural           N\n",
              "600  LP002949  Female      No  ...            NaN         Urban           N\n",
              "\n",
              "[50 rows x 13 columns]"
            ]
          },
          "metadata": {},
          "execution_count": 462
        }
      ]
    },
    {
      "cell_type": "code",
      "source": [
        "train['Credit_History'].value_counts()\n",
        "# there are more 1's compared to 0's. so substitute the NaN's with 1. "
      ],
      "metadata": {
        "colab": {
          "base_uri": "https://localhost:8080/"
        },
        "id": "CdRjzw-d_S9N",
        "outputId": "98217f86-ea29-4aa5-f692-09a79cab3c6f"
      },
      "execution_count": null,
      "outputs": [
        {
          "output_type": "execute_result",
          "data": {
            "text/plain": [
              "1.0    475\n",
              "0.0     89\n",
              "Name: Credit_History, dtype: int64"
            ]
          },
          "metadata": {},
          "execution_count": 463
        }
      ]
    },
    {
      "cell_type": "code",
      "source": [
        "train.Credit_History.fillna(1, inplace=True)"
      ],
      "metadata": {
        "id": "3lkIQf2KKJpg"
      },
      "execution_count": null,
      "outputs": []
    },
    {
      "cell_type": "code",
      "source": [
        "train['Credit_History'].value_counts()"
      ],
      "metadata": {
        "colab": {
          "base_uri": "https://localhost:8080/"
        },
        "id": "NTJX5pHOKfIY",
        "outputId": "a80f6c87-8b40-45e6-a6f8-c7393a6b0bd1"
      },
      "execution_count": null,
      "outputs": [
        {
          "output_type": "execute_result",
          "data": {
            "text/plain": [
              "1.0    525\n",
              "0.0     89\n",
              "Name: Credit_History, dtype: int64"
            ]
          },
          "metadata": {},
          "execution_count": 465
        }
      ]
    },
    {
      "cell_type": "code",
      "source": [
        "train.Credit_History.isnull().sum()"
      ],
      "metadata": {
        "colab": {
          "base_uri": "https://localhost:8080/"
        },
        "id": "POc-V27fKmzV",
        "outputId": "35e5ce8b-268d-4f94-ec5f-ac7bd842e1a1"
      },
      "execution_count": null,
      "outputs": [
        {
          "output_type": "execute_result",
          "data": {
            "text/plain": [
              "0"
            ]
          },
          "metadata": {},
          "execution_count": 466
        }
      ]
    },
    {
      "cell_type": "code",
      "source": [
        "test.Credit_History.fillna(1, inplace=True)"
      ],
      "metadata": {
        "id": "On0n3PZlA1gm"
      },
      "execution_count": null,
      "outputs": []
    },
    {
      "cell_type": "code",
      "source": [
        "test.Credit_History.isnull().sum()"
      ],
      "metadata": {
        "colab": {
          "base_uri": "https://localhost:8080/"
        },
        "id": "_GTpoHn0K6s9",
        "outputId": "f9af3bcd-2328-47b2-fee5-dc6d90cba3d2"
      },
      "execution_count": null,
      "outputs": [
        {
          "output_type": "execute_result",
          "data": {
            "text/plain": [
              "0"
            ]
          },
          "metadata": {},
          "execution_count": 468
        }
      ]
    },
    {
      "cell_type": "markdown",
      "source": [
        "###**Self_Employed NaN values imputation**"
      ],
      "metadata": {
        "id": "kk8FvuaEPd1E"
      }
    },
    {
      "cell_type": "code",
      "source": [
        "train['Self_Employed'].value_counts()\n",
        "# can substitute by 'No'"
      ],
      "metadata": {
        "colab": {
          "base_uri": "https://localhost:8080/"
        },
        "id": "IpB7NbtNDWLE",
        "outputId": "a15ab7bf-111e-4dba-a55d-7cfdeb163744"
      },
      "execution_count": null,
      "outputs": [
        {
          "output_type": "execute_result",
          "data": {
            "text/plain": [
              "No     500\n",
              "Yes     82\n",
              "Name: Self_Employed, dtype: int64"
            ]
          },
          "metadata": {},
          "execution_count": 469
        }
      ]
    },
    {
      "cell_type": "code",
      "source": [
        "train.Self_Employed.fillna('No', inplace=True)\n",
        "train['Self_Employed'].value_counts()"
      ],
      "metadata": {
        "colab": {
          "base_uri": "https://localhost:8080/"
        },
        "id": "5KXgd0pjLOfl",
        "outputId": "5e18506a-f596-41d7-a9e9-636585a1e42d"
      },
      "execution_count": null,
      "outputs": [
        {
          "output_type": "execute_result",
          "data": {
            "text/plain": [
              "No     532\n",
              "Yes     82\n",
              "Name: Self_Employed, dtype: int64"
            ]
          },
          "metadata": {},
          "execution_count": 470
        }
      ]
    },
    {
      "cell_type": "code",
      "source": [
        "train.Self_Employed.isnull().sum()"
      ],
      "metadata": {
        "colab": {
          "base_uri": "https://localhost:8080/"
        },
        "id": "sg6z7QQEN4gw",
        "outputId": "c80f8515-c75c-477f-d8c1-82c14e848a29"
      },
      "execution_count": null,
      "outputs": [
        {
          "output_type": "execute_result",
          "data": {
            "text/plain": [
              "0"
            ]
          },
          "metadata": {},
          "execution_count": 471
        }
      ]
    },
    {
      "cell_type": "code",
      "source": [
        "test['Self_Employed'].value_counts()"
      ],
      "metadata": {
        "colab": {
          "base_uri": "https://localhost:8080/"
        },
        "id": "GtM3Sia1DZ4-",
        "outputId": "5421e1c4-8757-443a-ee02-015e9868665d"
      },
      "execution_count": null,
      "outputs": [
        {
          "output_type": "execute_result",
          "data": {
            "text/plain": [
              "No     307\n",
              "Yes     37\n",
              "Name: Self_Employed, dtype: int64"
            ]
          },
          "metadata": {},
          "execution_count": 472
        }
      ]
    },
    {
      "cell_type": "code",
      "source": [
        "test.Self_Employed.fillna('No', inplace=True)\n",
        "test['Self_Employed'].value_counts()"
      ],
      "metadata": {
        "id": "BcSAUsZXPUFq",
        "colab": {
          "base_uri": "https://localhost:8080/"
        },
        "outputId": "c9f30285-6b16-4b1a-cfbe-4402c2944d90"
      },
      "execution_count": null,
      "outputs": [
        {
          "output_type": "execute_result",
          "data": {
            "text/plain": [
              "No     330\n",
              "Yes     37\n",
              "Name: Self_Employed, dtype: int64"
            ]
          },
          "metadata": {},
          "execution_count": 473
        }
      ]
    },
    {
      "cell_type": "code",
      "source": [
        "test.Self_Employed.isnull().sum()"
      ],
      "metadata": {
        "colab": {
          "base_uri": "https://localhost:8080/"
        },
        "id": "ECifdCgcN-P2",
        "outputId": "77472f5a-0d0a-4b62-f49f-65f3c2e7c6a5"
      },
      "execution_count": null,
      "outputs": [
        {
          "output_type": "execute_result",
          "data": {
            "text/plain": [
              "0"
            ]
          },
          "metadata": {},
          "execution_count": 474
        }
      ]
    },
    {
      "cell_type": "markdown",
      "source": [
        "###**LoanAmount NaN values imputation**"
      ],
      "metadata": {
        "id": "pqNqBassOFpW"
      }
    },
    {
      "cell_type": "code",
      "source": [
        "train[train['LoanAmount'].isnull()]"
      ],
      "metadata": {
        "id": "NupPH5HCOEot",
        "colab": {
          "base_uri": "https://localhost:8080/",
          "height": 924
        },
        "outputId": "feae71d0-b488-478c-e000-b98868f60ff8"
      },
      "execution_count": null,
      "outputs": [
        {
          "output_type": "execute_result",
          "data": {
            "text/html": [
              "\n",
              "  <div id=\"df-bb604f4c-0632-4803-a9ac-0e382fb55454\">\n",
              "    <div class=\"colab-df-container\">\n",
              "      <div>\n",
              "<style scoped>\n",
              "    .dataframe tbody tr th:only-of-type {\n",
              "        vertical-align: middle;\n",
              "    }\n",
              "\n",
              "    .dataframe tbody tr th {\n",
              "        vertical-align: top;\n",
              "    }\n",
              "\n",
              "    .dataframe thead th {\n",
              "        text-align: right;\n",
              "    }\n",
              "</style>\n",
              "<table border=\"1\" class=\"dataframe\">\n",
              "  <thead>\n",
              "    <tr style=\"text-align: right;\">\n",
              "      <th></th>\n",
              "      <th>Loan_ID</th>\n",
              "      <th>Gender</th>\n",
              "      <th>Married</th>\n",
              "      <th>Dependents</th>\n",
              "      <th>Education</th>\n",
              "      <th>Self_Employed</th>\n",
              "      <th>ApplicantIncome</th>\n",
              "      <th>CoapplicantIncome</th>\n",
              "      <th>LoanAmount</th>\n",
              "      <th>Loan_Amount_Term</th>\n",
              "      <th>Credit_History</th>\n",
              "      <th>Property_Area</th>\n",
              "      <th>Loan_Status</th>\n",
              "    </tr>\n",
              "  </thead>\n",
              "  <tbody>\n",
              "    <tr>\n",
              "      <th>0</th>\n",
              "      <td>LP001002</td>\n",
              "      <td>Male</td>\n",
              "      <td>No</td>\n",
              "      <td>0</td>\n",
              "      <td>Graduate</td>\n",
              "      <td>No</td>\n",
              "      <td>5849</td>\n",
              "      <td>0.0</td>\n",
              "      <td>NaN</td>\n",
              "      <td>360.0</td>\n",
              "      <td>1.0</td>\n",
              "      <td>Urban</td>\n",
              "      <td>Y</td>\n",
              "    </tr>\n",
              "    <tr>\n",
              "      <th>35</th>\n",
              "      <td>LP001106</td>\n",
              "      <td>Male</td>\n",
              "      <td>Yes</td>\n",
              "      <td>0</td>\n",
              "      <td>Graduate</td>\n",
              "      <td>No</td>\n",
              "      <td>2275</td>\n",
              "      <td>2067.0</td>\n",
              "      <td>NaN</td>\n",
              "      <td>360.0</td>\n",
              "      <td>1.0</td>\n",
              "      <td>Urban</td>\n",
              "      <td>Y</td>\n",
              "    </tr>\n",
              "    <tr>\n",
              "      <th>63</th>\n",
              "      <td>LP001213</td>\n",
              "      <td>Male</td>\n",
              "      <td>Yes</td>\n",
              "      <td>1</td>\n",
              "      <td>Graduate</td>\n",
              "      <td>No</td>\n",
              "      <td>4945</td>\n",
              "      <td>0.0</td>\n",
              "      <td>NaN</td>\n",
              "      <td>360.0</td>\n",
              "      <td>0.0</td>\n",
              "      <td>Rural</td>\n",
              "      <td>N</td>\n",
              "    </tr>\n",
              "    <tr>\n",
              "      <th>81</th>\n",
              "      <td>LP001266</td>\n",
              "      <td>Male</td>\n",
              "      <td>Yes</td>\n",
              "      <td>1</td>\n",
              "      <td>Graduate</td>\n",
              "      <td>Yes</td>\n",
              "      <td>2395</td>\n",
              "      <td>0.0</td>\n",
              "      <td>NaN</td>\n",
              "      <td>360.0</td>\n",
              "      <td>1.0</td>\n",
              "      <td>Semiurban</td>\n",
              "      <td>Y</td>\n",
              "    </tr>\n",
              "    <tr>\n",
              "      <th>95</th>\n",
              "      <td>LP001326</td>\n",
              "      <td>Male</td>\n",
              "      <td>No</td>\n",
              "      <td>0</td>\n",
              "      <td>Graduate</td>\n",
              "      <td>No</td>\n",
              "      <td>6782</td>\n",
              "      <td>0.0</td>\n",
              "      <td>NaN</td>\n",
              "      <td>360.0</td>\n",
              "      <td>1.0</td>\n",
              "      <td>Urban</td>\n",
              "      <td>N</td>\n",
              "    </tr>\n",
              "    <tr>\n",
              "      <th>102</th>\n",
              "      <td>LP001350</td>\n",
              "      <td>Male</td>\n",
              "      <td>Yes</td>\n",
              "      <td>NaN</td>\n",
              "      <td>Graduate</td>\n",
              "      <td>No</td>\n",
              "      <td>13650</td>\n",
              "      <td>0.0</td>\n",
              "      <td>NaN</td>\n",
              "      <td>360.0</td>\n",
              "      <td>1.0</td>\n",
              "      <td>Urban</td>\n",
              "      <td>Y</td>\n",
              "    </tr>\n",
              "    <tr>\n",
              "      <th>103</th>\n",
              "      <td>LP001356</td>\n",
              "      <td>Male</td>\n",
              "      <td>Yes</td>\n",
              "      <td>0</td>\n",
              "      <td>Graduate</td>\n",
              "      <td>No</td>\n",
              "      <td>4652</td>\n",
              "      <td>3583.0</td>\n",
              "      <td>NaN</td>\n",
              "      <td>360.0</td>\n",
              "      <td>1.0</td>\n",
              "      <td>Semiurban</td>\n",
              "      <td>Y</td>\n",
              "    </tr>\n",
              "    <tr>\n",
              "      <th>113</th>\n",
              "      <td>LP001392</td>\n",
              "      <td>Female</td>\n",
              "      <td>No</td>\n",
              "      <td>1</td>\n",
              "      <td>Graduate</td>\n",
              "      <td>Yes</td>\n",
              "      <td>7451</td>\n",
              "      <td>0.0</td>\n",
              "      <td>NaN</td>\n",
              "      <td>360.0</td>\n",
              "      <td>1.0</td>\n",
              "      <td>Semiurban</td>\n",
              "      <td>Y</td>\n",
              "    </tr>\n",
              "    <tr>\n",
              "      <th>127</th>\n",
              "      <td>LP001449</td>\n",
              "      <td>Male</td>\n",
              "      <td>No</td>\n",
              "      <td>0</td>\n",
              "      <td>Graduate</td>\n",
              "      <td>No</td>\n",
              "      <td>3865</td>\n",
              "      <td>1640.0</td>\n",
              "      <td>NaN</td>\n",
              "      <td>360.0</td>\n",
              "      <td>1.0</td>\n",
              "      <td>Rural</td>\n",
              "      <td>Y</td>\n",
              "    </tr>\n",
              "    <tr>\n",
              "      <th>202</th>\n",
              "      <td>LP001682</td>\n",
              "      <td>Male</td>\n",
              "      <td>Yes</td>\n",
              "      <td>3+</td>\n",
              "      <td>Not Graduate</td>\n",
              "      <td>No</td>\n",
              "      <td>3992</td>\n",
              "      <td>0.0</td>\n",
              "      <td>NaN</td>\n",
              "      <td>180.0</td>\n",
              "      <td>1.0</td>\n",
              "      <td>Urban</td>\n",
              "      <td>N</td>\n",
              "    </tr>\n",
              "    <tr>\n",
              "      <th>284</th>\n",
              "      <td>LP001922</td>\n",
              "      <td>Male</td>\n",
              "      <td>Yes</td>\n",
              "      <td>0</td>\n",
              "      <td>Graduate</td>\n",
              "      <td>No</td>\n",
              "      <td>20667</td>\n",
              "      <td>0.0</td>\n",
              "      <td>NaN</td>\n",
              "      <td>360.0</td>\n",
              "      <td>1.0</td>\n",
              "      <td>Rural</td>\n",
              "      <td>N</td>\n",
              "    </tr>\n",
              "    <tr>\n",
              "      <th>305</th>\n",
              "      <td>LP001990</td>\n",
              "      <td>Male</td>\n",
              "      <td>No</td>\n",
              "      <td>0</td>\n",
              "      <td>Not Graduate</td>\n",
              "      <td>No</td>\n",
              "      <td>2000</td>\n",
              "      <td>0.0</td>\n",
              "      <td>NaN</td>\n",
              "      <td>360.0</td>\n",
              "      <td>1.0</td>\n",
              "      <td>Urban</td>\n",
              "      <td>N</td>\n",
              "    </tr>\n",
              "    <tr>\n",
              "      <th>322</th>\n",
              "      <td>LP002054</td>\n",
              "      <td>Male</td>\n",
              "      <td>Yes</td>\n",
              "      <td>2</td>\n",
              "      <td>Not Graduate</td>\n",
              "      <td>No</td>\n",
              "      <td>3601</td>\n",
              "      <td>1590.0</td>\n",
              "      <td>NaN</td>\n",
              "      <td>360.0</td>\n",
              "      <td>1.0</td>\n",
              "      <td>Rural</td>\n",
              "      <td>Y</td>\n",
              "    </tr>\n",
              "    <tr>\n",
              "      <th>338</th>\n",
              "      <td>LP002113</td>\n",
              "      <td>Female</td>\n",
              "      <td>No</td>\n",
              "      <td>3+</td>\n",
              "      <td>Not Graduate</td>\n",
              "      <td>No</td>\n",
              "      <td>1830</td>\n",
              "      <td>0.0</td>\n",
              "      <td>NaN</td>\n",
              "      <td>360.0</td>\n",
              "      <td>0.0</td>\n",
              "      <td>Urban</td>\n",
              "      <td>N</td>\n",
              "    </tr>\n",
              "    <tr>\n",
              "      <th>387</th>\n",
              "      <td>LP002243</td>\n",
              "      <td>Male</td>\n",
              "      <td>Yes</td>\n",
              "      <td>0</td>\n",
              "      <td>Not Graduate</td>\n",
              "      <td>No</td>\n",
              "      <td>3010</td>\n",
              "      <td>3136.0</td>\n",
              "      <td>NaN</td>\n",
              "      <td>360.0</td>\n",
              "      <td>0.0</td>\n",
              "      <td>Urban</td>\n",
              "      <td>N</td>\n",
              "    </tr>\n",
              "    <tr>\n",
              "      <th>435</th>\n",
              "      <td>LP002393</td>\n",
              "      <td>Female</td>\n",
              "      <td>NaN</td>\n",
              "      <td>NaN</td>\n",
              "      <td>Graduate</td>\n",
              "      <td>No</td>\n",
              "      <td>10047</td>\n",
              "      <td>0.0</td>\n",
              "      <td>NaN</td>\n",
              "      <td>240.0</td>\n",
              "      <td>1.0</td>\n",
              "      <td>Semiurban</td>\n",
              "      <td>Y</td>\n",
              "    </tr>\n",
              "    <tr>\n",
              "      <th>437</th>\n",
              "      <td>LP002401</td>\n",
              "      <td>Male</td>\n",
              "      <td>Yes</td>\n",
              "      <td>0</td>\n",
              "      <td>Graduate</td>\n",
              "      <td>No</td>\n",
              "      <td>2213</td>\n",
              "      <td>1125.0</td>\n",
              "      <td>NaN</td>\n",
              "      <td>360.0</td>\n",
              "      <td>1.0</td>\n",
              "      <td>Urban</td>\n",
              "      <td>Y</td>\n",
              "    </tr>\n",
              "    <tr>\n",
              "      <th>479</th>\n",
              "      <td>LP002533</td>\n",
              "      <td>Male</td>\n",
              "      <td>Yes</td>\n",
              "      <td>2</td>\n",
              "      <td>Graduate</td>\n",
              "      <td>No</td>\n",
              "      <td>2947</td>\n",
              "      <td>1603.0</td>\n",
              "      <td>NaN</td>\n",
              "      <td>360.0</td>\n",
              "      <td>1.0</td>\n",
              "      <td>Urban</td>\n",
              "      <td>N</td>\n",
              "    </tr>\n",
              "    <tr>\n",
              "      <th>524</th>\n",
              "      <td>LP002697</td>\n",
              "      <td>Male</td>\n",
              "      <td>No</td>\n",
              "      <td>0</td>\n",
              "      <td>Graduate</td>\n",
              "      <td>No</td>\n",
              "      <td>4680</td>\n",
              "      <td>2087.0</td>\n",
              "      <td>NaN</td>\n",
              "      <td>360.0</td>\n",
              "      <td>1.0</td>\n",
              "      <td>Semiurban</td>\n",
              "      <td>N</td>\n",
              "    </tr>\n",
              "    <tr>\n",
              "      <th>550</th>\n",
              "      <td>LP002778</td>\n",
              "      <td>Male</td>\n",
              "      <td>Yes</td>\n",
              "      <td>2</td>\n",
              "      <td>Graduate</td>\n",
              "      <td>Yes</td>\n",
              "      <td>6633</td>\n",
              "      <td>0.0</td>\n",
              "      <td>NaN</td>\n",
              "      <td>360.0</td>\n",
              "      <td>0.0</td>\n",
              "      <td>Rural</td>\n",
              "      <td>N</td>\n",
              "    </tr>\n",
              "    <tr>\n",
              "      <th>551</th>\n",
              "      <td>LP002784</td>\n",
              "      <td>Male</td>\n",
              "      <td>Yes</td>\n",
              "      <td>1</td>\n",
              "      <td>Not Graduate</td>\n",
              "      <td>No</td>\n",
              "      <td>2492</td>\n",
              "      <td>2375.0</td>\n",
              "      <td>NaN</td>\n",
              "      <td>360.0</td>\n",
              "      <td>1.0</td>\n",
              "      <td>Rural</td>\n",
              "      <td>Y</td>\n",
              "    </tr>\n",
              "    <tr>\n",
              "      <th>605</th>\n",
              "      <td>LP002960</td>\n",
              "      <td>Male</td>\n",
              "      <td>Yes</td>\n",
              "      <td>0</td>\n",
              "      <td>Not Graduate</td>\n",
              "      <td>No</td>\n",
              "      <td>2400</td>\n",
              "      <td>3800.0</td>\n",
              "      <td>NaN</td>\n",
              "      <td>180.0</td>\n",
              "      <td>1.0</td>\n",
              "      <td>Urban</td>\n",
              "      <td>N</td>\n",
              "    </tr>\n",
              "  </tbody>\n",
              "</table>\n",
              "</div>\n",
              "      <button class=\"colab-df-convert\" onclick=\"convertToInteractive('df-bb604f4c-0632-4803-a9ac-0e382fb55454')\"\n",
              "              title=\"Convert this dataframe to an interactive table.\"\n",
              "              style=\"display:none;\">\n",
              "        \n",
              "  <svg xmlns=\"http://www.w3.org/2000/svg\" height=\"24px\"viewBox=\"0 0 24 24\"\n",
              "       width=\"24px\">\n",
              "    <path d=\"M0 0h24v24H0V0z\" fill=\"none\"/>\n",
              "    <path d=\"M18.56 5.44l.94 2.06.94-2.06 2.06-.94-2.06-.94-.94-2.06-.94 2.06-2.06.94zm-11 1L8.5 8.5l.94-2.06 2.06-.94-2.06-.94L8.5 2.5l-.94 2.06-2.06.94zm10 10l.94 2.06.94-2.06 2.06-.94-2.06-.94-.94-2.06-.94 2.06-2.06.94z\"/><path d=\"M17.41 7.96l-1.37-1.37c-.4-.4-.92-.59-1.43-.59-.52 0-1.04.2-1.43.59L10.3 9.45l-7.72 7.72c-.78.78-.78 2.05 0 2.83L4 21.41c.39.39.9.59 1.41.59.51 0 1.02-.2 1.41-.59l7.78-7.78 2.81-2.81c.8-.78.8-2.07 0-2.86zM5.41 20L4 18.59l7.72-7.72 1.47 1.35L5.41 20z\"/>\n",
              "  </svg>\n",
              "      </button>\n",
              "      \n",
              "  <style>\n",
              "    .colab-df-container {\n",
              "      display:flex;\n",
              "      flex-wrap:wrap;\n",
              "      gap: 12px;\n",
              "    }\n",
              "\n",
              "    .colab-df-convert {\n",
              "      background-color: #E8F0FE;\n",
              "      border: none;\n",
              "      border-radius: 50%;\n",
              "      cursor: pointer;\n",
              "      display: none;\n",
              "      fill: #1967D2;\n",
              "      height: 32px;\n",
              "      padding: 0 0 0 0;\n",
              "      width: 32px;\n",
              "    }\n",
              "\n",
              "    .colab-df-convert:hover {\n",
              "      background-color: #E2EBFA;\n",
              "      box-shadow: 0px 1px 2px rgba(60, 64, 67, 0.3), 0px 1px 3px 1px rgba(60, 64, 67, 0.15);\n",
              "      fill: #174EA6;\n",
              "    }\n",
              "\n",
              "    [theme=dark] .colab-df-convert {\n",
              "      background-color: #3B4455;\n",
              "      fill: #D2E3FC;\n",
              "    }\n",
              "\n",
              "    [theme=dark] .colab-df-convert:hover {\n",
              "      background-color: #434B5C;\n",
              "      box-shadow: 0px 1px 3px 1px rgba(0, 0, 0, 0.15);\n",
              "      filter: drop-shadow(0px 1px 2px rgba(0, 0, 0, 0.3));\n",
              "      fill: #FFFFFF;\n",
              "    }\n",
              "  </style>\n",
              "\n",
              "      <script>\n",
              "        const buttonEl =\n",
              "          document.querySelector('#df-bb604f4c-0632-4803-a9ac-0e382fb55454 button.colab-df-convert');\n",
              "        buttonEl.style.display =\n",
              "          google.colab.kernel.accessAllowed ? 'block' : 'none';\n",
              "\n",
              "        async function convertToInteractive(key) {\n",
              "          const element = document.querySelector('#df-bb604f4c-0632-4803-a9ac-0e382fb55454');\n",
              "          const dataTable =\n",
              "            await google.colab.kernel.invokeFunction('convertToInteractive',\n",
              "                                                     [key], {});\n",
              "          if (!dataTable) return;\n",
              "\n",
              "          const docLinkHtml = 'Like what you see? Visit the ' +\n",
              "            '<a target=\"_blank\" href=https://colab.research.google.com/notebooks/data_table.ipynb>data table notebook</a>'\n",
              "            + ' to learn more about interactive tables.';\n",
              "          element.innerHTML = '';\n",
              "          dataTable['output_type'] = 'display_data';\n",
              "          await google.colab.output.renderOutput(dataTable, element);\n",
              "          const docLink = document.createElement('div');\n",
              "          docLink.innerHTML = docLinkHtml;\n",
              "          element.appendChild(docLink);\n",
              "        }\n",
              "      </script>\n",
              "    </div>\n",
              "  </div>\n",
              "  "
            ],
            "text/plain": [
              "      Loan_ID  Gender Married  ... Credit_History Property_Area Loan_Status\n",
              "0    LP001002    Male      No  ...            1.0         Urban           Y\n",
              "35   LP001106    Male     Yes  ...            1.0         Urban           Y\n",
              "63   LP001213    Male     Yes  ...            0.0         Rural           N\n",
              "81   LP001266    Male     Yes  ...            1.0     Semiurban           Y\n",
              "95   LP001326    Male      No  ...            1.0         Urban           N\n",
              "102  LP001350    Male     Yes  ...            1.0         Urban           Y\n",
              "103  LP001356    Male     Yes  ...            1.0     Semiurban           Y\n",
              "113  LP001392  Female      No  ...            1.0     Semiurban           Y\n",
              "127  LP001449    Male      No  ...            1.0         Rural           Y\n",
              "202  LP001682    Male     Yes  ...            1.0         Urban           N\n",
              "284  LP001922    Male     Yes  ...            1.0         Rural           N\n",
              "305  LP001990    Male      No  ...            1.0         Urban           N\n",
              "322  LP002054    Male     Yes  ...            1.0         Rural           Y\n",
              "338  LP002113  Female      No  ...            0.0         Urban           N\n",
              "387  LP002243    Male     Yes  ...            0.0         Urban           N\n",
              "435  LP002393  Female     NaN  ...            1.0     Semiurban           Y\n",
              "437  LP002401    Male     Yes  ...            1.0         Urban           Y\n",
              "479  LP002533    Male     Yes  ...            1.0         Urban           N\n",
              "524  LP002697    Male      No  ...            1.0     Semiurban           N\n",
              "550  LP002778    Male     Yes  ...            0.0         Rural           N\n",
              "551  LP002784    Male     Yes  ...            1.0         Rural           Y\n",
              "605  LP002960    Male     Yes  ...            1.0         Urban           N\n",
              "\n",
              "[22 rows x 13 columns]"
            ]
          },
          "metadata": {},
          "execution_count": 475
        }
      ]
    },
    {
      "cell_type": "code",
      "source": [
        "train.LoanAmount.mode()"
      ],
      "metadata": {
        "colab": {
          "base_uri": "https://localhost:8080/"
        },
        "id": "HQJa95WlOqnm",
        "outputId": "6e3d955d-11e1-4fc5-f923-42f25c566373"
      },
      "execution_count": null,
      "outputs": [
        {
          "output_type": "execute_result",
          "data": {
            "text/plain": [
              "0    120.0\n",
              "dtype: float64"
            ]
          },
          "metadata": {},
          "execution_count": 476
        }
      ]
    },
    {
      "cell_type": "code",
      "source": [
        "train.LoanAmount.mean()"
      ],
      "metadata": {
        "colab": {
          "base_uri": "https://localhost:8080/"
        },
        "id": "8J-tDkFJPOQI",
        "outputId": "70dcc9c3-fe07-408b-b633-8e7b0db19c7f"
      },
      "execution_count": null,
      "outputs": [
        {
          "output_type": "execute_result",
          "data": {
            "text/plain": [
              "146.41216216216216"
            ]
          },
          "metadata": {},
          "execution_count": 477
        }
      ]
    },
    {
      "cell_type": "code",
      "source": [
        "train.LoanAmount.median()"
      ],
      "metadata": {
        "colab": {
          "base_uri": "https://localhost:8080/"
        },
        "id": "HhdrR2sNZEgK",
        "outputId": "4dc51f7e-1e55-4cef-85f1-da0fa1a97e91"
      },
      "execution_count": null,
      "outputs": [
        {
          "output_type": "execute_result",
          "data": {
            "text/plain": [
              "128.0"
            ]
          },
          "metadata": {},
          "execution_count": 478
        }
      ]
    },
    {
      "cell_type": "markdown",
      "source": [
        "**LoanAmount has outliers (shown before). Therefore, it is suitable to use median for missing value imputation**"
      ],
      "metadata": {
        "id": "1f2hBkjvY_Yq"
      }
    },
    {
      "cell_type": "code",
      "source": [
        "train.LoanAmount.fillna(train.LoanAmount.median(), inplace=True)"
      ],
      "metadata": {
        "id": "RQA78StXQ8HM"
      },
      "execution_count": null,
      "outputs": []
    },
    {
      "cell_type": "code",
      "source": [
        "train.LoanAmount.isnull().sum()"
      ],
      "metadata": {
        "colab": {
          "base_uri": "https://localhost:8080/"
        },
        "id": "KrRhmzyVxdDg",
        "outputId": "1df63207-6d21-4552-aec2-54809b29ff3f"
      },
      "execution_count": null,
      "outputs": [
        {
          "output_type": "execute_result",
          "data": {
            "text/plain": [
              "0"
            ]
          },
          "metadata": {},
          "execution_count": 480
        }
      ]
    },
    {
      "cell_type": "code",
      "source": [
        "train.LoanAmount.value_counts()"
      ],
      "metadata": {
        "colab": {
          "base_uri": "https://localhost:8080/"
        },
        "id": "NKMSH6VqxrP0",
        "outputId": "c313079e-af6d-416b-c0f8-05c0c143ba47"
      },
      "execution_count": null,
      "outputs": [
        {
          "output_type": "execute_result",
          "data": {
            "text/plain": [
              "128.0    33\n",
              "120.0    20\n",
              "110.0    17\n",
              "100.0    15\n",
              "187.0    12\n",
              "         ..\n",
              "570.0     1\n",
              "300.0     1\n",
              "376.0     1\n",
              "117.0     1\n",
              "311.0     1\n",
              "Name: LoanAmount, Length: 203, dtype: int64"
            ]
          },
          "metadata": {},
          "execution_count": 481
        }
      ]
    },
    {
      "cell_type": "code",
      "source": [
        "test.LoanAmount.isnull().sum()"
      ],
      "metadata": {
        "colab": {
          "base_uri": "https://localhost:8080/"
        },
        "id": "7u1PuoK1ydMY",
        "outputId": "dd43d777-a95c-425c-b3f8-79cf0adfe991"
      },
      "execution_count": null,
      "outputs": [
        {
          "output_type": "execute_result",
          "data": {
            "text/plain": [
              "5"
            ]
          },
          "metadata": {},
          "execution_count": 482
        }
      ]
    },
    {
      "cell_type": "markdown",
      "source": [
        "**Impute the missing values of test set LoanAmount using the median of training LoanAmount**"
      ],
      "metadata": {
        "id": "bn86gGAtzcS-"
      }
    },
    {
      "cell_type": "code",
      "source": [
        "test.LoanAmount.fillna(train.LoanAmount.median(), inplace=True)"
      ],
      "metadata": {
        "id": "oz_dB6DHy26s"
      },
      "execution_count": null,
      "outputs": []
    },
    {
      "cell_type": "code",
      "source": [
        "test.LoanAmount.isnull().sum()"
      ],
      "metadata": {
        "colab": {
          "base_uri": "https://localhost:8080/"
        },
        "id": "kqukdzYNzLPB",
        "outputId": "9b8f73a3-7647-4c42-9eee-2097034c6d24"
      },
      "execution_count": null,
      "outputs": [
        {
          "output_type": "execute_result",
          "data": {
            "text/plain": [
              "0"
            ]
          },
          "metadata": {},
          "execution_count": 484
        }
      ]
    },
    {
      "cell_type": "markdown",
      "source": [
        "### Dependents NaN values imputation"
      ],
      "metadata": {
        "id": "tOTww31AyUQA"
      }
    },
    {
      "cell_type": "code",
      "source": [
        "train[train.Dependents.isnull()]"
      ],
      "metadata": {
        "colab": {
          "base_uri": "https://localhost:8080/",
          "height": 653
        },
        "id": "wvj2TfysybDh",
        "outputId": "95ce1808-bf33-44c2-b1ad-0f6ebfcee6d6"
      },
      "execution_count": null,
      "outputs": [
        {
          "output_type": "execute_result",
          "data": {
            "text/html": [
              "\n",
              "  <div id=\"df-8278147e-d3db-406b-a266-5b7d8a79c2f2\">\n",
              "    <div class=\"colab-df-container\">\n",
              "      <div>\n",
              "<style scoped>\n",
              "    .dataframe tbody tr th:only-of-type {\n",
              "        vertical-align: middle;\n",
              "    }\n",
              "\n",
              "    .dataframe tbody tr th {\n",
              "        vertical-align: top;\n",
              "    }\n",
              "\n",
              "    .dataframe thead th {\n",
              "        text-align: right;\n",
              "    }\n",
              "</style>\n",
              "<table border=\"1\" class=\"dataframe\">\n",
              "  <thead>\n",
              "    <tr style=\"text-align: right;\">\n",
              "      <th></th>\n",
              "      <th>Loan_ID</th>\n",
              "      <th>Gender</th>\n",
              "      <th>Married</th>\n",
              "      <th>Dependents</th>\n",
              "      <th>Education</th>\n",
              "      <th>Self_Employed</th>\n",
              "      <th>ApplicantIncome</th>\n",
              "      <th>CoapplicantIncome</th>\n",
              "      <th>LoanAmount</th>\n",
              "      <th>Loan_Amount_Term</th>\n",
              "      <th>Credit_History</th>\n",
              "      <th>Property_Area</th>\n",
              "      <th>Loan_Status</th>\n",
              "    </tr>\n",
              "  </thead>\n",
              "  <tbody>\n",
              "    <tr>\n",
              "      <th>102</th>\n",
              "      <td>LP001350</td>\n",
              "      <td>Male</td>\n",
              "      <td>Yes</td>\n",
              "      <td>NaN</td>\n",
              "      <td>Graduate</td>\n",
              "      <td>No</td>\n",
              "      <td>13650</td>\n",
              "      <td>0.0</td>\n",
              "      <td>128.0</td>\n",
              "      <td>360.0</td>\n",
              "      <td>1.0</td>\n",
              "      <td>Urban</td>\n",
              "      <td>Y</td>\n",
              "    </tr>\n",
              "    <tr>\n",
              "      <th>104</th>\n",
              "      <td>LP001357</td>\n",
              "      <td>Male</td>\n",
              "      <td>NaN</td>\n",
              "      <td>NaN</td>\n",
              "      <td>Graduate</td>\n",
              "      <td>No</td>\n",
              "      <td>3816</td>\n",
              "      <td>754.0</td>\n",
              "      <td>160.0</td>\n",
              "      <td>360.0</td>\n",
              "      <td>1.0</td>\n",
              "      <td>Urban</td>\n",
              "      <td>Y</td>\n",
              "    </tr>\n",
              "    <tr>\n",
              "      <th>120</th>\n",
              "      <td>LP001426</td>\n",
              "      <td>Male</td>\n",
              "      <td>Yes</td>\n",
              "      <td>NaN</td>\n",
              "      <td>Graduate</td>\n",
              "      <td>No</td>\n",
              "      <td>5667</td>\n",
              "      <td>2667.0</td>\n",
              "      <td>180.0</td>\n",
              "      <td>360.0</td>\n",
              "      <td>1.0</td>\n",
              "      <td>Rural</td>\n",
              "      <td>Y</td>\n",
              "    </tr>\n",
              "    <tr>\n",
              "      <th>226</th>\n",
              "      <td>LP001754</td>\n",
              "      <td>Male</td>\n",
              "      <td>Yes</td>\n",
              "      <td>NaN</td>\n",
              "      <td>Not Graduate</td>\n",
              "      <td>Yes</td>\n",
              "      <td>4735</td>\n",
              "      <td>0.0</td>\n",
              "      <td>138.0</td>\n",
              "      <td>360.0</td>\n",
              "      <td>1.0</td>\n",
              "      <td>Urban</td>\n",
              "      <td>N</td>\n",
              "    </tr>\n",
              "    <tr>\n",
              "      <th>228</th>\n",
              "      <td>LP001760</td>\n",
              "      <td>Male</td>\n",
              "      <td>NaN</td>\n",
              "      <td>NaN</td>\n",
              "      <td>Graduate</td>\n",
              "      <td>No</td>\n",
              "      <td>4758</td>\n",
              "      <td>0.0</td>\n",
              "      <td>158.0</td>\n",
              "      <td>480.0</td>\n",
              "      <td>1.0</td>\n",
              "      <td>Semiurban</td>\n",
              "      <td>Y</td>\n",
              "    </tr>\n",
              "    <tr>\n",
              "      <th>293</th>\n",
              "      <td>LP001945</td>\n",
              "      <td>Female</td>\n",
              "      <td>No</td>\n",
              "      <td>NaN</td>\n",
              "      <td>Graduate</td>\n",
              "      <td>No</td>\n",
              "      <td>5417</td>\n",
              "      <td>0.0</td>\n",
              "      <td>143.0</td>\n",
              "      <td>480.0</td>\n",
              "      <td>0.0</td>\n",
              "      <td>Urban</td>\n",
              "      <td>N</td>\n",
              "    </tr>\n",
              "    <tr>\n",
              "      <th>301</th>\n",
              "      <td>LP001972</td>\n",
              "      <td>Male</td>\n",
              "      <td>Yes</td>\n",
              "      <td>NaN</td>\n",
              "      <td>Not Graduate</td>\n",
              "      <td>No</td>\n",
              "      <td>2875</td>\n",
              "      <td>1750.0</td>\n",
              "      <td>105.0</td>\n",
              "      <td>360.0</td>\n",
              "      <td>1.0</td>\n",
              "      <td>Semiurban</td>\n",
              "      <td>Y</td>\n",
              "    </tr>\n",
              "    <tr>\n",
              "      <th>332</th>\n",
              "      <td>LP002100</td>\n",
              "      <td>Male</td>\n",
              "      <td>No</td>\n",
              "      <td>NaN</td>\n",
              "      <td>Graduate</td>\n",
              "      <td>No</td>\n",
              "      <td>2833</td>\n",
              "      <td>0.0</td>\n",
              "      <td>71.0</td>\n",
              "      <td>360.0</td>\n",
              "      <td>1.0</td>\n",
              "      <td>Urban</td>\n",
              "      <td>Y</td>\n",
              "    </tr>\n",
              "    <tr>\n",
              "      <th>335</th>\n",
              "      <td>LP002106</td>\n",
              "      <td>Male</td>\n",
              "      <td>Yes</td>\n",
              "      <td>NaN</td>\n",
              "      <td>Graduate</td>\n",
              "      <td>Yes</td>\n",
              "      <td>5503</td>\n",
              "      <td>4490.0</td>\n",
              "      <td>70.0</td>\n",
              "      <td>NaN</td>\n",
              "      <td>1.0</td>\n",
              "      <td>Semiurban</td>\n",
              "      <td>Y</td>\n",
              "    </tr>\n",
              "    <tr>\n",
              "      <th>346</th>\n",
              "      <td>LP002130</td>\n",
              "      <td>Male</td>\n",
              "      <td>Yes</td>\n",
              "      <td>NaN</td>\n",
              "      <td>Not Graduate</td>\n",
              "      <td>No</td>\n",
              "      <td>3523</td>\n",
              "      <td>3230.0</td>\n",
              "      <td>152.0</td>\n",
              "      <td>360.0</td>\n",
              "      <td>0.0</td>\n",
              "      <td>Rural</td>\n",
              "      <td>N</td>\n",
              "    </tr>\n",
              "    <tr>\n",
              "      <th>355</th>\n",
              "      <td>LP002144</td>\n",
              "      <td>Female</td>\n",
              "      <td>No</td>\n",
              "      <td>NaN</td>\n",
              "      <td>Graduate</td>\n",
              "      <td>No</td>\n",
              "      <td>3813</td>\n",
              "      <td>0.0</td>\n",
              "      <td>116.0</td>\n",
              "      <td>180.0</td>\n",
              "      <td>1.0</td>\n",
              "      <td>Urban</td>\n",
              "      <td>Y</td>\n",
              "    </tr>\n",
              "    <tr>\n",
              "      <th>435</th>\n",
              "      <td>LP002393</td>\n",
              "      <td>Female</td>\n",
              "      <td>NaN</td>\n",
              "      <td>NaN</td>\n",
              "      <td>Graduate</td>\n",
              "      <td>No</td>\n",
              "      <td>10047</td>\n",
              "      <td>0.0</td>\n",
              "      <td>128.0</td>\n",
              "      <td>240.0</td>\n",
              "      <td>1.0</td>\n",
              "      <td>Semiurban</td>\n",
              "      <td>Y</td>\n",
              "    </tr>\n",
              "    <tr>\n",
              "      <th>517</th>\n",
              "      <td>LP002682</td>\n",
              "      <td>Male</td>\n",
              "      <td>Yes</td>\n",
              "      <td>NaN</td>\n",
              "      <td>Not Graduate</td>\n",
              "      <td>No</td>\n",
              "      <td>3074</td>\n",
              "      <td>1800.0</td>\n",
              "      <td>123.0</td>\n",
              "      <td>360.0</td>\n",
              "      <td>0.0</td>\n",
              "      <td>Semiurban</td>\n",
              "      <td>N</td>\n",
              "    </tr>\n",
              "    <tr>\n",
              "      <th>571</th>\n",
              "      <td>LP002847</td>\n",
              "      <td>Male</td>\n",
              "      <td>Yes</td>\n",
              "      <td>NaN</td>\n",
              "      <td>Graduate</td>\n",
              "      <td>No</td>\n",
              "      <td>5116</td>\n",
              "      <td>1451.0</td>\n",
              "      <td>165.0</td>\n",
              "      <td>360.0</td>\n",
              "      <td>0.0</td>\n",
              "      <td>Urban</td>\n",
              "      <td>N</td>\n",
              "    </tr>\n",
              "    <tr>\n",
              "      <th>597</th>\n",
              "      <td>LP002943</td>\n",
              "      <td>Male</td>\n",
              "      <td>No</td>\n",
              "      <td>NaN</td>\n",
              "      <td>Graduate</td>\n",
              "      <td>No</td>\n",
              "      <td>2987</td>\n",
              "      <td>0.0</td>\n",
              "      <td>88.0</td>\n",
              "      <td>360.0</td>\n",
              "      <td>0.0</td>\n",
              "      <td>Semiurban</td>\n",
              "      <td>N</td>\n",
              "    </tr>\n",
              "  </tbody>\n",
              "</table>\n",
              "</div>\n",
              "      <button class=\"colab-df-convert\" onclick=\"convertToInteractive('df-8278147e-d3db-406b-a266-5b7d8a79c2f2')\"\n",
              "              title=\"Convert this dataframe to an interactive table.\"\n",
              "              style=\"display:none;\">\n",
              "        \n",
              "  <svg xmlns=\"http://www.w3.org/2000/svg\" height=\"24px\"viewBox=\"0 0 24 24\"\n",
              "       width=\"24px\">\n",
              "    <path d=\"M0 0h24v24H0V0z\" fill=\"none\"/>\n",
              "    <path d=\"M18.56 5.44l.94 2.06.94-2.06 2.06-.94-2.06-.94-.94-2.06-.94 2.06-2.06.94zm-11 1L8.5 8.5l.94-2.06 2.06-.94-2.06-.94L8.5 2.5l-.94 2.06-2.06.94zm10 10l.94 2.06.94-2.06 2.06-.94-2.06-.94-.94-2.06-.94 2.06-2.06.94z\"/><path d=\"M17.41 7.96l-1.37-1.37c-.4-.4-.92-.59-1.43-.59-.52 0-1.04.2-1.43.59L10.3 9.45l-7.72 7.72c-.78.78-.78 2.05 0 2.83L4 21.41c.39.39.9.59 1.41.59.51 0 1.02-.2 1.41-.59l7.78-7.78 2.81-2.81c.8-.78.8-2.07 0-2.86zM5.41 20L4 18.59l7.72-7.72 1.47 1.35L5.41 20z\"/>\n",
              "  </svg>\n",
              "      </button>\n",
              "      \n",
              "  <style>\n",
              "    .colab-df-container {\n",
              "      display:flex;\n",
              "      flex-wrap:wrap;\n",
              "      gap: 12px;\n",
              "    }\n",
              "\n",
              "    .colab-df-convert {\n",
              "      background-color: #E8F0FE;\n",
              "      border: none;\n",
              "      border-radius: 50%;\n",
              "      cursor: pointer;\n",
              "      display: none;\n",
              "      fill: #1967D2;\n",
              "      height: 32px;\n",
              "      padding: 0 0 0 0;\n",
              "      width: 32px;\n",
              "    }\n",
              "\n",
              "    .colab-df-convert:hover {\n",
              "      background-color: #E2EBFA;\n",
              "      box-shadow: 0px 1px 2px rgba(60, 64, 67, 0.3), 0px 1px 3px 1px rgba(60, 64, 67, 0.15);\n",
              "      fill: #174EA6;\n",
              "    }\n",
              "\n",
              "    [theme=dark] .colab-df-convert {\n",
              "      background-color: #3B4455;\n",
              "      fill: #D2E3FC;\n",
              "    }\n",
              "\n",
              "    [theme=dark] .colab-df-convert:hover {\n",
              "      background-color: #434B5C;\n",
              "      box-shadow: 0px 1px 3px 1px rgba(0, 0, 0, 0.15);\n",
              "      filter: drop-shadow(0px 1px 2px rgba(0, 0, 0, 0.3));\n",
              "      fill: #FFFFFF;\n",
              "    }\n",
              "  </style>\n",
              "\n",
              "      <script>\n",
              "        const buttonEl =\n",
              "          document.querySelector('#df-8278147e-d3db-406b-a266-5b7d8a79c2f2 button.colab-df-convert');\n",
              "        buttonEl.style.display =\n",
              "          google.colab.kernel.accessAllowed ? 'block' : 'none';\n",
              "\n",
              "        async function convertToInteractive(key) {\n",
              "          const element = document.querySelector('#df-8278147e-d3db-406b-a266-5b7d8a79c2f2');\n",
              "          const dataTable =\n",
              "            await google.colab.kernel.invokeFunction('convertToInteractive',\n",
              "                                                     [key], {});\n",
              "          if (!dataTable) return;\n",
              "\n",
              "          const docLinkHtml = 'Like what you see? Visit the ' +\n",
              "            '<a target=\"_blank\" href=https://colab.research.google.com/notebooks/data_table.ipynb>data table notebook</a>'\n",
              "            + ' to learn more about interactive tables.';\n",
              "          element.innerHTML = '';\n",
              "          dataTable['output_type'] = 'display_data';\n",
              "          await google.colab.output.renderOutput(dataTable, element);\n",
              "          const docLink = document.createElement('div');\n",
              "          docLink.innerHTML = docLinkHtml;\n",
              "          element.appendChild(docLink);\n",
              "        }\n",
              "      </script>\n",
              "    </div>\n",
              "  </div>\n",
              "  "
            ],
            "text/plain": [
              "      Loan_ID  Gender Married  ... Credit_History Property_Area Loan_Status\n",
              "102  LP001350    Male     Yes  ...            1.0         Urban           Y\n",
              "104  LP001357    Male     NaN  ...            1.0         Urban           Y\n",
              "120  LP001426    Male     Yes  ...            1.0         Rural           Y\n",
              "226  LP001754    Male     Yes  ...            1.0         Urban           N\n",
              "228  LP001760    Male     NaN  ...            1.0     Semiurban           Y\n",
              "293  LP001945  Female      No  ...            0.0         Urban           N\n",
              "301  LP001972    Male     Yes  ...            1.0     Semiurban           Y\n",
              "332  LP002100    Male      No  ...            1.0         Urban           Y\n",
              "335  LP002106    Male     Yes  ...            1.0     Semiurban           Y\n",
              "346  LP002130    Male     Yes  ...            0.0         Rural           N\n",
              "355  LP002144  Female      No  ...            1.0         Urban           Y\n",
              "435  LP002393  Female     NaN  ...            1.0     Semiurban           Y\n",
              "517  LP002682    Male     Yes  ...            0.0     Semiurban           N\n",
              "571  LP002847    Male     Yes  ...            0.0         Urban           N\n",
              "597  LP002943    Male      No  ...            0.0     Semiurban           N\n",
              "\n",
              "[15 rows x 13 columns]"
            ]
          },
          "metadata": {},
          "execution_count": 485
        }
      ]
    },
    {
      "cell_type": "code",
      "source": [
        "train.Dependents.value_counts()"
      ],
      "metadata": {
        "colab": {
          "base_uri": "https://localhost:8080/"
        },
        "id": "NEEAcXxu0dtQ",
        "outputId": "61fbc6c1-e411-4d3b-fbac-a28ba883ac13"
      },
      "execution_count": null,
      "outputs": [
        {
          "output_type": "execute_result",
          "data": {
            "text/plain": [
              "0     345\n",
              "1     102\n",
              "2     101\n",
              "3+     51\n",
              "Name: Dependents, dtype: int64"
            ]
          },
          "metadata": {},
          "execution_count": 486
        }
      ]
    },
    {
      "cell_type": "markdown",
      "source": [
        "**Most of the NaN Dependents are Male and not Self_Employed**"
      ],
      "metadata": {
        "id": "A8WZzBgyyYG7"
      }
    },
    {
      "cell_type": "code",
      "source": [
        "train[train['Gender'] == 'Male'][train['Self_Employed'] == 'No']['Dependents'].value_counts()"
      ],
      "metadata": {
        "colab": {
          "base_uri": "https://localhost:8080/"
        },
        "id": "fXspFoJ1yuNI",
        "outputId": "0b9bfca5-a55d-42ff-edac-f490eb4a777b"
      },
      "execution_count": null,
      "outputs": [
        {
          "output_type": "stream",
          "name": "stderr",
          "text": [
            "/usr/local/lib/python3.7/dist-packages/ipykernel_launcher.py:1: UserWarning: Boolean Series key will be reindexed to match DataFrame index.\n",
            "  \"\"\"Entry point for launching an IPython kernel.\n"
          ]
        },
        {
          "output_type": "execute_result",
          "data": {
            "text/plain": [
              "0     233\n",
              "2      76\n",
              "1      68\n",
              "3+     39\n",
              "Name: Dependents, dtype: int64"
            ]
          },
          "metadata": {},
          "execution_count": 487
        }
      ]
    },
    {
      "cell_type": "code",
      "source": [
        "train[train['Gender'] == 'Female'][train['Self_Employed'] == 'No']['Dependents'].value_counts()"
      ],
      "metadata": {
        "colab": {
          "base_uri": "https://localhost:8080/"
        },
        "id": "3d2LlRqTzRL5",
        "outputId": "526aad7d-8367-4c62-cb49-df67699164d4"
      },
      "execution_count": null,
      "outputs": [
        {
          "output_type": "stream",
          "name": "stderr",
          "text": [
            "/usr/local/lib/python3.7/dist-packages/ipykernel_launcher.py:1: UserWarning: Boolean Series key will be reindexed to match DataFrame index.\n",
            "  \"\"\"Entry point for launching an IPython kernel.\n"
          ]
        },
        {
          "output_type": "execute_result",
          "data": {
            "text/plain": [
              "0     70\n",
              "1     14\n",
              "2      7\n",
              "3+     3\n",
              "Name: Dependents, dtype: int64"
            ]
          },
          "metadata": {},
          "execution_count": 488
        }
      ]
    },
    {
      "cell_type": "markdown",
      "source": [
        "**Both Male and Female non Self Employes have 0 dependents. Substituted missing Dependents by 0.** "
      ],
      "metadata": {
        "id": "GQj_KhPs6wNR"
      }
    },
    {
      "cell_type": "code",
      "source": [
        "train.Dependents.fillna('0', inplace=True)"
      ],
      "metadata": {
        "id": "l-OQo5Uj7_dY"
      },
      "execution_count": null,
      "outputs": []
    },
    {
      "cell_type": "code",
      "source": [
        "train.Dependents.value_counts()"
      ],
      "metadata": {
        "colab": {
          "base_uri": "https://localhost:8080/"
        },
        "id": "5q3W4Ixa8FkB",
        "outputId": "ae7fe5c0-fcbd-49f2-f2b7-7334d12e7bf3"
      },
      "execution_count": null,
      "outputs": [
        {
          "output_type": "execute_result",
          "data": {
            "text/plain": [
              "0     360\n",
              "1     102\n",
              "2     101\n",
              "3+     51\n",
              "Name: Dependents, dtype: int64"
            ]
          },
          "metadata": {},
          "execution_count": 490
        }
      ]
    },
    {
      "cell_type": "code",
      "source": [
        "test.Dependents.isnull().sum()"
      ],
      "metadata": {
        "colab": {
          "base_uri": "https://localhost:8080/"
        },
        "id": "0h9-Uum-EhMd",
        "outputId": "e7e324d4-eee2-4ead-84b3-8817ea272d48"
      },
      "execution_count": null,
      "outputs": [
        {
          "output_type": "execute_result",
          "data": {
            "text/plain": [
              "10"
            ]
          },
          "metadata": {},
          "execution_count": 491
        }
      ]
    },
    {
      "cell_type": "markdown",
      "source": [
        "**Test set too has missing values. Missing value imputation will be similar to the imputation in training set.**"
      ],
      "metadata": {
        "id": "Bsd2p-lJEzuy"
      }
    },
    {
      "cell_type": "code",
      "source": [
        "test.Dependents.fillna('0', inplace=True)"
      ],
      "metadata": {
        "id": "zUap6AZ7Er-K"
      },
      "execution_count": null,
      "outputs": []
    },
    {
      "cell_type": "code",
      "source": [
        "test.Dependents.isnull().sum()"
      ],
      "metadata": {
        "colab": {
          "base_uri": "https://localhost:8080/"
        },
        "id": "Lj9PKrdgEwaa",
        "outputId": "d3f7e624-ff73-4414-bb7a-4832f3df7a5a"
      },
      "execution_count": null,
      "outputs": [
        {
          "output_type": "execute_result",
          "data": {
            "text/plain": [
              "0"
            ]
          },
          "metadata": {},
          "execution_count": 493
        }
      ]
    },
    {
      "cell_type": "markdown",
      "source": [
        "### Loan_Amount_Term NaN values imputation"
      ],
      "metadata": {
        "id": "_gw88vdW8mEN"
      }
    },
    {
      "cell_type": "code",
      "source": [
        "train.Loan_Amount_Term.value_counts()"
      ],
      "metadata": {
        "colab": {
          "base_uri": "https://localhost:8080/"
        },
        "id": "uvCTsBai8ql0",
        "outputId": "e7777914-d899-49b5-cda4-efab4f9f328f"
      },
      "execution_count": null,
      "outputs": [
        {
          "output_type": "execute_result",
          "data": {
            "text/plain": [
              "360.0    512\n",
              "180.0     44\n",
              "480.0     15\n",
              "300.0     13\n",
              "84.0       4\n",
              "240.0      4\n",
              "120.0      3\n",
              "36.0       2\n",
              "60.0       2\n",
              "12.0       1\n",
              "Name: Loan_Amount_Term, dtype: int64"
            ]
          },
          "metadata": {},
          "execution_count": 494
        }
      ]
    },
    {
      "cell_type": "code",
      "source": [
        "train[train['Loan_Amount_Term'].isnull()]"
      ],
      "metadata": {
        "colab": {
          "base_uri": "https://localhost:8080/",
          "height": 656
        },
        "id": "WrTcQDD97ona",
        "outputId": "51563681-54e4-4aa8-f7b2-92504d29fb94"
      },
      "execution_count": null,
      "outputs": [
        {
          "output_type": "execute_result",
          "data": {
            "text/html": [
              "\n",
              "  <div id=\"df-5f617f8f-938d-40b9-87a1-ac63ba2342a6\">\n",
              "    <div class=\"colab-df-container\">\n",
              "      <div>\n",
              "<style scoped>\n",
              "    .dataframe tbody tr th:only-of-type {\n",
              "        vertical-align: middle;\n",
              "    }\n",
              "\n",
              "    .dataframe tbody tr th {\n",
              "        vertical-align: top;\n",
              "    }\n",
              "\n",
              "    .dataframe thead th {\n",
              "        text-align: right;\n",
              "    }\n",
              "</style>\n",
              "<table border=\"1\" class=\"dataframe\">\n",
              "  <thead>\n",
              "    <tr style=\"text-align: right;\">\n",
              "      <th></th>\n",
              "      <th>Loan_ID</th>\n",
              "      <th>Gender</th>\n",
              "      <th>Married</th>\n",
              "      <th>Dependents</th>\n",
              "      <th>Education</th>\n",
              "      <th>Self_Employed</th>\n",
              "      <th>ApplicantIncome</th>\n",
              "      <th>CoapplicantIncome</th>\n",
              "      <th>LoanAmount</th>\n",
              "      <th>Loan_Amount_Term</th>\n",
              "      <th>Credit_History</th>\n",
              "      <th>Property_Area</th>\n",
              "      <th>Loan_Status</th>\n",
              "    </tr>\n",
              "  </thead>\n",
              "  <tbody>\n",
              "    <tr>\n",
              "      <th>19</th>\n",
              "      <td>LP001041</td>\n",
              "      <td>Male</td>\n",
              "      <td>Yes</td>\n",
              "      <td>0</td>\n",
              "      <td>Graduate</td>\n",
              "      <td>No</td>\n",
              "      <td>2600</td>\n",
              "      <td>3500.0</td>\n",
              "      <td>115.0</td>\n",
              "      <td>NaN</td>\n",
              "      <td>1.0</td>\n",
              "      <td>Urban</td>\n",
              "      <td>Y</td>\n",
              "    </tr>\n",
              "    <tr>\n",
              "      <th>36</th>\n",
              "      <td>LP001109</td>\n",
              "      <td>Male</td>\n",
              "      <td>Yes</td>\n",
              "      <td>0</td>\n",
              "      <td>Graduate</td>\n",
              "      <td>No</td>\n",
              "      <td>1828</td>\n",
              "      <td>1330.0</td>\n",
              "      <td>100.0</td>\n",
              "      <td>NaN</td>\n",
              "      <td>0.0</td>\n",
              "      <td>Urban</td>\n",
              "      <td>N</td>\n",
              "    </tr>\n",
              "    <tr>\n",
              "      <th>44</th>\n",
              "      <td>LP001136</td>\n",
              "      <td>Male</td>\n",
              "      <td>Yes</td>\n",
              "      <td>0</td>\n",
              "      <td>Not Graduate</td>\n",
              "      <td>Yes</td>\n",
              "      <td>4695</td>\n",
              "      <td>0.0</td>\n",
              "      <td>96.0</td>\n",
              "      <td>NaN</td>\n",
              "      <td>1.0</td>\n",
              "      <td>Urban</td>\n",
              "      <td>Y</td>\n",
              "    </tr>\n",
              "    <tr>\n",
              "      <th>45</th>\n",
              "      <td>LP001137</td>\n",
              "      <td>Female</td>\n",
              "      <td>No</td>\n",
              "      <td>0</td>\n",
              "      <td>Graduate</td>\n",
              "      <td>No</td>\n",
              "      <td>3410</td>\n",
              "      <td>0.0</td>\n",
              "      <td>88.0</td>\n",
              "      <td>NaN</td>\n",
              "      <td>1.0</td>\n",
              "      <td>Urban</td>\n",
              "      <td>Y</td>\n",
              "    </tr>\n",
              "    <tr>\n",
              "      <th>73</th>\n",
              "      <td>LP001250</td>\n",
              "      <td>Male</td>\n",
              "      <td>Yes</td>\n",
              "      <td>3+</td>\n",
              "      <td>Not Graduate</td>\n",
              "      <td>No</td>\n",
              "      <td>4755</td>\n",
              "      <td>0.0</td>\n",
              "      <td>95.0</td>\n",
              "      <td>NaN</td>\n",
              "      <td>0.0</td>\n",
              "      <td>Semiurban</td>\n",
              "      <td>N</td>\n",
              "    </tr>\n",
              "    <tr>\n",
              "      <th>112</th>\n",
              "      <td>LP001391</td>\n",
              "      <td>Male</td>\n",
              "      <td>Yes</td>\n",
              "      <td>0</td>\n",
              "      <td>Not Graduate</td>\n",
              "      <td>No</td>\n",
              "      <td>3572</td>\n",
              "      <td>4114.0</td>\n",
              "      <td>152.0</td>\n",
              "      <td>NaN</td>\n",
              "      <td>0.0</td>\n",
              "      <td>Rural</td>\n",
              "      <td>N</td>\n",
              "    </tr>\n",
              "    <tr>\n",
              "      <th>165</th>\n",
              "      <td>LP001574</td>\n",
              "      <td>Male</td>\n",
              "      <td>Yes</td>\n",
              "      <td>0</td>\n",
              "      <td>Graduate</td>\n",
              "      <td>No</td>\n",
              "      <td>3707</td>\n",
              "      <td>3166.0</td>\n",
              "      <td>182.0</td>\n",
              "      <td>NaN</td>\n",
              "      <td>1.0</td>\n",
              "      <td>Rural</td>\n",
              "      <td>Y</td>\n",
              "    </tr>\n",
              "    <tr>\n",
              "      <th>197</th>\n",
              "      <td>LP001669</td>\n",
              "      <td>Female</td>\n",
              "      <td>No</td>\n",
              "      <td>0</td>\n",
              "      <td>Not Graduate</td>\n",
              "      <td>No</td>\n",
              "      <td>1907</td>\n",
              "      <td>2365.0</td>\n",
              "      <td>120.0</td>\n",
              "      <td>NaN</td>\n",
              "      <td>1.0</td>\n",
              "      <td>Urban</td>\n",
              "      <td>Y</td>\n",
              "    </tr>\n",
              "    <tr>\n",
              "      <th>223</th>\n",
              "      <td>LP001749</td>\n",
              "      <td>Male</td>\n",
              "      <td>Yes</td>\n",
              "      <td>0</td>\n",
              "      <td>Graduate</td>\n",
              "      <td>No</td>\n",
              "      <td>7578</td>\n",
              "      <td>1010.0</td>\n",
              "      <td>175.0</td>\n",
              "      <td>NaN</td>\n",
              "      <td>1.0</td>\n",
              "      <td>Semiurban</td>\n",
              "      <td>Y</td>\n",
              "    </tr>\n",
              "    <tr>\n",
              "      <th>232</th>\n",
              "      <td>LP001770</td>\n",
              "      <td>Male</td>\n",
              "      <td>No</td>\n",
              "      <td>0</td>\n",
              "      <td>Not Graduate</td>\n",
              "      <td>No</td>\n",
              "      <td>3189</td>\n",
              "      <td>2598.0</td>\n",
              "      <td>120.0</td>\n",
              "      <td>NaN</td>\n",
              "      <td>1.0</td>\n",
              "      <td>Rural</td>\n",
              "      <td>Y</td>\n",
              "    </tr>\n",
              "    <tr>\n",
              "      <th>335</th>\n",
              "      <td>LP002106</td>\n",
              "      <td>Male</td>\n",
              "      <td>Yes</td>\n",
              "      <td>0</td>\n",
              "      <td>Graduate</td>\n",
              "      <td>Yes</td>\n",
              "      <td>5503</td>\n",
              "      <td>4490.0</td>\n",
              "      <td>70.0</td>\n",
              "      <td>NaN</td>\n",
              "      <td>1.0</td>\n",
              "      <td>Semiurban</td>\n",
              "      <td>Y</td>\n",
              "    </tr>\n",
              "    <tr>\n",
              "      <th>367</th>\n",
              "      <td>LP002188</td>\n",
              "      <td>Male</td>\n",
              "      <td>No</td>\n",
              "      <td>0</td>\n",
              "      <td>Graduate</td>\n",
              "      <td>No</td>\n",
              "      <td>5124</td>\n",
              "      <td>0.0</td>\n",
              "      <td>124.0</td>\n",
              "      <td>NaN</td>\n",
              "      <td>0.0</td>\n",
              "      <td>Rural</td>\n",
              "      <td>N</td>\n",
              "    </tr>\n",
              "    <tr>\n",
              "      <th>421</th>\n",
              "      <td>LP002357</td>\n",
              "      <td>Female</td>\n",
              "      <td>No</td>\n",
              "      <td>0</td>\n",
              "      <td>Not Graduate</td>\n",
              "      <td>No</td>\n",
              "      <td>2720</td>\n",
              "      <td>0.0</td>\n",
              "      <td>80.0</td>\n",
              "      <td>NaN</td>\n",
              "      <td>0.0</td>\n",
              "      <td>Urban</td>\n",
              "      <td>N</td>\n",
              "    </tr>\n",
              "    <tr>\n",
              "      <th>423</th>\n",
              "      <td>LP002362</td>\n",
              "      <td>Male</td>\n",
              "      <td>Yes</td>\n",
              "      <td>1</td>\n",
              "      <td>Graduate</td>\n",
              "      <td>No</td>\n",
              "      <td>7250</td>\n",
              "      <td>1667.0</td>\n",
              "      <td>110.0</td>\n",
              "      <td>NaN</td>\n",
              "      <td>0.0</td>\n",
              "      <td>Urban</td>\n",
              "      <td>N</td>\n",
              "    </tr>\n",
              "  </tbody>\n",
              "</table>\n",
              "</div>\n",
              "      <button class=\"colab-df-convert\" onclick=\"convertToInteractive('df-5f617f8f-938d-40b9-87a1-ac63ba2342a6')\"\n",
              "              title=\"Convert this dataframe to an interactive table.\"\n",
              "              style=\"display:none;\">\n",
              "        \n",
              "  <svg xmlns=\"http://www.w3.org/2000/svg\" height=\"24px\"viewBox=\"0 0 24 24\"\n",
              "       width=\"24px\">\n",
              "    <path d=\"M0 0h24v24H0V0z\" fill=\"none\"/>\n",
              "    <path d=\"M18.56 5.44l.94 2.06.94-2.06 2.06-.94-2.06-.94-.94-2.06-.94 2.06-2.06.94zm-11 1L8.5 8.5l.94-2.06 2.06-.94-2.06-.94L8.5 2.5l-.94 2.06-2.06.94zm10 10l.94 2.06.94-2.06 2.06-.94-2.06-.94-.94-2.06-.94 2.06-2.06.94z\"/><path d=\"M17.41 7.96l-1.37-1.37c-.4-.4-.92-.59-1.43-.59-.52 0-1.04.2-1.43.59L10.3 9.45l-7.72 7.72c-.78.78-.78 2.05 0 2.83L4 21.41c.39.39.9.59 1.41.59.51 0 1.02-.2 1.41-.59l7.78-7.78 2.81-2.81c.8-.78.8-2.07 0-2.86zM5.41 20L4 18.59l7.72-7.72 1.47 1.35L5.41 20z\"/>\n",
              "  </svg>\n",
              "      </button>\n",
              "      \n",
              "  <style>\n",
              "    .colab-df-container {\n",
              "      display:flex;\n",
              "      flex-wrap:wrap;\n",
              "      gap: 12px;\n",
              "    }\n",
              "\n",
              "    .colab-df-convert {\n",
              "      background-color: #E8F0FE;\n",
              "      border: none;\n",
              "      border-radius: 50%;\n",
              "      cursor: pointer;\n",
              "      display: none;\n",
              "      fill: #1967D2;\n",
              "      height: 32px;\n",
              "      padding: 0 0 0 0;\n",
              "      width: 32px;\n",
              "    }\n",
              "\n",
              "    .colab-df-convert:hover {\n",
              "      background-color: #E2EBFA;\n",
              "      box-shadow: 0px 1px 2px rgba(60, 64, 67, 0.3), 0px 1px 3px 1px rgba(60, 64, 67, 0.15);\n",
              "      fill: #174EA6;\n",
              "    }\n",
              "\n",
              "    [theme=dark] .colab-df-convert {\n",
              "      background-color: #3B4455;\n",
              "      fill: #D2E3FC;\n",
              "    }\n",
              "\n",
              "    [theme=dark] .colab-df-convert:hover {\n",
              "      background-color: #434B5C;\n",
              "      box-shadow: 0px 1px 3px 1px rgba(0, 0, 0, 0.15);\n",
              "      filter: drop-shadow(0px 1px 2px rgba(0, 0, 0, 0.3));\n",
              "      fill: #FFFFFF;\n",
              "    }\n",
              "  </style>\n",
              "\n",
              "      <script>\n",
              "        const buttonEl =\n",
              "          document.querySelector('#df-5f617f8f-938d-40b9-87a1-ac63ba2342a6 button.colab-df-convert');\n",
              "        buttonEl.style.display =\n",
              "          google.colab.kernel.accessAllowed ? 'block' : 'none';\n",
              "\n",
              "        async function convertToInteractive(key) {\n",
              "          const element = document.querySelector('#df-5f617f8f-938d-40b9-87a1-ac63ba2342a6');\n",
              "          const dataTable =\n",
              "            await google.colab.kernel.invokeFunction('convertToInteractive',\n",
              "                                                     [key], {});\n",
              "          if (!dataTable) return;\n",
              "\n",
              "          const docLinkHtml = 'Like what you see? Visit the ' +\n",
              "            '<a target=\"_blank\" href=https://colab.research.google.com/notebooks/data_table.ipynb>data table notebook</a>'\n",
              "            + ' to learn more about interactive tables.';\n",
              "          element.innerHTML = '';\n",
              "          dataTable['output_type'] = 'display_data';\n",
              "          await google.colab.output.renderOutput(dataTable, element);\n",
              "          const docLink = document.createElement('div');\n",
              "          docLink.innerHTML = docLinkHtml;\n",
              "          element.appendChild(docLink);\n",
              "        }\n",
              "      </script>\n",
              "    </div>\n",
              "  </div>\n",
              "  "
            ],
            "text/plain": [
              "      Loan_ID  Gender Married  ... Credit_History Property_Area Loan_Status\n",
              "19   LP001041    Male     Yes  ...            1.0         Urban           Y\n",
              "36   LP001109    Male     Yes  ...            0.0         Urban           N\n",
              "44   LP001136    Male     Yes  ...            1.0         Urban           Y\n",
              "45   LP001137  Female      No  ...            1.0         Urban           Y\n",
              "73   LP001250    Male     Yes  ...            0.0     Semiurban           N\n",
              "112  LP001391    Male     Yes  ...            0.0         Rural           N\n",
              "165  LP001574    Male     Yes  ...            1.0         Rural           Y\n",
              "197  LP001669  Female      No  ...            1.0         Urban           Y\n",
              "223  LP001749    Male     Yes  ...            1.0     Semiurban           Y\n",
              "232  LP001770    Male      No  ...            1.0         Rural           Y\n",
              "335  LP002106    Male     Yes  ...            1.0     Semiurban           Y\n",
              "367  LP002188    Male      No  ...            0.0         Rural           N\n",
              "421  LP002357  Female      No  ...            0.0         Urban           N\n",
              "423  LP002362    Male     Yes  ...            0.0         Urban           N\n",
              "\n",
              "[14 rows x 13 columns]"
            ]
          },
          "metadata": {},
          "execution_count": 495
        }
      ]
    },
    {
      "cell_type": "code",
      "source": [
        "plt.hist(train.Loan_Amount_Term)"
      ],
      "metadata": {
        "colab": {
          "base_uri": "https://localhost:8080/",
          "height": 338
        },
        "id": "ntXHJqXw9EiH",
        "outputId": "834de9e6-20bd-47a2-9a7f-e2e885c9fef6"
      },
      "execution_count": null,
      "outputs": [
        {
          "output_type": "execute_result",
          "data": {
            "text/plain": [
              "(array([  3.,   6.,   3.,  44.,   4.,   0.,  13., 512.,   0.,  15.]),\n",
              " array([ 12. ,  58.8, 105.6, 152.4, 199.2, 246. , 292.8, 339.6, 386.4,\n",
              "        433.2, 480. ]),\n",
              " <a list of 10 Patch objects>)"
            ]
          },
          "metadata": {},
          "execution_count": 496
        },
        {
          "output_type": "display_data",
          "data": {
            "image/png": "[encoded data removed]",
            "text/plain": [
              "<Figure size 432x288 with 1 Axes>"
            ]
          },
          "metadata": {
            "needs_background": "light"
          }
        }
      ]
    },
    {
      "cell_type": "code",
      "source": [
        "train.Loan_Amount_Term.mode()"
      ],
      "metadata": {
        "colab": {
          "base_uri": "https://localhost:8080/"
        },
        "id": "CN1-nT7s9RrV",
        "outputId": "f742ec32-235d-48f0-f6d4-2c796c8dc3a3"
      },
      "execution_count": null,
      "outputs": [
        {
          "output_type": "execute_result",
          "data": {
            "text/plain": [
              "0    360.0\n",
              "dtype: float64"
            ]
          },
          "metadata": {},
          "execution_count": 497
        }
      ]
    },
    {
      "cell_type": "code",
      "source": [
        "train.Loan_Amount_Term.mean()"
      ],
      "metadata": {
        "colab": {
          "base_uri": "https://localhost:8080/"
        },
        "id": "GyQIWvnw9XAl",
        "outputId": "fc8b2eb8-d3df-4634-c59f-247186e2d9c3"
      },
      "execution_count": null,
      "outputs": [
        {
          "output_type": "execute_result",
          "data": {
            "text/plain": [
              "342.0"
            ]
          },
          "metadata": {},
          "execution_count": 498
        }
      ]
    },
    {
      "cell_type": "code",
      "source": [
        "train.Loan_Amount_Term.median()"
      ],
      "metadata": {
        "colab": {
          "base_uri": "https://localhost:8080/"
        },
        "id": "XUG5ylAN9X_R",
        "outputId": "9ad785c1-3d16-4acd-e884-6c17a25e1e09"
      },
      "execution_count": null,
      "outputs": [
        {
          "output_type": "execute_result",
          "data": {
            "text/plain": [
              "360.0"
            ]
          },
          "metadata": {},
          "execution_count": 499
        }
      ]
    },
    {
      "cell_type": "markdown",
      "source": [
        "**The Null values of Loan_Amount_Term will be substituted using the median of train set Loan_Amount_Term variable.**"
      ],
      "metadata": {
        "id": "-uj8bPQa9lwf"
      }
    },
    {
      "cell_type": "code",
      "source": [
        "train.Loan_Amount_Term.fillna(train.Loan_Amount_Term.median(), inplace=True)\n",
        "train.Loan_Amount_Term.value_counts()"
      ],
      "metadata": {
        "colab": {
          "base_uri": "https://localhost:8080/"
        },
        "id": "lkUAMZRp--j0",
        "outputId": "f663e6a3-fca8-436f-989d-d9cce7572634"
      },
      "execution_count": null,
      "outputs": [
        {
          "output_type": "execute_result",
          "data": {
            "text/plain": [
              "360.0    526\n",
              "180.0     44\n",
              "480.0     15\n",
              "300.0     13\n",
              "84.0       4\n",
              "240.0      4\n",
              "120.0      3\n",
              "36.0       2\n",
              "60.0       2\n",
              "12.0       1\n",
              "Name: Loan_Amount_Term, dtype: int64"
            ]
          },
          "metadata": {},
          "execution_count": 500
        }
      ]
    },
    {
      "cell_type": "markdown",
      "source": [
        "**Test set missing value imputation will be similar to the train set imputation.**"
      ],
      "metadata": {
        "id": "hl243ChiFDn1"
      }
    },
    {
      "cell_type": "code",
      "source": [
        "test.Loan_Amount_Term.fillna(train.Loan_Amount_Term.median(), inplace=True)\n",
        "test.Loan_Amount_Term.value_counts()"
      ],
      "metadata": {
        "colab": {
          "base_uri": "https://localhost:8080/"
        },
        "id": "6eQmIuIrBwyQ",
        "outputId": "26be6908-3c8a-450e-e918-90fa13bfa1e6"
      },
      "execution_count": null,
      "outputs": [
        {
          "output_type": "execute_result",
          "data": {
            "text/plain": [
              "360.0    317\n",
              "180.0     22\n",
              "480.0      8\n",
              "300.0      7\n",
              "240.0      4\n",
              "84.0       3\n",
              "6.0        1\n",
              "120.0      1\n",
              "36.0       1\n",
              "350.0      1\n",
              "12.0       1\n",
              "60.0       1\n",
              "Name: Loan_Amount_Term, dtype: int64"
            ]
          },
          "metadata": {},
          "execution_count": 501
        }
      ]
    },
    {
      "cell_type": "markdown",
      "source": [
        "### Gender NaN values imputation"
      ],
      "metadata": {
        "id": "ezluwJM1A5_W"
      }
    },
    {
      "cell_type": "code",
      "source": [
        "train.Gender.value_counts()"
      ],
      "metadata": {
        "colab": {
          "base_uri": "https://localhost:8080/"
        },
        "id": "NH4H7kMqBBvl",
        "outputId": "0e517117-4449-434e-a07c-c162406cf2a0"
      },
      "execution_count": null,
      "outputs": [
        {
          "output_type": "execute_result",
          "data": {
            "text/plain": [
              "Male      489\n",
              "Female    112\n",
              "Name: Gender, dtype: int64"
            ]
          },
          "metadata": {},
          "execution_count": 502
        }
      ]
    },
    {
      "cell_type": "code",
      "source": [
        "train[train['Gender'].isnull()]"
      ],
      "metadata": {
        "colab": {
          "base_uri": "https://localhost:8080/",
          "height": 537
        },
        "id": "pCxZ7ROnFZ6q",
        "outputId": "c7ea846e-bf88-4be5-e679-0fc49094e8e4"
      },
      "execution_count": null,
      "outputs": [
        {
          "output_type": "execute_result",
          "data": {
            "text/html": [
              "\n",
              "  <div id=\"df-1b6c7b17-13bb-40d8-86c9-941e06739049\">\n",
              "    <div class=\"colab-df-container\">\n",
              "      <div>\n",
              "<style scoped>\n",
              "    .dataframe tbody tr th:only-of-type {\n",
              "        vertical-align: middle;\n",
              "    }\n",
              "\n",
              "    .dataframe tbody tr th {\n",
              "        vertical-align: top;\n",
              "    }\n",
              "\n",
              "    .dataframe thead th {\n",
              "        text-align: right;\n",
              "    }\n",
              "</style>\n",
              "<table border=\"1\" class=\"dataframe\">\n",
              "  <thead>\n",
              "    <tr style=\"text-align: right;\">\n",
              "      <th></th>\n",
              "      <th>Loan_ID</th>\n",
              "      <th>Gender</th>\n",
              "      <th>Married</th>\n",
              "      <th>Dependents</th>\n",
              "      <th>Education</th>\n",
              "      <th>Self_Employed</th>\n",
              "      <th>ApplicantIncome</th>\n",
              "      <th>CoapplicantIncome</th>\n",
              "      <th>LoanAmount</th>\n",
              "      <th>Loan_Amount_Term</th>\n",
              "      <th>Credit_History</th>\n",
              "      <th>Property_Area</th>\n",
              "      <th>Loan_Status</th>\n",
              "    </tr>\n",
              "  </thead>\n",
              "  <tbody>\n",
              "    <tr>\n",
              "      <th>23</th>\n",
              "      <td>LP001050</td>\n",
              "      <td>NaN</td>\n",
              "      <td>Yes</td>\n",
              "      <td>2</td>\n",
              "      <td>Not Graduate</td>\n",
              "      <td>No</td>\n",
              "      <td>3365</td>\n",
              "      <td>1917.0</td>\n",
              "      <td>112.0</td>\n",
              "      <td>360.0</td>\n",
              "      <td>0.0</td>\n",
              "      <td>Rural</td>\n",
              "      <td>N</td>\n",
              "    </tr>\n",
              "    <tr>\n",
              "      <th>126</th>\n",
              "      <td>LP001448</td>\n",
              "      <td>NaN</td>\n",
              "      <td>Yes</td>\n",
              "      <td>3+</td>\n",
              "      <td>Graduate</td>\n",
              "      <td>No</td>\n",
              "      <td>23803</td>\n",
              "      <td>0.0</td>\n",
              "      <td>370.0</td>\n",
              "      <td>360.0</td>\n",
              "      <td>1.0</td>\n",
              "      <td>Rural</td>\n",
              "      <td>Y</td>\n",
              "    </tr>\n",
              "    <tr>\n",
              "      <th>171</th>\n",
              "      <td>LP001585</td>\n",
              "      <td>NaN</td>\n",
              "      <td>Yes</td>\n",
              "      <td>3+</td>\n",
              "      <td>Graduate</td>\n",
              "      <td>No</td>\n",
              "      <td>51763</td>\n",
              "      <td>0.0</td>\n",
              "      <td>700.0</td>\n",
              "      <td>300.0</td>\n",
              "      <td>1.0</td>\n",
              "      <td>Urban</td>\n",
              "      <td>Y</td>\n",
              "    </tr>\n",
              "    <tr>\n",
              "      <th>188</th>\n",
              "      <td>LP001644</td>\n",
              "      <td>NaN</td>\n",
              "      <td>Yes</td>\n",
              "      <td>0</td>\n",
              "      <td>Graduate</td>\n",
              "      <td>Yes</td>\n",
              "      <td>674</td>\n",
              "      <td>5296.0</td>\n",
              "      <td>168.0</td>\n",
              "      <td>360.0</td>\n",
              "      <td>1.0</td>\n",
              "      <td>Rural</td>\n",
              "      <td>Y</td>\n",
              "    </tr>\n",
              "    <tr>\n",
              "      <th>314</th>\n",
              "      <td>LP002024</td>\n",
              "      <td>NaN</td>\n",
              "      <td>Yes</td>\n",
              "      <td>0</td>\n",
              "      <td>Graduate</td>\n",
              "      <td>No</td>\n",
              "      <td>2473</td>\n",
              "      <td>1843.0</td>\n",
              "      <td>159.0</td>\n",
              "      <td>360.0</td>\n",
              "      <td>1.0</td>\n",
              "      <td>Rural</td>\n",
              "      <td>N</td>\n",
              "    </tr>\n",
              "    <tr>\n",
              "      <th>334</th>\n",
              "      <td>LP002103</td>\n",
              "      <td>NaN</td>\n",
              "      <td>Yes</td>\n",
              "      <td>1</td>\n",
              "      <td>Graduate</td>\n",
              "      <td>Yes</td>\n",
              "      <td>9833</td>\n",
              "      <td>1833.0</td>\n",
              "      <td>182.0</td>\n",
              "      <td>180.0</td>\n",
              "      <td>1.0</td>\n",
              "      <td>Urban</td>\n",
              "      <td>Y</td>\n",
              "    </tr>\n",
              "    <tr>\n",
              "      <th>460</th>\n",
              "      <td>LP002478</td>\n",
              "      <td>NaN</td>\n",
              "      <td>Yes</td>\n",
              "      <td>0</td>\n",
              "      <td>Graduate</td>\n",
              "      <td>Yes</td>\n",
              "      <td>2083</td>\n",
              "      <td>4083.0</td>\n",
              "      <td>160.0</td>\n",
              "      <td>360.0</td>\n",
              "      <td>1.0</td>\n",
              "      <td>Semiurban</td>\n",
              "      <td>Y</td>\n",
              "    </tr>\n",
              "    <tr>\n",
              "      <th>467</th>\n",
              "      <td>LP002501</td>\n",
              "      <td>NaN</td>\n",
              "      <td>Yes</td>\n",
              "      <td>0</td>\n",
              "      <td>Graduate</td>\n",
              "      <td>No</td>\n",
              "      <td>16692</td>\n",
              "      <td>0.0</td>\n",
              "      <td>110.0</td>\n",
              "      <td>360.0</td>\n",
              "      <td>1.0</td>\n",
              "      <td>Semiurban</td>\n",
              "      <td>Y</td>\n",
              "    </tr>\n",
              "    <tr>\n",
              "      <th>477</th>\n",
              "      <td>LP002530</td>\n",
              "      <td>NaN</td>\n",
              "      <td>Yes</td>\n",
              "      <td>2</td>\n",
              "      <td>Graduate</td>\n",
              "      <td>No</td>\n",
              "      <td>2873</td>\n",
              "      <td>1872.0</td>\n",
              "      <td>132.0</td>\n",
              "      <td>360.0</td>\n",
              "      <td>0.0</td>\n",
              "      <td>Semiurban</td>\n",
              "      <td>N</td>\n",
              "    </tr>\n",
              "    <tr>\n",
              "      <th>507</th>\n",
              "      <td>LP002625</td>\n",
              "      <td>NaN</td>\n",
              "      <td>No</td>\n",
              "      <td>0</td>\n",
              "      <td>Graduate</td>\n",
              "      <td>No</td>\n",
              "      <td>3583</td>\n",
              "      <td>0.0</td>\n",
              "      <td>96.0</td>\n",
              "      <td>360.0</td>\n",
              "      <td>1.0</td>\n",
              "      <td>Urban</td>\n",
              "      <td>N</td>\n",
              "    </tr>\n",
              "    <tr>\n",
              "      <th>576</th>\n",
              "      <td>LP002872</td>\n",
              "      <td>NaN</td>\n",
              "      <td>Yes</td>\n",
              "      <td>0</td>\n",
              "      <td>Graduate</td>\n",
              "      <td>No</td>\n",
              "      <td>3087</td>\n",
              "      <td>2210.0</td>\n",
              "      <td>136.0</td>\n",
              "      <td>360.0</td>\n",
              "      <td>0.0</td>\n",
              "      <td>Semiurban</td>\n",
              "      <td>N</td>\n",
              "    </tr>\n",
              "    <tr>\n",
              "      <th>588</th>\n",
              "      <td>LP002925</td>\n",
              "      <td>NaN</td>\n",
              "      <td>No</td>\n",
              "      <td>0</td>\n",
              "      <td>Graduate</td>\n",
              "      <td>No</td>\n",
              "      <td>4750</td>\n",
              "      <td>0.0</td>\n",
              "      <td>94.0</td>\n",
              "      <td>360.0</td>\n",
              "      <td>1.0</td>\n",
              "      <td>Semiurban</td>\n",
              "      <td>Y</td>\n",
              "    </tr>\n",
              "    <tr>\n",
              "      <th>592</th>\n",
              "      <td>LP002933</td>\n",
              "      <td>NaN</td>\n",
              "      <td>No</td>\n",
              "      <td>3+</td>\n",
              "      <td>Graduate</td>\n",
              "      <td>Yes</td>\n",
              "      <td>9357</td>\n",
              "      <td>0.0</td>\n",
              "      <td>292.0</td>\n",
              "      <td>360.0</td>\n",
              "      <td>1.0</td>\n",
              "      <td>Semiurban</td>\n",
              "      <td>Y</td>\n",
              "    </tr>\n",
              "  </tbody>\n",
              "</table>\n",
              "</div>\n",
              "      <button class=\"colab-df-convert\" onclick=\"convertToInteractive('df-1b6c7b17-13bb-40d8-86c9-941e06739049')\"\n",
              "              title=\"Convert this dataframe to an interactive table.\"\n",
              "              style=\"display:none;\">\n",
              "        \n",
              "  <svg xmlns=\"http://www.w3.org/2000/svg\" height=\"24px\"viewBox=\"0 0 24 24\"\n",
              "       width=\"24px\">\n",
              "    <path d=\"M0 0h24v24H0V0z\" fill=\"none\"/>\n",
              "    <path d=\"M18.56 5.44l.94 2.06.94-2.06 2.06-.94-2.06-.94-.94-2.06-.94 2.06-2.06.94zm-11 1L8.5 8.5l.94-2.06 2.06-.94-2.06-.94L8.5 2.5l-.94 2.06-2.06.94zm10 10l.94 2.06.94-2.06 2.06-.94-2.06-.94-.94-2.06-.94 2.06-2.06.94z\"/><path d=\"M17.41 7.96l-1.37-1.37c-.4-.4-.92-.59-1.43-.59-.52 0-1.04.2-1.43.59L10.3 9.45l-7.72 7.72c-.78.78-.78 2.05 0 2.83L4 21.41c.39.39.9.59 1.41.59.51 0 1.02-.2 1.41-.59l7.78-7.78 2.81-2.81c.8-.78.8-2.07 0-2.86zM5.41 20L4 18.59l7.72-7.72 1.47 1.35L5.41 20z\"/>\n",
              "  </svg>\n",
              "      </button>\n",
              "      \n",
              "  <style>\n",
              "    .colab-df-container {\n",
              "      display:flex;\n",
              "      flex-wrap:wrap;\n",
              "      gap: 12px;\n",
              "    }\n",
              "\n",
              "    .colab-df-convert {\n",
              "      background-color: #E8F0FE;\n",
              "      border: none;\n",
              "      border-radius: 50%;\n",
              "      cursor: pointer;\n",
              "      display: none;\n",
              "      fill: #1967D2;\n",
              "      height: 32px;\n",
              "      padding: 0 0 0 0;\n",
              "      width: 32px;\n",
              "    }\n",
              "\n",
              "    .colab-df-convert:hover {\n",
              "      background-color: #E2EBFA;\n",
              "      box-shadow: 0px 1px 2px rgba(60, 64, 67, 0.3), 0px 1px 3px 1px rgba(60, 64, 67, 0.15);\n",
              "      fill: #174EA6;\n",
              "    }\n",
              "\n",
              "    [theme=dark] .colab-df-convert {\n",
              "      background-color: #3B4455;\n",
              "      fill: #D2E3FC;\n",
              "    }\n",
              "\n",
              "    [theme=dark] .colab-df-convert:hover {\n",
              "      background-color: #434B5C;\n",
              "      box-shadow: 0px 1px 3px 1px rgba(0, 0, 0, 0.15);\n",
              "      filter: drop-shadow(0px 1px 2px rgba(0, 0, 0, 0.3));\n",
              "      fill: #FFFFFF;\n",
              "    }\n",
              "  </style>\n",
              "\n",
              "      <script>\n",
              "        const buttonEl =\n",
              "          document.querySelector('#df-1b6c7b17-13bb-40d8-86c9-941e06739049 button.colab-df-convert');\n",
              "        buttonEl.style.display =\n",
              "          google.colab.kernel.accessAllowed ? 'block' : 'none';\n",
              "\n",
              "        async function convertToInteractive(key) {\n",
              "          const element = document.querySelector('#df-1b6c7b17-13bb-40d8-86c9-941e06739049');\n",
              "          const dataTable =\n",
              "            await google.colab.kernel.invokeFunction('convertToInteractive',\n",
              "                                                     [key], {});\n",
              "          if (!dataTable) return;\n",
              "\n",
              "          const docLinkHtml = 'Like what you see? Visit the ' +\n",
              "            '<a target=\"_blank\" href=https://colab.research.google.com/notebooks/data_table.ipynb>data table notebook</a>'\n",
              "            + ' to learn more about interactive tables.';\n",
              "          element.innerHTML = '';\n",
              "          dataTable['output_type'] = 'display_data';\n",
              "          await google.colab.output.renderOutput(dataTable, element);\n",
              "          const docLink = document.createElement('div');\n",
              "          docLink.innerHTML = docLinkHtml;\n",
              "          element.appendChild(docLink);\n",
              "        }\n",
              "      </script>\n",
              "    </div>\n",
              "  </div>\n",
              "  "
            ],
            "text/plain": [
              "      Loan_ID Gender Married  ... Credit_History Property_Area Loan_Status\n",
              "23   LP001050    NaN     Yes  ...            0.0         Rural           N\n",
              "126  LP001448    NaN     Yes  ...            1.0         Rural           Y\n",
              "171  LP001585    NaN     Yes  ...            1.0         Urban           Y\n",
              "188  LP001644    NaN     Yes  ...            1.0         Rural           Y\n",
              "314  LP002024    NaN     Yes  ...            1.0         Rural           N\n",
              "334  LP002103    NaN     Yes  ...            1.0         Urban           Y\n",
              "460  LP002478    NaN     Yes  ...            1.0     Semiurban           Y\n",
              "467  LP002501    NaN     Yes  ...            1.0     Semiurban           Y\n",
              "477  LP002530    NaN     Yes  ...            0.0     Semiurban           N\n",
              "507  LP002625    NaN      No  ...            1.0         Urban           N\n",
              "576  LP002872    NaN     Yes  ...            0.0     Semiurban           N\n",
              "588  LP002925    NaN      No  ...            1.0     Semiurban           Y\n",
              "592  LP002933    NaN      No  ...            1.0     Semiurban           Y\n",
              "\n",
              "[13 rows x 13 columns]"
            ]
          },
          "metadata": {},
          "execution_count": 503
        }
      ]
    },
    {
      "cell_type": "code",
      "source": [
        "train[train['Education']=='Graduate'][train['Married']=='Yes']"
      ],
      "metadata": {
        "colab": {
          "base_uri": "https://localhost:8080/",
          "height": 524
        },
        "id": "DReS_LMTIBsk",
        "outputId": "d0b38a40-f7ac-4fe2-a400-f1f8b29dfe43"
      },
      "execution_count": null,
      "outputs": [
        {
          "output_type": "stream",
          "name": "stderr",
          "text": [
            "/usr/local/lib/python3.7/dist-packages/ipykernel_launcher.py:1: UserWarning: Boolean Series key will be reindexed to match DataFrame index.\n",
            "  \"\"\"Entry point for launching an IPython kernel.\n"
          ]
        },
        {
          "output_type": "execute_result",
          "data": {
            "text/html": [
              "\n",
              "  <div id=\"df-b44dadc4-d7b8-47f1-8253-3460b561914a\">\n",
              "    <div class=\"colab-df-container\">\n",
              "      <div>\n",
              "<style scoped>\n",
              "    .dataframe tbody tr th:only-of-type {\n",
              "        vertical-align: middle;\n",
              "    }\n",
              "\n",
              "    .dataframe tbody tr th {\n",
              "        vertical-align: top;\n",
              "    }\n",
              "\n",
              "    .dataframe thead th {\n",
              "        text-align: right;\n",
              "    }\n",
              "</style>\n",
              "<table border=\"1\" class=\"dataframe\">\n",
              "  <thead>\n",
              "    <tr style=\"text-align: right;\">\n",
              "      <th></th>\n",
              "      <th>Loan_ID</th>\n",
              "      <th>Gender</th>\n",
              "      <th>Married</th>\n",
              "      <th>Dependents</th>\n",
              "      <th>Education</th>\n",
              "      <th>Self_Employed</th>\n",
              "      <th>ApplicantIncome</th>\n",
              "      <th>CoapplicantIncome</th>\n",
              "      <th>LoanAmount</th>\n",
              "      <th>Loan_Amount_Term</th>\n",
              "      <th>Credit_History</th>\n",
              "      <th>Property_Area</th>\n",
              "      <th>Loan_Status</th>\n",
              "    </tr>\n",
              "  </thead>\n",
              "  <tbody>\n",
              "    <tr>\n",
              "      <th>1</th>\n",
              "      <td>LP001003</td>\n",
              "      <td>Male</td>\n",
              "      <td>Yes</td>\n",
              "      <td>1</td>\n",
              "      <td>Graduate</td>\n",
              "      <td>No</td>\n",
              "      <td>4583</td>\n",
              "      <td>1508.0</td>\n",
              "      <td>128.0</td>\n",
              "      <td>360.0</td>\n",
              "      <td>1.0</td>\n",
              "      <td>Rural</td>\n",
              "      <td>N</td>\n",
              "    </tr>\n",
              "    <tr>\n",
              "      <th>2</th>\n",
              "      <td>LP001005</td>\n",
              "      <td>Male</td>\n",
              "      <td>Yes</td>\n",
              "      <td>0</td>\n",
              "      <td>Graduate</td>\n",
              "      <td>Yes</td>\n",
              "      <td>3000</td>\n",
              "      <td>0.0</td>\n",
              "      <td>66.0</td>\n",
              "      <td>360.0</td>\n",
              "      <td>1.0</td>\n",
              "      <td>Urban</td>\n",
              "      <td>Y</td>\n",
              "    </tr>\n",
              "    <tr>\n",
              "      <th>5</th>\n",
              "      <td>LP001011</td>\n",
              "      <td>Male</td>\n",
              "      <td>Yes</td>\n",
              "      <td>2</td>\n",
              "      <td>Graduate</td>\n",
              "      <td>Yes</td>\n",
              "      <td>5417</td>\n",
              "      <td>4196.0</td>\n",
              "      <td>267.0</td>\n",
              "      <td>360.0</td>\n",
              "      <td>1.0</td>\n",
              "      <td>Urban</td>\n",
              "      <td>Y</td>\n",
              "    </tr>\n",
              "    <tr>\n",
              "      <th>7</th>\n",
              "      <td>LP001014</td>\n",
              "      <td>Male</td>\n",
              "      <td>Yes</td>\n",
              "      <td>3+</td>\n",
              "      <td>Graduate</td>\n",
              "      <td>No</td>\n",
              "      <td>3036</td>\n",
              "      <td>2504.0</td>\n",
              "      <td>158.0</td>\n",
              "      <td>360.0</td>\n",
              "      <td>0.0</td>\n",
              "      <td>Semiurban</td>\n",
              "      <td>N</td>\n",
              "    </tr>\n",
              "    <tr>\n",
              "      <th>8</th>\n",
              "      <td>LP001018</td>\n",
              "      <td>Male</td>\n",
              "      <td>Yes</td>\n",
              "      <td>2</td>\n",
              "      <td>Graduate</td>\n",
              "      <td>No</td>\n",
              "      <td>4006</td>\n",
              "      <td>1526.0</td>\n",
              "      <td>168.0</td>\n",
              "      <td>360.0</td>\n",
              "      <td>1.0</td>\n",
              "      <td>Urban</td>\n",
              "      <td>Y</td>\n",
              "    </tr>\n",
              "    <tr>\n",
              "      <th>...</th>\n",
              "      <td>...</td>\n",
              "      <td>...</td>\n",
              "      <td>...</td>\n",
              "      <td>...</td>\n",
              "      <td>...</td>\n",
              "      <td>...</td>\n",
              "      <td>...</td>\n",
              "      <td>...</td>\n",
              "      <td>...</td>\n",
              "      <td>...</td>\n",
              "      <td>...</td>\n",
              "      <td>...</td>\n",
              "      <td>...</td>\n",
              "    </tr>\n",
              "    <tr>\n",
              "      <th>606</th>\n",
              "      <td>LP002961</td>\n",
              "      <td>Male</td>\n",
              "      <td>Yes</td>\n",
              "      <td>1</td>\n",
              "      <td>Graduate</td>\n",
              "      <td>No</td>\n",
              "      <td>3400</td>\n",
              "      <td>2500.0</td>\n",
              "      <td>173.0</td>\n",
              "      <td>360.0</td>\n",
              "      <td>1.0</td>\n",
              "      <td>Semiurban</td>\n",
              "      <td>Y</td>\n",
              "    </tr>\n",
              "    <tr>\n",
              "      <th>608</th>\n",
              "      <td>LP002974</td>\n",
              "      <td>Male</td>\n",
              "      <td>Yes</td>\n",
              "      <td>0</td>\n",
              "      <td>Graduate</td>\n",
              "      <td>No</td>\n",
              "      <td>3232</td>\n",
              "      <td>1950.0</td>\n",
              "      <td>108.0</td>\n",
              "      <td>360.0</td>\n",
              "      <td>1.0</td>\n",
              "      <td>Rural</td>\n",
              "      <td>Y</td>\n",
              "    </tr>\n",
              "    <tr>\n",
              "      <th>610</th>\n",
              "      <td>LP002979</td>\n",
              "      <td>Male</td>\n",
              "      <td>Yes</td>\n",
              "      <td>3+</td>\n",
              "      <td>Graduate</td>\n",
              "      <td>No</td>\n",
              "      <td>4106</td>\n",
              "      <td>0.0</td>\n",
              "      <td>40.0</td>\n",
              "      <td>180.0</td>\n",
              "      <td>1.0</td>\n",
              "      <td>Rural</td>\n",
              "      <td>Y</td>\n",
              "    </tr>\n",
              "    <tr>\n",
              "      <th>611</th>\n",
              "      <td>LP002983</td>\n",
              "      <td>Male</td>\n",
              "      <td>Yes</td>\n",
              "      <td>1</td>\n",
              "      <td>Graduate</td>\n",
              "      <td>No</td>\n",
              "      <td>8072</td>\n",
              "      <td>240.0</td>\n",
              "      <td>253.0</td>\n",
              "      <td>360.0</td>\n",
              "      <td>1.0</td>\n",
              "      <td>Urban</td>\n",
              "      <td>Y</td>\n",
              "    </tr>\n",
              "    <tr>\n",
              "      <th>612</th>\n",
              "      <td>LP002984</td>\n",
              "      <td>Male</td>\n",
              "      <td>Yes</td>\n",
              "      <td>2</td>\n",
              "      <td>Graduate</td>\n",
              "      <td>No</td>\n",
              "      <td>7583</td>\n",
              "      <td>0.0</td>\n",
              "      <td>187.0</td>\n",
              "      <td>360.0</td>\n",
              "      <td>1.0</td>\n",
              "      <td>Urban</td>\n",
              "      <td>Y</td>\n",
              "    </tr>\n",
              "  </tbody>\n",
              "</table>\n",
              "<p>309 rows × 13 columns</p>\n",
              "</div>\n",
              "      <button class=\"colab-df-convert\" onclick=\"convertToInteractive('df-b44dadc4-d7b8-47f1-8253-3460b561914a')\"\n",
              "              title=\"Convert this dataframe to an interactive table.\"\n",
              "              style=\"display:none;\">\n",
              "        \n",
              "  <svg xmlns=\"http://www.w3.org/2000/svg\" height=\"24px\"viewBox=\"0 0 24 24\"\n",
              "       width=\"24px\">\n",
              "    <path d=\"M0 0h24v24H0V0z\" fill=\"none\"/>\n",
              "    <path d=\"M18.56 5.44l.94 2.06.94-2.06 2.06-.94-2.06-.94-.94-2.06-.94 2.06-2.06.94zm-11 1L8.5 8.5l.94-2.06 2.06-.94-2.06-.94L8.5 2.5l-.94 2.06-2.06.94zm10 10l.94 2.06.94-2.06 2.06-.94-2.06-.94-.94-2.06-.94 2.06-2.06.94z\"/><path d=\"M17.41 7.96l-1.37-1.37c-.4-.4-.92-.59-1.43-.59-.52 0-1.04.2-1.43.59L10.3 9.45l-7.72 7.72c-.78.78-.78 2.05 0 2.83L4 21.41c.39.39.9.59 1.41.59.51 0 1.02-.2 1.41-.59l7.78-7.78 2.81-2.81c.8-.78.8-2.07 0-2.86zM5.41 20L4 18.59l7.72-7.72 1.47 1.35L5.41 20z\"/>\n",
              "  </svg>\n",
              "      </button>\n",
              "      \n",
              "  <style>\n",
              "    .colab-df-container {\n",
              "      display:flex;\n",
              "      flex-wrap:wrap;\n",
              "      gap: 12px;\n",
              "    }\n",
              "\n",
              "    .colab-df-convert {\n",
              "      background-color: #E8F0FE;\n",
              "      border: none;\n",
              "      border-radius: 50%;\n",
              "      cursor: pointer;\n",
              "      display: none;\n",
              "      fill: #1967D2;\n",
              "      height: 32px;\n",
              "      padding: 0 0 0 0;\n",
              "      width: 32px;\n",
              "    }\n",
              "\n",
              "    .colab-df-convert:hover {\n",
              "      background-color: #E2EBFA;\n",
              "      box-shadow: 0px 1px 2px rgba(60, 64, 67, 0.3), 0px 1px 3px 1px rgba(60, 64, 67, 0.15);\n",
              "      fill: #174EA6;\n",
              "    }\n",
              "\n",
              "    [theme=dark] .colab-df-convert {\n",
              "      background-color: #3B4455;\n",
              "      fill: #D2E3FC;\n",
              "    }\n",
              "\n",
              "    [theme=dark] .colab-df-convert:hover {\n",
              "      background-color: #434B5C;\n",
              "      box-shadow: 0px 1px 3px 1px rgba(0, 0, 0, 0.15);\n",
              "      filter: drop-shadow(0px 1px 2px rgba(0, 0, 0, 0.3));\n",
              "      fill: #FFFFFF;\n",
              "    }\n",
              "  </style>\n",
              "\n",
              "      <script>\n",
              "        const buttonEl =\n",
              "          document.querySelector('#df-b44dadc4-d7b8-47f1-8253-3460b561914a button.colab-df-convert');\n",
              "        buttonEl.style.display =\n",
              "          google.colab.kernel.accessAllowed ? 'block' : 'none';\n",
              "\n",
              "        async function convertToInteractive(key) {\n",
              "          const element = document.querySelector('#df-b44dadc4-d7b8-47f1-8253-3460b561914a');\n",
              "          const dataTable =\n",
              "            await google.colab.kernel.invokeFunction('convertToInteractive',\n",
              "                                                     [key], {});\n",
              "          if (!dataTable) return;\n",
              "\n",
              "          const docLinkHtml = 'Like what you see? Visit the ' +\n",
              "            '<a target=\"_blank\" href=https://colab.research.google.com/notebooks/data_table.ipynb>data table notebook</a>'\n",
              "            + ' to learn more about interactive tables.';\n",
              "          element.innerHTML = '';\n",
              "          dataTable['output_type'] = 'display_data';\n",
              "          await google.colab.output.renderOutput(dataTable, element);\n",
              "          const docLink = document.createElement('div');\n",
              "          docLink.innerHTML = docLinkHtml;\n",
              "          element.appendChild(docLink);\n",
              "        }\n",
              "      </script>\n",
              "    </div>\n",
              "  </div>\n",
              "  "
            ],
            "text/plain": [
              "      Loan_ID Gender Married  ... Credit_History Property_Area Loan_Status\n",
              "1    LP001003   Male     Yes  ...            1.0         Rural           N\n",
              "2    LP001005   Male     Yes  ...            1.0         Urban           Y\n",
              "5    LP001011   Male     Yes  ...            1.0         Urban           Y\n",
              "7    LP001014   Male     Yes  ...            0.0     Semiurban           N\n",
              "8    LP001018   Male     Yes  ...            1.0         Urban           Y\n",
              "..        ...    ...     ...  ...            ...           ...         ...\n",
              "606  LP002961   Male     Yes  ...            1.0     Semiurban           Y\n",
              "608  LP002974   Male     Yes  ...            1.0         Rural           Y\n",
              "610  LP002979   Male     Yes  ...            1.0         Rural           Y\n",
              "611  LP002983   Male     Yes  ...            1.0         Urban           Y\n",
              "612  LP002984   Male     Yes  ...            1.0         Urban           Y\n",
              "\n",
              "[309 rows x 13 columns]"
            ]
          },
          "metadata": {},
          "execution_count": 504
        }
      ]
    },
    {
      "cell_type": "code",
      "source": [
        "# Married and Graduate \n",
        "train[train['Education']=='Graduate'][train['Married']=='Yes']['Gender'].value_counts()"
      ],
      "metadata": {
        "colab": {
          "base_uri": "https://localhost:8080/"
        },
        "id": "Eq3HOp1OJPM2",
        "outputId": "1980a3e7-42d2-4758-fbc1-9933f4787f43"
      },
      "execution_count": null,
      "outputs": [
        {
          "output_type": "stream",
          "name": "stderr",
          "text": [
            "/usr/local/lib/python3.7/dist-packages/ipykernel_launcher.py:2: UserWarning: Boolean Series key will be reindexed to match DataFrame index.\n",
            "  \n"
          ]
        },
        {
          "output_type": "execute_result",
          "data": {
            "text/plain": [
              "Male      275\n",
              "Female     25\n",
              "Name: Gender, dtype: int64"
            ]
          },
          "metadata": {},
          "execution_count": 505
        }
      ]
    },
    {
      "cell_type": "code",
      "source": [
        "# Married and Not Graduate\n",
        "train[train['Education']=='Not Graduate'][train['Married']=='Yes']['Gender'].value_counts()"
      ],
      "metadata": {
        "colab": {
          "base_uri": "https://localhost:8080/"
        },
        "id": "NMDQFXVrKEqW",
        "outputId": "8762223f-1b09-499e-a9c7-4995994c0dfc"
      },
      "execution_count": null,
      "outputs": [
        {
          "output_type": "stream",
          "name": "stderr",
          "text": [
            "/usr/local/lib/python3.7/dist-packages/ipykernel_launcher.py:2: UserWarning: Boolean Series key will be reindexed to match DataFrame index.\n",
            "  \n"
          ]
        },
        {
          "output_type": "execute_result",
          "data": {
            "text/plain": [
              "Male      82\n",
              "Female     6\n",
              "Name: Gender, dtype: int64"
            ]
          },
          "metadata": {},
          "execution_count": 506
        }
      ]
    },
    {
      "cell_type": "code",
      "source": [
        "# Not Married and Graduate \n",
        "train[train['Education']=='Graduate'][train['Married']=='No']['Gender'].value_counts()"
      ],
      "metadata": {
        "colab": {
          "base_uri": "https://localhost:8080/"
        },
        "id": "8jKSg9NmJlei",
        "outputId": "00b26c59-a5c9-4f01-bd17-41e4da774c85"
      },
      "execution_count": null,
      "outputs": [
        {
          "output_type": "stream",
          "name": "stderr",
          "text": [
            "/usr/local/lib/python3.7/dist-packages/ipykernel_launcher.py:2: UserWarning: Boolean Series key will be reindexed to match DataFrame index.\n",
            "  \n"
          ]
        },
        {
          "output_type": "execute_result",
          "data": {
            "text/plain": [
              "Male      99\n",
              "Female    66\n",
              "Name: Gender, dtype: int64"
            ]
          },
          "metadata": {},
          "execution_count": 507
        }
      ]
    },
    {
      "cell_type": "markdown",
      "source": [
        "**Most of the missing values under Gender are Married and Graduates and few Married Not Graduates and Not Married Graduates. There are more males than female in all these categories. Therefore missing values under Gender was imputed as 'Male'.**"
      ],
      "metadata": {
        "id": "WsS9bT-nGlIq"
      }
    },
    {
      "cell_type": "code",
      "source": [
        "train.Gender.fillna('Male', inplace=True)\n",
        "train.Gender.value_counts()"
      ],
      "metadata": {
        "colab": {
          "base_uri": "https://localhost:8080/"
        },
        "id": "hvQUEJP7Gk13",
        "outputId": "cc3f4e68-edfd-43ba-8d44-d9574b6b5c94"
      },
      "execution_count": null,
      "outputs": [
        {
          "output_type": "execute_result",
          "data": {
            "text/plain": [
              "Male      502\n",
              "Female    112\n",
              "Name: Gender, dtype: int64"
            ]
          },
          "metadata": {},
          "execution_count": 508
        }
      ]
    },
    {
      "cell_type": "code",
      "source": [
        "test.Gender.isnull().sum()"
      ],
      "metadata": {
        "colab": {
          "base_uri": "https://localhost:8080/"
        },
        "id": "846xJER3Mvvz",
        "outputId": "e32a6879-c9d4-45a0-b522-c48fb7c293b7"
      },
      "execution_count": null,
      "outputs": [
        {
          "output_type": "execute_result",
          "data": {
            "text/plain": [
              "11"
            ]
          },
          "metadata": {},
          "execution_count": 509
        }
      ]
    },
    {
      "cell_type": "markdown",
      "source": [
        "**Test set Gender missing value imputation is also filled as 'Male'.**"
      ],
      "metadata": {
        "id": "fiBRhPP6NWef"
      }
    },
    {
      "cell_type": "code",
      "source": [
        "test.Gender.fillna('Male', inplace=True)"
      ],
      "metadata": {
        "id": "LnmG9HdHNLw6"
      },
      "execution_count": null,
      "outputs": []
    },
    {
      "cell_type": "markdown",
      "source": [
        "### Married NaN values imputation"
      ],
      "metadata": {
        "id": "-8UmiZJlA-oV"
      }
    },
    {
      "cell_type": "code",
      "source": [
        "train[train['Married'].isnull()]"
      ],
      "metadata": {
        "colab": {
          "base_uri": "https://localhost:8080/",
          "height": 207
        },
        "id": "rduvvlvFbW5h",
        "outputId": "df0c9d65-39df-47c3-e28a-0ae5552c5bc7"
      },
      "execution_count": null,
      "outputs": [
        {
          "output_type": "execute_result",
          "data": {
            "text/html": [
              "\n",
              "  <div id=\"df-d44cc807-d51f-4a12-b67e-3ca1c8b343ec\">\n",
              "    <div class=\"colab-df-container\">\n",
              "      <div>\n",
              "<style scoped>\n",
              "    .dataframe tbody tr th:only-of-type {\n",
              "        vertical-align: middle;\n",
              "    }\n",
              "\n",
              "    .dataframe tbody tr th {\n",
              "        vertical-align: top;\n",
              "    }\n",
              "\n",
              "    .dataframe thead th {\n",
              "        text-align: right;\n",
              "    }\n",
              "</style>\n",
              "<table border=\"1\" class=\"dataframe\">\n",
              "  <thead>\n",
              "    <tr style=\"text-align: right;\">\n",
              "      <th></th>\n",
              "      <th>Loan_ID</th>\n",
              "      <th>Gender</th>\n",
              "      <th>Married</th>\n",
              "      <th>Dependents</th>\n",
              "      <th>Education</th>\n",
              "      <th>Self_Employed</th>\n",
              "      <th>ApplicantIncome</th>\n",
              "      <th>CoapplicantIncome</th>\n",
              "      <th>LoanAmount</th>\n",
              "      <th>Loan_Amount_Term</th>\n",
              "      <th>Credit_History</th>\n",
              "      <th>Property_Area</th>\n",
              "      <th>Loan_Status</th>\n",
              "    </tr>\n",
              "  </thead>\n",
              "  <tbody>\n",
              "    <tr>\n",
              "      <th>104</th>\n",
              "      <td>LP001357</td>\n",
              "      <td>Male</td>\n",
              "      <td>NaN</td>\n",
              "      <td>0</td>\n",
              "      <td>Graduate</td>\n",
              "      <td>No</td>\n",
              "      <td>3816</td>\n",
              "      <td>754.0</td>\n",
              "      <td>160.0</td>\n",
              "      <td>360.0</td>\n",
              "      <td>1.0</td>\n",
              "      <td>Urban</td>\n",
              "      <td>Y</td>\n",
              "    </tr>\n",
              "    <tr>\n",
              "      <th>228</th>\n",
              "      <td>LP001760</td>\n",
              "      <td>Male</td>\n",
              "      <td>NaN</td>\n",
              "      <td>0</td>\n",
              "      <td>Graduate</td>\n",
              "      <td>No</td>\n",
              "      <td>4758</td>\n",
              "      <td>0.0</td>\n",
              "      <td>158.0</td>\n",
              "      <td>480.0</td>\n",
              "      <td>1.0</td>\n",
              "      <td>Semiurban</td>\n",
              "      <td>Y</td>\n",
              "    </tr>\n",
              "    <tr>\n",
              "      <th>435</th>\n",
              "      <td>LP002393</td>\n",
              "      <td>Female</td>\n",
              "      <td>NaN</td>\n",
              "      <td>0</td>\n",
              "      <td>Graduate</td>\n",
              "      <td>No</td>\n",
              "      <td>10047</td>\n",
              "      <td>0.0</td>\n",
              "      <td>128.0</td>\n",
              "      <td>240.0</td>\n",
              "      <td>1.0</td>\n",
              "      <td>Semiurban</td>\n",
              "      <td>Y</td>\n",
              "    </tr>\n",
              "  </tbody>\n",
              "</table>\n",
              "</div>\n",
              "      <button class=\"colab-df-convert\" onclick=\"convertToInteractive('df-d44cc807-d51f-4a12-b67e-3ca1c8b343ec')\"\n",
              "              title=\"Convert this dataframe to an interactive table.\"\n",
              "              style=\"display:none;\">\n",
              "        \n",
              "  <svg xmlns=\"http://www.w3.org/2000/svg\" height=\"24px\"viewBox=\"0 0 24 24\"\n",
              "       width=\"24px\">\n",
              "    <path d=\"M0 0h24v24H0V0z\" fill=\"none\"/>\n",
              "    <path d=\"M18.56 5.44l.94 2.06.94-2.06 2.06-.94-2.06-.94-.94-2.06-.94 2.06-2.06.94zm-11 1L8.5 8.5l.94-2.06 2.06-.94-2.06-.94L8.5 2.5l-.94 2.06-2.06.94zm10 10l.94 2.06.94-2.06 2.06-.94-2.06-.94-.94-2.06-.94 2.06-2.06.94z\"/><path d=\"M17.41 7.96l-1.37-1.37c-.4-.4-.92-.59-1.43-.59-.52 0-1.04.2-1.43.59L10.3 9.45l-7.72 7.72c-.78.78-.78 2.05 0 2.83L4 21.41c.39.39.9.59 1.41.59.51 0 1.02-.2 1.41-.59l7.78-7.78 2.81-2.81c.8-.78.8-2.07 0-2.86zM5.41 20L4 18.59l7.72-7.72 1.47 1.35L5.41 20z\"/>\n",
              "  </svg>\n",
              "      </button>\n",
              "      \n",
              "  <style>\n",
              "    .colab-df-container {\n",
              "      display:flex;\n",
              "      flex-wrap:wrap;\n",
              "      gap: 12px;\n",
              "    }\n",
              "\n",
              "    .colab-df-convert {\n",
              "      background-color: #E8F0FE;\n",
              "      border: none;\n",
              "      border-radius: 50%;\n",
              "      cursor: pointer;\n",
              "      display: none;\n",
              "      fill: #1967D2;\n",
              "      height: 32px;\n",
              "      padding: 0 0 0 0;\n",
              "      width: 32px;\n",
              "    }\n",
              "\n",
              "    .colab-df-convert:hover {\n",
              "      background-color: #E2EBFA;\n",
              "      box-shadow: 0px 1px 2px rgba(60, 64, 67, 0.3), 0px 1px 3px 1px rgba(60, 64, 67, 0.15);\n",
              "      fill: #174EA6;\n",
              "    }\n",
              "\n",
              "    [theme=dark] .colab-df-convert {\n",
              "      background-color: #3B4455;\n",
              "      fill: #D2E3FC;\n",
              "    }\n",
              "\n",
              "    [theme=dark] .colab-df-convert:hover {\n",
              "      background-color: #434B5C;\n",
              "      box-shadow: 0px 1px 3px 1px rgba(0, 0, 0, 0.15);\n",
              "      filter: drop-shadow(0px 1px 2px rgba(0, 0, 0, 0.3));\n",
              "      fill: #FFFFFF;\n",
              "    }\n",
              "  </style>\n",
              "\n",
              "      <script>\n",
              "        const buttonEl =\n",
              "          document.querySelector('#df-d44cc807-d51f-4a12-b67e-3ca1c8b343ec button.colab-df-convert');\n",
              "        buttonEl.style.display =\n",
              "          google.colab.kernel.accessAllowed ? 'block' : 'none';\n",
              "\n",
              "        async function convertToInteractive(key) {\n",
              "          const element = document.querySelector('#df-d44cc807-d51f-4a12-b67e-3ca1c8b343ec');\n",
              "          const dataTable =\n",
              "            await google.colab.kernel.invokeFunction('convertToInteractive',\n",
              "                                                     [key], {});\n",
              "          if (!dataTable) return;\n",
              "\n",
              "          const docLinkHtml = 'Like what you see? Visit the ' +\n",
              "            '<a target=\"_blank\" href=https://colab.research.google.com/notebooks/data_table.ipynb>data table notebook</a>'\n",
              "            + ' to learn more about interactive tables.';\n",
              "          element.innerHTML = '';\n",
              "          dataTable['output_type'] = 'display_data';\n",
              "          await google.colab.output.renderOutput(dataTable, element);\n",
              "          const docLink = document.createElement('div');\n",
              "          docLink.innerHTML = docLinkHtml;\n",
              "          element.appendChild(docLink);\n",
              "        }\n",
              "      </script>\n",
              "    </div>\n",
              "  </div>\n",
              "  "
            ],
            "text/plain": [
              "      Loan_ID  Gender Married  ... Credit_History Property_Area Loan_Status\n",
              "104  LP001357    Male     NaN  ...            1.0         Urban           Y\n",
              "228  LP001760    Male     NaN  ...            1.0     Semiurban           Y\n",
              "435  LP002393  Female     NaN  ...            1.0     Semiurban           Y\n",
              "\n",
              "[3 rows x 13 columns]"
            ]
          },
          "metadata": {},
          "execution_count": 511
        }
      ]
    },
    {
      "cell_type": "code",
      "source": [
        "train[train['Gender']=='Male']['Married'].value_counts()"
      ],
      "metadata": {
        "colab": {
          "base_uri": "https://localhost:8080/"
        },
        "id": "LOUQIC1pkdRG",
        "outputId": "b96d08c2-6f23-4ade-8169-06cb307da07c"
      },
      "execution_count": null,
      "outputs": [
        {
          "output_type": "execute_result",
          "data": {
            "text/plain": [
              "Yes    367\n",
              "No     133\n",
              "Name: Married, dtype: int64"
            ]
          },
          "metadata": {},
          "execution_count": 512
        }
      ]
    },
    {
      "cell_type": "code",
      "source": [
        "train[train['Gender']=='Male'][train['ApplicantIncome']>3000][train['ApplicantIncome']<5000]['Married'].value_counts()"
      ],
      "metadata": {
        "colab": {
          "base_uri": "https://localhost:8080/"
        },
        "id": "5BVO7UHbfcJZ",
        "outputId": "a0397420-0cde-4cee-b1a9-bc55c8fc65ed"
      },
      "execution_count": null,
      "outputs": [
        {
          "output_type": "stream",
          "name": "stderr",
          "text": [
            "/usr/local/lib/python3.7/dist-packages/ipykernel_launcher.py:1: UserWarning: Boolean Series key will be reindexed to match DataFrame index.\n",
            "  \"\"\"Entry point for launching an IPython kernel.\n",
            "/usr/local/lib/python3.7/dist-packages/ipykernel_launcher.py:1: UserWarning: Boolean Series key will be reindexed to match DataFrame index.\n",
            "  \"\"\"Entry point for launching an IPython kernel.\n"
          ]
        },
        {
          "output_type": "execute_result",
          "data": {
            "text/plain": [
              "Yes    134\n",
              "No      54\n",
              "Name: Married, dtype: int64"
            ]
          },
          "metadata": {},
          "execution_count": 513
        }
      ]
    },
    {
      "cell_type": "markdown",
      "source": [
        "**There are more Married men than Unmarried men with an income between 3000 and 5000.**"
      ],
      "metadata": {
        "id": "nDSp3zWalS3k"
      }
    },
    {
      "cell_type": "code",
      "source": [
        "train[train['Gender']=='Female']['Married'].value_counts()"
      ],
      "metadata": {
        "colab": {
          "base_uri": "https://localhost:8080/"
        },
        "id": "wQ1iLTuHfUIj",
        "outputId": "f66eddb4-bc60-402e-c1a2-5454ecd70e78"
      },
      "execution_count": null,
      "outputs": [
        {
          "output_type": "execute_result",
          "data": {
            "text/plain": [
              "No     80\n",
              "Yes    31\n",
              "Name: Married, dtype: int64"
            ]
          },
          "metadata": {},
          "execution_count": 514
        }
      ]
    },
    {
      "cell_type": "code",
      "source": [
        "train[train['Gender']=='Female'][train['ApplicantIncome']>9000]['Married'].value_counts()"
      ],
      "metadata": {
        "colab": {
          "base_uri": "https://localhost:8080/"
        },
        "id": "2E-LsFRXjLNo",
        "outputId": "41a87976-68a1-475b-8e94-a36f9120248d"
      },
      "execution_count": null,
      "outputs": [
        {
          "output_type": "stream",
          "name": "stderr",
          "text": [
            "/usr/local/lib/python3.7/dist-packages/ipykernel_launcher.py:1: UserWarning: Boolean Series key will be reindexed to match DataFrame index.\n",
            "  \"\"\"Entry point for launching an IPython kernel.\n"
          ]
        },
        {
          "output_type": "execute_result",
          "data": {
            "text/plain": [
              "No     7\n",
              "Yes    4\n",
              "Name: Married, dtype: int64"
            ]
          },
          "metadata": {},
          "execution_count": 515
        }
      ]
    },
    {
      "cell_type": "markdown",
      "source": [
        "**There are more Unmarried Female than Married Female with Income greater than 9000**\n",
        "\n",
        "**The 2 missing values for 'Married' variable, Male Gender will be filled as Yes and Female Gender as No**"
      ],
      "metadata": {
        "id": "1QN8BFf9k3jN"
      }
    },
    {
      "cell_type": "code",
      "source": [
        "train.iloc[[104,228]] = train.iloc[[104,228]].fillna('Yes')\n",
        "train.iloc[435] = train.iloc[435].fillna('No')"
      ],
      "metadata": {
        "id": "JlOCdKy3nDOo"
      },
      "execution_count": null,
      "outputs": []
    },
    {
      "cell_type": "code",
      "source": [
        "train[train['Married'].isnull()]"
      ],
      "metadata": {
        "colab": {
          "base_uri": "https://localhost:8080/",
          "height": 113
        },
        "id": "ST6dsYcZol2-",
        "outputId": "2090265b-4b0e-4294-c6bd-3e3c2504aad8"
      },
      "execution_count": null,
      "outputs": [
        {
          "output_type": "execute_result",
          "data": {
            "text/html": [
              "\n",
              "  <div id=\"df-544245d8-e08a-4c3e-b75b-8f2150900843\">\n",
              "    <div class=\"colab-df-container\">\n",
              "      <div>\n",
              "<style scoped>\n",
              "    .dataframe tbody tr th:only-of-type {\n",
              "        vertical-align: middle;\n",
              "    }\n",
              "\n",
              "    .dataframe tbody tr th {\n",
              "        vertical-align: top;\n",
              "    }\n",
              "\n",
              "    .dataframe thead th {\n",
              "        text-align: right;\n",
              "    }\n",
              "</style>\n",
              "<table border=\"1\" class=\"dataframe\">\n",
              "  <thead>\n",
              "    <tr style=\"text-align: right;\">\n",
              "      <th></th>\n",
              "      <th>Loan_ID</th>\n",
              "      <th>Gender</th>\n",
              "      <th>Married</th>\n",
              "      <th>Dependents</th>\n",
              "      <th>Education</th>\n",
              "      <th>Self_Employed</th>\n",
              "      <th>ApplicantIncome</th>\n",
              "      <th>CoapplicantIncome</th>\n",
              "      <th>LoanAmount</th>\n",
              "      <th>Loan_Amount_Term</th>\n",
              "      <th>Credit_History</th>\n",
              "      <th>Property_Area</th>\n",
              "      <th>Loan_Status</th>\n",
              "    </tr>\n",
              "  </thead>\n",
              "  <tbody>\n",
              "  </tbody>\n",
              "</table>\n",
              "</div>\n",
              "      <button class=\"colab-df-convert\" onclick=\"convertToInteractive('df-544245d8-e08a-4c3e-b75b-8f2150900843')\"\n",
              "              title=\"Convert this dataframe to an interactive table.\"\n",
              "              style=\"display:none;\">\n",
              "        \n",
              "  <svg xmlns=\"http://www.w3.org/2000/svg\" height=\"24px\"viewBox=\"0 0 24 24\"\n",
              "       width=\"24px\">\n",
              "    <path d=\"M0 0h24v24H0V0z\" fill=\"none\"/>\n",
              "    <path d=\"M18.56 5.44l.94 2.06.94-2.06 2.06-.94-2.06-.94-.94-2.06-.94 2.06-2.06.94zm-11 1L8.5 8.5l.94-2.06 2.06-.94-2.06-.94L8.5 2.5l-.94 2.06-2.06.94zm10 10l.94 2.06.94-2.06 2.06-.94-2.06-.94-.94-2.06-.94 2.06-2.06.94z\"/><path d=\"M17.41 7.96l-1.37-1.37c-.4-.4-.92-.59-1.43-.59-.52 0-1.04.2-1.43.59L10.3 9.45l-7.72 7.72c-.78.78-.78 2.05 0 2.83L4 21.41c.39.39.9.59 1.41.59.51 0 1.02-.2 1.41-.59l7.78-7.78 2.81-2.81c.8-.78.8-2.07 0-2.86zM5.41 20L4 18.59l7.72-7.72 1.47 1.35L5.41 20z\"/>\n",
              "  </svg>\n",
              "      </button>\n",
              "      \n",
              "  <style>\n",
              "    .colab-df-container {\n",
              "      display:flex;\n",
              "      flex-wrap:wrap;\n",
              "      gap: 12px;\n",
              "    }\n",
              "\n",
              "    .colab-df-convert {\n",
              "      background-color: #E8F0FE;\n",
              "      border: none;\n",
              "      border-radius: 50%;\n",
              "      cursor: pointer;\n",
              "      display: none;\n",
              "      fill: #1967D2;\n",
              "      height: 32px;\n",
              "      padding: 0 0 0 0;\n",
              "      width: 32px;\n",
              "    }\n",
              "\n",
              "    .colab-df-convert:hover {\n",
              "      background-color: #E2EBFA;\n",
              "      box-shadow: 0px 1px 2px rgba(60, 64, 67, 0.3), 0px 1px 3px 1px rgba(60, 64, 67, 0.15);\n",
              "      fill: #174EA6;\n",
              "    }\n",
              "\n",
              "    [theme=dark] .colab-df-convert {\n",
              "      background-color: #3B4455;\n",
              "      fill: #D2E3FC;\n",
              "    }\n",
              "\n",
              "    [theme=dark] .colab-df-convert:hover {\n",
              "      background-color: #434B5C;\n",
              "      box-shadow: 0px 1px 3px 1px rgba(0, 0, 0, 0.15);\n",
              "      filter: drop-shadow(0px 1px 2px rgba(0, 0, 0, 0.3));\n",
              "      fill: #FFFFFF;\n",
              "    }\n",
              "  </style>\n",
              "\n",
              "      <script>\n",
              "        const buttonEl =\n",
              "          document.querySelector('#df-544245d8-e08a-4c3e-b75b-8f2150900843 button.colab-df-convert');\n",
              "        buttonEl.style.display =\n",
              "          google.colab.kernel.accessAllowed ? 'block' : 'none';\n",
              "\n",
              "        async function convertToInteractive(key) {\n",
              "          const element = document.querySelector('#df-544245d8-e08a-4c3e-b75b-8f2150900843');\n",
              "          const dataTable =\n",
              "            await google.colab.kernel.invokeFunction('convertToInteractive',\n",
              "                                                     [key], {});\n",
              "          if (!dataTable) return;\n",
              "\n",
              "          const docLinkHtml = 'Like what you see? Visit the ' +\n",
              "            '<a target=\"_blank\" href=https://colab.research.google.com/notebooks/data_table.ipynb>data table notebook</a>'\n",
              "            + ' to learn more about interactive tables.';\n",
              "          element.innerHTML = '';\n",
              "          dataTable['output_type'] = 'display_data';\n",
              "          await google.colab.output.renderOutput(dataTable, element);\n",
              "          const docLink = document.createElement('div');\n",
              "          docLink.innerHTML = docLinkHtml;\n",
              "          element.appendChild(docLink);\n",
              "        }\n",
              "      </script>\n",
              "    </div>\n",
              "  </div>\n",
              "  "
            ],
            "text/plain": [
              "Empty DataFrame\n",
              "Columns: [Loan_ID, Gender, Married, Dependents, Education, Self_Employed, ApplicantIncome, CoapplicantIncome, LoanAmount, Loan_Amount_Term, Credit_History, Property_Area, Loan_Status]\n",
              "Index: []"
            ]
          },
          "metadata": {},
          "execution_count": 517
        }
      ]
    },
    {
      "cell_type": "code",
      "source": [
        "test[test.Married.isnull()]"
      ],
      "metadata": {
        "colab": {
          "base_uri": "https://localhost:8080/",
          "height": 113
        },
        "id": "D0s_K-NopI0b",
        "outputId": "adbb7a13-3127-4f75-cef0-97586ea20649"
      },
      "execution_count": null,
      "outputs": [
        {
          "output_type": "execute_result",
          "data": {
            "text/html": [
              "\n",
              "  <div id=\"df-ab5b8902-5d55-4fa3-9601-88b5f8ec4eb9\">\n",
              "    <div class=\"colab-df-container\">\n",
              "      <div>\n",
              "<style scoped>\n",
              "    .dataframe tbody tr th:only-of-type {\n",
              "        vertical-align: middle;\n",
              "    }\n",
              "\n",
              "    .dataframe tbody tr th {\n",
              "        vertical-align: top;\n",
              "    }\n",
              "\n",
              "    .dataframe thead th {\n",
              "        text-align: right;\n",
              "    }\n",
              "</style>\n",
              "<table border=\"1\" class=\"dataframe\">\n",
              "  <thead>\n",
              "    <tr style=\"text-align: right;\">\n",
              "      <th></th>\n",
              "      <th>Loan_ID</th>\n",
              "      <th>Gender</th>\n",
              "      <th>Married</th>\n",
              "      <th>Dependents</th>\n",
              "      <th>Education</th>\n",
              "      <th>Self_Employed</th>\n",
              "      <th>ApplicantIncome</th>\n",
              "      <th>CoapplicantIncome</th>\n",
              "      <th>LoanAmount</th>\n",
              "      <th>Loan_Amount_Term</th>\n",
              "      <th>Credit_History</th>\n",
              "      <th>Property_Area</th>\n",
              "    </tr>\n",
              "  </thead>\n",
              "  <tbody>\n",
              "  </tbody>\n",
              "</table>\n",
              "</div>\n",
              "      <button class=\"colab-df-convert\" onclick=\"convertToInteractive('df-ab5b8902-5d55-4fa3-9601-88b5f8ec4eb9')\"\n",
              "              title=\"Convert this dataframe to an interactive table.\"\n",
              "              style=\"display:none;\">\n",
              "        \n",
              "  <svg xmlns=\"http://www.w3.org/2000/svg\" height=\"24px\"viewBox=\"0 0 24 24\"\n",
              "       width=\"24px\">\n",
              "    <path d=\"M0 0h24v24H0V0z\" fill=\"none\"/>\n",
              "    <path d=\"M18.56 5.44l.94 2.06.94-2.06 2.06-.94-2.06-.94-.94-2.06-.94 2.06-2.06.94zm-11 1L8.5 8.5l.94-2.06 2.06-.94-2.06-.94L8.5 2.5l-.94 2.06-2.06.94zm10 10l.94 2.06.94-2.06 2.06-.94-2.06-.94-.94-2.06-.94 2.06-2.06.94z\"/><path d=\"M17.41 7.96l-1.37-1.37c-.4-.4-.92-.59-1.43-.59-.52 0-1.04.2-1.43.59L10.3 9.45l-7.72 7.72c-.78.78-.78 2.05 0 2.83L4 21.41c.39.39.9.59 1.41.59.51 0 1.02-.2 1.41-.59l7.78-7.78 2.81-2.81c.8-.78.8-2.07 0-2.86zM5.41 20L4 18.59l7.72-7.72 1.47 1.35L5.41 20z\"/>\n",
              "  </svg>\n",
              "      </button>\n",
              "      \n",
              "  <style>\n",
              "    .colab-df-container {\n",
              "      display:flex;\n",
              "      flex-wrap:wrap;\n",
              "      gap: 12px;\n",
              "    }\n",
              "\n",
              "    .colab-df-convert {\n",
              "      background-color: #E8F0FE;\n",
              "      border: none;\n",
              "      border-radius: 50%;\n",
              "      cursor: pointer;\n",
              "      display: none;\n",
              "      fill: #1967D2;\n",
              "      height: 32px;\n",
              "      padding: 0 0 0 0;\n",
              "      width: 32px;\n",
              "    }\n",
              "\n",
              "    .colab-df-convert:hover {\n",
              "      background-color: #E2EBFA;\n",
              "      box-shadow: 0px 1px 2px rgba(60, 64, 67, 0.3), 0px 1px 3px 1px rgba(60, 64, 67, 0.15);\n",
              "      fill: #174EA6;\n",
              "    }\n",
              "\n",
              "    [theme=dark] .colab-df-convert {\n",
              "      background-color: #3B4455;\n",
              "      fill: #D2E3FC;\n",
              "    }\n",
              "\n",
              "    [theme=dark] .colab-df-convert:hover {\n",
              "      background-color: #434B5C;\n",
              "      box-shadow: 0px 1px 3px 1px rgba(0, 0, 0, 0.15);\n",
              "      filter: drop-shadow(0px 1px 2px rgba(0, 0, 0, 0.3));\n",
              "      fill: #FFFFFF;\n",
              "    }\n",
              "  </style>\n",
              "\n",
              "      <script>\n",
              "        const buttonEl =\n",
              "          document.querySelector('#df-ab5b8902-5d55-4fa3-9601-88b5f8ec4eb9 button.colab-df-convert');\n",
              "        buttonEl.style.display =\n",
              "          google.colab.kernel.accessAllowed ? 'block' : 'none';\n",
              "\n",
              "        async function convertToInteractive(key) {\n",
              "          const element = document.querySelector('#df-ab5b8902-5d55-4fa3-9601-88b5f8ec4eb9');\n",
              "          const dataTable =\n",
              "            await google.colab.kernel.invokeFunction('convertToInteractive',\n",
              "                                                     [key], {});\n",
              "          if (!dataTable) return;\n",
              "\n",
              "          const docLinkHtml = 'Like what you see? Visit the ' +\n",
              "            '<a target=\"_blank\" href=https://colab.research.google.com/notebooks/data_table.ipynb>data table notebook</a>'\n",
              "            + ' to learn more about interactive tables.';\n",
              "          element.innerHTML = '';\n",
              "          dataTable['output_type'] = 'display_data';\n",
              "          await google.colab.output.renderOutput(dataTable, element);\n",
              "          const docLink = document.createElement('div');\n",
              "          docLink.innerHTML = docLinkHtml;\n",
              "          element.appendChild(docLink);\n",
              "        }\n",
              "      </script>\n",
              "    </div>\n",
              "  </div>\n",
              "  "
            ],
            "text/plain": [
              "Empty DataFrame\n",
              "Columns: [Loan_ID, Gender, Married, Dependents, Education, Self_Employed, ApplicantIncome, CoapplicantIncome, LoanAmount, Loan_Amount_Term, Credit_History, Property_Area]\n",
              "Index: []"
            ]
          },
          "metadata": {},
          "execution_count": 518
        }
      ]
    },
    {
      "cell_type": "markdown",
      "source": [
        "**Test set Married column is free of missing values**"
      ],
      "metadata": {
        "id": "uIsLbuerpVts"
      }
    },
    {
      "cell_type": "code",
      "source": [
        "train.isnull().sum()"
      ],
      "metadata": {
        "colab": {
          "base_uri": "https://localhost:8080/"
        },
        "id": "RP4zhlVCpzJr",
        "outputId": "62ede4be-67f3-442f-8e33-0e5c698da038"
      },
      "execution_count": null,
      "outputs": [
        {
          "output_type": "execute_result",
          "data": {
            "text/plain": [
              "Loan_ID              0\n",
              "Gender               0\n",
              "Married              0\n",
              "Dependents           0\n",
              "Education            0\n",
              "Self_Employed        0\n",
              "ApplicantIncome      0\n",
              "CoapplicantIncome    0\n",
              "LoanAmount           0\n",
              "Loan_Amount_Term     0\n",
              "Credit_History       0\n",
              "Property_Area        0\n",
              "Loan_Status          0\n",
              "dtype: int64"
            ]
          },
          "metadata": {},
          "execution_count": 519
        }
      ]
    },
    {
      "cell_type": "code",
      "source": [
        "test.isnull().sum()"
      ],
      "metadata": {
        "colab": {
          "base_uri": "https://localhost:8080/"
        },
        "id": "EAjwgoTip29W",
        "outputId": "06d79b88-3d7f-4f64-eeb4-b1499be966f5"
      },
      "execution_count": null,
      "outputs": [
        {
          "output_type": "execute_result",
          "data": {
            "text/plain": [
              "Loan_ID              0\n",
              "Gender               0\n",
              "Married              0\n",
              "Dependents           0\n",
              "Education            0\n",
              "Self_Employed        0\n",
              "ApplicantIncome      0\n",
              "CoapplicantIncome    0\n",
              "LoanAmount           0\n",
              "Loan_Amount_Term     0\n",
              "Credit_History       0\n",
              "Property_Area        0\n",
              "dtype: int64"
            ]
          },
          "metadata": {},
          "execution_count": 520
        }
      ]
    },
    {
      "cell_type": "markdown",
      "source": [
        "**Data set is free from NULL values**"
      ],
      "metadata": {
        "id": "feeJQvTsqeNq"
      }
    },
    {
      "cell_type": "code",
      "source": [
        "train.info()"
      ],
      "metadata": {
        "colab": {
          "base_uri": "https://localhost:8080/"
        },
        "id": "qu0ZQLiGqvnO",
        "outputId": "681d41a6-9d9b-4e18-d3da-e33b6674a75c"
      },
      "execution_count": null,
      "outputs": [
        {
          "output_type": "stream",
          "name": "stdout",
          "text": [
            "<class 'pandas.core.frame.DataFrame'>\n",
            "RangeIndex: 614 entries, 0 to 613\n",
            "Data columns (total 13 columns):\n",
            " #   Column             Non-Null Count  Dtype  \n",
            "---  ------             --------------  -----  \n",
            " 0   Loan_ID            614 non-null    object \n",
            " 1   Gender             614 non-null    object \n",
            " 2   Married            614 non-null    object \n",
            " 3   Dependents         614 non-null    object \n",
            " 4   Education          614 non-null    object \n",
            " 5   Self_Employed      614 non-null    object \n",
            " 6   ApplicantIncome    614 non-null    int64  \n",
            " 7   CoapplicantIncome  614 non-null    float64\n",
            " 8   LoanAmount         614 non-null    float64\n",
            " 9   Loan_Amount_Term   614 non-null    float64\n",
            " 10  Credit_History     614 non-null    float64\n",
            " 11  Property_Area      614 non-null    object \n",
            " 12  Loan_Status        614 non-null    object \n",
            "dtypes: float64(4), int64(1), object(8)\n",
            "memory usage: 62.5+ KB\n"
          ]
        }
      ]
    },
    {
      "cell_type": "code",
      "source": [
        "test.info()"
      ],
      "metadata": {
        "colab": {
          "base_uri": "https://localhost:8080/"
        },
        "id": "VBsOwnl7thJv",
        "outputId": "80af0060-1f95-4182-ea4e-e12331771853"
      },
      "execution_count": null,
      "outputs": [
        {
          "output_type": "stream",
          "name": "stdout",
          "text": [
            "<class 'pandas.core.frame.DataFrame'>\n",
            "RangeIndex: 367 entries, 0 to 366\n",
            "Data columns (total 12 columns):\n",
            " #   Column             Non-Null Count  Dtype  \n",
            "---  ------             --------------  -----  \n",
            " 0   Loan_ID            367 non-null    object \n",
            " 1   Gender             367 non-null    object \n",
            " 2   Married            367 non-null    object \n",
            " 3   Dependents         367 non-null    object \n",
            " 4   Education          367 non-null    object \n",
            " 5   Self_Employed      367 non-null    object \n",
            " 6   ApplicantIncome    367 non-null    int64  \n",
            " 7   CoapplicantIncome  367 non-null    int64  \n",
            " 8   LoanAmount         367 non-null    float64\n",
            " 9   Loan_Amount_Term   367 non-null    float64\n",
            " 10  Credit_History     367 non-null    float64\n",
            " 11  Property_Area      367 non-null    object \n",
            "dtypes: float64(3), int64(2), object(7)\n",
            "memory usage: 34.5+ KB\n"
          ]
        }
      ]
    },
    {
      "cell_type": "code",
      "source": [
        "train['Property_Area'].value_counts()"
      ],
      "metadata": {
        "colab": {
          "base_uri": "https://localhost:8080/"
        },
        "id": "QfW0ENCYAF5b",
        "outputId": "66f697ac-4154-4f29-85b2-f978cfa92ed8"
      },
      "execution_count": null,
      "outputs": [
        {
          "output_type": "execute_result",
          "data": {
            "text/plain": [
              "Semiurban    233\n",
              "Urban        202\n",
              "Rural        179\n",
              "Name: Property_Area, dtype: int64"
            ]
          },
          "metadata": {},
          "execution_count": 523
        }
      ]
    },
    {
      "cell_type": "code",
      "source": [
        "train['Loan_Status'].value_counts()"
      ],
      "metadata": {
        "colab": {
          "base_uri": "https://localhost:8080/"
        },
        "id": "lRg_gSvtA-Ck",
        "outputId": "3ebeff49-ed3e-4158-a5e0-a794f6ab6cb3"
      },
      "execution_count": null,
      "outputs": [
        {
          "output_type": "execute_result",
          "data": {
            "text/plain": [
              "Y    422\n",
              "N    192\n",
              "Name: Loan_Status, dtype: int64"
            ]
          },
          "metadata": {},
          "execution_count": 524
        }
      ]
    },
    {
      "cell_type": "markdown",
      "source": [
        "##Encoding"
      ],
      "metadata": {
        "id": "MU7BdHBptUVf"
      }
    },
    {
      "cell_type": "markdown",
      "source": [
        "##Q5. \n",
        "\n",
        "Which type of encoding will be required to perform on the \"Education\" column?\n"
      ],
      "metadata": {
        "id": "ur9MnY7UYD9J"
      }
    },
    {
      "cell_type": "markdown",
      "source": [
        "**Because there are only 2 categories, Label encoding would be okay**"
      ],
      "metadata": {
        "id": "YmzgBofGYGl0"
      }
    },
    {
      "cell_type": "markdown",
      "source": [
        "###Label encoding"
      ],
      "metadata": {
        "id": "e2VFcCWpBuF1"
      }
    },
    {
      "cell_type": "code",
      "source": [
        "le = LabelEncoder()"
      ],
      "metadata": {
        "id": "vvaIX8ZstWlR"
      },
      "execution_count": null,
      "outputs": []
    },
    {
      "cell_type": "code",
      "source": [
        "train.Gender = le.fit_transform(train.Gender)\n",
        "test.Gender = le.fit_transform(test.Gender)"
      ],
      "metadata": {
        "id": "ZZvex-witoXX"
      },
      "execution_count": null,
      "outputs": []
    },
    {
      "cell_type": "code",
      "source": [
        "train.Married = le.fit_transform(train.Married)\n",
        "test.Married = le.fit_transform(test.Married)"
      ],
      "metadata": {
        "id": "8q7qTVmW_Fqw"
      },
      "execution_count": null,
      "outputs": []
    },
    {
      "cell_type": "code",
      "source": [
        "train.Education = le.fit_transform(train.Education)\n",
        "test.Education = le.fit_transform(test.Education)"
      ],
      "metadata": {
        "id": "IC_z4vsl_xja"
      },
      "execution_count": null,
      "outputs": []
    },
    {
      "cell_type": "code",
      "source": [
        "train.Self_Employed = le.fit_transform(train.Self_Employed)\n",
        "test.Self_Employed = le.fit_transform(test.Self_Employed)"
      ],
      "metadata": {
        "id": "g7r1qX5E_5b4"
      },
      "execution_count": null,
      "outputs": []
    },
    {
      "cell_type": "code",
      "source": [
        "train.Property_Area = le.fit_transform(train.Property_Area)\n",
        "test.Property_Area = le.fit_transform(test.Property_Area)"
      ],
      "metadata": {
        "id": "oKc7CxJjAAkA"
      },
      "execution_count": null,
      "outputs": []
    },
    {
      "cell_type": "code",
      "source": [
        "train.Loan_Status = le.fit_transform(train.Loan_Status)"
      ],
      "metadata": {
        "id": "tZ-6vwGbBElF"
      },
      "execution_count": null,
      "outputs": []
    },
    {
      "cell_type": "markdown",
      "source": [
        "###Onehot encoding"
      ],
      "metadata": {
        "id": "M_-VtdFtEqAO"
      }
    },
    {
      "cell_type": "code",
      "source": [
        "train.Dependents.unique()"
      ],
      "metadata": {
        "colab": {
          "base_uri": "https://localhost:8080/"
        },
        "id": "YWaEZSI4GQCt",
        "outputId": "0ae29ae0-3823-498c-d034-b115d2477377"
      },
      "execution_count": null,
      "outputs": [
        {
          "output_type": "execute_result",
          "data": {
            "text/plain": [
              "array(['0', '1', '2', '3+'], dtype=object)"
            ]
          },
          "metadata": {},
          "execution_count": 532
        }
      ]
    },
    {
      "cell_type": "code",
      "source": [
        "ohe = OneHotEncoder(sparse=False)"
      ],
      "metadata": {
        "id": "yqspo-jxEtZ9"
      },
      "execution_count": null,
      "outputs": []
    },
    {
      "cell_type": "code",
      "source": [
        "new_Dependents = ohe.fit_transform(train[['Dependents']])"
      ],
      "metadata": {
        "id": "lpRQ1DfGE_2s"
      },
      "execution_count": null,
      "outputs": []
    },
    {
      "cell_type": "code",
      "source": [
        "new_Dependents"
      ],
      "metadata": {
        "colab": {
          "base_uri": "https://localhost:8080/"
        },
        "id": "ubm5VadaFqu8",
        "outputId": "f612e178-2003-416d-f9a4-45f5aea4716d"
      },
      "execution_count": null,
      "outputs": [
        {
          "output_type": "execute_result",
          "data": {
            "text/plain": [
              "array([[1., 0., 0., 0.],\n",
              "       [0., 1., 0., 0.],\n",
              "       [1., 0., 0., 0.],\n",
              "       ...,\n",
              "       [0., 1., 0., 0.],\n",
              "       [0., 0., 1., 0.],\n",
              "       [1., 0., 0., 0.]])"
            ]
          },
          "metadata": {},
          "execution_count": 535
        }
      ]
    },
    {
      "cell_type": "code",
      "source": [
        "train[['0_Dependents', '1_Dependent', '2_Dependents', '3+_Dependents']] = new_Dependents\n",
        "train.head(10)"
      ],
      "metadata": {
        "colab": {
          "base_uri": "https://localhost:8080/",
          "height": 426
        },
        "id": "cOJfR2DsFlxa",
        "outputId": "bff52bda-ce5f-488d-81e2-d11e39a3e451"
      },
      "execution_count": null,
      "outputs": [
        {
          "output_type": "execute_result",
          "data": {
            "text/html": [
              "\n",
              "  <div id=\"df-e09638d2-7dce-46c8-b774-2e7591aa79ef\">\n",
              "    <div class=\"colab-df-container\">\n",
              "      <div>\n",
              "<style scoped>\n",
              "    .dataframe tbody tr th:only-of-type {\n",
              "        vertical-align: middle;\n",
              "    }\n",
              "\n",
              "    .dataframe tbody tr th {\n",
              "        vertical-align: top;\n",
              "    }\n",
              "\n",
              "    .dataframe thead th {\n",
              "        text-align: right;\n",
              "    }\n",
              "</style>\n",
              "<table border=\"1\" class=\"dataframe\">\n",
              "  <thead>\n",
              "    <tr style=\"text-align: right;\">\n",
              "      <th></th>\n",
              "      <th>Loan_ID</th>\n",
              "      <th>Gender</th>\n",
              "      <th>Married</th>\n",
              "      <th>Dependents</th>\n",
              "      <th>Education</th>\n",
              "      <th>Self_Employed</th>\n",
              "      <th>ApplicantIncome</th>\n",
              "      <th>CoapplicantIncome</th>\n",
              "      <th>LoanAmount</th>\n",
              "      <th>Loan_Amount_Term</th>\n",
              "      <th>Credit_History</th>\n",
              "      <th>Property_Area</th>\n",
              "      <th>Loan_Status</th>\n",
              "      <th>0_Dependents</th>\n",
              "      <th>1_Dependent</th>\n",
              "      <th>2_Dependents</th>\n",
              "      <th>3+_Dependents</th>\n",
              "    </tr>\n",
              "  </thead>\n",
              "  <tbody>\n",
              "    <tr>\n",
              "      <th>0</th>\n",
              "      <td>LP001002</td>\n",
              "      <td>1</td>\n",
              "      <td>0</td>\n",
              "      <td>0</td>\n",
              "      <td>0</td>\n",
              "      <td>0</td>\n",
              "      <td>5849</td>\n",
              "      <td>0.0</td>\n",
              "      <td>128.0</td>\n",
              "      <td>360.0</td>\n",
              "      <td>1.0</td>\n",
              "      <td>2</td>\n",
              "      <td>1</td>\n",
              "      <td>1.0</td>\n",
              "      <td>0.0</td>\n",
              "      <td>0.0</td>\n",
              "      <td>0.0</td>\n",
              "    </tr>\n",
              "    <tr>\n",
              "      <th>1</th>\n",
              "      <td>LP001003</td>\n",
              "      <td>1</td>\n",
              "      <td>1</td>\n",
              "      <td>1</td>\n",
              "      <td>0</td>\n",
              "      <td>0</td>\n",
              "      <td>4583</td>\n",
              "      <td>1508.0</td>\n",
              "      <td>128.0</td>\n",
              "      <td>360.0</td>\n",
              "      <td>1.0</td>\n",
              "      <td>0</td>\n",
              "      <td>0</td>\n",
              "      <td>0.0</td>\n",
              "      <td>1.0</td>\n",
              "      <td>0.0</td>\n",
              "      <td>0.0</td>\n",
              "    </tr>\n",
              "    <tr>\n",
              "      <th>2</th>\n",
              "      <td>LP001005</td>\n",
              "      <td>1</td>\n",
              "      <td>1</td>\n",
              "      <td>0</td>\n",
              "      <td>0</td>\n",
              "      <td>1</td>\n",
              "      <td>3000</td>\n",
              "      <td>0.0</td>\n",
              "      <td>66.0</td>\n",
              "      <td>360.0</td>\n",
              "      <td>1.0</td>\n",
              "      <td>2</td>\n",
              "      <td>1</td>\n",
              "      <td>1.0</td>\n",
              "      <td>0.0</td>\n",
              "      <td>0.0</td>\n",
              "      <td>0.0</td>\n",
              "    </tr>\n",
              "    <tr>\n",
              "      <th>3</th>\n",
              "      <td>LP001006</td>\n",
              "      <td>1</td>\n",
              "      <td>1</td>\n",
              "      <td>0</td>\n",
              "      <td>1</td>\n",
              "      <td>0</td>\n",
              "      <td>2583</td>\n",
              "      <td>2358.0</td>\n",
              "      <td>120.0</td>\n",
              "      <td>360.0</td>\n",
              "      <td>1.0</td>\n",
              "      <td>2</td>\n",
              "      <td>1</td>\n",
              "      <td>1.0</td>\n",
              "      <td>0.0</td>\n",
              "      <td>0.0</td>\n",
              "      <td>0.0</td>\n",
              "    </tr>\n",
              "    <tr>\n",
              "      <th>4</th>\n",
              "      <td>LP001008</td>\n",
              "      <td>1</td>\n",
              "      <td>0</td>\n",
              "      <td>0</td>\n",
              "      <td>0</td>\n",
              "      <td>0</td>\n",
              "      <td>6000</td>\n",
              "      <td>0.0</td>\n",
              "      <td>141.0</td>\n",
              "      <td>360.0</td>\n",
              "      <td>1.0</td>\n",
              "      <td>2</td>\n",
              "      <td>1</td>\n",
              "      <td>1.0</td>\n",
              "      <td>0.0</td>\n",
              "      <td>0.0</td>\n",
              "      <td>0.0</td>\n",
              "    </tr>\n",
              "    <tr>\n",
              "      <th>5</th>\n",
              "      <td>LP001011</td>\n",
              "      <td>1</td>\n",
              "      <td>1</td>\n",
              "      <td>2</td>\n",
              "      <td>0</td>\n",
              "      <td>1</td>\n",
              "      <td>5417</td>\n",
              "      <td>4196.0</td>\n",
              "      <td>267.0</td>\n",
              "      <td>360.0</td>\n",
              "      <td>1.0</td>\n",
              "      <td>2</td>\n",
              "      <td>1</td>\n",
              "      <td>0.0</td>\n",
              "      <td>0.0</td>\n",
              "      <td>1.0</td>\n",
              "      <td>0.0</td>\n",
              "    </tr>\n",
              "    <tr>\n",
              "      <th>6</th>\n",
              "      <td>LP001013</td>\n",
              "      <td>1</td>\n",
              "      <td>1</td>\n",
              "      <td>0</td>\n",
              "      <td>1</td>\n",
              "      <td>0</td>\n",
              "      <td>2333</td>\n",
              "      <td>1516.0</td>\n",
              "      <td>95.0</td>\n",
              "      <td>360.0</td>\n",
              "      <td>1.0</td>\n",
              "      <td>2</td>\n",
              "      <td>1</td>\n",
              "      <td>1.0</td>\n",
              "      <td>0.0</td>\n",
              "      <td>0.0</td>\n",
              "      <td>0.0</td>\n",
              "    </tr>\n",
              "    <tr>\n",
              "      <th>7</th>\n",
              "      <td>LP001014</td>\n",
              "      <td>1</td>\n",
              "      <td>1</td>\n",
              "      <td>3+</td>\n",
              "      <td>0</td>\n",
              "      <td>0</td>\n",
              "      <td>3036</td>\n",
              "      <td>2504.0</td>\n",
              "      <td>158.0</td>\n",
              "      <td>360.0</td>\n",
              "      <td>0.0</td>\n",
              "      <td>1</td>\n",
              "      <td>0</td>\n",
              "      <td>0.0</td>\n",
              "      <td>0.0</td>\n",
              "      <td>0.0</td>\n",
              "      <td>1.0</td>\n",
              "    </tr>\n",
              "    <tr>\n",
              "      <th>8</th>\n",
              "      <td>LP001018</td>\n",
              "      <td>1</td>\n",
              "      <td>1</td>\n",
              "      <td>2</td>\n",
              "      <td>0</td>\n",
              "      <td>0</td>\n",
              "      <td>4006</td>\n",
              "      <td>1526.0</td>\n",
              "      <td>168.0</td>\n",
              "      <td>360.0</td>\n",
              "      <td>1.0</td>\n",
              "      <td>2</td>\n",
              "      <td>1</td>\n",
              "      <td>0.0</td>\n",
              "      <td>0.0</td>\n",
              "      <td>1.0</td>\n",
              "      <td>0.0</td>\n",
              "    </tr>\n",
              "    <tr>\n",
              "      <th>9</th>\n",
              "      <td>LP001020</td>\n",
              "      <td>1</td>\n",
              "      <td>1</td>\n",
              "      <td>1</td>\n",
              "      <td>0</td>\n",
              "      <td>0</td>\n",
              "      <td>12841</td>\n",
              "      <td>10968.0</td>\n",
              "      <td>349.0</td>\n",
              "      <td>360.0</td>\n",
              "      <td>1.0</td>\n",
              "      <td>1</td>\n",
              "      <td>0</td>\n",
              "      <td>0.0</td>\n",
              "      <td>1.0</td>\n",
              "      <td>0.0</td>\n",
              "      <td>0.0</td>\n",
              "    </tr>\n",
              "  </tbody>\n",
              "</table>\n",
              "</div>\n",
              "      <button class=\"colab-df-convert\" onclick=\"convertToInteractive('df-e09638d2-7dce-46c8-b774-2e7591aa79ef')\"\n",
              "              title=\"Convert this dataframe to an interactive table.\"\n",
              "              style=\"display:none;\">\n",
              "        \n",
              "  <svg xmlns=\"http://www.w3.org/2000/svg\" height=\"24px\"viewBox=\"0 0 24 24\"\n",
              "       width=\"24px\">\n",
              "    <path d=\"M0 0h24v24H0V0z\" fill=\"none\"/>\n",
              "    <path d=\"M18.56 5.44l.94 2.06.94-2.06 2.06-.94-2.06-.94-.94-2.06-.94 2.06-2.06.94zm-11 1L8.5 8.5l.94-2.06 2.06-.94-2.06-.94L8.5 2.5l-.94 2.06-2.06.94zm10 10l.94 2.06.94-2.06 2.06-.94-2.06-.94-.94-2.06-.94 2.06-2.06.94z\"/><path d=\"M17.41 7.96l-1.37-1.37c-.4-.4-.92-.59-1.43-.59-.52 0-1.04.2-1.43.59L10.3 9.45l-7.72 7.72c-.78.78-.78 2.05 0 2.83L4 21.41c.39.39.9.59 1.41.59.51 0 1.02-.2 1.41-.59l7.78-7.78 2.81-2.81c.8-.78.8-2.07 0-2.86zM5.41 20L4 18.59l7.72-7.72 1.47 1.35L5.41 20z\"/>\n",
              "  </svg>\n",
              "      </button>\n",
              "      \n",
              "  <style>\n",
              "    .colab-df-container {\n",
              "      display:flex;\n",
              "      flex-wrap:wrap;\n",
              "      gap: 12px;\n",
              "    }\n",
              "\n",
              "    .colab-df-convert {\n",
              "      background-color: #E8F0FE;\n",
              "      border: none;\n",
              "      border-radius: 50%;\n",
              "      cursor: pointer;\n",
              "      display: none;\n",
              "      fill: #1967D2;\n",
              "      height: 32px;\n",
              "      padding: 0 0 0 0;\n",
              "      width: 32px;\n",
              "    }\n",
              "\n",
              "    .colab-df-convert:hover {\n",
              "      background-color: #E2EBFA;\n",
              "      box-shadow: 0px 1px 2px rgba(60, 64, 67, 0.3), 0px 1px 3px 1px rgba(60, 64, 67, 0.15);\n",
              "      fill: #174EA6;\n",
              "    }\n",
              "\n",
              "    [theme=dark] .colab-df-convert {\n",
              "      background-color: #3B4455;\n",
              "      fill: #D2E3FC;\n",
              "    }\n",
              "\n",
              "    [theme=dark] .colab-df-convert:hover {\n",
              "      background-color: #434B5C;\n",
              "      box-shadow: 0px 1px 3px 1px rgba(0, 0, 0, 0.15);\n",
              "      filter: drop-shadow(0px 1px 2px rgba(0, 0, 0, 0.3));\n",
              "      fill: #FFFFFF;\n",
              "    }\n",
              "  </style>\n",
              "\n",
              "      <script>\n",
              "        const buttonEl =\n",
              "          document.querySelector('#df-e09638d2-7dce-46c8-b774-2e7591aa79ef button.colab-df-convert');\n",
              "        buttonEl.style.display =\n",
              "          google.colab.kernel.accessAllowed ? 'block' : 'none';\n",
              "\n",
              "        async function convertToInteractive(key) {\n",
              "          const element = document.querySelector('#df-e09638d2-7dce-46c8-b774-2e7591aa79ef');\n",
              "          const dataTable =\n",
              "            await google.colab.kernel.invokeFunction('convertToInteractive',\n",
              "                                                     [key], {});\n",
              "          if (!dataTable) return;\n",
              "\n",
              "          const docLinkHtml = 'Like what you see? Visit the ' +\n",
              "            '<a target=\"_blank\" href=https://colab.research.google.com/notebooks/data_table.ipynb>data table notebook</a>'\n",
              "            + ' to learn more about interactive tables.';\n",
              "          element.innerHTML = '';\n",
              "          dataTable['output_type'] = 'display_data';\n",
              "          await google.colab.output.renderOutput(dataTable, element);\n",
              "          const docLink = document.createElement('div');\n",
              "          docLink.innerHTML = docLinkHtml;\n",
              "          element.appendChild(docLink);\n",
              "        }\n",
              "      </script>\n",
              "    </div>\n",
              "  </div>\n",
              "  "
            ],
            "text/plain": [
              "    Loan_ID  Gender  Married  ... 1_Dependent  2_Dependents  3+_Dependents\n",
              "0  LP001002       1        0  ...         0.0           0.0            0.0\n",
              "1  LP001003       1        1  ...         1.0           0.0            0.0\n",
              "2  LP001005       1        1  ...         0.0           0.0            0.0\n",
              "3  LP001006       1        1  ...         0.0           0.0            0.0\n",
              "4  LP001008       1        0  ...         0.0           0.0            0.0\n",
              "5  LP001011       1        1  ...         0.0           1.0            0.0\n",
              "6  LP001013       1        1  ...         0.0           0.0            0.0\n",
              "7  LP001014       1        1  ...         0.0           0.0            1.0\n",
              "8  LP001018       1        1  ...         0.0           1.0            0.0\n",
              "9  LP001020       1        1  ...         1.0           0.0            0.0\n",
              "\n",
              "[10 rows x 17 columns]"
            ]
          },
          "metadata": {},
          "execution_count": 536
        }
      ]
    },
    {
      "cell_type": "code",
      "source": [
        "new_Dependents_test = ohe.fit_transform(test[['Dependents']])\n",
        "new_Dependents_test"
      ],
      "metadata": {
        "colab": {
          "base_uri": "https://localhost:8080/"
        },
        "id": "r2ApawWxHqmd",
        "outputId": "de964267-2f91-4827-9dd8-737d4a1742af"
      },
      "execution_count": null,
      "outputs": [
        {
          "output_type": "execute_result",
          "data": {
            "text/plain": [
              "array([[1., 0., 0., 0.],\n",
              "       [0., 1., 0., 0.],\n",
              "       [0., 0., 1., 0.],\n",
              "       ...,\n",
              "       [1., 0., 0., 0.],\n",
              "       [1., 0., 0., 0.],\n",
              "       [1., 0., 0., 0.]])"
            ]
          },
          "metadata": {},
          "execution_count": 537
        }
      ]
    },
    {
      "cell_type": "code",
      "source": [
        "test[['0_Dependents', '1_Dependent', '2_Dependents', '3+_Dependents']] = new_Dependents_test\n",
        "test.head()"
      ],
      "metadata": {
        "colab": {
          "base_uri": "https://localhost:8080/",
          "height": 270
        },
        "id": "SLn-o0WeIDC8",
        "outputId": "31c1e56d-78de-4a1e-c544-431f517d6658"
      },
      "execution_count": null,
      "outputs": [
        {
          "output_type": "execute_result",
          "data": {
            "text/html": [
              "\n",
              "  <div id=\"df-29950259-35a8-415a-8428-44889e379a8d\">\n",
              "    <div class=\"colab-df-container\">\n",
              "      <div>\n",
              "<style scoped>\n",
              "    .dataframe tbody tr th:only-of-type {\n",
              "        vertical-align: middle;\n",
              "    }\n",
              "\n",
              "    .dataframe tbody tr th {\n",
              "        vertical-align: top;\n",
              "    }\n",
              "\n",
              "    .dataframe thead th {\n",
              "        text-align: right;\n",
              "    }\n",
              "</style>\n",
              "<table border=\"1\" class=\"dataframe\">\n",
              "  <thead>\n",
              "    <tr style=\"text-align: right;\">\n",
              "      <th></th>\n",
              "      <th>Loan_ID</th>\n",
              "      <th>Gender</th>\n",
              "      <th>Married</th>\n",
              "      <th>Dependents</th>\n",
              "      <th>Education</th>\n",
              "      <th>Self_Employed</th>\n",
              "      <th>ApplicantIncome</th>\n",
              "      <th>CoapplicantIncome</th>\n",
              "      <th>LoanAmount</th>\n",
              "      <th>Loan_Amount_Term</th>\n",
              "      <th>Credit_History</th>\n",
              "      <th>Property_Area</th>\n",
              "      <th>0_Dependents</th>\n",
              "      <th>1_Dependent</th>\n",
              "      <th>2_Dependents</th>\n",
              "      <th>3+_Dependents</th>\n",
              "    </tr>\n",
              "  </thead>\n",
              "  <tbody>\n",
              "    <tr>\n",
              "      <th>0</th>\n",
              "      <td>LP001015</td>\n",
              "      <td>1</td>\n",
              "      <td>1</td>\n",
              "      <td>0</td>\n",
              "      <td>0</td>\n",
              "      <td>0</td>\n",
              "      <td>5720</td>\n",
              "      <td>0</td>\n",
              "      <td>110.0</td>\n",
              "      <td>360.0</td>\n",
              "      <td>1.0</td>\n",
              "      <td>2</td>\n",
              "      <td>1.0</td>\n",
              "      <td>0.0</td>\n",
              "      <td>0.0</td>\n",
              "      <td>0.0</td>\n",
              "    </tr>\n",
              "    <tr>\n",
              "      <th>1</th>\n",
              "      <td>LP001022</td>\n",
              "      <td>1</td>\n",
              "      <td>1</td>\n",
              "      <td>1</td>\n",
              "      <td>0</td>\n",
              "      <td>0</td>\n",
              "      <td>3076</td>\n",
              "      <td>1500</td>\n",
              "      <td>126.0</td>\n",
              "      <td>360.0</td>\n",
              "      <td>1.0</td>\n",
              "      <td>2</td>\n",
              "      <td>0.0</td>\n",
              "      <td>1.0</td>\n",
              "      <td>0.0</td>\n",
              "      <td>0.0</td>\n",
              "    </tr>\n",
              "    <tr>\n",
              "      <th>2</th>\n",
              "      <td>LP001031</td>\n",
              "      <td>1</td>\n",
              "      <td>1</td>\n",
              "      <td>2</td>\n",
              "      <td>0</td>\n",
              "      <td>0</td>\n",
              "      <td>5000</td>\n",
              "      <td>1800</td>\n",
              "      <td>208.0</td>\n",
              "      <td>360.0</td>\n",
              "      <td>1.0</td>\n",
              "      <td>2</td>\n",
              "      <td>0.0</td>\n",
              "      <td>0.0</td>\n",
              "      <td>1.0</td>\n",
              "      <td>0.0</td>\n",
              "    </tr>\n",
              "    <tr>\n",
              "      <th>3</th>\n",
              "      <td>LP001035</td>\n",
              "      <td>1</td>\n",
              "      <td>1</td>\n",
              "      <td>2</td>\n",
              "      <td>0</td>\n",
              "      <td>0</td>\n",
              "      <td>2340</td>\n",
              "      <td>2546</td>\n",
              "      <td>100.0</td>\n",
              "      <td>360.0</td>\n",
              "      <td>1.0</td>\n",
              "      <td>2</td>\n",
              "      <td>0.0</td>\n",
              "      <td>0.0</td>\n",
              "      <td>1.0</td>\n",
              "      <td>0.0</td>\n",
              "    </tr>\n",
              "    <tr>\n",
              "      <th>4</th>\n",
              "      <td>LP001051</td>\n",
              "      <td>1</td>\n",
              "      <td>0</td>\n",
              "      <td>0</td>\n",
              "      <td>1</td>\n",
              "      <td>0</td>\n",
              "      <td>3276</td>\n",
              "      <td>0</td>\n",
              "      <td>78.0</td>\n",
              "      <td>360.0</td>\n",
              "      <td>1.0</td>\n",
              "      <td>2</td>\n",
              "      <td>1.0</td>\n",
              "      <td>0.0</td>\n",
              "      <td>0.0</td>\n",
              "      <td>0.0</td>\n",
              "    </tr>\n",
              "  </tbody>\n",
              "</table>\n",
              "</div>\n",
              "      <button class=\"colab-df-convert\" onclick=\"convertToInteractive('df-29950259-35a8-415a-8428-44889e379a8d')\"\n",
              "              title=\"Convert this dataframe to an interactive table.\"\n",
              "              style=\"display:none;\">\n",
              "        \n",
              "  <svg xmlns=\"http://www.w3.org/2000/svg\" height=\"24px\"viewBox=\"0 0 24 24\"\n",
              "       width=\"24px\">\n",
              "    <path d=\"M0 0h24v24H0V0z\" fill=\"none\"/>\n",
              "    <path d=\"M18.56 5.44l.94 2.06.94-2.06 2.06-.94-2.06-.94-.94-2.06-.94 2.06-2.06.94zm-11 1L8.5 8.5l.94-2.06 2.06-.94-2.06-.94L8.5 2.5l-.94 2.06-2.06.94zm10 10l.94 2.06.94-2.06 2.06-.94-2.06-.94-.94-2.06-.94 2.06-2.06.94z\"/><path d=\"M17.41 7.96l-1.37-1.37c-.4-.4-.92-.59-1.43-.59-.52 0-1.04.2-1.43.59L10.3 9.45l-7.72 7.72c-.78.78-.78 2.05 0 2.83L4 21.41c.39.39.9.59 1.41.59.51 0 1.02-.2 1.41-.59l7.78-7.78 2.81-2.81c.8-.78.8-2.07 0-2.86zM5.41 20L4 18.59l7.72-7.72 1.47 1.35L5.41 20z\"/>\n",
              "  </svg>\n",
              "      </button>\n",
              "      \n",
              "  <style>\n",
              "    .colab-df-container {\n",
              "      display:flex;\n",
              "      flex-wrap:wrap;\n",
              "      gap: 12px;\n",
              "    }\n",
              "\n",
              "    .colab-df-convert {\n",
              "      background-color: #E8F0FE;\n",
              "      border: none;\n",
              "      border-radius: 50%;\n",
              "      cursor: pointer;\n",
              "      display: none;\n",
              "      fill: #1967D2;\n",
              "      height: 32px;\n",
              "      padding: 0 0 0 0;\n",
              "      width: 32px;\n",
              "    }\n",
              "\n",
              "    .colab-df-convert:hover {\n",
              "      background-color: #E2EBFA;\n",
              "      box-shadow: 0px 1px 2px rgba(60, 64, 67, 0.3), 0px 1px 3px 1px rgba(60, 64, 67, 0.15);\n",
              "      fill: #174EA6;\n",
              "    }\n",
              "\n",
              "    [theme=dark] .colab-df-convert {\n",
              "      background-color: #3B4455;\n",
              "      fill: #D2E3FC;\n",
              "    }\n",
              "\n",
              "    [theme=dark] .colab-df-convert:hover {\n",
              "      background-color: #434B5C;\n",
              "      box-shadow: 0px 1px 3px 1px rgba(0, 0, 0, 0.15);\n",
              "      filter: drop-shadow(0px 1px 2px rgba(0, 0, 0, 0.3));\n",
              "      fill: #FFFFFF;\n",
              "    }\n",
              "  </style>\n",
              "\n",
              "      <script>\n",
              "        const buttonEl =\n",
              "          document.querySelector('#df-29950259-35a8-415a-8428-44889e379a8d button.colab-df-convert');\n",
              "        buttonEl.style.display =\n",
              "          google.colab.kernel.accessAllowed ? 'block' : 'none';\n",
              "\n",
              "        async function convertToInteractive(key) {\n",
              "          const element = document.querySelector('#df-29950259-35a8-415a-8428-44889e379a8d');\n",
              "          const dataTable =\n",
              "            await google.colab.kernel.invokeFunction('convertToInteractive',\n",
              "                                                     [key], {});\n",
              "          if (!dataTable) return;\n",
              "\n",
              "          const docLinkHtml = 'Like what you see? Visit the ' +\n",
              "            '<a target=\"_blank\" href=https://colab.research.google.com/notebooks/data_table.ipynb>data table notebook</a>'\n",
              "            + ' to learn more about interactive tables.';\n",
              "          element.innerHTML = '';\n",
              "          dataTable['output_type'] = 'display_data';\n",
              "          await google.colab.output.renderOutput(dataTable, element);\n",
              "          const docLink = document.createElement('div');\n",
              "          docLink.innerHTML = docLinkHtml;\n",
              "          element.appendChild(docLink);\n",
              "        }\n",
              "      </script>\n",
              "    </div>\n",
              "  </div>\n",
              "  "
            ],
            "text/plain": [
              "    Loan_ID  Gender  Married  ... 1_Dependent  2_Dependents  3+_Dependents\n",
              "0  LP001015       1        1  ...         0.0           0.0            0.0\n",
              "1  LP001022       1        1  ...         1.0           0.0            0.0\n",
              "2  LP001031       1        1  ...         0.0           1.0            0.0\n",
              "3  LP001035       1        1  ...         0.0           1.0            0.0\n",
              "4  LP001051       1        0  ...         0.0           0.0            0.0\n",
              "\n",
              "[5 rows x 16 columns]"
            ]
          },
          "metadata": {},
          "execution_count": 538
        }
      ]
    },
    {
      "cell_type": "markdown",
      "source": [
        "##Drop columns\n",
        "\n",
        "* ID number is not important for the analysis. Therefore, Load_ID column can be removed. \n",
        "* 4 new columns were created for Dependents. So, the Dependents column can be removed. "
      ],
      "metadata": {
        "id": "JxjImrEuMYFq"
      }
    },
    {
      "cell_type": "code",
      "source": [
        "train.drop(['Loan_ID', 'Dependents'], axis=1, inplace=True)"
      ],
      "metadata": {
        "id": "ZsE1s8KMMZ4Z"
      },
      "execution_count": null,
      "outputs": []
    },
    {
      "cell_type": "code",
      "source": [
        "test.drop(['Loan_ID', 'Dependents'], axis=1, inplace=True)"
      ],
      "metadata": {
        "id": "IYg4mWQcNKNS"
      },
      "execution_count": null,
      "outputs": []
    },
    {
      "cell_type": "code",
      "source": [
        "train.head()"
      ],
      "metadata": {
        "colab": {
          "base_uri": "https://localhost:8080/",
          "height": 270
        },
        "id": "jgrpotxIRmSz",
        "outputId": "faac6371-9247-4fbd-b9ef-94dd524060d9"
      },
      "execution_count": null,
      "outputs": [
        {
          "output_type": "execute_result",
          "data": {
            "text/html": [
              "\n",
              "  <div id=\"df-319c8789-3901-4c97-b905-a421f9d2ff8a\">\n",
              "    <div class=\"colab-df-container\">\n",
              "      <div>\n",
              "<style scoped>\n",
              "    .dataframe tbody tr th:only-of-type {\n",
              "        vertical-align: middle;\n",
              "    }\n",
              "\n",
              "    .dataframe tbody tr th {\n",
              "        vertical-align: top;\n",
              "    }\n",
              "\n",
              "    .dataframe thead th {\n",
              "        text-align: right;\n",
              "    }\n",
              "</style>\n",
              "<table border=\"1\" class=\"dataframe\">\n",
              "  <thead>\n",
              "    <tr style=\"text-align: right;\">\n",
              "      <th></th>\n",
              "      <th>Gender</th>\n",
              "      <th>Married</th>\n",
              "      <th>Education</th>\n",
              "      <th>Self_Employed</th>\n",
              "      <th>ApplicantIncome</th>\n",
              "      <th>CoapplicantIncome</th>\n",
              "      <th>LoanAmount</th>\n",
              "      <th>Loan_Amount_Term</th>\n",
              "      <th>Credit_History</th>\n",
              "      <th>Property_Area</th>\n",
              "      <th>Loan_Status</th>\n",
              "      <th>0_Dependents</th>\n",
              "      <th>1_Dependent</th>\n",
              "      <th>2_Dependents</th>\n",
              "      <th>3+_Dependents</th>\n",
              "    </tr>\n",
              "  </thead>\n",
              "  <tbody>\n",
              "    <tr>\n",
              "      <th>0</th>\n",
              "      <td>1</td>\n",
              "      <td>0</td>\n",
              "      <td>0</td>\n",
              "      <td>0</td>\n",
              "      <td>5849</td>\n",
              "      <td>0.0</td>\n",
              "      <td>128.0</td>\n",
              "      <td>360.0</td>\n",
              "      <td>1.0</td>\n",
              "      <td>2</td>\n",
              "      <td>1</td>\n",
              "      <td>1.0</td>\n",
              "      <td>0.0</td>\n",
              "      <td>0.0</td>\n",
              "      <td>0.0</td>\n",
              "    </tr>\n",
              "    <tr>\n",
              "      <th>1</th>\n",
              "      <td>1</td>\n",
              "      <td>1</td>\n",
              "      <td>0</td>\n",
              "      <td>0</td>\n",
              "      <td>4583</td>\n",
              "      <td>1508.0</td>\n",
              "      <td>128.0</td>\n",
              "      <td>360.0</td>\n",
              "      <td>1.0</td>\n",
              "      <td>0</td>\n",
              "      <td>0</td>\n",
              "      <td>0.0</td>\n",
              "      <td>1.0</td>\n",
              "      <td>0.0</td>\n",
              "      <td>0.0</td>\n",
              "    </tr>\n",
              "    <tr>\n",
              "      <th>2</th>\n",
              "      <td>1</td>\n",
              "      <td>1</td>\n",
              "      <td>0</td>\n",
              "      <td>1</td>\n",
              "      <td>3000</td>\n",
              "      <td>0.0</td>\n",
              "      <td>66.0</td>\n",
              "      <td>360.0</td>\n",
              "      <td>1.0</td>\n",
              "      <td>2</td>\n",
              "      <td>1</td>\n",
              "      <td>1.0</td>\n",
              "      <td>0.0</td>\n",
              "      <td>0.0</td>\n",
              "      <td>0.0</td>\n",
              "    </tr>\n",
              "    <tr>\n",
              "      <th>3</th>\n",
              "      <td>1</td>\n",
              "      <td>1</td>\n",
              "      <td>1</td>\n",
              "      <td>0</td>\n",
              "      <td>2583</td>\n",
              "      <td>2358.0</td>\n",
              "      <td>120.0</td>\n",
              "      <td>360.0</td>\n",
              "      <td>1.0</td>\n",
              "      <td>2</td>\n",
              "      <td>1</td>\n",
              "      <td>1.0</td>\n",
              "      <td>0.0</td>\n",
              "      <td>0.0</td>\n",
              "      <td>0.0</td>\n",
              "    </tr>\n",
              "    <tr>\n",
              "      <th>4</th>\n",
              "      <td>1</td>\n",
              "      <td>0</td>\n",
              "      <td>0</td>\n",
              "      <td>0</td>\n",
              "      <td>6000</td>\n",
              "      <td>0.0</td>\n",
              "      <td>141.0</td>\n",
              "      <td>360.0</td>\n",
              "      <td>1.0</td>\n",
              "      <td>2</td>\n",
              "      <td>1</td>\n",
              "      <td>1.0</td>\n",
              "      <td>0.0</td>\n",
              "      <td>0.0</td>\n",
              "      <td>0.0</td>\n",
              "    </tr>\n",
              "  </tbody>\n",
              "</table>\n",
              "</div>\n",
              "      <button class=\"colab-df-convert\" onclick=\"convertToInteractive('df-319c8789-3901-4c97-b905-a421f9d2ff8a')\"\n",
              "              title=\"Convert this dataframe to an interactive table.\"\n",
              "              style=\"display:none;\">\n",
              "        \n",
              "  <svg xmlns=\"http://www.w3.org/2000/svg\" height=\"24px\"viewBox=\"0 0 24 24\"\n",
              "       width=\"24px\">\n",
              "    <path d=\"M0 0h24v24H0V0z\" fill=\"none\"/>\n",
              "    <path d=\"M18.56 5.44l.94 2.06.94-2.06 2.06-.94-2.06-.94-.94-2.06-.94 2.06-2.06.94zm-11 1L8.5 8.5l.94-2.06 2.06-.94-2.06-.94L8.5 2.5l-.94 2.06-2.06.94zm10 10l.94 2.06.94-2.06 2.06-.94-2.06-.94-.94-2.06-.94 2.06-2.06.94z\"/><path d=\"M17.41 7.96l-1.37-1.37c-.4-.4-.92-.59-1.43-.59-.52 0-1.04.2-1.43.59L10.3 9.45l-7.72 7.72c-.78.78-.78 2.05 0 2.83L4 21.41c.39.39.9.59 1.41.59.51 0 1.02-.2 1.41-.59l7.78-7.78 2.81-2.81c.8-.78.8-2.07 0-2.86zM5.41 20L4 18.59l7.72-7.72 1.47 1.35L5.41 20z\"/>\n",
              "  </svg>\n",
              "      </button>\n",
              "      \n",
              "  <style>\n",
              "    .colab-df-container {\n",
              "      display:flex;\n",
              "      flex-wrap:wrap;\n",
              "      gap: 12px;\n",
              "    }\n",
              "\n",
              "    .colab-df-convert {\n",
              "      background-color: #E8F0FE;\n",
              "      border: none;\n",
              "      border-radius: 50%;\n",
              "      cursor: pointer;\n",
              "      display: none;\n",
              "      fill: #1967D2;\n",
              "      height: 32px;\n",
              "      padding: 0 0 0 0;\n",
              "      width: 32px;\n",
              "    }\n",
              "\n",
              "    .colab-df-convert:hover {\n",
              "      background-color: #E2EBFA;\n",
              "      box-shadow: 0px 1px 2px rgba(60, 64, 67, 0.3), 0px 1px 3px 1px rgba(60, 64, 67, 0.15);\n",
              "      fill: #174EA6;\n",
              "    }\n",
              "\n",
              "    [theme=dark] .colab-df-convert {\n",
              "      background-color: #3B4455;\n",
              "      fill: #D2E3FC;\n",
              "    }\n",
              "\n",
              "    [theme=dark] .colab-df-convert:hover {\n",
              "      background-color: #434B5C;\n",
              "      box-shadow: 0px 1px 3px 1px rgba(0, 0, 0, 0.15);\n",
              "      filter: drop-shadow(0px 1px 2px rgba(0, 0, 0, 0.3));\n",
              "      fill: #FFFFFF;\n",
              "    }\n",
              "  </style>\n",
              "\n",
              "      <script>\n",
              "        const buttonEl =\n",
              "          document.querySelector('#df-319c8789-3901-4c97-b905-a421f9d2ff8a button.colab-df-convert');\n",
              "        buttonEl.style.display =\n",
              "          google.colab.kernel.accessAllowed ? 'block' : 'none';\n",
              "\n",
              "        async function convertToInteractive(key) {\n",
              "          const element = document.querySelector('#df-319c8789-3901-4c97-b905-a421f9d2ff8a');\n",
              "          const dataTable =\n",
              "            await google.colab.kernel.invokeFunction('convertToInteractive',\n",
              "                                                     [key], {});\n",
              "          if (!dataTable) return;\n",
              "\n",
              "          const docLinkHtml = 'Like what you see? Visit the ' +\n",
              "            '<a target=\"_blank\" href=https://colab.research.google.com/notebooks/data_table.ipynb>data table notebook</a>'\n",
              "            + ' to learn more about interactive tables.';\n",
              "          element.innerHTML = '';\n",
              "          dataTable['output_type'] = 'display_data';\n",
              "          await google.colab.output.renderOutput(dataTable, element);\n",
              "          const docLink = document.createElement('div');\n",
              "          docLink.innerHTML = docLinkHtml;\n",
              "          element.appendChild(docLink);\n",
              "        }\n",
              "      </script>\n",
              "    </div>\n",
              "  </div>\n",
              "  "
            ],
            "text/plain": [
              "   Gender  Married  Education  ...  1_Dependent  2_Dependents  3+_Dependents\n",
              "0       1        0          0  ...          0.0           0.0            0.0\n",
              "1       1        1          0  ...          1.0           0.0            0.0\n",
              "2       1        1          0  ...          0.0           0.0            0.0\n",
              "3       1        1          1  ...          0.0           0.0            0.0\n",
              "4       1        0          0  ...          0.0           0.0            0.0\n",
              "\n",
              "[5 rows x 15 columns]"
            ]
          },
          "metadata": {},
          "execution_count": 541
        }
      ]
    },
    {
      "cell_type": "code",
      "source": [
        "test.head()"
      ],
      "metadata": {
        "colab": {
          "base_uri": "https://localhost:8080/",
          "height": 270
        },
        "id": "Lah_MpRGRn-1",
        "outputId": "bd87995f-46dc-49d3-993c-47ddcb943743"
      },
      "execution_count": null,
      "outputs": [
        {
          "output_type": "execute_result",
          "data": {
            "text/html": [
              "\n",
              "  <div id=\"df-1f3097a2-a7d2-4505-93ff-7f102bab5c2b\">\n",
              "    <div class=\"colab-df-container\">\n",
              "      <div>\n",
              "<style scoped>\n",
              "    .dataframe tbody tr th:only-of-type {\n",
              "        vertical-align: middle;\n",
              "    }\n",
              "\n",
              "    .dataframe tbody tr th {\n",
              "        vertical-align: top;\n",
              "    }\n",
              "\n",
              "    .dataframe thead th {\n",
              "        text-align: right;\n",
              "    }\n",
              "</style>\n",
              "<table border=\"1\" class=\"dataframe\">\n",
              "  <thead>\n",
              "    <tr style=\"text-align: right;\">\n",
              "      <th></th>\n",
              "      <th>Gender</th>\n",
              "      <th>Married</th>\n",
              "      <th>Education</th>\n",
              "      <th>Self_Employed</th>\n",
              "      <th>ApplicantIncome</th>\n",
              "      <th>CoapplicantIncome</th>\n",
              "      <th>LoanAmount</th>\n",
              "      <th>Loan_Amount_Term</th>\n",
              "      <th>Credit_History</th>\n",
              "      <th>Property_Area</th>\n",
              "      <th>0_Dependents</th>\n",
              "      <th>1_Dependent</th>\n",
              "      <th>2_Dependents</th>\n",
              "      <th>3+_Dependents</th>\n",
              "    </tr>\n",
              "  </thead>\n",
              "  <tbody>\n",
              "    <tr>\n",
              "      <th>0</th>\n",
              "      <td>1</td>\n",
              "      <td>1</td>\n",
              "      <td>0</td>\n",
              "      <td>0</td>\n",
              "      <td>5720</td>\n",
              "      <td>0</td>\n",
              "      <td>110.0</td>\n",
              "      <td>360.0</td>\n",
              "      <td>1.0</td>\n",
              "      <td>2</td>\n",
              "      <td>1.0</td>\n",
              "      <td>0.0</td>\n",
              "      <td>0.0</td>\n",
              "      <td>0.0</td>\n",
              "    </tr>\n",
              "    <tr>\n",
              "      <th>1</th>\n",
              "      <td>1</td>\n",
              "      <td>1</td>\n",
              "      <td>0</td>\n",
              "      <td>0</td>\n",
              "      <td>3076</td>\n",
              "      <td>1500</td>\n",
              "      <td>126.0</td>\n",
              "      <td>360.0</td>\n",
              "      <td>1.0</td>\n",
              "      <td>2</td>\n",
              "      <td>0.0</td>\n",
              "      <td>1.0</td>\n",
              "      <td>0.0</td>\n",
              "      <td>0.0</td>\n",
              "    </tr>\n",
              "    <tr>\n",
              "      <th>2</th>\n",
              "      <td>1</td>\n",
              "      <td>1</td>\n",
              "      <td>0</td>\n",
              "      <td>0</td>\n",
              "      <td>5000</td>\n",
              "      <td>1800</td>\n",
              "      <td>208.0</td>\n",
              "      <td>360.0</td>\n",
              "      <td>1.0</td>\n",
              "      <td>2</td>\n",
              "      <td>0.0</td>\n",
              "      <td>0.0</td>\n",
              "      <td>1.0</td>\n",
              "      <td>0.0</td>\n",
              "    </tr>\n",
              "    <tr>\n",
              "      <th>3</th>\n",
              "      <td>1</td>\n",
              "      <td>1</td>\n",
              "      <td>0</td>\n",
              "      <td>0</td>\n",
              "      <td>2340</td>\n",
              "      <td>2546</td>\n",
              "      <td>100.0</td>\n",
              "      <td>360.0</td>\n",
              "      <td>1.0</td>\n",
              "      <td>2</td>\n",
              "      <td>0.0</td>\n",
              "      <td>0.0</td>\n",
              "      <td>1.0</td>\n",
              "      <td>0.0</td>\n",
              "    </tr>\n",
              "    <tr>\n",
              "      <th>4</th>\n",
              "      <td>1</td>\n",
              "      <td>0</td>\n",
              "      <td>1</td>\n",
              "      <td>0</td>\n",
              "      <td>3276</td>\n",
              "      <td>0</td>\n",
              "      <td>78.0</td>\n",
              "      <td>360.0</td>\n",
              "      <td>1.0</td>\n",
              "      <td>2</td>\n",
              "      <td>1.0</td>\n",
              "      <td>0.0</td>\n",
              "      <td>0.0</td>\n",
              "      <td>0.0</td>\n",
              "    </tr>\n",
              "  </tbody>\n",
              "</table>\n",
              "</div>\n",
              "      <button class=\"colab-df-convert\" onclick=\"convertToInteractive('df-1f3097a2-a7d2-4505-93ff-7f102bab5c2b')\"\n",
              "              title=\"Convert this dataframe to an interactive table.\"\n",
              "              style=\"display:none;\">\n",
              "        \n",
              "  <svg xmlns=\"http://www.w3.org/2000/svg\" height=\"24px\"viewBox=\"0 0 24 24\"\n",
              "       width=\"24px\">\n",
              "    <path d=\"M0 0h24v24H0V0z\" fill=\"none\"/>\n",
              "    <path d=\"M18.56 5.44l.94 2.06.94-2.06 2.06-.94-2.06-.94-.94-2.06-.94 2.06-2.06.94zm-11 1L8.5 8.5l.94-2.06 2.06-.94-2.06-.94L8.5 2.5l-.94 2.06-2.06.94zm10 10l.94 2.06.94-2.06 2.06-.94-2.06-.94-.94-2.06-.94 2.06-2.06.94z\"/><path d=\"M17.41 7.96l-1.37-1.37c-.4-.4-.92-.59-1.43-.59-.52 0-1.04.2-1.43.59L10.3 9.45l-7.72 7.72c-.78.78-.78 2.05 0 2.83L4 21.41c.39.39.9.59 1.41.59.51 0 1.02-.2 1.41-.59l7.78-7.78 2.81-2.81c.8-.78.8-2.07 0-2.86zM5.41 20L4 18.59l7.72-7.72 1.47 1.35L5.41 20z\"/>\n",
              "  </svg>\n",
              "      </button>\n",
              "      \n",
              "  <style>\n",
              "    .colab-df-container {\n",
              "      display:flex;\n",
              "      flex-wrap:wrap;\n",
              "      gap: 12px;\n",
              "    }\n",
              "\n",
              "    .colab-df-convert {\n",
              "      background-color: #E8F0FE;\n",
              "      border: none;\n",
              "      border-radius: 50%;\n",
              "      cursor: pointer;\n",
              "      display: none;\n",
              "      fill: #1967D2;\n",
              "      height: 32px;\n",
              "      padding: 0 0 0 0;\n",
              "      width: 32px;\n",
              "    }\n",
              "\n",
              "    .colab-df-convert:hover {\n",
              "      background-color: #E2EBFA;\n",
              "      box-shadow: 0px 1px 2px rgba(60, 64, 67, 0.3), 0px 1px 3px 1px rgba(60, 64, 67, 0.15);\n",
              "      fill: #174EA6;\n",
              "    }\n",
              "\n",
              "    [theme=dark] .colab-df-convert {\n",
              "      background-color: #3B4455;\n",
              "      fill: #D2E3FC;\n",
              "    }\n",
              "\n",
              "    [theme=dark] .colab-df-convert:hover {\n",
              "      background-color: #434B5C;\n",
              "      box-shadow: 0px 1px 3px 1px rgba(0, 0, 0, 0.15);\n",
              "      filter: drop-shadow(0px 1px 2px rgba(0, 0, 0, 0.3));\n",
              "      fill: #FFFFFF;\n",
              "    }\n",
              "  </style>\n",
              "\n",
              "      <script>\n",
              "        const buttonEl =\n",
              "          document.querySelector('#df-1f3097a2-a7d2-4505-93ff-7f102bab5c2b button.colab-df-convert');\n",
              "        buttonEl.style.display =\n",
              "          google.colab.kernel.accessAllowed ? 'block' : 'none';\n",
              "\n",
              "        async function convertToInteractive(key) {\n",
              "          const element = document.querySelector('#df-1f3097a2-a7d2-4505-93ff-7f102bab5c2b');\n",
              "          const dataTable =\n",
              "            await google.colab.kernel.invokeFunction('convertToInteractive',\n",
              "                                                     [key], {});\n",
              "          if (!dataTable) return;\n",
              "\n",
              "          const docLinkHtml = 'Like what you see? Visit the ' +\n",
              "            '<a target=\"_blank\" href=https://colab.research.google.com/notebooks/data_table.ipynb>data table notebook</a>'\n",
              "            + ' to learn more about interactive tables.';\n",
              "          element.innerHTML = '';\n",
              "          dataTable['output_type'] = 'display_data';\n",
              "          await google.colab.output.renderOutput(dataTable, element);\n",
              "          const docLink = document.createElement('div');\n",
              "          docLink.innerHTML = docLinkHtml;\n",
              "          element.appendChild(docLink);\n",
              "        }\n",
              "      </script>\n",
              "    </div>\n",
              "  </div>\n",
              "  "
            ],
            "text/plain": [
              "   Gender  Married  Education  ...  1_Dependent  2_Dependents  3+_Dependents\n",
              "0       1        1          0  ...          0.0           0.0            0.0\n",
              "1       1        1          0  ...          1.0           0.0            0.0\n",
              "2       1        1          0  ...          0.0           1.0            0.0\n",
              "3       1        1          0  ...          0.0           1.0            0.0\n",
              "4       1        0          1  ...          0.0           0.0            0.0\n",
              "\n",
              "[5 rows x 14 columns]"
            ]
          },
          "metadata": {},
          "execution_count": 542
        }
      ]
    },
    {
      "cell_type": "code",
      "source": [
        "train.info()"
      ],
      "metadata": {
        "colab": {
          "base_uri": "https://localhost:8080/"
        },
        "id": "sVA0jIcMIZwG",
        "outputId": "8159af9f-84a5-46f0-ef47-583eaf295873"
      },
      "execution_count": null,
      "outputs": [
        {
          "output_type": "stream",
          "name": "stdout",
          "text": [
            "<class 'pandas.core.frame.DataFrame'>\n",
            "RangeIndex: 614 entries, 0 to 613\n",
            "Data columns (total 15 columns):\n",
            " #   Column             Non-Null Count  Dtype  \n",
            "---  ------             --------------  -----  \n",
            " 0   Gender             614 non-null    int64  \n",
            " 1   Married            614 non-null    int64  \n",
            " 2   Education          614 non-null    int64  \n",
            " 3   Self_Employed      614 non-null    int64  \n",
            " 4   ApplicantIncome    614 non-null    int64  \n",
            " 5   CoapplicantIncome  614 non-null    float64\n",
            " 6   LoanAmount         614 non-null    float64\n",
            " 7   Loan_Amount_Term   614 non-null    float64\n",
            " 8   Credit_History     614 non-null    float64\n",
            " 9   Property_Area      614 non-null    int64  \n",
            " 10  Loan_Status        614 non-null    int64  \n",
            " 11  0_Dependents       614 non-null    float64\n",
            " 12  1_Dependent        614 non-null    float64\n",
            " 13  2_Dependents       614 non-null    float64\n",
            " 14  3+_Dependents      614 non-null    float64\n",
            "dtypes: float64(8), int64(7)\n",
            "memory usage: 72.1 KB\n"
          ]
        }
      ]
    },
    {
      "cell_type": "code",
      "source": [
        "test.info()"
      ],
      "metadata": {
        "colab": {
          "base_uri": "https://localhost:8080/"
        },
        "id": "PjcOURX9RpEL",
        "outputId": "d5f7c6f4-cd74-43cc-8c2b-680cdf799ec7"
      },
      "execution_count": null,
      "outputs": [
        {
          "output_type": "stream",
          "name": "stdout",
          "text": [
            "<class 'pandas.core.frame.DataFrame'>\n",
            "RangeIndex: 367 entries, 0 to 366\n",
            "Data columns (total 14 columns):\n",
            " #   Column             Non-Null Count  Dtype  \n",
            "---  ------             --------------  -----  \n",
            " 0   Gender             367 non-null    int64  \n",
            " 1   Married            367 non-null    int64  \n",
            " 2   Education          367 non-null    int64  \n",
            " 3   Self_Employed      367 non-null    int64  \n",
            " 4   ApplicantIncome    367 non-null    int64  \n",
            " 5   CoapplicantIncome  367 non-null    int64  \n",
            " 6   LoanAmount         367 non-null    float64\n",
            " 7   Loan_Amount_Term   367 non-null    float64\n",
            " 8   Credit_History     367 non-null    float64\n",
            " 9   Property_Area      367 non-null    int64  \n",
            " 10  0_Dependents       367 non-null    float64\n",
            " 11  1_Dependent        367 non-null    float64\n",
            " 12  2_Dependents       367 non-null    float64\n",
            " 13  3+_Dependents      367 non-null    float64\n",
            "dtypes: float64(7), int64(7)\n",
            "memory usage: 40.3 KB\n"
          ]
        }
      ]
    },
    {
      "cell_type": "markdown",
      "source": [
        "#Data transformation and remove outliers\n",
        "\n",
        "Log transformation reduces the range and outliers. "
      ],
      "metadata": {
        "id": "CrSy1K1uv5dp"
      }
    },
    {
      "cell_type": "code",
      "source": [
        "train.ApplicantIncome = np.log(train.ApplicantIncome + 2)\n",
        "train.LoanAmount = np.log(train.LoanAmount + 2)\n",
        "\n",
        "# 2 has been added to make sure that there will not be any issue in log transfering if ApplicantIncome or LoanAmount is 0. \n",
        "#   Because log(0) is not defined. "
      ],
      "metadata": {
        "id": "5fPSBNfOv8EC"
      },
      "execution_count": null,
      "outputs": []
    },
    {
      "cell_type": "code",
      "source": [
        "sns.boxplot(train.ApplicantIncome)"
      ],
      "metadata": {
        "colab": {
          "base_uri": "https://localhost:8080/",
          "height": 354
        },
        "id": "N9c4BytwhfCu",
        "outputId": "0abdd6eb-b543-4bdd-b1b3-74d7f10e1db5"
      },
      "execution_count": null,
      "outputs": [
        {
          "output_type": "stream",
          "name": "stderr",
          "text": [
            "/usr/local/lib/python3.7/dist-packages/seaborn/_decorators.py:43: FutureWarning: Pass the following variable as a keyword arg: x. From version 0.12, the only valid positional argument will be `data`, and passing other arguments without an explicit keyword will result in an error or misinterpretation.\n",
            "  FutureWarning\n"
          ]
        },
        {
          "output_type": "execute_result",
          "data": {
            "text/plain": [
              "<matplotlib.axes._subplots.AxesSubplot at 0x7f747e449910>"
            ]
          },
          "metadata": {},
          "execution_count": 546
        },
        {
          "output_type": "display_data",
          "data": {
            "image/png": "[encoded data removed]",
            "text/plain": [
              "<Figure size 432x288 with 1 Axes>"
            ]
          },
          "metadata": {
            "needs_background": "light"
          }
        }
      ]
    },
    {
      "cell_type": "code",
      "source": [
        "# outliers\n",
        "train.ApplicantIncome.nsmallest(3)"
      ],
      "metadata": {
        "colab": {
          "base_uri": "https://localhost:8080/"
        },
        "id": "eFSgVmFDiDxi",
        "outputId": "6a7c938a-501e-4f83-8be3-739d65db9d1d"
      },
      "execution_count": null,
      "outputs": [
        {
          "output_type": "execute_result",
          "data": {
            "text/plain": [
              "216    5.023881\n",
              "468    5.356586\n",
              "600    6.035481\n",
              "Name: ApplicantIncome, dtype: float64"
            ]
          },
          "metadata": {},
          "execution_count": 547
        }
      ]
    },
    {
      "cell_type": "code",
      "source": [
        "# outliers\n",
        "train.ApplicantIncome.nlargest(3)"
      ],
      "metadata": {
        "colab": {
          "base_uri": "https://localhost:8080/"
        },
        "id": "2p2mcdGDmVop",
        "outputId": "8fdc40ad-50e1-4ec5-a859-05d5d0f302d6"
      },
      "execution_count": null,
      "outputs": [
        {
          "output_type": "execute_result",
          "data": {
            "text/plain": [
              "409    11.302229\n",
              "333    11.056257\n",
              "171    10.854470\n",
              "Name: ApplicantIncome, dtype: float64"
            ]
          },
          "metadata": {},
          "execution_count": 548
        }
      ]
    },
    {
      "cell_type": "code",
      "source": [
        "# remove outliers because it affects the training \n",
        "train.drop([216, 468, 600, 409, 333, 171], axis=0, inplace=True)"
      ],
      "metadata": {
        "id": "w5cfwa4XkNHB"
      },
      "execution_count": null,
      "outputs": []
    },
    {
      "cell_type": "code",
      "source": [
        "# index should be reset back because rows were dropped\n",
        "train = train.reset_index()"
      ],
      "metadata": {
        "id": "0dtG944LoJa2"
      },
      "execution_count": null,
      "outputs": []
    },
    {
      "cell_type": "code",
      "source": [
        "sns.boxplot(train.ApplicantIncome)"
      ],
      "metadata": {
        "colab": {
          "base_uri": "https://localhost:8080/",
          "height": 354
        },
        "id": "kaSRoIffkiQM",
        "outputId": "7be564a4-3267-45d8-fbeb-71d49bf0e994"
      },
      "execution_count": null,
      "outputs": [
        {
          "output_type": "stream",
          "name": "stderr",
          "text": [
            "/usr/local/lib/python3.7/dist-packages/seaborn/_decorators.py:43: FutureWarning: Pass the following variable as a keyword arg: x. From version 0.12, the only valid positional argument will be `data`, and passing other arguments without an explicit keyword will result in an error or misinterpretation.\n",
            "  FutureWarning\n"
          ]
        },
        {
          "output_type": "execute_result",
          "data": {
            "text/plain": [
              "<matplotlib.axes._subplots.AxesSubplot at 0x7f747e3c9d10>"
            ]
          },
          "metadata": {},
          "execution_count": 551
        },
        {
          "output_type": "display_data",
          "data": {
            "image/png": "[encoded data removed]",
            "text/plain": [
              "<Figure size 432x288 with 1 Axes>"
            ]
          },
          "metadata": {
            "needs_background": "light"
          }
        }
      ]
    },
    {
      "cell_type": "markdown",
      "source": [
        "**Less outliers. All the outliers cannot be removed because we clearly do not know whether they are unusual points. Therefore, much deviated points were only removed.**"
      ],
      "metadata": {
        "id": "SsBBLBCcmrtz"
      }
    },
    {
      "cell_type": "code",
      "source": [
        "sns.boxplot(train.LoanAmount)"
      ],
      "metadata": {
        "colab": {
          "base_uri": "https://localhost:8080/",
          "height": 354
        },
        "id": "miKRwaC0nJI1",
        "outputId": "7414679e-f25d-425e-b1c8-82df503a23f4"
      },
      "execution_count": null,
      "outputs": [
        {
          "output_type": "stream",
          "name": "stderr",
          "text": [
            "/usr/local/lib/python3.7/dist-packages/seaborn/_decorators.py:43: FutureWarning: Pass the following variable as a keyword arg: x. From version 0.12, the only valid positional argument will be `data`, and passing other arguments without an explicit keyword will result in an error or misinterpretation.\n",
            "  FutureWarning\n"
          ]
        },
        {
          "output_type": "execute_result",
          "data": {
            "text/plain": [
              "<matplotlib.axes._subplots.AxesSubplot at 0x7f747e39b650>"
            ]
          },
          "metadata": {},
          "execution_count": 552
        },
        {
          "output_type": "display_data",
          "data": {
            "image/png": "[encoded data removed]",
            "text/plain": [
              "<Figure size 432x288 with 1 Axes>"
            ]
          },
          "metadata": {
            "needs_background": "light"
          }
        }
      ]
    },
    {
      "cell_type": "code",
      "source": [
        "# outliers\n",
        "train.LoanAmount.nsmallest(2)"
      ],
      "metadata": {
        "colab": {
          "base_uri": "https://localhost:8080/"
        },
        "id": "KuEY_2-gnWY9",
        "outputId": "b9c92e8f-9462-4364-9d65-666960d2d28f"
      },
      "execution_count": null,
      "outputs": [
        {
          "output_type": "execute_result",
          "data": {
            "text/plain": [
              "563    2.397895\n",
              "14     2.944439\n",
              "Name: LoanAmount, dtype: float64"
            ]
          },
          "metadata": {},
          "execution_count": 553
        }
      ]
    },
    {
      "cell_type": "code",
      "source": [
        "# drop 2 outliers\n",
        "train.drop([563, 14], axis=0, inplace=True)"
      ],
      "metadata": {
        "id": "F5_XxCJ-oeq_"
      },
      "execution_count": null,
      "outputs": []
    },
    {
      "cell_type": "code",
      "source": [
        "train = train.reset_index()\n",
        "train.head()"
      ],
      "metadata": {
        "colab": {
          "base_uri": "https://localhost:8080/",
          "height": 270
        },
        "id": "VHpwRPe5ovK-",
        "outputId": "b1e21823-097d-4368-dd31-370c298cb413"
      },
      "execution_count": null,
      "outputs": [
        {
          "output_type": "execute_result",
          "data": {
            "text/html": [
              "\n",
              "  <div id=\"df-417fc0a8-22e1-4fab-a5bb-3c1f6133d934\">\n",
              "    <div class=\"colab-df-container\">\n",
              "      <div>\n",
              "<style scoped>\n",
              "    .dataframe tbody tr th:only-of-type {\n",
              "        vertical-align: middle;\n",
              "    }\n",
              "\n",
              "    .dataframe tbody tr th {\n",
              "        vertical-align: top;\n",
              "    }\n",
              "\n",
              "    .dataframe thead th {\n",
              "        text-align: right;\n",
              "    }\n",
              "</style>\n",
              "<table border=\"1\" class=\"dataframe\">\n",
              "  <thead>\n",
              "    <tr style=\"text-align: right;\">\n",
              "      <th></th>\n",
              "      <th>level_0</th>\n",
              "      <th>index</th>\n",
              "      <th>Gender</th>\n",
              "      <th>Married</th>\n",
              "      <th>Education</th>\n",
              "      <th>Self_Employed</th>\n",
              "      <th>ApplicantIncome</th>\n",
              "      <th>CoapplicantIncome</th>\n",
              "      <th>LoanAmount</th>\n",
              "      <th>Loan_Amount_Term</th>\n",
              "      <th>Credit_History</th>\n",
              "      <th>Property_Area</th>\n",
              "      <th>Loan_Status</th>\n",
              "      <th>0_Dependents</th>\n",
              "      <th>1_Dependent</th>\n",
              "      <th>2_Dependents</th>\n",
              "      <th>3+_Dependents</th>\n",
              "    </tr>\n",
              "  </thead>\n",
              "  <tbody>\n",
              "    <tr>\n",
              "      <th>0</th>\n",
              "      <td>0</td>\n",
              "      <td>0</td>\n",
              "      <td>1</td>\n",
              "      <td>0</td>\n",
              "      <td>0</td>\n",
              "      <td>0</td>\n",
              "      <td>8.674368</td>\n",
              "      <td>0.0</td>\n",
              "      <td>4.867534</td>\n",
              "      <td>360.0</td>\n",
              "      <td>1.0</td>\n",
              "      <td>2</td>\n",
              "      <td>1</td>\n",
              "      <td>1.0</td>\n",
              "      <td>0.0</td>\n",
              "      <td>0.0</td>\n",
              "      <td>0.0</td>\n",
              "    </tr>\n",
              "    <tr>\n",
              "      <th>1</th>\n",
              "      <td>1</td>\n",
              "      <td>1</td>\n",
              "      <td>1</td>\n",
              "      <td>1</td>\n",
              "      <td>0</td>\n",
              "      <td>0</td>\n",
              "      <td>8.430545</td>\n",
              "      <td>1508.0</td>\n",
              "      <td>4.867534</td>\n",
              "      <td>360.0</td>\n",
              "      <td>1.0</td>\n",
              "      <td>0</td>\n",
              "      <td>0</td>\n",
              "      <td>0.0</td>\n",
              "      <td>1.0</td>\n",
              "      <td>0.0</td>\n",
              "      <td>0.0</td>\n",
              "    </tr>\n",
              "    <tr>\n",
              "      <th>2</th>\n",
              "      <td>2</td>\n",
              "      <td>2</td>\n",
              "      <td>1</td>\n",
              "      <td>1</td>\n",
              "      <td>0</td>\n",
              "      <td>1</td>\n",
              "      <td>8.007034</td>\n",
              "      <td>0.0</td>\n",
              "      <td>4.219508</td>\n",
              "      <td>360.0</td>\n",
              "      <td>1.0</td>\n",
              "      <td>2</td>\n",
              "      <td>1</td>\n",
              "      <td>1.0</td>\n",
              "      <td>0.0</td>\n",
              "      <td>0.0</td>\n",
              "      <td>0.0</td>\n",
              "    </tr>\n",
              "    <tr>\n",
              "      <th>3</th>\n",
              "      <td>3</td>\n",
              "      <td>3</td>\n",
              "      <td>1</td>\n",
              "      <td>1</td>\n",
              "      <td>1</td>\n",
              "      <td>0</td>\n",
              "      <td>7.857481</td>\n",
              "      <td>2358.0</td>\n",
              "      <td>4.804021</td>\n",
              "      <td>360.0</td>\n",
              "      <td>1.0</td>\n",
              "      <td>2</td>\n",
              "      <td>1</td>\n",
              "      <td>1.0</td>\n",
              "      <td>0.0</td>\n",
              "      <td>0.0</td>\n",
              "      <td>0.0</td>\n",
              "    </tr>\n",
              "    <tr>\n",
              "      <th>4</th>\n",
              "      <td>4</td>\n",
              "      <td>4</td>\n",
              "      <td>1</td>\n",
              "      <td>0</td>\n",
              "      <td>0</td>\n",
              "      <td>0</td>\n",
              "      <td>8.699848</td>\n",
              "      <td>0.0</td>\n",
              "      <td>4.962845</td>\n",
              "      <td>360.0</td>\n",
              "      <td>1.0</td>\n",
              "      <td>2</td>\n",
              "      <td>1</td>\n",
              "      <td>1.0</td>\n",
              "      <td>0.0</td>\n",
              "      <td>0.0</td>\n",
              "      <td>0.0</td>\n",
              "    </tr>\n",
              "  </tbody>\n",
              "</table>\n",
              "</div>\n",
              "      <button class=\"colab-df-convert\" onclick=\"convertToInteractive('df-417fc0a8-22e1-4fab-a5bb-3c1f6133d934')\"\n",
              "              title=\"Convert this dataframe to an interactive table.\"\n",
              "              style=\"display:none;\">\n",
              "        \n",
              "  <svg xmlns=\"http://www.w3.org/2000/svg\" height=\"24px\"viewBox=\"0 0 24 24\"\n",
              "       width=\"24px\">\n",
              "    <path d=\"M0 0h24v24H0V0z\" fill=\"none\"/>\n",
              "    <path d=\"M18.56 5.44l.94 2.06.94-2.06 2.06-.94-2.06-.94-.94-2.06-.94 2.06-2.06.94zm-11 1L8.5 8.5l.94-2.06 2.06-.94-2.06-.94L8.5 2.5l-.94 2.06-2.06.94zm10 10l.94 2.06.94-2.06 2.06-.94-2.06-.94-.94-2.06-.94 2.06-2.06.94z\"/><path d=\"M17.41 7.96l-1.37-1.37c-.4-.4-.92-.59-1.43-.59-.52 0-1.04.2-1.43.59L10.3 9.45l-7.72 7.72c-.78.78-.78 2.05 0 2.83L4 21.41c.39.39.9.59 1.41.59.51 0 1.02-.2 1.41-.59l7.78-7.78 2.81-2.81c.8-.78.8-2.07 0-2.86zM5.41 20L4 18.59l7.72-7.72 1.47 1.35L5.41 20z\"/>\n",
              "  </svg>\n",
              "      </button>\n",
              "      \n",
              "  <style>\n",
              "    .colab-df-container {\n",
              "      display:flex;\n",
              "      flex-wrap:wrap;\n",
              "      gap: 12px;\n",
              "    }\n",
              "\n",
              "    .colab-df-convert {\n",
              "      background-color: #E8F0FE;\n",
              "      border: none;\n",
              "      border-radius: 50%;\n",
              "      cursor: pointer;\n",
              "      display: none;\n",
              "      fill: #1967D2;\n",
              "      height: 32px;\n",
              "      padding: 0 0 0 0;\n",
              "      width: 32px;\n",
              "    }\n",
              "\n",
              "    .colab-df-convert:hover {\n",
              "      background-color: #E2EBFA;\n",
              "      box-shadow: 0px 1px 2px rgba(60, 64, 67, 0.3), 0px 1px 3px 1px rgba(60, 64, 67, 0.15);\n",
              "      fill: #174EA6;\n",
              "    }\n",
              "\n",
              "    [theme=dark] .colab-df-convert {\n",
              "      background-color: #3B4455;\n",
              "      fill: #D2E3FC;\n",
              "    }\n",
              "\n",
              "    [theme=dark] .colab-df-convert:hover {\n",
              "      background-color: #434B5C;\n",
              "      box-shadow: 0px 1px 3px 1px rgba(0, 0, 0, 0.15);\n",
              "      filter: drop-shadow(0px 1px 2px rgba(0, 0, 0, 0.3));\n",
              "      fill: #FFFFFF;\n",
              "    }\n",
              "  </style>\n",
              "\n",
              "      <script>\n",
              "        const buttonEl =\n",
              "          document.querySelector('#df-417fc0a8-22e1-4fab-a5bb-3c1f6133d934 button.colab-df-convert');\n",
              "        buttonEl.style.display =\n",
              "          google.colab.kernel.accessAllowed ? 'block' : 'none';\n",
              "\n",
              "        async function convertToInteractive(key) {\n",
              "          const element = document.querySelector('#df-417fc0a8-22e1-4fab-a5bb-3c1f6133d934');\n",
              "          const dataTable =\n",
              "            await google.colab.kernel.invokeFunction('convertToInteractive',\n",
              "                                                     [key], {});\n",
              "          if (!dataTable) return;\n",
              "\n",
              "          const docLinkHtml = 'Like what you see? Visit the ' +\n",
              "            '<a target=\"_blank\" href=https://colab.research.google.com/notebooks/data_table.ipynb>data table notebook</a>'\n",
              "            + ' to learn more about interactive tables.';\n",
              "          element.innerHTML = '';\n",
              "          dataTable['output_type'] = 'display_data';\n",
              "          await google.colab.output.renderOutput(dataTable, element);\n",
              "          const docLink = document.createElement('div');\n",
              "          docLink.innerHTML = docLinkHtml;\n",
              "          element.appendChild(docLink);\n",
              "        }\n",
              "      </script>\n",
              "    </div>\n",
              "  </div>\n",
              "  "
            ],
            "text/plain": [
              "   level_0  index  Gender  ...  1_Dependent  2_Dependents  3+_Dependents\n",
              "0        0      0       1  ...          0.0           0.0            0.0\n",
              "1        1      1       1  ...          1.0           0.0            0.0\n",
              "2        2      2       1  ...          0.0           0.0            0.0\n",
              "3        3      3       1  ...          0.0           0.0            0.0\n",
              "4        4      4       1  ...          0.0           0.0            0.0\n",
              "\n",
              "[5 rows x 17 columns]"
            ]
          },
          "metadata": {},
          "execution_count": 555
        }
      ]
    },
    {
      "cell_type": "code",
      "source": [
        "train.drop(['level_0', 'index'], axis=1, inplace=True)"
      ],
      "metadata": {
        "id": "BQXquGdko4XW"
      },
      "execution_count": null,
      "outputs": []
    },
    {
      "cell_type": "code",
      "source": [
        "# Resetted Train set without few outliers \n",
        "train.head()"
      ],
      "metadata": {
        "colab": {
          "base_uri": "https://localhost:8080/",
          "height": 270
        },
        "id": "ne5SaXA9pBcH",
        "outputId": "44e0e96f-8e62-49c1-8c0e-0a49407705bf"
      },
      "execution_count": null,
      "outputs": [
        {
          "output_type": "execute_result",
          "data": {
            "text/html": [
              "\n",
              "  <div id=\"df-fbb92f6a-fbcb-4ac5-b8c7-36fc1b6753d8\">\n",
              "    <div class=\"colab-df-container\">\n",
              "      <div>\n",
              "<style scoped>\n",
              "    .dataframe tbody tr th:only-of-type {\n",
              "        vertical-align: middle;\n",
              "    }\n",
              "\n",
              "    .dataframe tbody tr th {\n",
              "        vertical-align: top;\n",
              "    }\n",
              "\n",
              "    .dataframe thead th {\n",
              "        text-align: right;\n",
              "    }\n",
              "</style>\n",
              "<table border=\"1\" class=\"dataframe\">\n",
              "  <thead>\n",
              "    <tr style=\"text-align: right;\">\n",
              "      <th></th>\n",
              "      <th>Gender</th>\n",
              "      <th>Married</th>\n",
              "      <th>Education</th>\n",
              "      <th>Self_Employed</th>\n",
              "      <th>ApplicantIncome</th>\n",
              "      <th>CoapplicantIncome</th>\n",
              "      <th>LoanAmount</th>\n",
              "      <th>Loan_Amount_Term</th>\n",
              "      <th>Credit_History</th>\n",
              "      <th>Property_Area</th>\n",
              "      <th>Loan_Status</th>\n",
              "      <th>0_Dependents</th>\n",
              "      <th>1_Dependent</th>\n",
              "      <th>2_Dependents</th>\n",
              "      <th>3+_Dependents</th>\n",
              "    </tr>\n",
              "  </thead>\n",
              "  <tbody>\n",
              "    <tr>\n",
              "      <th>0</th>\n",
              "      <td>1</td>\n",
              "      <td>0</td>\n",
              "      <td>0</td>\n",
              "      <td>0</td>\n",
              "      <td>8.674368</td>\n",
              "      <td>0.0</td>\n",
              "      <td>4.867534</td>\n",
              "      <td>360.0</td>\n",
              "      <td>1.0</td>\n",
              "      <td>2</td>\n",
              "      <td>1</td>\n",
              "      <td>1.0</td>\n",
              "      <td>0.0</td>\n",
              "      <td>0.0</td>\n",
              "      <td>0.0</td>\n",
              "    </tr>\n",
              "    <tr>\n",
              "      <th>1</th>\n",
              "      <td>1</td>\n",
              "      <td>1</td>\n",
              "      <td>0</td>\n",
              "      <td>0</td>\n",
              "      <td>8.430545</td>\n",
              "      <td>1508.0</td>\n",
              "      <td>4.867534</td>\n",
              "      <td>360.0</td>\n",
              "      <td>1.0</td>\n",
              "      <td>0</td>\n",
              "      <td>0</td>\n",
              "      <td>0.0</td>\n",
              "      <td>1.0</td>\n",
              "      <td>0.0</td>\n",
              "      <td>0.0</td>\n",
              "    </tr>\n",
              "    <tr>\n",
              "      <th>2</th>\n",
              "      <td>1</td>\n",
              "      <td>1</td>\n",
              "      <td>0</td>\n",
              "      <td>1</td>\n",
              "      <td>8.007034</td>\n",
              "      <td>0.0</td>\n",
              "      <td>4.219508</td>\n",
              "      <td>360.0</td>\n",
              "      <td>1.0</td>\n",
              "      <td>2</td>\n",
              "      <td>1</td>\n",
              "      <td>1.0</td>\n",
              "      <td>0.0</td>\n",
              "      <td>0.0</td>\n",
              "      <td>0.0</td>\n",
              "    </tr>\n",
              "    <tr>\n",
              "      <th>3</th>\n",
              "      <td>1</td>\n",
              "      <td>1</td>\n",
              "      <td>1</td>\n",
              "      <td>0</td>\n",
              "      <td>7.857481</td>\n",
              "      <td>2358.0</td>\n",
              "      <td>4.804021</td>\n",
              "      <td>360.0</td>\n",
              "      <td>1.0</td>\n",
              "      <td>2</td>\n",
              "      <td>1</td>\n",
              "      <td>1.0</td>\n",
              "      <td>0.0</td>\n",
              "      <td>0.0</td>\n",
              "      <td>0.0</td>\n",
              "    </tr>\n",
              "    <tr>\n",
              "      <th>4</th>\n",
              "      <td>1</td>\n",
              "      <td>0</td>\n",
              "      <td>0</td>\n",
              "      <td>0</td>\n",
              "      <td>8.699848</td>\n",
              "      <td>0.0</td>\n",
              "      <td>4.962845</td>\n",
              "      <td>360.0</td>\n",
              "      <td>1.0</td>\n",
              "      <td>2</td>\n",
              "      <td>1</td>\n",
              "      <td>1.0</td>\n",
              "      <td>0.0</td>\n",
              "      <td>0.0</td>\n",
              "      <td>0.0</td>\n",
              "    </tr>\n",
              "  </tbody>\n",
              "</table>\n",
              "</div>\n",
              "      <button class=\"colab-df-convert\" onclick=\"convertToInteractive('df-fbb92f6a-fbcb-4ac5-b8c7-36fc1b6753d8')\"\n",
              "              title=\"Convert this dataframe to an interactive table.\"\n",
              "              style=\"display:none;\">\n",
              "        \n",
              "  <svg xmlns=\"http://www.w3.org/2000/svg\" height=\"24px\"viewBox=\"0 0 24 24\"\n",
              "       width=\"24px\">\n",
              "    <path d=\"M0 0h24v24H0V0z\" fill=\"none\"/>\n",
              "    <path d=\"M18.56 5.44l.94 2.06.94-2.06 2.06-.94-2.06-.94-.94-2.06-.94 2.06-2.06.94zm-11 1L8.5 8.5l.94-2.06 2.06-.94-2.06-.94L8.5 2.5l-.94 2.06-2.06.94zm10 10l.94 2.06.94-2.06 2.06-.94-2.06-.94-.94-2.06-.94 2.06-2.06.94z\"/><path d=\"M17.41 7.96l-1.37-1.37c-.4-.4-.92-.59-1.43-.59-.52 0-1.04.2-1.43.59L10.3 9.45l-7.72 7.72c-.78.78-.78 2.05 0 2.83L4 21.41c.39.39.9.59 1.41.59.51 0 1.02-.2 1.41-.59l7.78-7.78 2.81-2.81c.8-.78.8-2.07 0-2.86zM5.41 20L4 18.59l7.72-7.72 1.47 1.35L5.41 20z\"/>\n",
              "  </svg>\n",
              "      </button>\n",
              "      \n",
              "  <style>\n",
              "    .colab-df-container {\n",
              "      display:flex;\n",
              "      flex-wrap:wrap;\n",
              "      gap: 12px;\n",
              "    }\n",
              "\n",
              "    .colab-df-convert {\n",
              "      background-color: #E8F0FE;\n",
              "      border: none;\n",
              "      border-radius: 50%;\n",
              "      cursor: pointer;\n",
              "      display: none;\n",
              "      fill: #1967D2;\n",
              "      height: 32px;\n",
              "      padding: 0 0 0 0;\n",
              "      width: 32px;\n",
              "    }\n",
              "\n",
              "    .colab-df-convert:hover {\n",
              "      background-color: #E2EBFA;\n",
              "      box-shadow: 0px 1px 2px rgba(60, 64, 67, 0.3), 0px 1px 3px 1px rgba(60, 64, 67, 0.15);\n",
              "      fill: #174EA6;\n",
              "    }\n",
              "\n",
              "    [theme=dark] .colab-df-convert {\n",
              "      background-color: #3B4455;\n",
              "      fill: #D2E3FC;\n",
              "    }\n",
              "\n",
              "    [theme=dark] .colab-df-convert:hover {\n",
              "      background-color: #434B5C;\n",
              "      box-shadow: 0px 1px 3px 1px rgba(0, 0, 0, 0.15);\n",
              "      filter: drop-shadow(0px 1px 2px rgba(0, 0, 0, 0.3));\n",
              "      fill: #FFFFFF;\n",
              "    }\n",
              "  </style>\n",
              "\n",
              "      <script>\n",
              "        const buttonEl =\n",
              "          document.querySelector('#df-fbb92f6a-fbcb-4ac5-b8c7-36fc1b6753d8 button.colab-df-convert');\n",
              "        buttonEl.style.display =\n",
              "          google.colab.kernel.accessAllowed ? 'block' : 'none';\n",
              "\n",
              "        async function convertToInteractive(key) {\n",
              "          const element = document.querySelector('#df-fbb92f6a-fbcb-4ac5-b8c7-36fc1b6753d8');\n",
              "          const dataTable =\n",
              "            await google.colab.kernel.invokeFunction('convertToInteractive',\n",
              "                                                     [key], {});\n",
              "          if (!dataTable) return;\n",
              "\n",
              "          const docLinkHtml = 'Like what you see? Visit the ' +\n",
              "            '<a target=\"_blank\" href=https://colab.research.google.com/notebooks/data_table.ipynb>data table notebook</a>'\n",
              "            + ' to learn more about interactive tables.';\n",
              "          element.innerHTML = '';\n",
              "          dataTable['output_type'] = 'display_data';\n",
              "          await google.colab.output.renderOutput(dataTable, element);\n",
              "          const docLink = document.createElement('div');\n",
              "          docLink.innerHTML = docLinkHtml;\n",
              "          element.appendChild(docLink);\n",
              "        }\n",
              "      </script>\n",
              "    </div>\n",
              "  </div>\n",
              "  "
            ],
            "text/plain": [
              "   Gender  Married  Education  ...  1_Dependent  2_Dependents  3+_Dependents\n",
              "0       1        0          0  ...          0.0           0.0            0.0\n",
              "1       1        1          0  ...          1.0           0.0            0.0\n",
              "2       1        1          0  ...          0.0           0.0            0.0\n",
              "3       1        1          1  ...          0.0           0.0            0.0\n",
              "4       1        0          0  ...          0.0           0.0            0.0\n",
              "\n",
              "[5 rows x 15 columns]"
            ]
          },
          "metadata": {},
          "execution_count": 557
        }
      ]
    },
    {
      "cell_type": "code",
      "source": [
        "train.shape"
      ],
      "metadata": {
        "colab": {
          "base_uri": "https://localhost:8080/"
        },
        "id": "ei1fdcilp_mf",
        "outputId": "52039e7e-4061-4df3-93a6-25b1fe35bd3c"
      },
      "execution_count": null,
      "outputs": [
        {
          "output_type": "execute_result",
          "data": {
            "text/plain": [
              "(606, 15)"
            ]
          },
          "metadata": {},
          "execution_count": 558
        }
      ]
    },
    {
      "cell_type": "code",
      "source": [
        "# Test set log transformation to test the model\n",
        "test.ApplicantIncome = np.log(test.ApplicantIncome + 2)\n",
        "test.LoanAmount = np.log(test.LoanAmount + 2)"
      ],
      "metadata": {
        "id": "kYHoVfpEyB9R"
      },
      "execution_count": null,
      "outputs": []
    },
    {
      "cell_type": "markdown",
      "source": [
        "##Feature selection"
      ],
      "metadata": {
        "id": "VUalO4-lUgCT"
      }
    },
    {
      "cell_type": "code",
      "source": [
        "feature = ExtraTreesClassifier(random_state=42)"
      ],
      "metadata": {
        "id": "n5V-tkqqUiGN"
      },
      "execution_count": null,
      "outputs": []
    },
    {
      "cell_type": "code",
      "source": [
        "x = train.drop('Loan_Status', axis=1)\n",
        "y = train['Loan_Status']"
      ],
      "metadata": {
        "id": "B4h97wEYUp_8"
      },
      "execution_count": null,
      "outputs": []
    },
    {
      "cell_type": "code",
      "source": [
        "feature.fit(x,y)"
      ],
      "metadata": {
        "colab": {
          "base_uri": "https://localhost:8080/"
        },
        "id": "oLGuGx1sU6Kq",
        "outputId": "f43aca44-02fa-4167-eea9-c88a3f52021e"
      },
      "execution_count": null,
      "outputs": [
        {
          "output_type": "execute_result",
          "data": {
            "text/plain": [
              "ExtraTreesClassifier(random_state=42)"
            ]
          },
          "metadata": {},
          "execution_count": 562
        }
      ]
    },
    {
      "cell_type": "code",
      "source": [
        "feature.feature_importances_"
      ],
      "metadata": {
        "colab": {
          "base_uri": "https://localhost:8080/"
        },
        "id": "mdcLarWyU9pE",
        "outputId": "1d4743cc-e2dc-49fd-826f-a6bcf62fd7d7"
      },
      "execution_count": null,
      "outputs": [
        {
          "output_type": "execute_result",
          "data": {
            "text/plain": [
              "array([0.02326738, 0.01970073, 0.02480879, 0.02507309, 0.19103666,\n",
              "       0.11518697, 0.17843834, 0.04858048, 0.27339469, 0.05532749,\n",
              "       0.01429225, 0.01323155, 0.00922492, 0.00843667])"
            ]
          },
          "metadata": {},
          "execution_count": 563
        }
      ]
    },
    {
      "cell_type": "code",
      "source": [
        "important_features = pd.Series(feature.feature_importances_, index = x.columns)\n",
        "important_features"
      ],
      "metadata": {
        "colab": {
          "base_uri": "https://localhost:8080/"
        },
        "id": "IWlkW7XmVCzd",
        "outputId": "b53bbbd0-b477-4cf8-e99c-a1850d364c88"
      },
      "execution_count": null,
      "outputs": [
        {
          "output_type": "execute_result",
          "data": {
            "text/plain": [
              "Gender               0.023267\n",
              "Married              0.019701\n",
              "Education            0.024809\n",
              "Self_Employed        0.025073\n",
              "ApplicantIncome      0.191037\n",
              "CoapplicantIncome    0.115187\n",
              "LoanAmount           0.178438\n",
              "Loan_Amount_Term     0.048580\n",
              "Credit_History       0.273395\n",
              "Property_Area        0.055327\n",
              "0_Dependents         0.014292\n",
              "1_Dependent          0.013232\n",
              "2_Dependents         0.009225\n",
              "3+_Dependents        0.008437\n",
              "dtype: float64"
            ]
          },
          "metadata": {},
          "execution_count": 564
        }
      ]
    },
    {
      "cell_type": "code",
      "source": [
        "important_features.nlargest(14).plot(kind='barh')"
      ],
      "metadata": {
        "colab": {
          "base_uri": "https://localhost:8080/",
          "height": 283
        },
        "id": "AMWN1P0OVY4y",
        "outputId": "4d03e2e1-672c-484f-f48e-320e94801c09"
      },
      "execution_count": null,
      "outputs": [
        {
          "output_type": "execute_result",
          "data": {
            "text/plain": [
              "<matplotlib.axes._subplots.AxesSubplot at 0x7f747e316190>"
            ]
          },
          "metadata": {},
          "execution_count": 565
        },
        {
          "output_type": "display_data",
          "data": {
            "image/png": "[encoded data removed]",
            "text/plain": [
              "<Figure size 432x288 with 1 Axes>"
            ]
          },
          "metadata": {
            "needs_background": "light"
          }
        }
      ]
    },
    {
      "cell_type": "markdown",
      "source": [
        "##Q8.\n",
        "8. What all features are you going to consider for the model training and why? (Give the appropriate reason for \n",
        "choosing such features among others)\n"
      ],
      "metadata": {
        "id": "Lce_H26pyjX8"
      }
    },
    {
      "cell_type": "markdown",
      "source": [
        "**Dependents are less important compared to other features. Therefore, 0, 1, 2 and 3+ dependents columns (original Dependent column) are dropped for further analysis**"
      ],
      "metadata": {
        "id": "NdQ2Tqt8c81b"
      }
    },
    {
      "cell_type": "code",
      "source": [
        "new_x = train[list(important_features.nlargest(10).index)]\n",
        "new_x"
      ],
      "metadata": {
        "colab": {
          "base_uri": "https://localhost:8080/",
          "height": 487
        },
        "id": "qJm8XGBaWa4s",
        "outputId": "7c4ced6f-9e4e-4892-96aa-0f7647788448"
      },
      "execution_count": null,
      "outputs": [
        {
          "output_type": "execute_result",
          "data": {
            "text/html": [
              "\n",
              "  <div id=\"df-8cad232e-07a1-4ec4-9a30-280cda622ecd\">\n",
              "    <div class=\"colab-df-container\">\n",
              "      <div>\n",
              "<style scoped>\n",
              "    .dataframe tbody tr th:only-of-type {\n",
              "        vertical-align: middle;\n",
              "    }\n",
              "\n",
              "    .dataframe tbody tr th {\n",
              "        vertical-align: top;\n",
              "    }\n",
              "\n",
              "    .dataframe thead th {\n",
              "        text-align: right;\n",
              "    }\n",
              "</style>\n",
              "<table border=\"1\" class=\"dataframe\">\n",
              "  <thead>\n",
              "    <tr style=\"text-align: right;\">\n",
              "      <th></th>\n",
              "      <th>Credit_History</th>\n",
              "      <th>ApplicantIncome</th>\n",
              "      <th>LoanAmount</th>\n",
              "      <th>CoapplicantIncome</th>\n",
              "      <th>Property_Area</th>\n",
              "      <th>Loan_Amount_Term</th>\n",
              "      <th>Self_Employed</th>\n",
              "      <th>Education</th>\n",
              "      <th>Gender</th>\n",
              "      <th>Married</th>\n",
              "    </tr>\n",
              "  </thead>\n",
              "  <tbody>\n",
              "    <tr>\n",
              "      <th>0</th>\n",
              "      <td>1.0</td>\n",
              "      <td>8.674368</td>\n",
              "      <td>4.867534</td>\n",
              "      <td>0.0</td>\n",
              "      <td>2</td>\n",
              "      <td>360.0</td>\n",
              "      <td>0</td>\n",
              "      <td>0</td>\n",
              "      <td>1</td>\n",
              "      <td>0</td>\n",
              "    </tr>\n",
              "    <tr>\n",
              "      <th>1</th>\n",
              "      <td>1.0</td>\n",
              "      <td>8.430545</td>\n",
              "      <td>4.867534</td>\n",
              "      <td>1508.0</td>\n",
              "      <td>0</td>\n",
              "      <td>360.0</td>\n",
              "      <td>0</td>\n",
              "      <td>0</td>\n",
              "      <td>1</td>\n",
              "      <td>1</td>\n",
              "    </tr>\n",
              "    <tr>\n",
              "      <th>2</th>\n",
              "      <td>1.0</td>\n",
              "      <td>8.007034</td>\n",
              "      <td>4.219508</td>\n",
              "      <td>0.0</td>\n",
              "      <td>2</td>\n",
              "      <td>360.0</td>\n",
              "      <td>1</td>\n",
              "      <td>0</td>\n",
              "      <td>1</td>\n",
              "      <td>1</td>\n",
              "    </tr>\n",
              "    <tr>\n",
              "      <th>3</th>\n",
              "      <td>1.0</td>\n",
              "      <td>7.857481</td>\n",
              "      <td>4.804021</td>\n",
              "      <td>2358.0</td>\n",
              "      <td>2</td>\n",
              "      <td>360.0</td>\n",
              "      <td>0</td>\n",
              "      <td>1</td>\n",
              "      <td>1</td>\n",
              "      <td>1</td>\n",
              "    </tr>\n",
              "    <tr>\n",
              "      <th>4</th>\n",
              "      <td>1.0</td>\n",
              "      <td>8.699848</td>\n",
              "      <td>4.962845</td>\n",
              "      <td>0.0</td>\n",
              "      <td>2</td>\n",
              "      <td>360.0</td>\n",
              "      <td>0</td>\n",
              "      <td>0</td>\n",
              "      <td>1</td>\n",
              "      <td>0</td>\n",
              "    </tr>\n",
              "    <tr>\n",
              "      <th>...</th>\n",
              "      <td>...</td>\n",
              "      <td>...</td>\n",
              "      <td>...</td>\n",
              "      <td>...</td>\n",
              "      <td>...</td>\n",
              "      <td>...</td>\n",
              "      <td>...</td>\n",
              "      <td>...</td>\n",
              "      <td>...</td>\n",
              "      <td>...</td>\n",
              "    </tr>\n",
              "    <tr>\n",
              "      <th>601</th>\n",
              "      <td>1.0</td>\n",
              "      <td>7.973155</td>\n",
              "      <td>4.290459</td>\n",
              "      <td>0.0</td>\n",
              "      <td>0</td>\n",
              "      <td>360.0</td>\n",
              "      <td>0</td>\n",
              "      <td>0</td>\n",
              "      <td>0</td>\n",
              "      <td>0</td>\n",
              "    </tr>\n",
              "    <tr>\n",
              "      <th>602</th>\n",
              "      <td>1.0</td>\n",
              "      <td>8.320692</td>\n",
              "      <td>3.737670</td>\n",
              "      <td>0.0</td>\n",
              "      <td>0</td>\n",
              "      <td>180.0</td>\n",
              "      <td>0</td>\n",
              "      <td>0</td>\n",
              "      <td>1</td>\n",
              "      <td>1</td>\n",
              "    </tr>\n",
              "    <tr>\n",
              "      <th>603</th>\n",
              "      <td>1.0</td>\n",
              "      <td>8.996404</td>\n",
              "      <td>5.541264</td>\n",
              "      <td>240.0</td>\n",
              "      <td>2</td>\n",
              "      <td>360.0</td>\n",
              "      <td>0</td>\n",
              "      <td>0</td>\n",
              "      <td>1</td>\n",
              "      <td>1</td>\n",
              "    </tr>\n",
              "    <tr>\n",
              "      <th>604</th>\n",
              "      <td>1.0</td>\n",
              "      <td>8.933928</td>\n",
              "      <td>5.241747</td>\n",
              "      <td>0.0</td>\n",
              "      <td>2</td>\n",
              "      <td>360.0</td>\n",
              "      <td>0</td>\n",
              "      <td>0</td>\n",
              "      <td>1</td>\n",
              "      <td>1</td>\n",
              "    </tr>\n",
              "    <tr>\n",
              "      <th>605</th>\n",
              "      <td>0.0</td>\n",
              "      <td>8.430545</td>\n",
              "      <td>4.905275</td>\n",
              "      <td>0.0</td>\n",
              "      <td>1</td>\n",
              "      <td>360.0</td>\n",
              "      <td>1</td>\n",
              "      <td>0</td>\n",
              "      <td>0</td>\n",
              "      <td>0</td>\n",
              "    </tr>\n",
              "  </tbody>\n",
              "</table>\n",
              "<p>606 rows × 10 columns</p>\n",
              "</div>\n",
              "      <button class=\"colab-df-convert\" onclick=\"convertToInteractive('df-8cad232e-07a1-4ec4-9a30-280cda622ecd')\"\n",
              "              title=\"Convert this dataframe to an interactive table.\"\n",
              "              style=\"display:none;\">\n",
              "        \n",
              "  <svg xmlns=\"http://www.w3.org/2000/svg\" height=\"24px\"viewBox=\"0 0 24 24\"\n",
              "       width=\"24px\">\n",
              "    <path d=\"M0 0h24v24H0V0z\" fill=\"none\"/>\n",
              "    <path d=\"M18.56 5.44l.94 2.06.94-2.06 2.06-.94-2.06-.94-.94-2.06-.94 2.06-2.06.94zm-11 1L8.5 8.5l.94-2.06 2.06-.94-2.06-.94L8.5 2.5l-.94 2.06-2.06.94zm10 10l.94 2.06.94-2.06 2.06-.94-2.06-.94-.94-2.06-.94 2.06-2.06.94z\"/><path d=\"M17.41 7.96l-1.37-1.37c-.4-.4-.92-.59-1.43-.59-.52 0-1.04.2-1.43.59L10.3 9.45l-7.72 7.72c-.78.78-.78 2.05 0 2.83L4 21.41c.39.39.9.59 1.41.59.51 0 1.02-.2 1.41-.59l7.78-7.78 2.81-2.81c.8-.78.8-2.07 0-2.86zM5.41 20L4 18.59l7.72-7.72 1.47 1.35L5.41 20z\"/>\n",
              "  </svg>\n",
              "      </button>\n",
              "      \n",
              "  <style>\n",
              "    .colab-df-container {\n",
              "      display:flex;\n",
              "      flex-wrap:wrap;\n",
              "      gap: 12px;\n",
              "    }\n",
              "\n",
              "    .colab-df-convert {\n",
              "      background-color: #E8F0FE;\n",
              "      border: none;\n",
              "      border-radius: 50%;\n",
              "      cursor: pointer;\n",
              "      display: none;\n",
              "      fill: #1967D2;\n",
              "      height: 32px;\n",
              "      padding: 0 0 0 0;\n",
              "      width: 32px;\n",
              "    }\n",
              "\n",
              "    .colab-df-convert:hover {\n",
              "      background-color: #E2EBFA;\n",
              "      box-shadow: 0px 1px 2px rgba(60, 64, 67, 0.3), 0px 1px 3px 1px rgba(60, 64, 67, 0.15);\n",
              "      fill: #174EA6;\n",
              "    }\n",
              "\n",
              "    [theme=dark] .colab-df-convert {\n",
              "      background-color: #3B4455;\n",
              "      fill: #D2E3FC;\n",
              "    }\n",
              "\n",
              "    [theme=dark] .colab-df-convert:hover {\n",
              "      background-color: #434B5C;\n",
              "      box-shadow: 0px 1px 3px 1px rgba(0, 0, 0, 0.15);\n",
              "      filter: drop-shadow(0px 1px 2px rgba(0, 0, 0, 0.3));\n",
              "      fill: #FFFFFF;\n",
              "    }\n",
              "  </style>\n",
              "\n",
              "      <script>\n",
              "        const buttonEl =\n",
              "          document.querySelector('#df-8cad232e-07a1-4ec4-9a30-280cda622ecd button.colab-df-convert');\n",
              "        buttonEl.style.display =\n",
              "          google.colab.kernel.accessAllowed ? 'block' : 'none';\n",
              "\n",
              "        async function convertToInteractive(key) {\n",
              "          const element = document.querySelector('#df-8cad232e-07a1-4ec4-9a30-280cda622ecd');\n",
              "          const dataTable =\n",
              "            await google.colab.kernel.invokeFunction('convertToInteractive',\n",
              "                                                     [key], {});\n",
              "          if (!dataTable) return;\n",
              "\n",
              "          const docLinkHtml = 'Like what you see? Visit the ' +\n",
              "            '<a target=\"_blank\" href=https://colab.research.google.com/notebooks/data_table.ipynb>data table notebook</a>'\n",
              "            + ' to learn more about interactive tables.';\n",
              "          element.innerHTML = '';\n",
              "          dataTable['output_type'] = 'display_data';\n",
              "          await google.colab.output.renderOutput(dataTable, element);\n",
              "          const docLink = document.createElement('div');\n",
              "          docLink.innerHTML = docLinkHtml;\n",
              "          element.appendChild(docLink);\n",
              "        }\n",
              "      </script>\n",
              "    </div>\n",
              "  </div>\n",
              "  "
            ],
            "text/plain": [
              "     Credit_History  ApplicantIncome  LoanAmount  ...  Education  Gender  Married\n",
              "0               1.0         8.674368    4.867534  ...          0       1        0\n",
              "1               1.0         8.430545    4.867534  ...          0       1        1\n",
              "2               1.0         8.007034    4.219508  ...          0       1        1\n",
              "3               1.0         7.857481    4.804021  ...          1       1        1\n",
              "4               1.0         8.699848    4.962845  ...          0       1        0\n",
              "..              ...              ...         ...  ...        ...     ...      ...\n",
              "601             1.0         7.973155    4.290459  ...          0       0        0\n",
              "602             1.0         8.320692    3.737670  ...          0       1        1\n",
              "603             1.0         8.996404    5.541264  ...          0       1        1\n",
              "604             1.0         8.933928    5.241747  ...          0       1        1\n",
              "605             0.0         8.430545    4.905275  ...          0       0        0\n",
              "\n",
              "[606 rows x 10 columns]"
            ]
          },
          "metadata": {},
          "execution_count": 566
        }
      ]
    },
    {
      "cell_type": "markdown",
      "source": [
        "##Model building"
      ],
      "metadata": {
        "id": "BOnVPmbPpAQE"
      }
    },
    {
      "cell_type": "code",
      "source": [
        "test.drop(['0_Dependents', '1_Dependent', '2_Dependents', '3+_Dependents'], axis=1, inplace=True)\n",
        "test_features = ['Credit_History',\t'ApplicantIncome'\t,'LoanAmount'\t,'CoapplicantIncome'\t,'Property_Area',\t'Loan_Amount_Term',\n",
        "                 'Self_Employed','Education',\t'Gender'\t,\t'Married']\n",
        "test = test[test_features]"
      ],
      "metadata": {
        "id": "bKUzjwRqHSSv"
      },
      "execution_count": null,
      "outputs": []
    },
    {
      "cell_type": "code",
      "source": [
        "test.head()"
      ],
      "metadata": {
        "colab": {
          "base_uri": "https://localhost:8080/",
          "height": 250
        },
        "id": "oj0TQbHfIiew",
        "outputId": "1fdc9c30-b2df-4647-80b6-979d14cb280d"
      },
      "execution_count": null,
      "outputs": [
        {
          "output_type": "execute_result",
          "data": {
            "text/html": [
              "\n",
              "  <div id=\"df-535057e1-5bf4-4f98-8694-458ff210c684\">\n",
              "    <div class=\"colab-df-container\">\n",
              "      <div>\n",
              "<style scoped>\n",
              "    .dataframe tbody tr th:only-of-type {\n",
              "        vertical-align: middle;\n",
              "    }\n",
              "\n",
              "    .dataframe tbody tr th {\n",
              "        vertical-align: top;\n",
              "    }\n",
              "\n",
              "    .dataframe thead th {\n",
              "        text-align: right;\n",
              "    }\n",
              "</style>\n",
              "<table border=\"1\" class=\"dataframe\">\n",
              "  <thead>\n",
              "    <tr style=\"text-align: right;\">\n",
              "      <th></th>\n",
              "      <th>Credit_History</th>\n",
              "      <th>ApplicantIncome</th>\n",
              "      <th>LoanAmount</th>\n",
              "      <th>CoapplicantIncome</th>\n",
              "      <th>Property_Area</th>\n",
              "      <th>Loan_Amount_Term</th>\n",
              "      <th>Self_Employed</th>\n",
              "      <th>Education</th>\n",
              "      <th>Gender</th>\n",
              "      <th>Married</th>\n",
              "    </tr>\n",
              "  </thead>\n",
              "  <tbody>\n",
              "    <tr>\n",
              "      <th>0</th>\n",
              "      <td>1.0</td>\n",
              "      <td>8.652074</td>\n",
              "      <td>4.718499</td>\n",
              "      <td>0</td>\n",
              "      <td>2</td>\n",
              "      <td>360.0</td>\n",
              "      <td>0</td>\n",
              "      <td>0</td>\n",
              "      <td>1</td>\n",
              "      <td>1</td>\n",
              "    </tr>\n",
              "    <tr>\n",
              "      <th>1</th>\n",
              "      <td>1.0</td>\n",
              "      <td>8.032035</td>\n",
              "      <td>4.852030</td>\n",
              "      <td>1500</td>\n",
              "      <td>2</td>\n",
              "      <td>360.0</td>\n",
              "      <td>0</td>\n",
              "      <td>0</td>\n",
              "      <td>1</td>\n",
              "      <td>1</td>\n",
              "    </tr>\n",
              "    <tr>\n",
              "      <th>2</th>\n",
              "      <td>1.0</td>\n",
              "      <td>8.517593</td>\n",
              "      <td>5.347108</td>\n",
              "      <td>1800</td>\n",
              "      <td>2</td>\n",
              "      <td>360.0</td>\n",
              "      <td>0</td>\n",
              "      <td>0</td>\n",
              "      <td>1</td>\n",
              "      <td>1</td>\n",
              "    </tr>\n",
              "    <tr>\n",
              "      <th>3</th>\n",
              "      <td>1.0</td>\n",
              "      <td>7.758761</td>\n",
              "      <td>4.624973</td>\n",
              "      <td>2546</td>\n",
              "      <td>2</td>\n",
              "      <td>360.0</td>\n",
              "      <td>0</td>\n",
              "      <td>0</td>\n",
              "      <td>1</td>\n",
              "      <td>1</td>\n",
              "    </tr>\n",
              "    <tr>\n",
              "      <th>4</th>\n",
              "      <td>1.0</td>\n",
              "      <td>8.094989</td>\n",
              "      <td>4.382027</td>\n",
              "      <td>0</td>\n",
              "      <td>2</td>\n",
              "      <td>360.0</td>\n",
              "      <td>0</td>\n",
              "      <td>1</td>\n",
              "      <td>1</td>\n",
              "      <td>0</td>\n",
              "    </tr>\n",
              "  </tbody>\n",
              "</table>\n",
              "</div>\n",
              "      <button class=\"colab-df-convert\" onclick=\"convertToInteractive('df-535057e1-5bf4-4f98-8694-458ff210c684')\"\n",
              "              title=\"Convert this dataframe to an interactive table.\"\n",
              "              style=\"display:none;\">\n",
              "        \n",
              "  <svg xmlns=\"http://www.w3.org/2000/svg\" height=\"24px\"viewBox=\"0 0 24 24\"\n",
              "       width=\"24px\">\n",
              "    <path d=\"M0 0h24v24H0V0z\" fill=\"none\"/>\n",
              "    <path d=\"M18.56 5.44l.94 2.06.94-2.06 2.06-.94-2.06-.94-.94-2.06-.94 2.06-2.06.94zm-11 1L8.5 8.5l.94-2.06 2.06-.94-2.06-.94L8.5 2.5l-.94 2.06-2.06.94zm10 10l.94 2.06.94-2.06 2.06-.94-2.06-.94-.94-2.06-.94 2.06-2.06.94z\"/><path d=\"M17.41 7.96l-1.37-1.37c-.4-.4-.92-.59-1.43-.59-.52 0-1.04.2-1.43.59L10.3 9.45l-7.72 7.72c-.78.78-.78 2.05 0 2.83L4 21.41c.39.39.9.59 1.41.59.51 0 1.02-.2 1.41-.59l7.78-7.78 2.81-2.81c.8-.78.8-2.07 0-2.86zM5.41 20L4 18.59l7.72-7.72 1.47 1.35L5.41 20z\"/>\n",
              "  </svg>\n",
              "      </button>\n",
              "      \n",
              "  <style>\n",
              "    .colab-df-container {\n",
              "      display:flex;\n",
              "      flex-wrap:wrap;\n",
              "      gap: 12px;\n",
              "    }\n",
              "\n",
              "    .colab-df-convert {\n",
              "      background-color: #E8F0FE;\n",
              "      border: none;\n",
              "      border-radius: 50%;\n",
              "      cursor: pointer;\n",
              "      display: none;\n",
              "      fill: #1967D2;\n",
              "      height: 32px;\n",
              "      padding: 0 0 0 0;\n",
              "      width: 32px;\n",
              "    }\n",
              "\n",
              "    .colab-df-convert:hover {\n",
              "      background-color: #E2EBFA;\n",
              "      box-shadow: 0px 1px 2px rgba(60, 64, 67, 0.3), 0px 1px 3px 1px rgba(60, 64, 67, 0.15);\n",
              "      fill: #174EA6;\n",
              "    }\n",
              "\n",
              "    [theme=dark] .colab-df-convert {\n",
              "      background-color: #3B4455;\n",
              "      fill: #D2E3FC;\n",
              "    }\n",
              "\n",
              "    [theme=dark] .colab-df-convert:hover {\n",
              "      background-color: #434B5C;\n",
              "      box-shadow: 0px 1px 3px 1px rgba(0, 0, 0, 0.15);\n",
              "      filter: drop-shadow(0px 1px 2px rgba(0, 0, 0, 0.3));\n",
              "      fill: #FFFFFF;\n",
              "    }\n",
              "  </style>\n",
              "\n",
              "      <script>\n",
              "        const buttonEl =\n",
              "          document.querySelector('#df-535057e1-5bf4-4f98-8694-458ff210c684 button.colab-df-convert');\n",
              "        buttonEl.style.display =\n",
              "          google.colab.kernel.accessAllowed ? 'block' : 'none';\n",
              "\n",
              "        async function convertToInteractive(key) {\n",
              "          const element = document.querySelector('#df-535057e1-5bf4-4f98-8694-458ff210c684');\n",
              "          const dataTable =\n",
              "            await google.colab.kernel.invokeFunction('convertToInteractive',\n",
              "                                                     [key], {});\n",
              "          if (!dataTable) return;\n",
              "\n",
              "          const docLinkHtml = 'Like what you see? Visit the ' +\n",
              "            '<a target=\"_blank\" href=https://colab.research.google.com/notebooks/data_table.ipynb>data table notebook</a>'\n",
              "            + ' to learn more about interactive tables.';\n",
              "          element.innerHTML = '';\n",
              "          dataTable['output_type'] = 'display_data';\n",
              "          await google.colab.output.renderOutput(dataTable, element);\n",
              "          const docLink = document.createElement('div');\n",
              "          docLink.innerHTML = docLinkHtml;\n",
              "          element.appendChild(docLink);\n",
              "        }\n",
              "      </script>\n",
              "    </div>\n",
              "  </div>\n",
              "  "
            ],
            "text/plain": [
              "   Credit_History  ApplicantIncome  LoanAmount  ...  Education  Gender  Married\n",
              "0             1.0         8.652074    4.718499  ...          0       1        1\n",
              "1             1.0         8.032035    4.852030  ...          0       1        1\n",
              "2             1.0         8.517593    5.347108  ...          0       1        1\n",
              "3             1.0         7.758761    4.624973  ...          0       1        1\n",
              "4             1.0         8.094989    4.382027  ...          1       1        0\n",
              "\n",
              "[5 rows x 10 columns]"
            ]
          },
          "metadata": {},
          "execution_count": 568
        }
      ]
    },
    {
      "cell_type": "code",
      "source": [
        "x_train = new_x\n",
        "y_train = y\n",
        "\n",
        "x_test = test"
      ],
      "metadata": {
        "id": "-tuw1JqkGeoA"
      },
      "execution_count": null,
      "outputs": []
    },
    {
      "cell_type": "code",
      "source": [
        "#x_train, x_test, y_train, y_test = train_test_split(new_x, y, test_size=0.2, random_state=42)"
      ],
      "metadata": {
        "id": "3o2ua0RxrLuu"
      },
      "execution_count": null,
      "outputs": []
    },
    {
      "cell_type": "markdown",
      "source": [
        "###Naive Bayes Classifier"
      ],
      "metadata": {
        "id": "qhcyVDw_pKG8"
      }
    },
    {
      "cell_type": "code",
      "source": [
        "nb_model = GaussianNB()"
      ],
      "metadata": {
        "id": "bYxCQfQHhZZB"
      },
      "execution_count": null,
      "outputs": []
    },
    {
      "cell_type": "code",
      "source": [
        "# training phase \n",
        "nb_model.fit(x_train, y_train)"
      ],
      "metadata": {
        "colab": {
          "base_uri": "https://localhost:8080/"
        },
        "id": "YxB0hS2lvxAU",
        "outputId": "b5259f13-29f7-446e-ac08-a3a5899b95a4"
      },
      "execution_count": null,
      "outputs": [
        {
          "output_type": "execute_result",
          "data": {
            "text/plain": [
              "GaussianNB()"
            ]
          },
          "metadata": {},
          "execution_count": 571
        }
      ]
    },
    {
      "cell_type": "code",
      "source": [
        "# predictions on test set\n",
        "nb_test_pred = nb_model.predict(x_test)"
      ],
      "metadata": {
        "id": "69Ez68ajv6QL"
      },
      "execution_count": null,
      "outputs": []
    },
    {
      "cell_type": "code",
      "source": [
        "# predictions on train set\n",
        "nb_train_pred = nb_model.predict(x_train)"
      ],
      "metadata": {
        "id": "UXt19zv1tpOe"
      },
      "execution_count": null,
      "outputs": []
    },
    {
      "cell_type": "markdown",
      "source": [
        "**Accuracy was checked using the training set because the actual test set target variable (y_test) is not given.**"
      ],
      "metadata": {
        "id": "w_QSBATVozSy"
      }
    },
    {
      "cell_type": "code",
      "source": [
        "# Accuracy of the Naive Bayes model using the train set\n",
        "score_nb = nb_model.score(x_train, y_train)\n",
        "print('accuracy :', score_nb)\n",
        "nb = round(score_nb*100,2)\n",
        "print('accuracy % :', nb)"
      ],
      "metadata": {
        "colab": {
          "base_uri": "https://localhost:8080/"
        },
        "id": "fmVV5xvwMheo",
        "outputId": "510c74c2-fd66-4ed6-9bea-43162f924b8e"
      },
      "execution_count": null,
      "outputs": [
        {
          "output_type": "stream",
          "name": "stdout",
          "text": [
            "accuracy : 0.806930693069307\n",
            "accuracy % : 80.69\n"
          ]
        }
      ]
    },
    {
      "cell_type": "markdown",
      "source": [
        "###Support vector classifier"
      ],
      "metadata": {
        "id": "DVD5Ila3zswd"
      }
    },
    {
      "cell_type": "code",
      "source": [
        "svc_model = SVC()"
      ],
      "metadata": {
        "id": "_FW_yyGXzvnK"
      },
      "execution_count": null,
      "outputs": []
    },
    {
      "cell_type": "code",
      "source": [
        "# training phase \n",
        "svc_model.fit(x_train, y_train)"
      ],
      "metadata": {
        "id": "6KL7WnBk2jm-",
        "colab": {
          "base_uri": "https://localhost:8080/"
        },
        "outputId": "9aacf211-34c6-490c-e4ad-07d08ed4df82"
      },
      "execution_count": null,
      "outputs": [
        {
          "output_type": "execute_result",
          "data": {
            "text/plain": [
              "SVC()"
            ]
          },
          "metadata": {},
          "execution_count": 576
        }
      ]
    },
    {
      "cell_type": "code",
      "source": [
        "# predictions on test set\n",
        "svc_test_pred = svc_model.predict(x_test)"
      ],
      "metadata": {
        "id": "WQnEn8_hV3cU"
      },
      "execution_count": null,
      "outputs": []
    },
    {
      "cell_type": "code",
      "source": [
        "# predictions on train set\n",
        "svc_train_pred = svc_model.predict(x_train)"
      ],
      "metadata": {
        "id": "Xpu9jR7CuJ4N"
      },
      "execution_count": null,
      "outputs": []
    },
    {
      "cell_type": "code",
      "source": [
        "# Accuracy of the Support vector classifier model using the train set\n",
        "svc_accuracy = accuracy_score(y_train, svc_train_pred)\n",
        "svc = round(svc_accuracy*100, 2)\n",
        "svc"
      ],
      "metadata": {
        "colab": {
          "base_uri": "https://localhost:8080/"
        },
        "id": "0rGehfg9um52",
        "outputId": "d5a79798-ad67-4f9d-886a-08aa44ad965e"
      },
      "execution_count": null,
      "outputs": [
        {
          "output_type": "execute_result",
          "data": {
            "text/plain": [
              "69.47"
            ]
          },
          "metadata": {},
          "execution_count": 579
        }
      ]
    },
    {
      "cell_type": "code",
      "source": [
        "# svc = pd.DataFrame({'Actual':y_train, 'Predicted':svc_train_pred})\n",
        "# sns.heatmap(svc.corr(), annot=True, cmap='Greens')"
      ],
      "metadata": {
        "id": "f-uIfcenUYF4"
      },
      "execution_count": null,
      "outputs": []
    },
    {
      "cell_type": "code",
      "source": [
        "########## without considering xtest\n",
        "# svc_accuracy = accuracy_score(y_test, svc_pred)\n",
        "# svc_accuracy"
      ],
      "metadata": {
        "id": "4lt7LbHjYHUR"
      },
      "execution_count": null,
      "outputs": []
    },
    {
      "cell_type": "markdown",
      "source": [
        "###Logistic regression"
      ],
      "metadata": {
        "id": "OzmMCodWaGaq"
      }
    },
    {
      "cell_type": "code",
      "source": [
        "lor_model = LogisticRegression()"
      ],
      "metadata": {
        "id": "2WMTu8eZaJcv"
      },
      "execution_count": null,
      "outputs": []
    },
    {
      "cell_type": "code",
      "source": [
        "# training phase \n",
        "lor_model.fit(x_train, y_train)"
      ],
      "metadata": {
        "colab": {
          "base_uri": "https://localhost:8080/"
        },
        "id": "xM74LI5eaONA",
        "outputId": "00ed95db-27a9-4de5-b251-f6dfed98b350"
      },
      "execution_count": null,
      "outputs": [
        {
          "output_type": "execute_result",
          "data": {
            "text/plain": [
              "LogisticRegression()"
            ]
          },
          "metadata": {},
          "execution_count": 581
        }
      ]
    },
    {
      "cell_type": "code",
      "source": [
        "# predictions on test set\n",
        "lor_test_pred = lor_model.predict(x_test)"
      ],
      "metadata": {
        "id": "3dlxAYbmaRnH"
      },
      "execution_count": null,
      "outputs": []
    },
    {
      "cell_type": "code",
      "source": [
        "# predictions on train set\n",
        "lor_train_pred = lor_model.predict(x_train)"
      ],
      "metadata": {
        "id": "epZWkitOvJpn"
      },
      "execution_count": null,
      "outputs": []
    },
    {
      "cell_type": "code",
      "source": [
        "# Accuracy of the Logistic regression model using the train set\n",
        "lor_accuracy = accuracy_score(y_train, lor_train_pred)\n",
        "lor = round(lor_accuracy*100, 2)\n",
        "lor"
      ],
      "metadata": {
        "colab": {
          "base_uri": "https://localhost:8080/"
        },
        "id": "dL_vA1ojOWYM",
        "outputId": "fe970b19-f48c-45f2-d718-ed78fe388109"
      },
      "execution_count": null,
      "outputs": [
        {
          "output_type": "execute_result",
          "data": {
            "text/plain": [
              "81.35"
            ]
          },
          "metadata": {},
          "execution_count": 584
        }
      ]
    },
    {
      "cell_type": "code",
      "source": [
        "########## without considering xtest\n",
        "# lor_accuracy = accuracy_score(y_test, lor_pred)\n",
        "# lor_accuracy"
      ],
      "metadata": {
        "colab": {
          "base_uri": "https://localhost:8080/"
        },
        "id": "wgzIj-t9aWto",
        "outputId": "2a722822-d483-4cd1-9f34-71d0e7330f65"
      },
      "execution_count": null,
      "outputs": [
        {
          "output_type": "execute_result",
          "data": {
            "text/plain": [
              "0.7886178861788617"
            ]
          },
          "metadata": {},
          "execution_count": 119
        }
      ]
    },
    {
      "cell_type": "code",
      "source": [
        "# lor = pd.DataFrame({'Actual':y_train, 'Predicted':lor_train_pred})\n",
        "# sns.heatmap(lor.corr(), annot=True, cmap='Greens')"
      ],
      "metadata": {
        "id": "8lm3hOTuWVwD"
      },
      "execution_count": null,
      "outputs": []
    },
    {
      "cell_type": "markdown",
      "source": [
        "###Decision tree classifier"
      ],
      "metadata": {
        "id": "ygsf5UFUWhu6"
      }
    },
    {
      "cell_type": "markdown",
      "source": [
        "##Q10.\n",
        "10. Have you performed the Hyper Parameter Tuning?"
      ],
      "metadata": {
        "id": "7krPW-tPzBbd"
      }
    },
    {
      "cell_type": "markdown",
      "source": [
        "**yes**"
      ],
      "metadata": {
        "id": "AoCfciq6zEuN"
      }
    },
    {
      "cell_type": "markdown",
      "source": [
        "####Hyper parameter tunning"
      ],
      "metadata": {
        "id": "3u4jmYqeZqYY"
      }
    },
    {
      "cell_type": "code",
      "source": [
        "# The function to measure the quality of a split\n",
        "criterion = [\"gini\", \"entropy\"]\n",
        "\n",
        "# The number of features to consider when looking for the best split\n",
        "max_features = ['auto', 'sqrt']\n",
        "\n",
        "# The maximum depth of the tree\n",
        "max_depth = [i for i in range(5, 55, 5)]\n",
        "\n",
        "# The minimum number of samples required to split an internal node\n",
        "min_samples_split = [2, 5, 10, 30, 100]\n",
        "\n",
        "# The minimum number of samples required to be at a leaf node\n",
        "min_samples_leaf = [1, 2, 5, 10]"
      ],
      "metadata": {
        "id": "1Z_f-TpiZkDg"
      },
      "execution_count": null,
      "outputs": []
    },
    {
      "cell_type": "code",
      "source": [
        "param_grid = {'criterion': criterion,\n",
        "              'max_features': max_features,\n",
        "              'max_depth': max_depth,\n",
        "              'min_samples_split': min_samples_split,\n",
        "              'min_samples_leaf': min_samples_leaf}\n",
        "param_grid"
      ],
      "metadata": {
        "colab": {
          "base_uri": "https://localhost:8080/"
        },
        "id": "iBWySy04fu2A",
        "outputId": "4d4d41f8-edbd-4530-91bd-1d9c2393fee9"
      },
      "execution_count": null,
      "outputs": [
        {
          "output_type": "execute_result",
          "data": {
            "text/plain": [
              "{'criterion': ['gini', 'entropy'],\n",
              " 'max_depth': [5, 10, 15, 20, 25, 30, 35, 40, 45, 50],\n",
              " 'max_features': ['auto', 'sqrt'],\n",
              " 'min_samples_leaf': [1, 2, 5, 10],\n",
              " 'min_samples_split': [2, 5, 10, 30, 100]}"
            ]
          },
          "metadata": {},
          "execution_count": 591
        }
      ]
    },
    {
      "cell_type": "code",
      "source": [
        "dc_model = DecisionTreeClassifier(random_state = 42)"
      ],
      "metadata": {
        "id": "kROdJ53BWyLf"
      },
      "execution_count": null,
      "outputs": []
    },
    {
      "cell_type": "code",
      "source": [
        "dc_gridCV = GridSearchCV(estimator = dc_model, param_grid = param_grid, cv=4, n_jobs=-1, verbose=1, scoring = \"accuracy\")"
      ],
      "metadata": {
        "id": "MPDUgi6TW3Cc"
      },
      "execution_count": null,
      "outputs": []
    },
    {
      "cell_type": "code",
      "source": [
        "# training phase \n",
        "dc_gridCV.fit(x_train, y_train)"
      ],
      "metadata": {
        "colab": {
          "base_uri": "https://localhost:8080/"
        },
        "id": "Q1qqzy_oupAM",
        "outputId": "57ef019b-c85c-47ab-c7dd-bb9032ebb98d"
      },
      "execution_count": null,
      "outputs": [
        {
          "output_type": "stream",
          "name": "stdout",
          "text": [
            "Fitting 4 folds for each of 800 candidates, totalling 3200 fits\n"
          ]
        },
        {
          "output_type": "execute_result",
          "data": {
            "text/plain": [
              "GridSearchCV(cv=4, estimator=DecisionTreeClassifier(random_state=42), n_jobs=-1,\n",
              "             param_grid={'criterion': ['gini', 'entropy'],\n",
              "                         'max_depth': [5, 10, 15, 20, 25, 30, 35, 40, 45, 50],\n",
              "                         'max_features': ['auto', 'sqrt'],\n",
              "                         'min_samples_leaf': [1, 2, 5, 10],\n",
              "                         'min_samples_split': [2, 5, 10, 30, 100]},\n",
              "             scoring='accuracy', verbose=1)"
            ]
          },
          "metadata": {},
          "execution_count": 594
        }
      ]
    },
    {
      "cell_type": "code",
      "source": [
        "dc_gridCV.best_params_"
      ],
      "metadata": {
        "colab": {
          "base_uri": "https://localhost:8080/"
        },
        "id": "ijikV06Vutde",
        "outputId": "f9830fdf-5820-4f57-c085-d19ac971f3c8"
      },
      "execution_count": null,
      "outputs": [
        {
          "output_type": "execute_result",
          "data": {
            "text/plain": [
              "{'criterion': 'entropy',\n",
              " 'max_depth': 5,\n",
              " 'max_features': 'auto',\n",
              " 'min_samples_leaf': 1,\n",
              " 'min_samples_split': 5}"
            ]
          },
          "metadata": {},
          "execution_count": 595
        }
      ]
    },
    {
      "cell_type": "code",
      "source": [
        "##############################################################\n",
        "# dc_gridCV = DecisionTreeClassifier(criterion='entropy', max_depth = 5, max_features = 'auto', min_samples_split = 5, \n",
        "#                                    min_samples_leaf = 1, random_state = 42)"
      ],
      "metadata": {
        "id": "8pSIGxL_P-Zs"
      },
      "execution_count": null,
      "outputs": []
    },
    {
      "cell_type": "code",
      "source": [
        "##########################################\n",
        "# dc_gridCV.fit(x_train, y_train)"
      ],
      "metadata": {
        "colab": {
          "base_uri": "https://localhost:8080/"
        },
        "id": "It_q1puzQoiD",
        "outputId": "daa7d892-c348-4fe2-a0aa-5c467840449a"
      },
      "execution_count": null,
      "outputs": [
        {
          "output_type": "execute_result",
          "data": {
            "text/plain": [
              "DecisionTreeClassifier(max_depth=5, max_features='auto', min_samples_split=10,\n",
              "                       random_state=42)"
            ]
          },
          "metadata": {},
          "execution_count": 586
        }
      ]
    },
    {
      "cell_type": "code",
      "source": [
        "# predictions on test set\n",
        "dc_test_pred = dc_gridCV.predict(x_test)"
      ],
      "metadata": {
        "id": "Xy5y6vhjuwn7"
      },
      "execution_count": null,
      "outputs": []
    },
    {
      "cell_type": "code",
      "source": [
        "# predictions on train set\n",
        "dc_train_pred = dc_gridCV.predict(x_train)"
      ],
      "metadata": {
        "id": "Ojf2JEsowDos"
      },
      "execution_count": null,
      "outputs": []
    },
    {
      "cell_type": "code",
      "source": [
        "# Accuracy of Decision tree classifier model using train set\n",
        "dc_accuracy = accuracy_score(y_train, dc_train_pred)\n",
        "dc = round(dc_accuracy*100, 2)\n",
        "dc"
      ],
      "metadata": {
        "colab": {
          "base_uri": "https://localhost:8080/"
        },
        "id": "VrocfDEXQs2g",
        "outputId": "8e68a190-87cc-4cbb-8c73-b02d2b996d49"
      },
      "execution_count": null,
      "outputs": [
        {
          "output_type": "execute_result",
          "data": {
            "text/plain": [
              "79.87"
            ]
          },
          "metadata": {},
          "execution_count": 598
        }
      ]
    },
    {
      "cell_type": "code",
      "source": [
        "########## without considering xtest\n",
        "# dc_accuracy = accuracy_score(y_test, dc_pred)\n",
        "# dc_accuracy"
      ],
      "metadata": {
        "id": "0A0xPq6sY9vL"
      },
      "execution_count": null,
      "outputs": []
    },
    {
      "cell_type": "code",
      "source": [
        "# dc = pd.DataFrame({'Actual':y_train, 'Predicted':dc_train_pred})\n",
        "# sns.heatmap(dc.corr(), annot=True, cmap='Greens')"
      ],
      "metadata": {
        "id": "vQULObh0WyDX"
      },
      "execution_count": null,
      "outputs": []
    },
    {
      "cell_type": "markdown",
      "source": [
        "###Random forest classifier"
      ],
      "metadata": {
        "id": "9Tbmk3z8ZNym"
      }
    },
    {
      "cell_type": "markdown",
      "source": [
        "####Hyper parameter tunning"
      ],
      "metadata": {
        "id": "BQQuS5XS68zq"
      }
    },
    {
      "cell_type": "code",
      "source": [
        "# The number of trees in the forest\n",
        "n_estimators = [int(i) for i in range(100, 501, 100)]\n",
        "\n",
        "# The number of features to consider when looking for the best split\n",
        "max_features = ['auto', 'sqrt']\n",
        "\n",
        "# The maximum depth of the tree\n",
        "max_depth = [2, 3, 5, 10, 20]\n",
        "\n",
        "# The minimum number of samples required to be at a leaf node\n",
        "min_samples_leaf = [1, 2, 5, 10]"
      ],
      "metadata": {
        "id": "26E_w9Cv65C_"
      },
      "execution_count": null,
      "outputs": []
    },
    {
      "cell_type": "code",
      "source": [
        "param_grid = {'n_estimators': n_estimators,\n",
        "              'max_features': max_features,\n",
        "              'max_depth': max_depth,\n",
        "              'min_samples_leaf': min_samples_leaf}\n",
        "param_grid"
      ],
      "metadata": {
        "colab": {
          "base_uri": "https://localhost:8080/"
        },
        "id": "PmZw9bNG6_wE",
        "outputId": "6ed42cd6-7c09-4c91-a362-0767988696ca"
      },
      "execution_count": null,
      "outputs": [
        {
          "output_type": "execute_result",
          "data": {
            "text/plain": [
              "{'max_depth': [2, 3, 5, 10, 20],\n",
              " 'max_features': ['auto', 'sqrt'],\n",
              " 'min_samples_leaf': [1, 2, 5, 10],\n",
              " 'n_estimators': [100, 200, 300, 400, 500]}"
            ]
          },
          "metadata": {},
          "execution_count": 600
        }
      ]
    },
    {
      "cell_type": "code",
      "source": [
        "rf_model = RandomForestClassifier(random_state = 42)"
      ],
      "metadata": {
        "id": "R6C8YqsDZM6n"
      },
      "execution_count": null,
      "outputs": []
    },
    {
      "cell_type": "code",
      "source": [
        "rf_gridCV = GridSearchCV(estimator = rf_model, param_grid = param_grid, scoring = 'neg_mean_squared_error', n_jobs = 1, verbose=2, cv=5)"
      ],
      "metadata": {
        "id": "eS9963JNgLs5"
      },
      "execution_count": null,
      "outputs": []
    },
    {
      "cell_type": "code",
      "source": [
        "# training phase \n",
        "rf_gridCV.fit(x_train, y_train)"
      ],
      "metadata": {
        "colab": {
          "base_uri": "https://localhost:8080/"
        },
        "id": "012UsrJsg0Oz",
        "outputId": "db83b952-502e-4237-b6a0-ad9fc83ec142"
      },
      "execution_count": null,
      "outputs": [
        {
          "output_type": "stream",
          "name": "stdout",
          "text": [
            "Fitting 5 folds for each of 200 candidates, totalling 1000 fits\n",
            "[CV] END max_depth=2, max_features=auto, min_samples_leaf=1, n_estimators=100; total time=   0.1s\n",
            "[CV] END max_depth=2, max_features=auto, min_samples_leaf=1, n_estimators=100; total time=   0.1s\n",
            "[CV] END max_depth=2, max_features=auto, min_samples_leaf=1, n_estimators=100; total time=   0.1s\n",
            "[CV] END max_depth=2, max_features=auto, min_samples_leaf=1, n_estimators=100; total time=   0.1s\n",
            "[CV] END max_depth=2, max_features=auto, min_samples_leaf=1, n_estimators=100; total time=   0.1s\n",
            "[CV] END max_depth=2, max_features=auto, min_samples_leaf=1, n_estimators=200; total time=   0.3s\n",
            "[CV] END max_depth=2, max_features=auto, min_samples_leaf=1, n_estimators=200; total time=   0.3s\n",
            "[CV] END max_depth=2, max_features=auto, min_samples_leaf=1, n_estimators=200; total time=   0.3s\n",
            "[CV] END max_depth=2, max_features=auto, min_samples_leaf=1, n_estimators=200; total time=   0.3s\n",
            "[CV] END max_depth=2, max_features=auto, min_samples_leaf=1, n_estimators=200; total time=   0.3s\n",
            "[CV] END max_depth=2, max_features=auto, min_samples_leaf=1, n_estimators=300; total time=   0.4s\n",
            "[CV] END max_depth=2, max_features=auto, min_samples_leaf=1, n_estimators=300; total time=   0.4s\n",
            "[CV] END max_depth=2, max_features=auto, min_samples_leaf=1, n_estimators=300; total time=   0.4s\n",
            "[CV] END max_depth=2, max_features=auto, min_samples_leaf=1, n_estimators=300; total time=   0.4s\n",
            "[CV] END max_depth=2, max_features=auto, min_samples_leaf=1, n_estimators=300; total time=   0.4s\n",
            "[CV] END max_depth=2, max_features=auto, min_samples_leaf=1, n_estimators=400; total time=   0.5s\n",
            "[CV] END max_depth=2, max_features=auto, min_samples_leaf=1, n_estimators=400; total time=   0.5s\n",
            "[CV] END max_depth=2, max_features=auto, min_samples_leaf=1, n_estimators=400; total time=   0.5s\n",
            "[CV] END max_depth=2, max_features=auto, min_samples_leaf=1, n_estimators=400; total time=   0.5s\n",
            "[CV] END max_depth=2, max_features=auto, min_samples_leaf=1, n_estimators=400; total time=   0.5s\n",
            "[CV] END max_depth=2, max_features=auto, min_samples_leaf=1, n_estimators=500; total time=   0.7s\n",
            "[CV] END max_depth=2, max_features=auto, min_samples_leaf=1, n_estimators=500; total time=   0.7s\n",
            "[CV] END max_depth=2, max_features=auto, min_samples_leaf=1, n_estimators=500; total time=   0.7s\n",
            "[CV] END max_depth=2, max_features=auto, min_samples_leaf=1, n_estimators=500; total time=   0.7s\n",
            "[CV] END max_depth=2, max_features=auto, min_samples_leaf=1, n_estimators=500; total time=   0.7s\n",
            "[CV] END max_depth=2, max_features=auto, min_samples_leaf=2, n_estimators=100; total time=   0.1s\n",
            "[CV] END max_depth=2, max_features=auto, min_samples_leaf=2, n_estimators=100; total time=   0.1s\n",
            "[CV] END max_depth=2, max_features=auto, min_samples_leaf=2, n_estimators=100; total time=   0.1s\n",
            "[CV] END max_depth=2, max_features=auto, min_samples_leaf=2, n_estimators=100; total time=   0.1s\n",
            "[CV] END max_depth=2, max_features=auto, min_samples_leaf=2, n_estimators=100; total time=   0.1s\n",
            "[CV] END max_depth=2, max_features=auto, min_samples_leaf=2, n_estimators=200; total time=   0.3s\n",
            "[CV] END max_depth=2, max_features=auto, min_samples_leaf=2, n_estimators=200; total time=   0.3s\n",
            "[CV] END max_depth=2, max_features=auto, min_samples_leaf=2, n_estimators=200; total time=   0.3s\n",
            "[CV] END max_depth=2, max_features=auto, min_samples_leaf=2, n_estimators=200; total time=   0.3s\n",
            "[CV] END max_depth=2, max_features=auto, min_samples_leaf=2, n_estimators=200; total time=   0.3s\n",
            "[CV] END max_depth=2, max_features=auto, min_samples_leaf=2, n_estimators=300; total time=   0.4s\n",
            "[CV] END max_depth=2, max_features=auto, min_samples_leaf=2, n_estimators=300; total time=   0.4s\n",
            "[CV] END max_depth=2, max_features=auto, min_samples_leaf=2, n_estimators=300; total time=   0.4s\n",
            "[CV] END max_depth=2, max_features=auto, min_samples_leaf=2, n_estimators=300; total time=   0.4s\n",
            "[CV] END max_depth=2, max_features=auto, min_samples_leaf=2, n_estimators=300; total time=   0.4s\n",
            "[CV] END max_depth=2, max_features=auto, min_samples_leaf=2, n_estimators=400; total time=   0.5s\n",
            "[CV] END max_depth=2, max_features=auto, min_samples_leaf=2, n_estimators=400; total time=   0.8s\n",
            "[CV] END max_depth=2, max_features=auto, min_samples_leaf=2, n_estimators=400; total time=   0.7s\n",
            "[CV] END max_depth=2, max_features=auto, min_samples_leaf=2, n_estimators=400; total time=   0.5s\n",
            "[CV] END max_depth=2, max_features=auto, min_samples_leaf=2, n_estimators=400; total time=   0.5s\n",
            "[CV] END max_depth=2, max_features=auto, min_samples_leaf=2, n_estimators=500; total time=   0.7s\n",
            "[CV] END max_depth=2, max_features=auto, min_samples_leaf=2, n_estimators=500; total time=   0.7s\n",
            "[CV] END max_depth=2, max_features=auto, min_samples_leaf=2, n_estimators=500; total time=   0.7s\n",
            "[CV] END max_depth=2, max_features=auto, min_samples_leaf=2, n_estimators=500; total time=   0.9s\n",
            "[CV] END max_depth=2, max_features=auto, min_samples_leaf=2, n_estimators=500; total time=   1.0s\n",
            "[CV] END max_depth=2, max_features=auto, min_samples_leaf=5, n_estimators=100; total time=   0.4s\n",
            "[CV] END max_depth=2, max_features=auto, min_samples_leaf=5, n_estimators=100; total time=   0.5s\n",
            "[CV] END max_depth=2, max_features=auto, min_samples_leaf=5, n_estimators=100; total time=   0.4s\n",
            "[CV] END max_depth=2, max_features=auto, min_samples_leaf=5, n_estimators=100; total time=   0.4s\n",
            "[CV] END max_depth=2, max_features=auto, min_samples_leaf=5, n_estimators=100; total time=   0.4s\n",
            "[CV] END max_depth=2, max_features=auto, min_samples_leaf=5, n_estimators=200; total time=   0.5s\n",
            "[CV] END max_depth=2, max_features=auto, min_samples_leaf=5, n_estimators=200; total time=   0.5s\n",
            "[CV] END max_depth=2, max_features=auto, min_samples_leaf=5, n_estimators=200; total time=   0.9s\n",
            "[CV] END max_depth=2, max_features=auto, min_samples_leaf=5, n_estimators=200; total time=   0.8s\n",
            "[CV] END max_depth=2, max_features=auto, min_samples_leaf=5, n_estimators=200; total time=   0.7s\n",
            "[CV] END max_depth=2, max_features=auto, min_samples_leaf=5, n_estimators=300; total time=   0.9s\n",
            "[CV] END max_depth=2, max_features=auto, min_samples_leaf=5, n_estimators=300; total time=   0.9s\n",
            "[CV] END max_depth=2, max_features=auto, min_samples_leaf=5, n_estimators=300; total time=   1.0s\n",
            "[CV] END max_depth=2, max_features=auto, min_samples_leaf=5, n_estimators=300; total time=   0.9s\n",
            "[CV] END max_depth=2, max_features=auto, min_samples_leaf=5, n_estimators=300; total time=   0.6s\n",
            "[CV] END max_depth=2, max_features=auto, min_samples_leaf=5, n_estimators=400; total time=   1.1s\n",
            "[CV] END max_depth=2, max_features=auto, min_samples_leaf=5, n_estimators=400; total time=   1.4s\n",
            "[CV] END max_depth=2, max_features=auto, min_samples_leaf=5, n_estimators=400; total time=   0.9s\n",
            "[CV] END max_depth=2, max_features=auto, min_samples_leaf=5, n_estimators=400; total time=   0.9s\n",
            "[CV] END max_depth=2, max_features=auto, min_samples_leaf=5, n_estimators=400; total time=   0.9s\n",
            "[CV] END max_depth=2, max_features=auto, min_samples_leaf=5, n_estimators=500; total time=   1.4s\n",
            "[CV] END max_depth=2, max_features=auto, min_samples_leaf=5, n_estimators=500; total time=   1.5s\n",
            "[CV] END max_depth=2, max_features=auto, min_samples_leaf=5, n_estimators=500; total time=   1.2s\n",
            "[CV] END max_depth=2, max_features=auto, min_samples_leaf=5, n_estimators=500; total time=   1.3s\n",
            "[CV] END max_depth=2, max_features=auto, min_samples_leaf=5, n_estimators=500; total time=   0.7s\n",
            "[CV] END max_depth=2, max_features=auto, min_samples_leaf=10, n_estimators=100; total time=   0.1s\n",
            "[CV] END max_depth=2, max_features=auto, min_samples_leaf=10, n_estimators=100; total time=   0.1s\n",
            "[CV] END max_depth=2, max_features=auto, min_samples_leaf=10, n_estimators=100; total time=   0.1s\n",
            "[CV] END max_depth=2, max_features=auto, min_samples_leaf=10, n_estimators=100; total time=   0.2s\n",
            "[CV] END max_depth=2, max_features=auto, min_samples_leaf=10, n_estimators=100; total time=   0.1s\n",
            "[CV] END max_depth=2, max_features=auto, min_samples_leaf=10, n_estimators=200; total time=   0.3s\n",
            "[CV] END max_depth=2, max_features=auto, min_samples_leaf=10, n_estimators=200; total time=   0.3s\n",
            "[CV] END max_depth=2, max_features=auto, min_samples_leaf=10, n_estimators=200; total time=   0.3s\n",
            "[CV] END max_depth=2, max_features=auto, min_samples_leaf=10, n_estimators=200; total time=   0.3s\n",
            "[CV] END max_depth=2, max_features=auto, min_samples_leaf=10, n_estimators=200; total time=   0.3s\n",
            "[CV] END max_depth=2, max_features=auto, min_samples_leaf=10, n_estimators=300; total time=   0.4s\n",
            "[CV] END max_depth=2, max_features=auto, min_samples_leaf=10, n_estimators=300; total time=   0.4s\n",
            "[CV] END max_depth=2, max_features=auto, min_samples_leaf=10, n_estimators=300; total time=   0.5s\n",
            "[CV] END max_depth=2, max_features=auto, min_samples_leaf=10, n_estimators=300; total time=   0.4s\n",
            "[CV] END max_depth=2, max_features=auto, min_samples_leaf=10, n_estimators=300; total time=   0.4s\n",
            "[CV] END max_depth=2, max_features=auto, min_samples_leaf=10, n_estimators=400; total time=   0.5s\n",
            "[CV] END max_depth=2, max_features=auto, min_samples_leaf=10, n_estimators=400; total time=   0.5s\n",
            "[CV] END max_depth=2, max_features=auto, min_samples_leaf=10, n_estimators=400; total time=   0.6s\n",
            "[CV] END max_depth=2, max_features=auto, min_samples_leaf=10, n_estimators=400; total time=   0.6s\n",
            "[CV] END max_depth=2, max_features=auto, min_samples_leaf=10, n_estimators=400; total time=   0.5s\n",
            "[CV] END max_depth=2, max_features=auto, min_samples_leaf=10, n_estimators=500; total time=   0.7s\n",
            "[CV] END max_depth=2, max_features=auto, min_samples_leaf=10, n_estimators=500; total time=   0.7s\n",
            "[CV] END max_depth=2, max_features=auto, min_samples_leaf=10, n_estimators=500; total time=   0.7s\n",
            "[CV] END max_depth=2, max_features=auto, min_samples_leaf=10, n_estimators=500; total time=   0.7s\n",
            "[CV] END max_depth=2, max_features=auto, min_samples_leaf=10, n_estimators=500; total time=   0.7s\n",
            "[CV] END max_depth=2, max_features=sqrt, min_samples_leaf=1, n_estimators=100; total time=   0.1s\n",
            "[CV] END max_depth=2, max_features=sqrt, min_samples_leaf=1, n_estimators=100; total time=   0.1s\n",
            "[CV] END max_depth=2, max_features=sqrt, min_samples_leaf=1, n_estimators=100; total time=   0.1s\n",
            "[CV] END max_depth=2, max_features=sqrt, min_samples_leaf=1, n_estimators=100; total time=   0.1s\n",
            "[CV] END max_depth=2, max_features=sqrt, min_samples_leaf=1, n_estimators=100; total time=   0.1s\n",
            "[CV] END max_depth=2, max_features=sqrt, min_samples_leaf=1, n_estimators=200; total time=   0.3s\n",
            "[CV] END max_depth=2, max_features=sqrt, min_samples_leaf=1, n_estimators=200; total time=   0.3s\n",
            "[CV] END max_depth=2, max_features=sqrt, min_samples_leaf=1, n_estimators=200; total time=   0.3s\n",
            "[CV] END max_depth=2, max_features=sqrt, min_samples_leaf=1, n_estimators=200; total time=   0.3s\n",
            "[CV] END max_depth=2, max_features=sqrt, min_samples_leaf=1, n_estimators=200; total time=   0.3s\n",
            "[CV] END max_depth=2, max_features=sqrt, min_samples_leaf=1, n_estimators=300; total time=   0.4s\n",
            "[CV] END max_depth=2, max_features=sqrt, min_samples_leaf=1, n_estimators=300; total time=   0.4s\n",
            "[CV] END max_depth=2, max_features=sqrt, min_samples_leaf=1, n_estimators=300; total time=   0.4s\n",
            "[CV] END max_depth=2, max_features=sqrt, min_samples_leaf=1, n_estimators=300; total time=   0.4s\n",
            "[CV] END max_depth=2, max_features=sqrt, min_samples_leaf=1, n_estimators=300; total time=   0.4s\n",
            "[CV] END max_depth=2, max_features=sqrt, min_samples_leaf=1, n_estimators=400; total time=   0.6s\n",
            "[CV] END max_depth=2, max_features=sqrt, min_samples_leaf=1, n_estimators=400; total time=   0.5s\n",
            "[CV] END max_depth=2, max_features=sqrt, min_samples_leaf=1, n_estimators=400; total time=   0.5s\n",
            "[CV] END max_depth=2, max_features=sqrt, min_samples_leaf=1, n_estimators=400; total time=   0.6s\n",
            "[CV] END max_depth=2, max_features=sqrt, min_samples_leaf=1, n_estimators=400; total time=   0.5s\n",
            "[CV] END max_depth=2, max_features=sqrt, min_samples_leaf=1, n_estimators=500; total time=   0.7s\n",
            "[CV] END max_depth=2, max_features=sqrt, min_samples_leaf=1, n_estimators=500; total time=   0.7s\n",
            "[CV] END max_depth=2, max_features=sqrt, min_samples_leaf=1, n_estimators=500; total time=   0.7s\n",
            "[CV] END max_depth=2, max_features=sqrt, min_samples_leaf=1, n_estimators=500; total time=   0.7s\n",
            "[CV] END max_depth=2, max_features=sqrt, min_samples_leaf=1, n_estimators=500; total time=   0.7s\n",
            "[CV] END max_depth=2, max_features=sqrt, min_samples_leaf=2, n_estimators=100; total time=   0.1s\n",
            "[CV] END max_depth=2, max_features=sqrt, min_samples_leaf=2, n_estimators=100; total time=   0.1s\n",
            "[CV] END max_depth=2, max_features=sqrt, min_samples_leaf=2, n_estimators=100; total time=   0.1s\n",
            "[CV] END max_depth=2, max_features=sqrt, min_samples_leaf=2, n_estimators=100; total time=   0.1s\n",
            "[CV] END max_depth=2, max_features=sqrt, min_samples_leaf=2, n_estimators=100; total time=   0.1s\n",
            "[CV] END max_depth=2, max_features=sqrt, min_samples_leaf=2, n_estimators=200; total time=   0.3s\n",
            "[CV] END max_depth=2, max_features=sqrt, min_samples_leaf=2, n_estimators=200; total time=   0.3s\n",
            "[CV] END max_depth=2, max_features=sqrt, min_samples_leaf=2, n_estimators=200; total time=   0.3s\n",
            "[CV] END max_depth=2, max_features=sqrt, min_samples_leaf=2, n_estimators=200; total time=   0.3s\n",
            "[CV] END max_depth=2, max_features=sqrt, min_samples_leaf=2, n_estimators=200; total time=   0.3s\n",
            "[CV] END max_depth=2, max_features=sqrt, min_samples_leaf=2, n_estimators=300; total time=   0.4s\n",
            "[CV] END max_depth=2, max_features=sqrt, min_samples_leaf=2, n_estimators=300; total time=   0.4s\n",
            "[CV] END max_depth=2, max_features=sqrt, min_samples_leaf=2, n_estimators=300; total time=   0.4s\n",
            "[CV] END max_depth=2, max_features=sqrt, min_samples_leaf=2, n_estimators=300; total time=   0.4s\n",
            "[CV] END max_depth=2, max_features=sqrt, min_samples_leaf=2, n_estimators=300; total time=   0.4s\n",
            "[CV] END max_depth=2, max_features=sqrt, min_samples_leaf=2, n_estimators=400; total time=   0.6s\n",
            "[CV] END max_depth=2, max_features=sqrt, min_samples_leaf=2, n_estimators=400; total time=   0.6s\n",
            "[CV] END max_depth=2, max_features=sqrt, min_samples_leaf=2, n_estimators=400; total time=   0.5s\n",
            "[CV] END max_depth=2, max_features=sqrt, min_samples_leaf=2, n_estimators=400; total time=   0.6s\n",
            "[CV] END max_depth=2, max_features=sqrt, min_samples_leaf=2, n_estimators=400; total time=   0.5s\n",
            "[CV] END max_depth=2, max_features=sqrt, min_samples_leaf=2, n_estimators=500; total time=   0.7s\n",
            "[CV] END max_depth=2, max_features=sqrt, min_samples_leaf=2, n_estimators=500; total time=   0.8s\n",
            "[CV] END max_depth=2, max_features=sqrt, min_samples_leaf=2, n_estimators=500; total time=   0.8s\n",
            "[CV] END max_depth=2, max_features=sqrt, min_samples_leaf=2, n_estimators=500; total time=   0.8s\n",
            "[CV] END max_depth=2, max_features=sqrt, min_samples_leaf=2, n_estimators=500; total time=   0.8s\n",
            "[CV] END max_depth=2, max_features=sqrt, min_samples_leaf=5, n_estimators=100; total time=   0.2s\n",
            "[CV] END max_depth=2, max_features=sqrt, min_samples_leaf=5, n_estimators=100; total time=   0.2s\n",
            "[CV] END max_depth=2, max_features=sqrt, min_samples_leaf=5, n_estimators=100; total time=   0.2s\n",
            "[CV] END max_depth=2, max_features=sqrt, min_samples_leaf=5, n_estimators=100; total time=   0.2s\n",
            "[CV] END max_depth=2, max_features=sqrt, min_samples_leaf=5, n_estimators=100; total time=   0.2s\n",
            "[CV] END max_depth=2, max_features=sqrt, min_samples_leaf=5, n_estimators=200; total time=   0.3s\n",
            "[CV] END max_depth=2, max_features=sqrt, min_samples_leaf=5, n_estimators=200; total time=   0.3s\n",
            "[CV] END max_depth=2, max_features=sqrt, min_samples_leaf=5, n_estimators=200; total time=   0.4s\n",
            "[CV] END max_depth=2, max_features=sqrt, min_samples_leaf=5, n_estimators=200; total time=   0.4s\n",
            "[CV] END max_depth=2, max_features=sqrt, min_samples_leaf=5, n_estimators=200; total time=   0.4s\n",
            "[CV] END max_depth=2, max_features=sqrt, min_samples_leaf=5, n_estimators=300; total time=   0.5s\n",
            "[CV] END max_depth=2, max_features=sqrt, min_samples_leaf=5, n_estimators=300; total time=   0.4s\n",
            "[CV] END max_depth=2, max_features=sqrt, min_samples_leaf=5, n_estimators=300; total time=   0.4s\n",
            "[CV] END max_depth=2, max_features=sqrt, min_samples_leaf=5, n_estimators=300; total time=   0.4s\n",
            "[CV] END max_depth=2, max_features=sqrt, min_samples_leaf=5, n_estimators=300; total time=   0.4s\n",
            "[CV] END max_depth=2, max_features=sqrt, min_samples_leaf=5, n_estimators=400; total time=   0.5s\n",
            "[CV] END max_depth=2, max_features=sqrt, min_samples_leaf=5, n_estimators=400; total time=   0.5s\n",
            "[CV] END max_depth=2, max_features=sqrt, min_samples_leaf=5, n_estimators=400; total time=   0.6s\n",
            "[CV] END max_depth=2, max_features=sqrt, min_samples_leaf=5, n_estimators=400; total time=   0.5s\n",
            "[CV] END max_depth=2, max_features=sqrt, min_samples_leaf=5, n_estimators=400; total time=   0.5s\n",
            "[CV] END max_depth=2, max_features=sqrt, min_samples_leaf=5, n_estimators=500; total time=   0.7s\n",
            "[CV] END max_depth=2, max_features=sqrt, min_samples_leaf=5, n_estimators=500; total time=   0.7s\n",
            "[CV] END max_depth=2, max_features=sqrt, min_samples_leaf=5, n_estimators=500; total time=   0.7s\n",
            "[CV] END max_depth=2, max_features=sqrt, min_samples_leaf=5, n_estimators=500; total time=   0.7s\n",
            "[CV] END max_depth=2, max_features=sqrt, min_samples_leaf=5, n_estimators=500; total time=   0.7s\n",
            "[CV] END max_depth=2, max_features=sqrt, min_samples_leaf=10, n_estimators=100; total time=   0.1s\n",
            "[CV] END max_depth=2, max_features=sqrt, min_samples_leaf=10, n_estimators=100; total time=   0.1s\n",
            "[CV] END max_depth=2, max_features=sqrt, min_samples_leaf=10, n_estimators=100; total time=   0.1s\n",
            "[CV] END max_depth=2, max_features=sqrt, min_samples_leaf=10, n_estimators=100; total time=   0.1s\n",
            "[CV] END max_depth=2, max_features=sqrt, min_samples_leaf=10, n_estimators=100; total time=   0.1s\n",
            "[CV] END max_depth=2, max_features=sqrt, min_samples_leaf=10, n_estimators=200; total time=   0.3s\n",
            "[CV] END max_depth=2, max_features=sqrt, min_samples_leaf=10, n_estimators=200; total time=   0.3s\n",
            "[CV] END max_depth=2, max_features=sqrt, min_samples_leaf=10, n_estimators=200; total time=   0.3s\n",
            "[CV] END max_depth=2, max_features=sqrt, min_samples_leaf=10, n_estimators=200; total time=   0.3s\n",
            "[CV] END max_depth=2, max_features=sqrt, min_samples_leaf=10, n_estimators=200; total time=   0.3s\n",
            "[CV] END max_depth=2, max_features=sqrt, min_samples_leaf=10, n_estimators=300; total time=   0.4s\n",
            "[CV] END max_depth=2, max_features=sqrt, min_samples_leaf=10, n_estimators=300; total time=   0.4s\n",
            "[CV] END max_depth=2, max_features=sqrt, min_samples_leaf=10, n_estimators=300; total time=   0.4s\n",
            "[CV] END max_depth=2, max_features=sqrt, min_samples_leaf=10, n_estimators=300; total time=   0.4s\n",
            "[CV] END max_depth=2, max_features=sqrt, min_samples_leaf=10, n_estimators=300; total time=   0.4s\n",
            "[CV] END max_depth=2, max_features=sqrt, min_samples_leaf=10, n_estimators=400; total time=   0.5s\n",
            "[CV] END max_depth=2, max_features=sqrt, min_samples_leaf=10, n_estimators=400; total time=   0.5s\n",
            "[CV] END max_depth=2, max_features=sqrt, min_samples_leaf=10, n_estimators=400; total time=   0.5s\n",
            "[CV] END max_depth=2, max_features=sqrt, min_samples_leaf=10, n_estimators=400; total time=   0.5s\n",
            "[CV] END max_depth=2, max_features=sqrt, min_samples_leaf=10, n_estimators=400; total time=   0.5s\n",
            "[CV] END max_depth=2, max_features=sqrt, min_samples_leaf=10, n_estimators=500; total time=   0.7s\n",
            "[CV] END max_depth=2, max_features=sqrt, min_samples_leaf=10, n_estimators=500; total time=   0.7s\n",
            "[CV] END max_depth=2, max_features=sqrt, min_samples_leaf=10, n_estimators=500; total time=   0.7s\n",
            "[CV] END max_depth=2, max_features=sqrt, min_samples_leaf=10, n_estimators=500; total time=   0.7s\n",
            "[CV] END max_depth=2, max_features=sqrt, min_samples_leaf=10, n_estimators=500; total time=   0.7s\n",
            "[CV] END max_depth=3, max_features=auto, min_samples_leaf=1, n_estimators=100; total time=   0.2s\n",
            "[CV] END max_depth=3, max_features=auto, min_samples_leaf=1, n_estimators=100; total time=   0.1s\n",
            "[CV] END max_depth=3, max_features=auto, min_samples_leaf=1, n_estimators=100; total time=   0.1s\n",
            "[CV] END max_depth=3, max_features=auto, min_samples_leaf=1, n_estimators=100; total time=   0.1s\n",
            "[CV] END max_depth=3, max_features=auto, min_samples_leaf=1, n_estimators=100; total time=   0.2s\n",
            "[CV] END max_depth=3, max_features=auto, min_samples_leaf=1, n_estimators=200; total time=   0.3s\n",
            "[CV] END max_depth=3, max_features=auto, min_samples_leaf=1, n_estimators=200; total time=   0.3s\n",
            "[CV] END max_depth=3, max_features=auto, min_samples_leaf=1, n_estimators=200; total time=   0.3s\n",
            "[CV] END max_depth=3, max_features=auto, min_samples_leaf=1, n_estimators=200; total time=   0.3s\n",
            "[CV] END max_depth=3, max_features=auto, min_samples_leaf=1, n_estimators=200; total time=   0.3s\n",
            "[CV] END max_depth=3, max_features=auto, min_samples_leaf=1, n_estimators=300; total time=   0.4s\n",
            "[CV] END max_depth=3, max_features=auto, min_samples_leaf=1, n_estimators=300; total time=   0.4s\n",
            "[CV] END max_depth=3, max_features=auto, min_samples_leaf=1, n_estimators=300; total time=   0.4s\n",
            "[CV] END max_depth=3, max_features=auto, min_samples_leaf=1, n_estimators=300; total time=   0.4s\n",
            "[CV] END max_depth=3, max_features=auto, min_samples_leaf=1, n_estimators=300; total time=   0.4s\n",
            "[CV] END max_depth=3, max_features=auto, min_samples_leaf=1, n_estimators=400; total time=   0.6s\n",
            "[CV] END max_depth=3, max_features=auto, min_samples_leaf=1, n_estimators=400; total time=   0.6s\n",
            "[CV] END max_depth=3, max_features=auto, min_samples_leaf=1, n_estimators=400; total time=   0.6s\n",
            "[CV] END max_depth=3, max_features=auto, min_samples_leaf=1, n_estimators=400; total time=   0.6s\n",
            "[CV] END max_depth=3, max_features=auto, min_samples_leaf=1, n_estimators=400; total time=   0.6s\n",
            "[CV] END max_depth=3, max_features=auto, min_samples_leaf=1, n_estimators=500; total time=   0.7s\n",
            "[CV] END max_depth=3, max_features=auto, min_samples_leaf=1, n_estimators=500; total time=   0.7s\n",
            "[CV] END max_depth=3, max_features=auto, min_samples_leaf=1, n_estimators=500; total time=   0.7s\n",
            "[CV] END max_depth=3, max_features=auto, min_samples_leaf=1, n_estimators=500; total time=   0.7s\n",
            "[CV] END max_depth=3, max_features=auto, min_samples_leaf=1, n_estimators=500; total time=   0.7s\n",
            "[CV] END max_depth=3, max_features=auto, min_samples_leaf=2, n_estimators=100; total time=   0.1s\n",
            "[CV] END max_depth=3, max_features=auto, min_samples_leaf=2, n_estimators=100; total time=   0.1s\n",
            "[CV] END max_depth=3, max_features=auto, min_samples_leaf=2, n_estimators=100; total time=   0.1s\n",
            "[CV] END max_depth=3, max_features=auto, min_samples_leaf=2, n_estimators=100; total time=   0.2s\n",
            "[CV] END max_depth=3, max_features=auto, min_samples_leaf=2, n_estimators=100; total time=   0.1s\n",
            "[CV] END max_depth=3, max_features=auto, min_samples_leaf=2, n_estimators=200; total time=   0.3s\n",
            "[CV] END max_depth=3, max_features=auto, min_samples_leaf=2, n_estimators=200; total time=   0.3s\n",
            "[CV] END max_depth=3, max_features=auto, min_samples_leaf=2, n_estimators=200; total time=   0.3s\n",
            "[CV] END max_depth=3, max_features=auto, min_samples_leaf=2, n_estimators=200; total time=   0.3s\n",
            "[CV] END max_depth=3, max_features=auto, min_samples_leaf=2, n_estimators=200; total time=   0.3s\n",
            "[CV] END max_depth=3, max_features=auto, min_samples_leaf=2, n_estimators=300; total time=   0.4s\n",
            "[CV] END max_depth=3, max_features=auto, min_samples_leaf=2, n_estimators=300; total time=   0.4s\n",
            "[CV] END max_depth=3, max_features=auto, min_samples_leaf=2, n_estimators=300; total time=   0.4s\n",
            "[CV] END max_depth=3, max_features=auto, min_samples_leaf=2, n_estimators=300; total time=   0.4s\n",
            "[CV] END max_depth=3, max_features=auto, min_samples_leaf=2, n_estimators=300; total time=   0.4s\n",
            "[CV] END max_depth=3, max_features=auto, min_samples_leaf=2, n_estimators=400; total time=   0.6s\n",
            "[CV] END max_depth=3, max_features=auto, min_samples_leaf=2, n_estimators=400; total time=   0.6s\n",
            "[CV] END max_depth=3, max_features=auto, min_samples_leaf=2, n_estimators=400; total time=   0.6s\n",
            "[CV] END max_depth=3, max_features=auto, min_samples_leaf=2, n_estimators=400; total time=   0.6s\n",
            "[CV] END max_depth=3, max_features=auto, min_samples_leaf=2, n_estimators=400; total time=   0.6s\n",
            "[CV] END max_depth=3, max_features=auto, min_samples_leaf=2, n_estimators=500; total time=   0.7s\n",
            "[CV] END max_depth=3, max_features=auto, min_samples_leaf=2, n_estimators=500; total time=   0.7s\n",
            "[CV] END max_depth=3, max_features=auto, min_samples_leaf=2, n_estimators=500; total time=   0.7s\n",
            "[CV] END max_depth=3, max_features=auto, min_samples_leaf=2, n_estimators=500; total time=   0.7s\n",
            "[CV] END max_depth=3, max_features=auto, min_samples_leaf=2, n_estimators=500; total time=   0.7s\n",
            "[CV] END max_depth=3, max_features=auto, min_samples_leaf=5, n_estimators=100; total time=   0.1s\n",
            "[CV] END max_depth=3, max_features=auto, min_samples_leaf=5, n_estimators=100; total time=   0.1s\n",
            "[CV] END max_depth=3, max_features=auto, min_samples_leaf=5, n_estimators=100; total time=   0.2s\n",
            "[CV] END max_depth=3, max_features=auto, min_samples_leaf=5, n_estimators=100; total time=   0.2s\n",
            "[CV] END max_depth=3, max_features=auto, min_samples_leaf=5, n_estimators=100; total time=   0.2s\n",
            "[CV] END max_depth=3, max_features=auto, min_samples_leaf=5, n_estimators=200; total time=   0.3s\n",
            "[CV] END max_depth=3, max_features=auto, min_samples_leaf=5, n_estimators=200; total time=   0.3s\n",
            "[CV] END max_depth=3, max_features=auto, min_samples_leaf=5, n_estimators=200; total time=   0.3s\n",
            "[CV] END max_depth=3, max_features=auto, min_samples_leaf=5, n_estimators=200; total time=   0.3s\n",
            "[CV] END max_depth=3, max_features=auto, min_samples_leaf=5, n_estimators=200; total time=   0.3s\n",
            "[CV] END max_depth=3, max_features=auto, min_samples_leaf=5, n_estimators=300; total time=   0.4s\n",
            "[CV] END max_depth=3, max_features=auto, min_samples_leaf=5, n_estimators=300; total time=   0.4s\n",
            "[CV] END max_depth=3, max_features=auto, min_samples_leaf=5, n_estimators=300; total time=   0.4s\n",
            "[CV] END max_depth=3, max_features=auto, min_samples_leaf=5, n_estimators=300; total time=   0.4s\n",
            "[CV] END max_depth=3, max_features=auto, min_samples_leaf=5, n_estimators=300; total time=   0.4s\n",
            "[CV] END max_depth=3, max_features=auto, min_samples_leaf=5, n_estimators=400; total time=   0.6s\n",
            "[CV] END max_depth=3, max_features=auto, min_samples_leaf=5, n_estimators=400; total time=   0.6s\n",
            "[CV] END max_depth=3, max_features=auto, min_samples_leaf=5, n_estimators=400; total time=   0.6s\n",
            "[CV] END max_depth=3, max_features=auto, min_samples_leaf=5, n_estimators=400; total time=   0.6s\n",
            "[CV] END max_depth=3, max_features=auto, min_samples_leaf=5, n_estimators=400; total time=   0.6s\n",
            "[CV] END max_depth=3, max_features=auto, min_samples_leaf=5, n_estimators=500; total time=   0.7s\n",
            "[CV] END max_depth=3, max_features=auto, min_samples_leaf=5, n_estimators=500; total time=   0.7s\n",
            "[CV] END max_depth=3, max_features=auto, min_samples_leaf=5, n_estimators=500; total time=   0.7s\n",
            "[CV] END max_depth=3, max_features=auto, min_samples_leaf=5, n_estimators=500; total time=   0.7s\n",
            "[CV] END max_depth=3, max_features=auto, min_samples_leaf=5, n_estimators=500; total time=   0.7s\n",
            "[CV] END max_depth=3, max_features=auto, min_samples_leaf=10, n_estimators=100; total time=   0.2s\n",
            "[CV] END max_depth=3, max_features=auto, min_samples_leaf=10, n_estimators=100; total time=   0.2s\n",
            "[CV] END max_depth=3, max_features=auto, min_samples_leaf=10, n_estimators=100; total time=   0.1s\n",
            "[CV] END max_depth=3, max_features=auto, min_samples_leaf=10, n_estimators=100; total time=   0.1s\n",
            "[CV] END max_depth=3, max_features=auto, min_samples_leaf=10, n_estimators=100; total time=   0.1s\n",
            "[CV] END max_depth=3, max_features=auto, min_samples_leaf=10, n_estimators=200; total time=   0.3s\n",
            "[CV] END max_depth=3, max_features=auto, min_samples_leaf=10, n_estimators=200; total time=   0.3s\n",
            "[CV] END max_depth=3, max_features=auto, min_samples_leaf=10, n_estimators=200; total time=   0.3s\n",
            "[CV] END max_depth=3, max_features=auto, min_samples_leaf=10, n_estimators=200; total time=   0.3s\n",
            "[CV] END max_depth=3, max_features=auto, min_samples_leaf=10, n_estimators=200; total time=   0.3s\n",
            "[CV] END max_depth=3, max_features=auto, min_samples_leaf=10, n_estimators=300; total time=   0.4s\n",
            "[CV] END max_depth=3, max_features=auto, min_samples_leaf=10, n_estimators=300; total time=   0.9s\n",
            "[CV] END max_depth=3, max_features=auto, min_samples_leaf=10, n_estimators=300; total time=   0.4s\n",
            "[CV] END max_depth=3, max_features=auto, min_samples_leaf=10, n_estimators=300; total time=   1.0s\n",
            "[CV] END max_depth=3, max_features=auto, min_samples_leaf=10, n_estimators=300; total time=   0.4s\n",
            "[CV] END max_depth=3, max_features=auto, min_samples_leaf=10, n_estimators=400; total time=   0.6s\n",
            "[CV] END max_depth=3, max_features=auto, min_samples_leaf=10, n_estimators=400; total time=   0.6s\n",
            "[CV] END max_depth=3, max_features=auto, min_samples_leaf=10, n_estimators=400; total time=   0.5s\n",
            "[CV] END max_depth=3, max_features=auto, min_samples_leaf=10, n_estimators=400; total time=   0.6s\n",
            "[CV] END max_depth=3, max_features=auto, min_samples_leaf=10, n_estimators=400; total time=   0.6s\n",
            "[CV] END max_depth=3, max_features=auto, min_samples_leaf=10, n_estimators=500; total time=   0.7s\n",
            "[CV] END max_depth=3, max_features=auto, min_samples_leaf=10, n_estimators=500; total time=   0.7s\n",
            "[CV] END max_depth=3, max_features=auto, min_samples_leaf=10, n_estimators=500; total time=   0.7s\n",
            "[CV] END max_depth=3, max_features=auto, min_samples_leaf=10, n_estimators=500; total time=   0.7s\n",
            "[CV] END max_depth=3, max_features=auto, min_samples_leaf=10, n_estimators=500; total time=   0.7s\n",
            "[CV] END max_depth=3, max_features=sqrt, min_samples_leaf=1, n_estimators=100; total time=   0.1s\n",
            "[CV] END max_depth=3, max_features=sqrt, min_samples_leaf=1, n_estimators=100; total time=   0.1s\n",
            "[CV] END max_depth=3, max_features=sqrt, min_samples_leaf=1, n_estimators=100; total time=   0.2s\n",
            "[CV] END max_depth=3, max_features=sqrt, min_samples_leaf=1, n_estimators=100; total time=   0.1s\n",
            "[CV] END max_depth=3, max_features=sqrt, min_samples_leaf=1, n_estimators=100; total time=   0.2s\n",
            "[CV] END max_depth=3, max_features=sqrt, min_samples_leaf=1, n_estimators=200; total time=   0.3s\n",
            "[CV] END max_depth=3, max_features=sqrt, min_samples_leaf=1, n_estimators=200; total time=   0.3s\n",
            "[CV] END max_depth=3, max_features=sqrt, min_samples_leaf=1, n_estimators=200; total time=   0.3s\n",
            "[CV] END max_depth=3, max_features=sqrt, min_samples_leaf=1, n_estimators=200; total time=   0.3s\n",
            "[CV] END max_depth=3, max_features=sqrt, min_samples_leaf=1, n_estimators=200; total time=   0.3s\n",
            "[CV] END max_depth=3, max_features=sqrt, min_samples_leaf=1, n_estimators=300; total time=   0.4s\n",
            "[CV] END max_depth=3, max_features=sqrt, min_samples_leaf=1, n_estimators=300; total time=   0.4s\n",
            "[CV] END max_depth=3, max_features=sqrt, min_samples_leaf=1, n_estimators=300; total time=   0.4s\n",
            "[CV] END max_depth=3, max_features=sqrt, min_samples_leaf=1, n_estimators=300; total time=   0.4s\n",
            "[CV] END max_depth=3, max_features=sqrt, min_samples_leaf=1, n_estimators=300; total time=   0.4s\n",
            "[CV] END max_depth=3, max_features=sqrt, min_samples_leaf=1, n_estimators=400; total time=   0.6s\n",
            "[CV] END max_depth=3, max_features=sqrt, min_samples_leaf=1, n_estimators=400; total time=   0.6s\n",
            "[CV] END max_depth=3, max_features=sqrt, min_samples_leaf=1, n_estimators=400; total time=   0.6s\n",
            "[CV] END max_depth=3, max_features=sqrt, min_samples_leaf=1, n_estimators=400; total time=   0.6s\n",
            "[CV] END max_depth=3, max_features=sqrt, min_samples_leaf=1, n_estimators=400; total time=   0.6s\n",
            "[CV] END max_depth=3, max_features=sqrt, min_samples_leaf=1, n_estimators=500; total time=   0.7s\n",
            "[CV] END max_depth=3, max_features=sqrt, min_samples_leaf=1, n_estimators=500; total time=   1.0s\n",
            "[CV] END max_depth=3, max_features=sqrt, min_samples_leaf=1, n_estimators=500; total time=   0.8s\n",
            "[CV] END max_depth=3, max_features=sqrt, min_samples_leaf=1, n_estimators=500; total time=   0.7s\n",
            "[CV] END max_depth=3, max_features=sqrt, min_samples_leaf=1, n_estimators=500; total time=   0.7s\n",
            "[CV] END max_depth=3, max_features=sqrt, min_samples_leaf=2, n_estimators=100; total time=   0.1s\n",
            "[CV] END max_depth=3, max_features=sqrt, min_samples_leaf=2, n_estimators=100; total time=   0.1s\n",
            "[CV] END max_depth=3, max_features=sqrt, min_samples_leaf=2, n_estimators=100; total time=   0.1s\n",
            "[CV] END max_depth=3, max_features=sqrt, min_samples_leaf=2, n_estimators=100; total time=   0.1s\n",
            "[CV] END max_depth=3, max_features=sqrt, min_samples_leaf=2, n_estimators=100; total time=   0.1s\n",
            "[CV] END max_depth=3, max_features=sqrt, min_samples_leaf=2, n_estimators=200; total time=   0.3s\n",
            "[CV] END max_depth=3, max_features=sqrt, min_samples_leaf=2, n_estimators=200; total time=   0.3s\n",
            "[CV] END max_depth=3, max_features=sqrt, min_samples_leaf=2, n_estimators=200; total time=   0.3s\n",
            "[CV] END max_depth=3, max_features=sqrt, min_samples_leaf=2, n_estimators=200; total time=   0.3s\n",
            "[CV] END max_depth=3, max_features=sqrt, min_samples_leaf=2, n_estimators=200; total time=   0.3s\n",
            "[CV] END max_depth=3, max_features=sqrt, min_samples_leaf=2, n_estimators=300; total time=   0.4s\n",
            "[CV] END max_depth=3, max_features=sqrt, min_samples_leaf=2, n_estimators=300; total time=   0.4s\n",
            "[CV] END max_depth=3, max_features=sqrt, min_samples_leaf=2, n_estimators=300; total time=   0.4s\n",
            "[CV] END max_depth=3, max_features=sqrt, min_samples_leaf=2, n_estimators=300; total time=   0.4s\n",
            "[CV] END max_depth=3, max_features=sqrt, min_samples_leaf=2, n_estimators=300; total time=   0.6s\n",
            "[CV] END max_depth=3, max_features=sqrt, min_samples_leaf=2, n_estimators=400; total time=   0.6s\n",
            "[CV] END max_depth=3, max_features=sqrt, min_samples_leaf=2, n_estimators=400; total time=   0.5s\n",
            "[CV] END max_depth=3, max_features=sqrt, min_samples_leaf=2, n_estimators=400; total time=   0.6s\n",
            "[CV] END max_depth=3, max_features=sqrt, min_samples_leaf=2, n_estimators=400; total time=   0.6s\n",
            "[CV] END max_depth=3, max_features=sqrt, min_samples_leaf=2, n_estimators=400; total time=   0.6s\n",
            "[CV] END max_depth=3, max_features=sqrt, min_samples_leaf=2, n_estimators=500; total time=   0.7s\n",
            "[CV] END max_depth=3, max_features=sqrt, min_samples_leaf=2, n_estimators=500; total time=   0.7s\n",
            "[CV] END max_depth=3, max_features=sqrt, min_samples_leaf=2, n_estimators=500; total time=   0.7s\n",
            "[CV] END max_depth=3, max_features=sqrt, min_samples_leaf=2, n_estimators=500; total time=   0.7s\n",
            "[CV] END max_depth=3, max_features=sqrt, min_samples_leaf=2, n_estimators=500; total time=   0.7s\n",
            "[CV] END max_depth=3, max_features=sqrt, min_samples_leaf=5, n_estimators=100; total time=   0.1s\n",
            "[CV] END max_depth=3, max_features=sqrt, min_samples_leaf=5, n_estimators=100; total time=   0.2s\n",
            "[CV] END max_depth=3, max_features=sqrt, min_samples_leaf=5, n_estimators=100; total time=   0.1s\n",
            "[CV] END max_depth=3, max_features=sqrt, min_samples_leaf=5, n_estimators=100; total time=   0.1s\n",
            "[CV] END max_depth=3, max_features=sqrt, min_samples_leaf=5, n_estimators=100; total time=   0.1s\n",
            "[CV] END max_depth=3, max_features=sqrt, min_samples_leaf=5, n_estimators=200; total time=   0.3s\n",
            "[CV] END max_depth=3, max_features=sqrt, min_samples_leaf=5, n_estimators=200; total time=   0.3s\n",
            "[CV] END max_depth=3, max_features=sqrt, min_samples_leaf=5, n_estimators=200; total time=   0.3s\n",
            "[CV] END max_depth=3, max_features=sqrt, min_samples_leaf=5, n_estimators=200; total time=   0.3s\n",
            "[CV] END max_depth=3, max_features=sqrt, min_samples_leaf=5, n_estimators=200; total time=   0.3s\n",
            "[CV] END max_depth=3, max_features=sqrt, min_samples_leaf=5, n_estimators=300; total time=   0.4s\n",
            "[CV] END max_depth=3, max_features=sqrt, min_samples_leaf=5, n_estimators=300; total time=   0.4s\n",
            "[CV] END max_depth=3, max_features=sqrt, min_samples_leaf=5, n_estimators=300; total time=   0.4s\n",
            "[CV] END max_depth=3, max_features=sqrt, min_samples_leaf=5, n_estimators=300; total time=   0.4s\n",
            "[CV] END max_depth=3, max_features=sqrt, min_samples_leaf=5, n_estimators=300; total time=   0.4s\n",
            "[CV] END max_depth=3, max_features=sqrt, min_samples_leaf=5, n_estimators=400; total time=   0.5s\n",
            "[CV] END max_depth=3, max_features=sqrt, min_samples_leaf=5, n_estimators=400; total time=   0.6s\n",
            "[CV] END max_depth=3, max_features=sqrt, min_samples_leaf=5, n_estimators=400; total time=   0.5s\n",
            "[CV] END max_depth=3, max_features=sqrt, min_samples_leaf=5, n_estimators=400; total time=   0.6s\n",
            "[CV] END max_depth=3, max_features=sqrt, min_samples_leaf=5, n_estimators=400; total time=   0.6s\n",
            "[CV] END max_depth=3, max_features=sqrt, min_samples_leaf=5, n_estimators=500; total time=   0.7s\n",
            "[CV] END max_depth=3, max_features=sqrt, min_samples_leaf=5, n_estimators=500; total time=   0.7s\n",
            "[CV] END max_depth=3, max_features=sqrt, min_samples_leaf=5, n_estimators=500; total time=   0.7s\n",
            "[CV] END max_depth=3, max_features=sqrt, min_samples_leaf=5, n_estimators=500; total time=   0.7s\n",
            "[CV] END max_depth=3, max_features=sqrt, min_samples_leaf=5, n_estimators=500; total time=   0.7s\n",
            "[CV] END max_depth=3, max_features=sqrt, min_samples_leaf=10, n_estimators=100; total time=   0.2s\n",
            "[CV] END max_depth=3, max_features=sqrt, min_samples_leaf=10, n_estimators=100; total time=   0.2s\n",
            "[CV] END max_depth=3, max_features=sqrt, min_samples_leaf=10, n_estimators=100; total time=   0.1s\n",
            "[CV] END max_depth=3, max_features=sqrt, min_samples_leaf=10, n_estimators=100; total time=   0.1s\n",
            "[CV] END max_depth=3, max_features=sqrt, min_samples_leaf=10, n_estimators=100; total time=   0.1s\n",
            "[CV] END max_depth=3, max_features=sqrt, min_samples_leaf=10, n_estimators=200; total time=   0.3s\n",
            "[CV] END max_depth=3, max_features=sqrt, min_samples_leaf=10, n_estimators=200; total time=   0.3s\n",
            "[CV] END max_depth=3, max_features=sqrt, min_samples_leaf=10, n_estimators=200; total time=   0.3s\n",
            "[CV] END max_depth=3, max_features=sqrt, min_samples_leaf=10, n_estimators=200; total time=   0.3s\n",
            "[CV] END max_depth=3, max_features=sqrt, min_samples_leaf=10, n_estimators=200; total time=   0.3s\n",
            "[CV] END max_depth=3, max_features=sqrt, min_samples_leaf=10, n_estimators=300; total time=   0.4s\n",
            "[CV] END max_depth=3, max_features=sqrt, min_samples_leaf=10, n_estimators=300; total time=   0.4s\n",
            "[CV] END max_depth=3, max_features=sqrt, min_samples_leaf=10, n_estimators=300; total time=   0.4s\n",
            "[CV] END max_depth=3, max_features=sqrt, min_samples_leaf=10, n_estimators=300; total time=   0.4s\n",
            "[CV] END max_depth=3, max_features=sqrt, min_samples_leaf=10, n_estimators=300; total time=   0.4s\n",
            "[CV] END max_depth=3, max_features=sqrt, min_samples_leaf=10, n_estimators=400; total time=   0.5s\n",
            "[CV] END max_depth=3, max_features=sqrt, min_samples_leaf=10, n_estimators=400; total time=   0.6s\n",
            "[CV] END max_depth=3, max_features=sqrt, min_samples_leaf=10, n_estimators=400; total time=   0.6s\n",
            "[CV] END max_depth=3, max_features=sqrt, min_samples_leaf=10, n_estimators=400; total time=   0.6s\n",
            "[CV] END max_depth=3, max_features=sqrt, min_samples_leaf=10, n_estimators=400; total time=   0.6s\n",
            "[CV] END max_depth=3, max_features=sqrt, min_samples_leaf=10, n_estimators=500; total time=   0.7s\n",
            "[CV] END max_depth=3, max_features=sqrt, min_samples_leaf=10, n_estimators=500; total time=   0.7s\n",
            "[CV] END max_depth=3, max_features=sqrt, min_samples_leaf=10, n_estimators=500; total time=   0.7s\n",
            "[CV] END max_depth=3, max_features=sqrt, min_samples_leaf=10, n_estimators=500; total time=   0.7s\n",
            "[CV] END max_depth=3, max_features=sqrt, min_samples_leaf=10, n_estimators=500; total time=   0.7s\n",
            "[CV] END max_depth=5, max_features=auto, min_samples_leaf=1, n_estimators=100; total time=   0.1s\n",
            "[CV] END max_depth=5, max_features=auto, min_samples_leaf=1, n_estimators=100; total time=   0.2s\n",
            "[CV] END max_depth=5, max_features=auto, min_samples_leaf=1, n_estimators=100; total time=   0.2s\n",
            "[CV] END max_depth=5, max_features=auto, min_samples_leaf=1, n_estimators=100; total time=   0.1s\n",
            "[CV] END max_depth=5, max_features=auto, min_samples_leaf=1, n_estimators=100; total time=   0.2s\n",
            "[CV] END max_depth=5, max_features=auto, min_samples_leaf=1, n_estimators=200; total time=   0.3s\n",
            "[CV] END max_depth=5, max_features=auto, min_samples_leaf=1, n_estimators=200; total time=   0.3s\n",
            "[CV] END max_depth=5, max_features=auto, min_samples_leaf=1, n_estimators=200; total time=   0.3s\n",
            "[CV] END max_depth=5, max_features=auto, min_samples_leaf=1, n_estimators=200; total time=   0.3s\n",
            "[CV] END max_depth=5, max_features=auto, min_samples_leaf=1, n_estimators=200; total time=   0.3s\n",
            "[CV] END max_depth=5, max_features=auto, min_samples_leaf=1, n_estimators=300; total time=   0.4s\n",
            "[CV] END max_depth=5, max_features=auto, min_samples_leaf=1, n_estimators=300; total time=   0.4s\n",
            "[CV] END max_depth=5, max_features=auto, min_samples_leaf=1, n_estimators=300; total time=   0.4s\n",
            "[CV] END max_depth=5, max_features=auto, min_samples_leaf=1, n_estimators=300; total time=   0.5s\n",
            "[CV] END max_depth=5, max_features=auto, min_samples_leaf=1, n_estimators=300; total time=   0.4s\n",
            "[CV] END max_depth=5, max_features=auto, min_samples_leaf=1, n_estimators=400; total time=   0.6s\n",
            "[CV] END max_depth=5, max_features=auto, min_samples_leaf=1, n_estimators=400; total time=   0.6s\n",
            "[CV] END max_depth=5, max_features=auto, min_samples_leaf=1, n_estimators=400; total time=   0.6s\n",
            "[CV] END max_depth=5, max_features=auto, min_samples_leaf=1, n_estimators=400; total time=   0.6s\n",
            "[CV] END max_depth=5, max_features=auto, min_samples_leaf=1, n_estimators=400; total time=   0.6s\n",
            "[CV] END max_depth=5, max_features=auto, min_samples_leaf=1, n_estimators=500; total time=   0.7s\n",
            "[CV] END max_depth=5, max_features=auto, min_samples_leaf=1, n_estimators=500; total time=   0.7s\n",
            "[CV] END max_depth=5, max_features=auto, min_samples_leaf=1, n_estimators=500; total time=   0.7s\n",
            "[CV] END max_depth=5, max_features=auto, min_samples_leaf=1, n_estimators=500; total time=   0.7s\n",
            "[CV] END max_depth=5, max_features=auto, min_samples_leaf=1, n_estimators=500; total time=   0.7s\n",
            "[CV] END max_depth=5, max_features=auto, min_samples_leaf=2, n_estimators=100; total time=   0.1s\n",
            "[CV] END max_depth=5, max_features=auto, min_samples_leaf=2, n_estimators=100; total time=   0.2s\n",
            "[CV] END max_depth=5, max_features=auto, min_samples_leaf=2, n_estimators=100; total time=   0.2s\n",
            "[CV] END max_depth=5, max_features=auto, min_samples_leaf=2, n_estimators=100; total time=   0.2s\n",
            "[CV] END max_depth=5, max_features=auto, min_samples_leaf=2, n_estimators=100; total time=   0.2s\n",
            "[CV] END max_depth=5, max_features=auto, min_samples_leaf=2, n_estimators=200; total time=   0.3s\n",
            "[CV] END max_depth=5, max_features=auto, min_samples_leaf=2, n_estimators=200; total time=   0.3s\n",
            "[CV] END max_depth=5, max_features=auto, min_samples_leaf=2, n_estimators=200; total time=   0.3s\n",
            "[CV] END max_depth=5, max_features=auto, min_samples_leaf=2, n_estimators=200; total time=   0.3s\n",
            "[CV] END max_depth=5, max_features=auto, min_samples_leaf=2, n_estimators=200; total time=   0.3s\n",
            "[CV] END max_depth=5, max_features=auto, min_samples_leaf=2, n_estimators=300; total time=   0.4s\n",
            "[CV] END max_depth=5, max_features=auto, min_samples_leaf=2, n_estimators=300; total time=   0.4s\n",
            "[CV] END max_depth=5, max_features=auto, min_samples_leaf=2, n_estimators=300; total time=   0.4s\n",
            "[CV] END max_depth=5, max_features=auto, min_samples_leaf=2, n_estimators=300; total time=   0.4s\n",
            "[CV] END max_depth=5, max_features=auto, min_samples_leaf=2, n_estimators=300; total time=   0.5s\n",
            "[CV] END max_depth=5, max_features=auto, min_samples_leaf=2, n_estimators=400; total time=   0.6s\n",
            "[CV] END max_depth=5, max_features=auto, min_samples_leaf=2, n_estimators=400; total time=   0.6s\n",
            "[CV] END max_depth=5, max_features=auto, min_samples_leaf=2, n_estimators=400; total time=   0.6s\n",
            "[CV] END max_depth=5, max_features=auto, min_samples_leaf=2, n_estimators=400; total time=   0.6s\n",
            "[CV] END max_depth=5, max_features=auto, min_samples_leaf=2, n_estimators=400; total time=   0.6s\n",
            "[CV] END max_depth=5, max_features=auto, min_samples_leaf=2, n_estimators=500; total time=   0.7s\n",
            "[CV] END max_depth=5, max_features=auto, min_samples_leaf=2, n_estimators=500; total time=   0.7s\n",
            "[CV] END max_depth=5, max_features=auto, min_samples_leaf=2, n_estimators=500; total time=   0.7s\n",
            "[CV] END max_depth=5, max_features=auto, min_samples_leaf=2, n_estimators=500; total time=   0.7s\n",
            "[CV] END max_depth=5, max_features=auto, min_samples_leaf=2, n_estimators=500; total time=   0.7s\n",
            "[CV] END max_depth=5, max_features=auto, min_samples_leaf=5, n_estimators=100; total time=   0.1s\n",
            "[CV] END max_depth=5, max_features=auto, min_samples_leaf=5, n_estimators=100; total time=   0.2s\n",
            "[CV] END max_depth=5, max_features=auto, min_samples_leaf=5, n_estimators=100; total time=   0.2s\n",
            "[CV] END max_depth=5, max_features=auto, min_samples_leaf=5, n_estimators=100; total time=   0.1s\n",
            "[CV] END max_depth=5, max_features=auto, min_samples_leaf=5, n_estimators=100; total time=   0.2s\n",
            "[CV] END max_depth=5, max_features=auto, min_samples_leaf=5, n_estimators=200; total time=   0.3s\n",
            "[CV] END max_depth=5, max_features=auto, min_samples_leaf=5, n_estimators=200; total time=   0.3s\n",
            "[CV] END max_depth=5, max_features=auto, min_samples_leaf=5, n_estimators=200; total time=   0.3s\n",
            "[CV] END max_depth=5, max_features=auto, min_samples_leaf=5, n_estimators=200; total time=   0.3s\n",
            "[CV] END max_depth=5, max_features=auto, min_samples_leaf=5, n_estimators=200; total time=   0.3s\n",
            "[CV] END max_depth=5, max_features=auto, min_samples_leaf=5, n_estimators=300; total time=   0.4s\n",
            "[CV] END max_depth=5, max_features=auto, min_samples_leaf=5, n_estimators=300; total time=   0.4s\n",
            "[CV] END max_depth=5, max_features=auto, min_samples_leaf=5, n_estimators=300; total time=   0.4s\n",
            "[CV] END max_depth=5, max_features=auto, min_samples_leaf=5, n_estimators=300; total time=   0.4s\n",
            "[CV] END max_depth=5, max_features=auto, min_samples_leaf=5, n_estimators=300; total time=   0.4s\n",
            "[CV] END max_depth=5, max_features=auto, min_samples_leaf=5, n_estimators=400; total time=   0.6s\n",
            "[CV] END max_depth=5, max_features=auto, min_samples_leaf=5, n_estimators=400; total time=   0.6s\n",
            "[CV] END max_depth=5, max_features=auto, min_samples_leaf=5, n_estimators=400; total time=   0.6s\n",
            "[CV] END max_depth=5, max_features=auto, min_samples_leaf=5, n_estimators=400; total time=   0.6s\n",
            "[CV] END max_depth=5, max_features=auto, min_samples_leaf=5, n_estimators=400; total time=   0.6s\n",
            "[CV] END max_depth=5, max_features=auto, min_samples_leaf=5, n_estimators=500; total time=   0.7s\n",
            "[CV] END max_depth=5, max_features=auto, min_samples_leaf=5, n_estimators=500; total time=   0.7s\n",
            "[CV] END max_depth=5, max_features=auto, min_samples_leaf=5, n_estimators=500; total time=   0.7s\n",
            "[CV] END max_depth=5, max_features=auto, min_samples_leaf=5, n_estimators=500; total time=   0.7s\n",
            "[CV] END max_depth=5, max_features=auto, min_samples_leaf=5, n_estimators=500; total time=   0.7s\n",
            "[CV] END max_depth=5, max_features=auto, min_samples_leaf=10, n_estimators=100; total time=   0.1s\n",
            "[CV] END max_depth=5, max_features=auto, min_samples_leaf=10, n_estimators=100; total time=   0.2s\n",
            "[CV] END max_depth=5, max_features=auto, min_samples_leaf=10, n_estimators=100; total time=   0.1s\n",
            "[CV] END max_depth=5, max_features=auto, min_samples_leaf=10, n_estimators=100; total time=   0.2s\n",
            "[CV] END max_depth=5, max_features=auto, min_samples_leaf=10, n_estimators=100; total time=   0.1s\n",
            "[CV] END max_depth=5, max_features=auto, min_samples_leaf=10, n_estimators=200; total time=   0.3s\n",
            "[CV] END max_depth=5, max_features=auto, min_samples_leaf=10, n_estimators=200; total time=   0.3s\n",
            "[CV] END max_depth=5, max_features=auto, min_samples_leaf=10, n_estimators=200; total time=   0.3s\n",
            "[CV] END max_depth=5, max_features=auto, min_samples_leaf=10, n_estimators=200; total time=   0.3s\n",
            "[CV] END max_depth=5, max_features=auto, min_samples_leaf=10, n_estimators=200; total time=   0.3s\n",
            "[CV] END max_depth=5, max_features=auto, min_samples_leaf=10, n_estimators=300; total time=   0.5s\n",
            "[CV] END max_depth=5, max_features=auto, min_samples_leaf=10, n_estimators=300; total time=   0.4s\n",
            "[CV] END max_depth=5, max_features=auto, min_samples_leaf=10, n_estimators=300; total time=   0.4s\n",
            "[CV] END max_depth=5, max_features=auto, min_samples_leaf=10, n_estimators=300; total time=   0.4s\n",
            "[CV] END max_depth=5, max_features=auto, min_samples_leaf=10, n_estimators=300; total time=   0.4s\n",
            "[CV] END max_depth=5, max_features=auto, min_samples_leaf=10, n_estimators=400; total time=   0.6s\n",
            "[CV] END max_depth=5, max_features=auto, min_samples_leaf=10, n_estimators=400; total time=   0.6s\n",
            "[CV] END max_depth=5, max_features=auto, min_samples_leaf=10, n_estimators=400; total time=   0.6s\n",
            "[CV] END max_depth=5, max_features=auto, min_samples_leaf=10, n_estimators=400; total time=   0.6s\n",
            "[CV] END max_depth=5, max_features=auto, min_samples_leaf=10, n_estimators=400; total time=   0.6s\n",
            "[CV] END max_depth=5, max_features=auto, min_samples_leaf=10, n_estimators=500; total time=   0.7s\n",
            "[CV] END max_depth=5, max_features=auto, min_samples_leaf=10, n_estimators=500; total time=   0.7s\n",
            "[CV] END max_depth=5, max_features=auto, min_samples_leaf=10, n_estimators=500; total time=   0.7s\n",
            "[CV] END max_depth=5, max_features=auto, min_samples_leaf=10, n_estimators=500; total time=   0.7s\n",
            "[CV] END max_depth=5, max_features=auto, min_samples_leaf=10, n_estimators=500; total time=   0.7s\n",
            "[CV] END max_depth=5, max_features=sqrt, min_samples_leaf=1, n_estimators=100; total time=   0.1s\n",
            "[CV] END max_depth=5, max_features=sqrt, min_samples_leaf=1, n_estimators=100; total time=   0.1s\n",
            "[CV] END max_depth=5, max_features=sqrt, min_samples_leaf=1, n_estimators=100; total time=   0.2s\n",
            "[CV] END max_depth=5, max_features=sqrt, min_samples_leaf=1, n_estimators=100; total time=   0.2s\n",
            "[CV] END max_depth=5, max_features=sqrt, min_samples_leaf=1, n_estimators=100; total time=   0.2s\n",
            "[CV] END max_depth=5, max_features=sqrt, min_samples_leaf=1, n_estimators=200; total time=   0.3s\n",
            "[CV] END max_depth=5, max_features=sqrt, min_samples_leaf=1, n_estimators=200; total time=   0.3s\n",
            "[CV] END max_depth=5, max_features=sqrt, min_samples_leaf=1, n_estimators=200; total time=   0.3s\n",
            "[CV] END max_depth=5, max_features=sqrt, min_samples_leaf=1, n_estimators=200; total time=   0.3s\n",
            "[CV] END max_depth=5, max_features=sqrt, min_samples_leaf=1, n_estimators=200; total time=   0.3s\n",
            "[CV] END max_depth=5, max_features=sqrt, min_samples_leaf=1, n_estimators=300; total time=   0.4s\n",
            "[CV] END max_depth=5, max_features=sqrt, min_samples_leaf=1, n_estimators=300; total time=   0.4s\n",
            "[CV] END max_depth=5, max_features=sqrt, min_samples_leaf=1, n_estimators=300; total time=   0.4s\n",
            "[CV] END max_depth=5, max_features=sqrt, min_samples_leaf=1, n_estimators=300; total time=   0.5s\n",
            "[CV] END max_depth=5, max_features=sqrt, min_samples_leaf=1, n_estimators=300; total time=   0.4s\n",
            "[CV] END max_depth=5, max_features=sqrt, min_samples_leaf=1, n_estimators=400; total time=   0.6s\n",
            "[CV] END max_depth=5, max_features=sqrt, min_samples_leaf=1, n_estimators=400; total time=   0.6s\n",
            "[CV] END max_depth=5, max_features=sqrt, min_samples_leaf=1, n_estimators=400; total time=   0.6s\n",
            "[CV] END max_depth=5, max_features=sqrt, min_samples_leaf=1, n_estimators=400; total time=   0.8s\n",
            "[CV] END max_depth=5, max_features=sqrt, min_samples_leaf=1, n_estimators=400; total time=   0.6s\n",
            "[CV] END max_depth=5, max_features=sqrt, min_samples_leaf=1, n_estimators=500; total time=   0.8s\n",
            "[CV] END max_depth=5, max_features=sqrt, min_samples_leaf=1, n_estimators=500; total time=   0.7s\n",
            "[CV] END max_depth=5, max_features=sqrt, min_samples_leaf=1, n_estimators=500; total time=   0.7s\n",
            "[CV] END max_depth=5, max_features=sqrt, min_samples_leaf=1, n_estimators=500; total time=   0.7s\n",
            "[CV] END max_depth=5, max_features=sqrt, min_samples_leaf=1, n_estimators=500; total time=   0.8s\n",
            "[CV] END max_depth=5, max_features=sqrt, min_samples_leaf=2, n_estimators=100; total time=   0.2s\n",
            "[CV] END max_depth=5, max_features=sqrt, min_samples_leaf=2, n_estimators=100; total time=   0.2s\n",
            "[CV] END max_depth=5, max_features=sqrt, min_samples_leaf=2, n_estimators=100; total time=   0.2s\n",
            "[CV] END max_depth=5, max_features=sqrt, min_samples_leaf=2, n_estimators=100; total time=   0.2s\n",
            "[CV] END max_depth=5, max_features=sqrt, min_samples_leaf=2, n_estimators=100; total time=   0.2s\n",
            "[CV] END max_depth=5, max_features=sqrt, min_samples_leaf=2, n_estimators=200; total time=   0.3s\n",
            "[CV] END max_depth=5, max_features=sqrt, min_samples_leaf=2, n_estimators=200; total time=   0.3s\n",
            "[CV] END max_depth=5, max_features=sqrt, min_samples_leaf=2, n_estimators=200; total time=   0.3s\n",
            "[CV] END max_depth=5, max_features=sqrt, min_samples_leaf=2, n_estimators=200; total time=   0.3s\n",
            "[CV] END max_depth=5, max_features=sqrt, min_samples_leaf=2, n_estimators=200; total time=   0.3s\n",
            "[CV] END max_depth=5, max_features=sqrt, min_samples_leaf=2, n_estimators=300; total time=   0.5s\n",
            "[CV] END max_depth=5, max_features=sqrt, min_samples_leaf=2, n_estimators=300; total time=   0.5s\n",
            "[CV] END max_depth=5, max_features=sqrt, min_samples_leaf=2, n_estimators=300; total time=   0.4s\n",
            "[CV] END max_depth=5, max_features=sqrt, min_samples_leaf=2, n_estimators=300; total time=   0.4s\n",
            "[CV] END max_depth=5, max_features=sqrt, min_samples_leaf=2, n_estimators=300; total time=   0.4s\n",
            "[CV] END max_depth=5, max_features=sqrt, min_samples_leaf=2, n_estimators=400; total time=   0.6s\n",
            "[CV] END max_depth=5, max_features=sqrt, min_samples_leaf=2, n_estimators=400; total time=   0.6s\n",
            "[CV] END max_depth=5, max_features=sqrt, min_samples_leaf=2, n_estimators=400; total time=   0.6s\n",
            "[CV] END max_depth=5, max_features=sqrt, min_samples_leaf=2, n_estimators=400; total time=   0.6s\n",
            "[CV] END max_depth=5, max_features=sqrt, min_samples_leaf=2, n_estimators=400; total time=   0.6s\n",
            "[CV] END max_depth=5, max_features=sqrt, min_samples_leaf=2, n_estimators=500; total time=   0.7s\n",
            "[CV] END max_depth=5, max_features=sqrt, min_samples_leaf=2, n_estimators=500; total time=   0.7s\n",
            "[CV] END max_depth=5, max_features=sqrt, min_samples_leaf=2, n_estimators=500; total time=   0.7s\n",
            "[CV] END max_depth=5, max_features=sqrt, min_samples_leaf=2, n_estimators=500; total time=   0.8s\n",
            "[CV] END max_depth=5, max_features=sqrt, min_samples_leaf=2, n_estimators=500; total time=   0.7s\n",
            "[CV] END max_depth=5, max_features=sqrt, min_samples_leaf=5, n_estimators=100; total time=   0.2s\n",
            "[CV] END max_depth=5, max_features=sqrt, min_samples_leaf=5, n_estimators=100; total time=   0.2s\n",
            "[CV] END max_depth=5, max_features=sqrt, min_samples_leaf=5, n_estimators=100; total time=   0.2s\n",
            "[CV] END max_depth=5, max_features=sqrt, min_samples_leaf=5, n_estimators=100; total time=   0.2s\n",
            "[CV] END max_depth=5, max_features=sqrt, min_samples_leaf=5, n_estimators=100; total time=   0.2s\n",
            "[CV] END max_depth=5, max_features=sqrt, min_samples_leaf=5, n_estimators=200; total time=   0.3s\n",
            "[CV] END max_depth=5, max_features=sqrt, min_samples_leaf=5, n_estimators=200; total time=   0.3s\n",
            "[CV] END max_depth=5, max_features=sqrt, min_samples_leaf=5, n_estimators=200; total time=   0.3s\n",
            "[CV] END max_depth=5, max_features=sqrt, min_samples_leaf=5, n_estimators=200; total time=   0.3s\n",
            "[CV] END max_depth=5, max_features=sqrt, min_samples_leaf=5, n_estimators=200; total time=   0.3s\n",
            "[CV] END max_depth=5, max_features=sqrt, min_samples_leaf=5, n_estimators=300; total time=   0.5s\n",
            "[CV] END max_depth=5, max_features=sqrt, min_samples_leaf=5, n_estimators=300; total time=   0.4s\n",
            "[CV] END max_depth=5, max_features=sqrt, min_samples_leaf=5, n_estimators=300; total time=   0.5s\n",
            "[CV] END max_depth=5, max_features=sqrt, min_samples_leaf=5, n_estimators=300; total time=   0.5s\n",
            "[CV] END max_depth=5, max_features=sqrt, min_samples_leaf=5, n_estimators=300; total time=   0.5s\n",
            "[CV] END max_depth=5, max_features=sqrt, min_samples_leaf=5, n_estimators=400; total time=   1.1s\n",
            "[CV] END max_depth=5, max_features=sqrt, min_samples_leaf=5, n_estimators=400; total time=   0.6s\n",
            "[CV] END max_depth=5, max_features=sqrt, min_samples_leaf=5, n_estimators=400; total time=   0.6s\n",
            "[CV] END max_depth=5, max_features=sqrt, min_samples_leaf=5, n_estimators=400; total time=   0.6s\n",
            "[CV] END max_depth=5, max_features=sqrt, min_samples_leaf=5, n_estimators=400; total time=   0.6s\n",
            "[CV] END max_depth=5, max_features=sqrt, min_samples_leaf=5, n_estimators=500; total time=   0.8s\n",
            "[CV] END max_depth=5, max_features=sqrt, min_samples_leaf=5, n_estimators=500; total time=   0.8s\n",
            "[CV] END max_depth=5, max_features=sqrt, min_samples_leaf=5, n_estimators=500; total time=   0.8s\n",
            "[CV] END max_depth=5, max_features=sqrt, min_samples_leaf=5, n_estimators=500; total time=   0.8s\n",
            "[CV] END max_depth=5, max_features=sqrt, min_samples_leaf=5, n_estimators=500; total time=   0.8s\n",
            "[CV] END max_depth=5, max_features=sqrt, min_samples_leaf=10, n_estimators=100; total time=   0.1s\n",
            "[CV] END max_depth=5, max_features=sqrt, min_samples_leaf=10, n_estimators=100; total time=   0.1s\n",
            "[CV] END max_depth=5, max_features=sqrt, min_samples_leaf=10, n_estimators=100; total time=   0.2s\n",
            "[CV] END max_depth=5, max_features=sqrt, min_samples_leaf=10, n_estimators=100; total time=   0.2s\n",
            "[CV] END max_depth=5, max_features=sqrt, min_samples_leaf=10, n_estimators=100; total time=   0.2s\n",
            "[CV] END max_depth=5, max_features=sqrt, min_samples_leaf=10, n_estimators=200; total time=   0.3s\n",
            "[CV] END max_depth=5, max_features=sqrt, min_samples_leaf=10, n_estimators=200; total time=   0.3s\n",
            "[CV] END max_depth=5, max_features=sqrt, min_samples_leaf=10, n_estimators=200; total time=   0.3s\n",
            "[CV] END max_depth=5, max_features=sqrt, min_samples_leaf=10, n_estimators=200; total time=   0.3s\n",
            "[CV] END max_depth=5, max_features=sqrt, min_samples_leaf=10, n_estimators=200; total time=   0.3s\n",
            "[CV] END max_depth=5, max_features=sqrt, min_samples_leaf=10, n_estimators=300; total time=   0.4s\n",
            "[CV] END max_depth=5, max_features=sqrt, min_samples_leaf=10, n_estimators=300; total time=   0.5s\n",
            "[CV] END max_depth=5, max_features=sqrt, min_samples_leaf=10, n_estimators=300; total time=   0.4s\n",
            "[CV] END max_depth=5, max_features=sqrt, min_samples_leaf=10, n_estimators=300; total time=   0.4s\n",
            "[CV] END max_depth=5, max_features=sqrt, min_samples_leaf=10, n_estimators=300; total time=   0.4s\n",
            "[CV] END max_depth=5, max_features=sqrt, min_samples_leaf=10, n_estimators=400; total time=   0.6s\n",
            "[CV] END max_depth=5, max_features=sqrt, min_samples_leaf=10, n_estimators=400; total time=   0.6s\n",
            "[CV] END max_depth=5, max_features=sqrt, min_samples_leaf=10, n_estimators=400; total time=   0.6s\n",
            "[CV] END max_depth=5, max_features=sqrt, min_samples_leaf=10, n_estimators=400; total time=   0.6s\n",
            "[CV] END max_depth=5, max_features=sqrt, min_samples_leaf=10, n_estimators=400; total time=   0.6s\n",
            "[CV] END max_depth=5, max_features=sqrt, min_samples_leaf=10, n_estimators=500; total time=   0.7s\n",
            "[CV] END max_depth=5, max_features=sqrt, min_samples_leaf=10, n_estimators=500; total time=   0.7s\n",
            "[CV] END max_depth=5, max_features=sqrt, min_samples_leaf=10, n_estimators=500; total time=   0.7s\n",
            "[CV] END max_depth=5, max_features=sqrt, min_samples_leaf=10, n_estimators=500; total time=   0.7s\n",
            "[CV] END max_depth=5, max_features=sqrt, min_samples_leaf=10, n_estimators=500; total time=   0.7s\n",
            "[CV] END max_depth=10, max_features=auto, min_samples_leaf=1, n_estimators=100; total time=   0.2s\n",
            "[CV] END max_depth=10, max_features=auto, min_samples_leaf=1, n_estimators=100; total time=   0.2s\n",
            "[CV] END max_depth=10, max_features=auto, min_samples_leaf=1, n_estimators=100; total time=   0.2s\n",
            "[CV] END max_depth=10, max_features=auto, min_samples_leaf=1, n_estimators=100; total time=   0.2s\n",
            "[CV] END max_depth=10, max_features=auto, min_samples_leaf=1, n_estimators=100; total time=   0.2s\n",
            "[CV] END max_depth=10, max_features=auto, min_samples_leaf=1, n_estimators=200; total time=   0.3s\n",
            "[CV] END max_depth=10, max_features=auto, min_samples_leaf=1, n_estimators=200; total time=   0.3s\n",
            "[CV] END max_depth=10, max_features=auto, min_samples_leaf=1, n_estimators=200; total time=   0.3s\n",
            "[CV] END max_depth=10, max_features=auto, min_samples_leaf=1, n_estimators=200; total time=   0.3s\n",
            "[CV] END max_depth=10, max_features=auto, min_samples_leaf=1, n_estimators=200; total time=   0.3s\n",
            "[CV] END max_depth=10, max_features=auto, min_samples_leaf=1, n_estimators=300; total time=   0.5s\n",
            "[CV] END max_depth=10, max_features=auto, min_samples_leaf=1, n_estimators=300; total time=   0.5s\n",
            "[CV] END max_depth=10, max_features=auto, min_samples_leaf=1, n_estimators=300; total time=   0.5s\n",
            "[CV] END max_depth=10, max_features=auto, min_samples_leaf=1, n_estimators=300; total time=   0.5s\n",
            "[CV] END max_depth=10, max_features=auto, min_samples_leaf=1, n_estimators=300; total time=   0.5s\n",
            "[CV] END max_depth=10, max_features=auto, min_samples_leaf=1, n_estimators=400; total time=   0.8s\n",
            "[CV] END max_depth=10, max_features=auto, min_samples_leaf=1, n_estimators=400; total time=   0.7s\n",
            "[CV] END max_depth=10, max_features=auto, min_samples_leaf=1, n_estimators=400; total time=   0.6s\n",
            "[CV] END max_depth=10, max_features=auto, min_samples_leaf=1, n_estimators=400; total time=   0.6s\n",
            "[CV] END max_depth=10, max_features=auto, min_samples_leaf=1, n_estimators=400; total time=   0.7s\n",
            "[CV] END max_depth=10, max_features=auto, min_samples_leaf=1, n_estimators=500; total time=   0.8s\n",
            "[CV] END max_depth=10, max_features=auto, min_samples_leaf=1, n_estimators=500; total time=   0.8s\n",
            "[CV] END max_depth=10, max_features=auto, min_samples_leaf=1, n_estimators=500; total time=   0.8s\n",
            "[CV] END max_depth=10, max_features=auto, min_samples_leaf=1, n_estimators=500; total time=   0.8s\n",
            "[CV] END max_depth=10, max_features=auto, min_samples_leaf=1, n_estimators=500; total time=   0.8s\n",
            "[CV] END max_depth=10, max_features=auto, min_samples_leaf=2, n_estimators=100; total time=   0.2s\n",
            "[CV] END max_depth=10, max_features=auto, min_samples_leaf=2, n_estimators=100; total time=   0.2s\n",
            "[CV] END max_depth=10, max_features=auto, min_samples_leaf=2, n_estimators=100; total time=   0.2s\n",
            "[CV] END max_depth=10, max_features=auto, min_samples_leaf=2, n_estimators=100; total time=   0.2s\n",
            "[CV] END max_depth=10, max_features=auto, min_samples_leaf=2, n_estimators=100; total time=   0.2s\n",
            "[CV] END max_depth=10, max_features=auto, min_samples_leaf=2, n_estimators=200; total time=   0.3s\n",
            "[CV] END max_depth=10, max_features=auto, min_samples_leaf=2, n_estimators=200; total time=   0.3s\n",
            "[CV] END max_depth=10, max_features=auto, min_samples_leaf=2, n_estimators=200; total time=   0.3s\n",
            "[CV] END max_depth=10, max_features=auto, min_samples_leaf=2, n_estimators=200; total time=   0.3s\n",
            "[CV] END max_depth=10, max_features=auto, min_samples_leaf=2, n_estimators=200; total time=   0.3s\n",
            "[CV] END max_depth=10, max_features=auto, min_samples_leaf=2, n_estimators=300; total time=   0.5s\n",
            "[CV] END max_depth=10, max_features=auto, min_samples_leaf=2, n_estimators=300; total time=   0.5s\n",
            "[CV] END max_depth=10, max_features=auto, min_samples_leaf=2, n_estimators=300; total time=   0.5s\n",
            "[CV] END max_depth=10, max_features=auto, min_samples_leaf=2, n_estimators=300; total time=   0.5s\n",
            "[CV] END max_depth=10, max_features=auto, min_samples_leaf=2, n_estimators=300; total time=   0.5s\n",
            "[CV] END max_depth=10, max_features=auto, min_samples_leaf=2, n_estimators=400; total time=   0.6s\n",
            "[CV] END max_depth=10, max_features=auto, min_samples_leaf=2, n_estimators=400; total time=   0.6s\n",
            "[CV] END max_depth=10, max_features=auto, min_samples_leaf=2, n_estimators=400; total time=   0.6s\n",
            "[CV] END max_depth=10, max_features=auto, min_samples_leaf=2, n_estimators=400; total time=   0.6s\n",
            "[CV] END max_depth=10, max_features=auto, min_samples_leaf=2, n_estimators=400; total time=   0.6s\n",
            "[CV] END max_depth=10, max_features=auto, min_samples_leaf=2, n_estimators=500; total time=   0.8s\n",
            "[CV] END max_depth=10, max_features=auto, min_samples_leaf=2, n_estimators=500; total time=   0.8s\n",
            "[CV] END max_depth=10, max_features=auto, min_samples_leaf=2, n_estimators=500; total time=   0.8s\n",
            "[CV] END max_depth=10, max_features=auto, min_samples_leaf=2, n_estimators=500; total time=   0.8s\n",
            "[CV] END max_depth=10, max_features=auto, min_samples_leaf=2, n_estimators=500; total time=   0.8s\n",
            "[CV] END max_depth=10, max_features=auto, min_samples_leaf=5, n_estimators=100; total time=   0.2s\n",
            "[CV] END max_depth=10, max_features=auto, min_samples_leaf=5, n_estimators=100; total time=   0.2s\n",
            "[CV] END max_depth=10, max_features=auto, min_samples_leaf=5, n_estimators=100; total time=   0.2s\n",
            "[CV] END max_depth=10, max_features=auto, min_samples_leaf=5, n_estimators=100; total time=   0.2s\n",
            "[CV] END max_depth=10, max_features=auto, min_samples_leaf=5, n_estimators=100; total time=   0.2s\n",
            "[CV] END max_depth=10, max_features=auto, min_samples_leaf=5, n_estimators=200; total time=   0.3s\n",
            "[CV] END max_depth=10, max_features=auto, min_samples_leaf=5, n_estimators=200; total time=   0.3s\n",
            "[CV] END max_depth=10, max_features=auto, min_samples_leaf=5, n_estimators=200; total time=   0.3s\n",
            "[CV] END max_depth=10, max_features=auto, min_samples_leaf=5, n_estimators=200; total time=   0.3s\n",
            "[CV] END max_depth=10, max_features=auto, min_samples_leaf=5, n_estimators=200; total time=   0.3s\n",
            "[CV] END max_depth=10, max_features=auto, min_samples_leaf=5, n_estimators=300; total time=   0.5s\n",
            "[CV] END max_depth=10, max_features=auto, min_samples_leaf=5, n_estimators=300; total time=   0.5s\n",
            "[CV] END max_depth=10, max_features=auto, min_samples_leaf=5, n_estimators=300; total time=   0.5s\n",
            "[CV] END max_depth=10, max_features=auto, min_samples_leaf=5, n_estimators=300; total time=   0.5s\n",
            "[CV] END max_depth=10, max_features=auto, min_samples_leaf=5, n_estimators=300; total time=   0.5s\n",
            "[CV] END max_depth=10, max_features=auto, min_samples_leaf=5, n_estimators=400; total time=   0.6s\n",
            "[CV] END max_depth=10, max_features=auto, min_samples_leaf=5, n_estimators=400; total time=   0.6s\n",
            "[CV] END max_depth=10, max_features=auto, min_samples_leaf=5, n_estimators=400; total time=   0.6s\n",
            "[CV] END max_depth=10, max_features=auto, min_samples_leaf=5, n_estimators=400; total time=   0.6s\n",
            "[CV] END max_depth=10, max_features=auto, min_samples_leaf=5, n_estimators=400; total time=   0.6s\n",
            "[CV] END max_depth=10, max_features=auto, min_samples_leaf=5, n_estimators=500; total time=   0.8s\n",
            "[CV] END max_depth=10, max_features=auto, min_samples_leaf=5, n_estimators=500; total time=   0.8s\n",
            "[CV] END max_depth=10, max_features=auto, min_samples_leaf=5, n_estimators=500; total time=   0.8s\n",
            "[CV] END max_depth=10, max_features=auto, min_samples_leaf=5, n_estimators=500; total time=   0.8s\n",
            "[CV] END max_depth=10, max_features=auto, min_samples_leaf=5, n_estimators=500; total time=   0.8s\n",
            "[CV] END max_depth=10, max_features=auto, min_samples_leaf=10, n_estimators=100; total time=   0.2s\n",
            "[CV] END max_depth=10, max_features=auto, min_samples_leaf=10, n_estimators=100; total time=   0.2s\n",
            "[CV] END max_depth=10, max_features=auto, min_samples_leaf=10, n_estimators=100; total time=   0.2s\n",
            "[CV] END max_depth=10, max_features=auto, min_samples_leaf=10, n_estimators=100; total time=   0.2s\n",
            "[CV] END max_depth=10, max_features=auto, min_samples_leaf=10, n_estimators=100; total time=   0.2s\n",
            "[CV] END max_depth=10, max_features=auto, min_samples_leaf=10, n_estimators=200; total time=   0.3s\n",
            "[CV] END max_depth=10, max_features=auto, min_samples_leaf=10, n_estimators=200; total time=   0.3s\n",
            "[CV] END max_depth=10, max_features=auto, min_samples_leaf=10, n_estimators=200; total time=   0.3s\n",
            "[CV] END max_depth=10, max_features=auto, min_samples_leaf=10, n_estimators=200; total time=   0.3s\n",
            "[CV] END max_depth=10, max_features=auto, min_samples_leaf=10, n_estimators=200; total time=   0.3s\n",
            "[CV] END max_depth=10, max_features=auto, min_samples_leaf=10, n_estimators=300; total time=   0.5s\n",
            "[CV] END max_depth=10, max_features=auto, min_samples_leaf=10, n_estimators=300; total time=   0.5s\n",
            "[CV] END max_depth=10, max_features=auto, min_samples_leaf=10, n_estimators=300; total time=   0.5s\n",
            "[CV] END max_depth=10, max_features=auto, min_samples_leaf=10, n_estimators=300; total time=   0.5s\n",
            "[CV] END max_depth=10, max_features=auto, min_samples_leaf=10, n_estimators=300; total time=   0.5s\n",
            "[CV] END max_depth=10, max_features=auto, min_samples_leaf=10, n_estimators=400; total time=   0.6s\n",
            "[CV] END max_depth=10, max_features=auto, min_samples_leaf=10, n_estimators=400; total time=   0.6s\n",
            "[CV] END max_depth=10, max_features=auto, min_samples_leaf=10, n_estimators=400; total time=   0.6s\n",
            "[CV] END max_depth=10, max_features=auto, min_samples_leaf=10, n_estimators=400; total time=   0.6s\n",
            "[CV] END max_depth=10, max_features=auto, min_samples_leaf=10, n_estimators=400; total time=   0.6s\n",
            "[CV] END max_depth=10, max_features=auto, min_samples_leaf=10, n_estimators=500; total time=   0.7s\n",
            "[CV] END max_depth=10, max_features=auto, min_samples_leaf=10, n_estimators=500; total time=   0.7s\n",
            "[CV] END max_depth=10, max_features=auto, min_samples_leaf=10, n_estimators=500; total time=   0.7s\n",
            "[CV] END max_depth=10, max_features=auto, min_samples_leaf=10, n_estimators=500; total time=   0.8s\n",
            "[CV] END max_depth=10, max_features=auto, min_samples_leaf=10, n_estimators=500; total time=   0.7s\n",
            "[CV] END max_depth=10, max_features=sqrt, min_samples_leaf=1, n_estimators=100; total time=   0.2s\n",
            "[CV] END max_depth=10, max_features=sqrt, min_samples_leaf=1, n_estimators=100; total time=   0.2s\n",
            "[CV] END max_depth=10, max_features=sqrt, min_samples_leaf=1, n_estimators=100; total time=   0.2s\n",
            "[CV] END max_depth=10, max_features=sqrt, min_samples_leaf=1, n_estimators=100; total time=   0.2s\n",
            "[CV] END max_depth=10, max_features=sqrt, min_samples_leaf=1, n_estimators=100; total time=   0.2s\n",
            "[CV] END max_depth=10, max_features=sqrt, min_samples_leaf=1, n_estimators=200; total time=   0.3s\n",
            "[CV] END max_depth=10, max_features=sqrt, min_samples_leaf=1, n_estimators=200; total time=   0.3s\n",
            "[CV] END max_depth=10, max_features=sqrt, min_samples_leaf=1, n_estimators=200; total time=   0.3s\n",
            "[CV] END max_depth=10, max_features=sqrt, min_samples_leaf=1, n_estimators=200; total time=   0.3s\n",
            "[CV] END max_depth=10, max_features=sqrt, min_samples_leaf=1, n_estimators=200; total time=   0.3s\n",
            "[CV] END max_depth=10, max_features=sqrt, min_samples_leaf=1, n_estimators=300; total time=   0.5s\n",
            "[CV] END max_depth=10, max_features=sqrt, min_samples_leaf=1, n_estimators=300; total time=   0.5s\n",
            "[CV] END max_depth=10, max_features=sqrt, min_samples_leaf=1, n_estimators=300; total time=   0.5s\n",
            "[CV] END max_depth=10, max_features=sqrt, min_samples_leaf=1, n_estimators=300; total time=   0.5s\n",
            "[CV] END max_depth=10, max_features=sqrt, min_samples_leaf=1, n_estimators=300; total time=   0.5s\n",
            "[CV] END max_depth=10, max_features=sqrt, min_samples_leaf=1, n_estimators=400; total time=   0.6s\n",
            "[CV] END max_depth=10, max_features=sqrt, min_samples_leaf=1, n_estimators=400; total time=   0.7s\n",
            "[CV] END max_depth=10, max_features=sqrt, min_samples_leaf=1, n_estimators=400; total time=   0.6s\n",
            "[CV] END max_depth=10, max_features=sqrt, min_samples_leaf=1, n_estimators=400; total time=   0.6s\n",
            "[CV] END max_depth=10, max_features=sqrt, min_samples_leaf=1, n_estimators=400; total time=   0.6s\n",
            "[CV] END max_depth=10, max_features=sqrt, min_samples_leaf=1, n_estimators=500; total time=   0.8s\n",
            "[CV] END max_depth=10, max_features=sqrt, min_samples_leaf=1, n_estimators=500; total time=   0.8s\n",
            "[CV] END max_depth=10, max_features=sqrt, min_samples_leaf=1, n_estimators=500; total time=   0.8s\n",
            "[CV] END max_depth=10, max_features=sqrt, min_samples_leaf=1, n_estimators=500; total time=   0.8s\n",
            "[CV] END max_depth=10, max_features=sqrt, min_samples_leaf=1, n_estimators=500; total time=   0.8s\n",
            "[CV] END max_depth=10, max_features=sqrt, min_samples_leaf=2, n_estimators=100; total time=   0.2s\n",
            "[CV] END max_depth=10, max_features=sqrt, min_samples_leaf=2, n_estimators=100; total time=   0.2s\n",
            "[CV] END max_depth=10, max_features=sqrt, min_samples_leaf=2, n_estimators=100; total time=   0.2s\n",
            "[CV] END max_depth=10, max_features=sqrt, min_samples_leaf=2, n_estimators=100; total time=   0.2s\n",
            "[CV] END max_depth=10, max_features=sqrt, min_samples_leaf=2, n_estimators=100; total time=   0.2s\n",
            "[CV] END max_depth=10, max_features=sqrt, min_samples_leaf=2, n_estimators=200; total time=   0.3s\n",
            "[CV] END max_depth=10, max_features=sqrt, min_samples_leaf=2, n_estimators=200; total time=   0.3s\n",
            "[CV] END max_depth=10, max_features=sqrt, min_samples_leaf=2, n_estimators=200; total time=   0.3s\n",
            "[CV] END max_depth=10, max_features=sqrt, min_samples_leaf=2, n_estimators=200; total time=   0.3s\n",
            "[CV] END max_depth=10, max_features=sqrt, min_samples_leaf=2, n_estimators=200; total time=   0.3s\n",
            "[CV] END max_depth=10, max_features=sqrt, min_samples_leaf=2, n_estimators=300; total time=   0.5s\n",
            "[CV] END max_depth=10, max_features=sqrt, min_samples_leaf=2, n_estimators=300; total time=   0.5s\n",
            "[CV] END max_depth=10, max_features=sqrt, min_samples_leaf=2, n_estimators=300; total time=   0.5s\n",
            "[CV] END max_depth=10, max_features=sqrt, min_samples_leaf=2, n_estimators=300; total time=   0.5s\n",
            "[CV] END max_depth=10, max_features=sqrt, min_samples_leaf=2, n_estimators=300; total time=   0.5s\n",
            "[CV] END max_depth=10, max_features=sqrt, min_samples_leaf=2, n_estimators=400; total time=   0.6s\n",
            "[CV] END max_depth=10, max_features=sqrt, min_samples_leaf=2, n_estimators=400; total time=   0.6s\n",
            "[CV] END max_depth=10, max_features=sqrt, min_samples_leaf=2, n_estimators=400; total time=   0.6s\n",
            "[CV] END max_depth=10, max_features=sqrt, min_samples_leaf=2, n_estimators=400; total time=   0.6s\n",
            "[CV] END max_depth=10, max_features=sqrt, min_samples_leaf=2, n_estimators=400; total time=   0.7s\n",
            "[CV] END max_depth=10, max_features=sqrt, min_samples_leaf=2, n_estimators=500; total time=   0.8s\n",
            "[CV] END max_depth=10, max_features=sqrt, min_samples_leaf=2, n_estimators=500; total time=   0.8s\n",
            "[CV] END max_depth=10, max_features=sqrt, min_samples_leaf=2, n_estimators=500; total time=   0.8s\n",
            "[CV] END max_depth=10, max_features=sqrt, min_samples_leaf=2, n_estimators=500; total time=   0.8s\n",
            "[CV] END max_depth=10, max_features=sqrt, min_samples_leaf=2, n_estimators=500; total time=   0.8s\n",
            "[CV] END max_depth=10, max_features=sqrt, min_samples_leaf=5, n_estimators=100; total time=   0.2s\n",
            "[CV] END max_depth=10, max_features=sqrt, min_samples_leaf=5, n_estimators=100; total time=   0.2s\n",
            "[CV] END max_depth=10, max_features=sqrt, min_samples_leaf=5, n_estimators=100; total time=   0.2s\n",
            "[CV] END max_depth=10, max_features=sqrt, min_samples_leaf=5, n_estimators=100; total time=   0.2s\n",
            "[CV] END max_depth=10, max_features=sqrt, min_samples_leaf=5, n_estimators=100; total time=   0.2s\n",
            "[CV] END max_depth=10, max_features=sqrt, min_samples_leaf=5, n_estimators=200; total time=   0.3s\n",
            "[CV] END max_depth=10, max_features=sqrt, min_samples_leaf=5, n_estimators=200; total time=   0.3s\n",
            "[CV] END max_depth=10, max_features=sqrt, min_samples_leaf=5, n_estimators=200; total time=   0.3s\n",
            "[CV] END max_depth=10, max_features=sqrt, min_samples_leaf=5, n_estimators=200; total time=   0.3s\n",
            "[CV] END max_depth=10, max_features=sqrt, min_samples_leaf=5, n_estimators=200; total time=   0.3s\n",
            "[CV] END max_depth=10, max_features=sqrt, min_samples_leaf=5, n_estimators=300; total time=   0.5s\n",
            "[CV] END max_depth=10, max_features=sqrt, min_samples_leaf=5, n_estimators=300; total time=   0.5s\n",
            "[CV] END max_depth=10, max_features=sqrt, min_samples_leaf=5, n_estimators=300; total time=   0.5s\n",
            "[CV] END max_depth=10, max_features=sqrt, min_samples_leaf=5, n_estimators=300; total time=   0.5s\n",
            "[CV] END max_depth=10, max_features=sqrt, min_samples_leaf=5, n_estimators=300; total time=   0.5s\n",
            "[CV] END max_depth=10, max_features=sqrt, min_samples_leaf=5, n_estimators=400; total time=   0.6s\n",
            "[CV] END max_depth=10, max_features=sqrt, min_samples_leaf=5, n_estimators=400; total time=   0.6s\n",
            "[CV] END max_depth=10, max_features=sqrt, min_samples_leaf=5, n_estimators=400; total time=   0.6s\n",
            "[CV] END max_depth=10, max_features=sqrt, min_samples_leaf=5, n_estimators=400; total time=   0.6s\n",
            "[CV] END max_depth=10, max_features=sqrt, min_samples_leaf=5, n_estimators=400; total time=   0.6s\n",
            "[CV] END max_depth=10, max_features=sqrt, min_samples_leaf=5, n_estimators=500; total time=   0.8s\n",
            "[CV] END max_depth=10, max_features=sqrt, min_samples_leaf=5, n_estimators=500; total time=   0.8s\n",
            "[CV] END max_depth=10, max_features=sqrt, min_samples_leaf=5, n_estimators=500; total time=   0.8s\n",
            "[CV] END max_depth=10, max_features=sqrt, min_samples_leaf=5, n_estimators=500; total time=   0.8s\n",
            "[CV] END max_depth=10, max_features=sqrt, min_samples_leaf=5, n_estimators=500; total time=   0.8s\n",
            "[CV] END max_depth=10, max_features=sqrt, min_samples_leaf=10, n_estimators=100; total time=   0.1s\n",
            "[CV] END max_depth=10, max_features=sqrt, min_samples_leaf=10, n_estimators=100; total time=   0.2s\n",
            "[CV] END max_depth=10, max_features=sqrt, min_samples_leaf=10, n_estimators=100; total time=   0.2s\n",
            "[CV] END max_depth=10, max_features=sqrt, min_samples_leaf=10, n_estimators=100; total time=   0.2s\n",
            "[CV] END max_depth=10, max_features=sqrt, min_samples_leaf=10, n_estimators=100; total time=   0.2s\n",
            "[CV] END max_depth=10, max_features=sqrt, min_samples_leaf=10, n_estimators=200; total time=   0.3s\n",
            "[CV] END max_depth=10, max_features=sqrt, min_samples_leaf=10, n_estimators=200; total time=   0.3s\n",
            "[CV] END max_depth=10, max_features=sqrt, min_samples_leaf=10, n_estimators=200; total time=   0.3s\n",
            "[CV] END max_depth=10, max_features=sqrt, min_samples_leaf=10, n_estimators=200; total time=   0.3s\n",
            "[CV] END max_depth=10, max_features=sqrt, min_samples_leaf=10, n_estimators=200; total time=   0.3s\n",
            "[CV] END max_depth=10, max_features=sqrt, min_samples_leaf=10, n_estimators=300; total time=   0.4s\n",
            "[CV] END max_depth=10, max_features=sqrt, min_samples_leaf=10, n_estimators=300; total time=   0.4s\n",
            "[CV] END max_depth=10, max_features=sqrt, min_samples_leaf=10, n_estimators=300; total time=   0.5s\n",
            "[CV] END max_depth=10, max_features=sqrt, min_samples_leaf=10, n_estimators=300; total time=   0.4s\n",
            "[CV] END max_depth=10, max_features=sqrt, min_samples_leaf=10, n_estimators=300; total time=   0.4s\n",
            "[CV] END max_depth=10, max_features=sqrt, min_samples_leaf=10, n_estimators=400; total time=   0.6s\n",
            "[CV] END max_depth=10, max_features=sqrt, min_samples_leaf=10, n_estimators=400; total time=   0.6s\n",
            "[CV] END max_depth=10, max_features=sqrt, min_samples_leaf=10, n_estimators=400; total time=   0.6s\n",
            "[CV] END max_depth=10, max_features=sqrt, min_samples_leaf=10, n_estimators=400; total time=   0.6s\n",
            "[CV] END max_depth=10, max_features=sqrt, min_samples_leaf=10, n_estimators=400; total time=   0.6s\n",
            "[CV] END max_depth=10, max_features=sqrt, min_samples_leaf=10, n_estimators=500; total time=   0.7s\n",
            "[CV] END max_depth=10, max_features=sqrt, min_samples_leaf=10, n_estimators=500; total time=   0.7s\n",
            "[CV] END max_depth=10, max_features=sqrt, min_samples_leaf=10, n_estimators=500; total time=   0.7s\n",
            "[CV] END max_depth=10, max_features=sqrt, min_samples_leaf=10, n_estimators=500; total time=   0.7s\n",
            "[CV] END max_depth=10, max_features=sqrt, min_samples_leaf=10, n_estimators=500; total time=   0.7s\n",
            "[CV] END max_depth=20, max_features=auto, min_samples_leaf=1, n_estimators=100; total time=   0.2s\n",
            "[CV] END max_depth=20, max_features=auto, min_samples_leaf=1, n_estimators=100; total time=   0.2s\n",
            "[CV] END max_depth=20, max_features=auto, min_samples_leaf=1, n_estimators=100; total time=   0.2s\n",
            "[CV] END max_depth=20, max_features=auto, min_samples_leaf=1, n_estimators=100; total time=   0.2s\n",
            "[CV] END max_depth=20, max_features=auto, min_samples_leaf=1, n_estimators=100; total time=   0.2s\n",
            "[CV] END max_depth=20, max_features=auto, min_samples_leaf=1, n_estimators=200; total time=   0.3s\n",
            "[CV] END max_depth=20, max_features=auto, min_samples_leaf=1, n_estimators=200; total time=   0.3s\n",
            "[CV] END max_depth=20, max_features=auto, min_samples_leaf=1, n_estimators=200; total time=   0.3s\n",
            "[CV] END max_depth=20, max_features=auto, min_samples_leaf=1, n_estimators=200; total time=   0.3s\n",
            "[CV] END max_depth=20, max_features=auto, min_samples_leaf=1, n_estimators=200; total time=   0.3s\n",
            "[CV] END max_depth=20, max_features=auto, min_samples_leaf=1, n_estimators=300; total time=   0.5s\n",
            "[CV] END max_depth=20, max_features=auto, min_samples_leaf=1, n_estimators=300; total time=   0.5s\n",
            "[CV] END max_depth=20, max_features=auto, min_samples_leaf=1, n_estimators=300; total time=   0.5s\n",
            "[CV] END max_depth=20, max_features=auto, min_samples_leaf=1, n_estimators=300; total time=   0.5s\n",
            "[CV] END max_depth=20, max_features=auto, min_samples_leaf=1, n_estimators=300; total time=   0.5s\n",
            "[CV] END max_depth=20, max_features=auto, min_samples_leaf=1, n_estimators=400; total time=   0.7s\n",
            "[CV] END max_depth=20, max_features=auto, min_samples_leaf=1, n_estimators=400; total time=   0.7s\n",
            "[CV] END max_depth=20, max_features=auto, min_samples_leaf=1, n_estimators=400; total time=   0.7s\n",
            "[CV] END max_depth=20, max_features=auto, min_samples_leaf=1, n_estimators=400; total time=   0.6s\n",
            "[CV] END max_depth=20, max_features=auto, min_samples_leaf=1, n_estimators=400; total time=   0.6s\n",
            "[CV] END max_depth=20, max_features=auto, min_samples_leaf=1, n_estimators=500; total time=   0.8s\n",
            "[CV] END max_depth=20, max_features=auto, min_samples_leaf=1, n_estimators=500; total time=   0.8s\n",
            "[CV] END max_depth=20, max_features=auto, min_samples_leaf=1, n_estimators=500; total time=   0.8s\n",
            "[CV] END max_depth=20, max_features=auto, min_samples_leaf=1, n_estimators=500; total time=   0.8s\n",
            "[CV] END max_depth=20, max_features=auto, min_samples_leaf=1, n_estimators=500; total time=   0.8s\n",
            "[CV] END max_depth=20, max_features=auto, min_samples_leaf=2, n_estimators=100; total time=   0.2s\n",
            "[CV] END max_depth=20, max_features=auto, min_samples_leaf=2, n_estimators=100; total time=   0.2s\n",
            "[CV] END max_depth=20, max_features=auto, min_samples_leaf=2, n_estimators=100; total time=   0.2s\n",
            "[CV] END max_depth=20, max_features=auto, min_samples_leaf=2, n_estimators=100; total time=   0.2s\n",
            "[CV] END max_depth=20, max_features=auto, min_samples_leaf=2, n_estimators=100; total time=   0.2s\n",
            "[CV] END max_depth=20, max_features=auto, min_samples_leaf=2, n_estimators=200; total time=   0.3s\n",
            "[CV] END max_depth=20, max_features=auto, min_samples_leaf=2, n_estimators=200; total time=   0.3s\n",
            "[CV] END max_depth=20, max_features=auto, min_samples_leaf=2, n_estimators=200; total time=   0.3s\n",
            "[CV] END max_depth=20, max_features=auto, min_samples_leaf=2, n_estimators=200; total time=   0.3s\n",
            "[CV] END max_depth=20, max_features=auto, min_samples_leaf=2, n_estimators=200; total time=   0.3s\n",
            "[CV] END max_depth=20, max_features=auto, min_samples_leaf=2, n_estimators=300; total time=   0.5s\n",
            "[CV] END max_depth=20, max_features=auto, min_samples_leaf=2, n_estimators=300; total time=   0.5s\n",
            "[CV] END max_depth=20, max_features=auto, min_samples_leaf=2, n_estimators=300; total time=   0.5s\n",
            "[CV] END max_depth=20, max_features=auto, min_samples_leaf=2, n_estimators=300; total time=   0.5s\n",
            "[CV] END max_depth=20, max_features=auto, min_samples_leaf=2, n_estimators=300; total time=   0.5s\n",
            "[CV] END max_depth=20, max_features=auto, min_samples_leaf=2, n_estimators=400; total time=   0.6s\n",
            "[CV] END max_depth=20, max_features=auto, min_samples_leaf=2, n_estimators=400; total time=   0.7s\n",
            "[CV] END max_depth=20, max_features=auto, min_samples_leaf=2, n_estimators=400; total time=   0.7s\n",
            "[CV] END max_depth=20, max_features=auto, min_samples_leaf=2, n_estimators=400; total time=   0.6s\n",
            "[CV] END max_depth=20, max_features=auto, min_samples_leaf=2, n_estimators=400; total time=   0.6s\n",
            "[CV] END max_depth=20, max_features=auto, min_samples_leaf=2, n_estimators=500; total time=   0.8s\n",
            "[CV] END max_depth=20, max_features=auto, min_samples_leaf=2, n_estimators=500; total time=   0.8s\n",
            "[CV] END max_depth=20, max_features=auto, min_samples_leaf=2, n_estimators=500; total time=   0.8s\n",
            "[CV] END max_depth=20, max_features=auto, min_samples_leaf=2, n_estimators=500; total time=   0.8s\n",
            "[CV] END max_depth=20, max_features=auto, min_samples_leaf=2, n_estimators=500; total time=   0.8s\n",
            "[CV] END max_depth=20, max_features=auto, min_samples_leaf=5, n_estimators=100; total time=   0.2s\n",
            "[CV] END max_depth=20, max_features=auto, min_samples_leaf=5, n_estimators=100; total time=   0.2s\n",
            "[CV] END max_depth=20, max_features=auto, min_samples_leaf=5, n_estimators=100; total time=   0.2s\n",
            "[CV] END max_depth=20, max_features=auto, min_samples_leaf=5, n_estimators=100; total time=   0.2s\n",
            "[CV] END max_depth=20, max_features=auto, min_samples_leaf=5, n_estimators=100; total time=   0.2s\n",
            "[CV] END max_depth=20, max_features=auto, min_samples_leaf=5, n_estimators=200; total time=   0.3s\n",
            "[CV] END max_depth=20, max_features=auto, min_samples_leaf=5, n_estimators=200; total time=   0.3s\n",
            "[CV] END max_depth=20, max_features=auto, min_samples_leaf=5, n_estimators=200; total time=   0.3s\n",
            "[CV] END max_depth=20, max_features=auto, min_samples_leaf=5, n_estimators=200; total time=   0.3s\n",
            "[CV] END max_depth=20, max_features=auto, min_samples_leaf=5, n_estimators=200; total time=   0.3s\n",
            "[CV] END max_depth=20, max_features=auto, min_samples_leaf=5, n_estimators=300; total time=   0.5s\n",
            "[CV] END max_depth=20, max_features=auto, min_samples_leaf=5, n_estimators=300; total time=   0.5s\n",
            "[CV] END max_depth=20, max_features=auto, min_samples_leaf=5, n_estimators=300; total time=   0.4s\n",
            "[CV] END max_depth=20, max_features=auto, min_samples_leaf=5, n_estimators=300; total time=   0.5s\n",
            "[CV] END max_depth=20, max_features=auto, min_samples_leaf=5, n_estimators=300; total time=   0.5s\n",
            "[CV] END max_depth=20, max_features=auto, min_samples_leaf=5, n_estimators=400; total time=   0.6s\n",
            "[CV] END max_depth=20, max_features=auto, min_samples_leaf=5, n_estimators=400; total time=   0.6s\n",
            "[CV] END max_depth=20, max_features=auto, min_samples_leaf=5, n_estimators=400; total time=   0.6s\n",
            "[CV] END max_depth=20, max_features=auto, min_samples_leaf=5, n_estimators=400; total time=   0.6s\n",
            "[CV] END max_depth=20, max_features=auto, min_samples_leaf=5, n_estimators=400; total time=   0.6s\n",
            "[CV] END max_depth=20, max_features=auto, min_samples_leaf=5, n_estimators=500; total time=   0.8s\n",
            "[CV] END max_depth=20, max_features=auto, min_samples_leaf=5, n_estimators=500; total time=   0.8s\n",
            "[CV] END max_depth=20, max_features=auto, min_samples_leaf=5, n_estimators=500; total time=   0.8s\n",
            "[CV] END max_depth=20, max_features=auto, min_samples_leaf=5, n_estimators=500; total time=   0.8s\n",
            "[CV] END max_depth=20, max_features=auto, min_samples_leaf=5, n_estimators=500; total time=   0.8s\n",
            "[CV] END max_depth=20, max_features=auto, min_samples_leaf=10, n_estimators=100; total time=   0.2s\n",
            "[CV] END max_depth=20, max_features=auto, min_samples_leaf=10, n_estimators=100; total time=   0.2s\n",
            "[CV] END max_depth=20, max_features=auto, min_samples_leaf=10, n_estimators=100; total time=   0.1s\n",
            "[CV] END max_depth=20, max_features=auto, min_samples_leaf=10, n_estimators=100; total time=   0.2s\n",
            "[CV] END max_depth=20, max_features=auto, min_samples_leaf=10, n_estimators=100; total time=   0.2s\n",
            "[CV] END max_depth=20, max_features=auto, min_samples_leaf=10, n_estimators=200; total time=   0.3s\n",
            "[CV] END max_depth=20, max_features=auto, min_samples_leaf=10, n_estimators=200; total time=   0.3s\n",
            "[CV] END max_depth=20, max_features=auto, min_samples_leaf=10, n_estimators=200; total time=   0.3s\n",
            "[CV] END max_depth=20, max_features=auto, min_samples_leaf=10, n_estimators=200; total time=   0.3s\n",
            "[CV] END max_depth=20, max_features=auto, min_samples_leaf=10, n_estimators=200; total time=   0.3s\n",
            "[CV] END max_depth=20, max_features=auto, min_samples_leaf=10, n_estimators=300; total time=   0.4s\n",
            "[CV] END max_depth=20, max_features=auto, min_samples_leaf=10, n_estimators=300; total time=   0.4s\n",
            "[CV] END max_depth=20, max_features=auto, min_samples_leaf=10, n_estimators=300; total time=   0.4s\n",
            "[CV] END max_depth=20, max_features=auto, min_samples_leaf=10, n_estimators=300; total time=   0.6s\n",
            "[CV] END max_depth=20, max_features=auto, min_samples_leaf=10, n_estimators=300; total time=   0.4s\n",
            "[CV] END max_depth=20, max_features=auto, min_samples_leaf=10, n_estimators=400; total time=   0.6s\n",
            "[CV] END max_depth=20, max_features=auto, min_samples_leaf=10, n_estimators=400; total time=   0.6s\n",
            "[CV] END max_depth=20, max_features=auto, min_samples_leaf=10, n_estimators=400; total time=   0.6s\n",
            "[CV] END max_depth=20, max_features=auto, min_samples_leaf=10, n_estimators=400; total time=   0.6s\n",
            "[CV] END max_depth=20, max_features=auto, min_samples_leaf=10, n_estimators=400; total time=   0.6s\n",
            "[CV] END max_depth=20, max_features=auto, min_samples_leaf=10, n_estimators=500; total time=   0.8s\n",
            "[CV] END max_depth=20, max_features=auto, min_samples_leaf=10, n_estimators=500; total time=   0.8s\n",
            "[CV] END max_depth=20, max_features=auto, min_samples_leaf=10, n_estimators=500; total time=   0.8s\n",
            "[CV] END max_depth=20, max_features=auto, min_samples_leaf=10, n_estimators=500; total time=   0.7s\n",
            "[CV] END max_depth=20, max_features=auto, min_samples_leaf=10, n_estimators=500; total time=   0.8s\n",
            "[CV] END max_depth=20, max_features=sqrt, min_samples_leaf=1, n_estimators=100; total time=   0.2s\n",
            "[CV] END max_depth=20, max_features=sqrt, min_samples_leaf=1, n_estimators=100; total time=   0.2s\n",
            "[CV] END max_depth=20, max_features=sqrt, min_samples_leaf=1, n_estimators=100; total time=   0.2s\n",
            "[CV] END max_depth=20, max_features=sqrt, min_samples_leaf=1, n_estimators=100; total time=   0.2s\n",
            "[CV] END max_depth=20, max_features=sqrt, min_samples_leaf=1, n_estimators=100; total time=   0.2s\n",
            "[CV] END max_depth=20, max_features=sqrt, min_samples_leaf=1, n_estimators=200; total time=   0.3s\n",
            "[CV] END max_depth=20, max_features=sqrt, min_samples_leaf=1, n_estimators=200; total time=   0.3s\n",
            "[CV] END max_depth=20, max_features=sqrt, min_samples_leaf=1, n_estimators=200; total time=   0.3s\n",
            "[CV] END max_depth=20, max_features=sqrt, min_samples_leaf=1, n_estimators=200; total time=   0.3s\n",
            "[CV] END max_depth=20, max_features=sqrt, min_samples_leaf=1, n_estimators=200; total time=   0.3s\n",
            "[CV] END max_depth=20, max_features=sqrt, min_samples_leaf=1, n_estimators=300; total time=   0.5s\n",
            "[CV] END max_depth=20, max_features=sqrt, min_samples_leaf=1, n_estimators=300; total time=   0.5s\n",
            "[CV] END max_depth=20, max_features=sqrt, min_samples_leaf=1, n_estimators=300; total time=   0.5s\n",
            "[CV] END max_depth=20, max_features=sqrt, min_samples_leaf=1, n_estimators=300; total time=   0.5s\n",
            "[CV] END max_depth=20, max_features=sqrt, min_samples_leaf=1, n_estimators=300; total time=   0.5s\n",
            "[CV] END max_depth=20, max_features=sqrt, min_samples_leaf=1, n_estimators=400; total time=   0.7s\n",
            "[CV] END max_depth=20, max_features=sqrt, min_samples_leaf=1, n_estimators=400; total time=   0.7s\n",
            "[CV] END max_depth=20, max_features=sqrt, min_samples_leaf=1, n_estimators=400; total time=   0.7s\n",
            "[CV] END max_depth=20, max_features=sqrt, min_samples_leaf=1, n_estimators=400; total time=   0.7s\n",
            "[CV] END max_depth=20, max_features=sqrt, min_samples_leaf=1, n_estimators=400; total time=   0.7s\n",
            "[CV] END max_depth=20, max_features=sqrt, min_samples_leaf=1, n_estimators=500; total time=   0.8s\n",
            "[CV] END max_depth=20, max_features=sqrt, min_samples_leaf=1, n_estimators=500; total time=   0.8s\n",
            "[CV] END max_depth=20, max_features=sqrt, min_samples_leaf=1, n_estimators=500; total time=   0.8s\n",
            "[CV] END max_depth=20, max_features=sqrt, min_samples_leaf=1, n_estimators=500; total time=   0.8s\n",
            "[CV] END max_depth=20, max_features=sqrt, min_samples_leaf=1, n_estimators=500; total time=   0.8s\n",
            "[CV] END max_depth=20, max_features=sqrt, min_samples_leaf=2, n_estimators=100; total time=   0.2s\n",
            "[CV] END max_depth=20, max_features=sqrt, min_samples_leaf=2, n_estimators=100; total time=   0.2s\n",
            "[CV] END max_depth=20, max_features=sqrt, min_samples_leaf=2, n_estimators=100; total time=   0.2s\n",
            "[CV] END max_depth=20, max_features=sqrt, min_samples_leaf=2, n_estimators=100; total time=   0.2s\n",
            "[CV] END max_depth=20, max_features=sqrt, min_samples_leaf=2, n_estimators=100; total time=   0.2s\n",
            "[CV] END max_depth=20, max_features=sqrt, min_samples_leaf=2, n_estimators=200; total time=   0.3s\n",
            "[CV] END max_depth=20, max_features=sqrt, min_samples_leaf=2, n_estimators=200; total time=   0.3s\n",
            "[CV] END max_depth=20, max_features=sqrt, min_samples_leaf=2, n_estimators=200; total time=   0.3s\n",
            "[CV] END max_depth=20, max_features=sqrt, min_samples_leaf=2, n_estimators=200; total time=   0.3s\n",
            "[CV] END max_depth=20, max_features=sqrt, min_samples_leaf=2, n_estimators=200; total time=   0.3s\n",
            "[CV] END max_depth=20, max_features=sqrt, min_samples_leaf=2, n_estimators=300; total time=   0.5s\n",
            "[CV] END max_depth=20, max_features=sqrt, min_samples_leaf=2, n_estimators=300; total time=   0.5s\n",
            "[CV] END max_depth=20, max_features=sqrt, min_samples_leaf=2, n_estimators=300; total time=   0.5s\n",
            "[CV] END max_depth=20, max_features=sqrt, min_samples_leaf=2, n_estimators=300; total time=   0.5s\n",
            "[CV] END max_depth=20, max_features=sqrt, min_samples_leaf=2, n_estimators=300; total time=   0.5s\n",
            "[CV] END max_depth=20, max_features=sqrt, min_samples_leaf=2, n_estimators=400; total time=   0.6s\n",
            "[CV] END max_depth=20, max_features=sqrt, min_samples_leaf=2, n_estimators=400; total time=   0.7s\n",
            "[CV] END max_depth=20, max_features=sqrt, min_samples_leaf=2, n_estimators=400; total time=   0.6s\n",
            "[CV] END max_depth=20, max_features=sqrt, min_samples_leaf=2, n_estimators=400; total time=   0.6s\n",
            "[CV] END max_depth=20, max_features=sqrt, min_samples_leaf=2, n_estimators=400; total time=   0.6s\n",
            "[CV] END max_depth=20, max_features=sqrt, min_samples_leaf=2, n_estimators=500; total time=   0.8s\n",
            "[CV] END max_depth=20, max_features=sqrt, min_samples_leaf=2, n_estimators=500; total time=   0.8s\n",
            "[CV] END max_depth=20, max_features=sqrt, min_samples_leaf=2, n_estimators=500; total time=   0.8s\n",
            "[CV] END max_depth=20, max_features=sqrt, min_samples_leaf=2, n_estimators=500; total time=   0.8s\n",
            "[CV] END max_depth=20, max_features=sqrt, min_samples_leaf=2, n_estimators=500; total time=   0.8s\n",
            "[CV] END max_depth=20, max_features=sqrt, min_samples_leaf=5, n_estimators=100; total time=   0.2s\n",
            "[CV] END max_depth=20, max_features=sqrt, min_samples_leaf=5, n_estimators=100; total time=   0.2s\n",
            "[CV] END max_depth=20, max_features=sqrt, min_samples_leaf=5, n_estimators=100; total time=   0.2s\n",
            "[CV] END max_depth=20, max_features=sqrt, min_samples_leaf=5, n_estimators=100; total time=   0.2s\n",
            "[CV] END max_depth=20, max_features=sqrt, min_samples_leaf=5, n_estimators=100; total time=   0.2s\n",
            "[CV] END max_depth=20, max_features=sqrt, min_samples_leaf=5, n_estimators=200; total time=   0.3s\n",
            "[CV] END max_depth=20, max_features=sqrt, min_samples_leaf=5, n_estimators=200; total time=   0.3s\n",
            "[CV] END max_depth=20, max_features=sqrt, min_samples_leaf=5, n_estimators=200; total time=   0.3s\n",
            "[CV] END max_depth=20, max_features=sqrt, min_samples_leaf=5, n_estimators=200; total time=   0.3s\n",
            "[CV] END max_depth=20, max_features=sqrt, min_samples_leaf=5, n_estimators=200; total time=   0.3s\n",
            "[CV] END max_depth=20, max_features=sqrt, min_samples_leaf=5, n_estimators=300; total time=   0.5s\n",
            "[CV] END max_depth=20, max_features=sqrt, min_samples_leaf=5, n_estimators=300; total time=   0.5s\n",
            "[CV] END max_depth=20, max_features=sqrt, min_samples_leaf=5, n_estimators=300; total time=   0.5s\n",
            "[CV] END max_depth=20, max_features=sqrt, min_samples_leaf=5, n_estimators=300; total time=   0.5s\n",
            "[CV] END max_depth=20, max_features=sqrt, min_samples_leaf=5, n_estimators=300; total time=   0.5s\n",
            "[CV] END max_depth=20, max_features=sqrt, min_samples_leaf=5, n_estimators=400; total time=   0.6s\n",
            "[CV] END max_depth=20, max_features=sqrt, min_samples_leaf=5, n_estimators=400; total time=   0.6s\n",
            "[CV] END max_depth=20, max_features=sqrt, min_samples_leaf=5, n_estimators=400; total time=   0.6s\n",
            "[CV] END max_depth=20, max_features=sqrt, min_samples_leaf=5, n_estimators=400; total time=   0.6s\n",
            "[CV] END max_depth=20, max_features=sqrt, min_samples_leaf=5, n_estimators=400; total time=   0.6s\n",
            "[CV] END max_depth=20, max_features=sqrt, min_samples_leaf=5, n_estimators=500; total time=   0.7s\n",
            "[CV] END max_depth=20, max_features=sqrt, min_samples_leaf=5, n_estimators=500; total time=   0.8s\n",
            "[CV] END max_depth=20, max_features=sqrt, min_samples_leaf=5, n_estimators=500; total time=   0.8s\n",
            "[CV] END max_depth=20, max_features=sqrt, min_samples_leaf=5, n_estimators=500; total time=   0.8s\n",
            "[CV] END max_depth=20, max_features=sqrt, min_samples_leaf=5, n_estimators=500; total time=   0.8s\n",
            "[CV] END max_depth=20, max_features=sqrt, min_samples_leaf=10, n_estimators=100; total time=   0.2s\n",
            "[CV] END max_depth=20, max_features=sqrt, min_samples_leaf=10, n_estimators=100; total time=   0.2s\n",
            "[CV] END max_depth=20, max_features=sqrt, min_samples_leaf=10, n_estimators=100; total time=   0.2s\n",
            "[CV] END max_depth=20, max_features=sqrt, min_samples_leaf=10, n_estimators=100; total time=   0.2s\n",
            "[CV] END max_depth=20, max_features=sqrt, min_samples_leaf=10, n_estimators=100; total time=   0.2s\n",
            "[CV] END max_depth=20, max_features=sqrt, min_samples_leaf=10, n_estimators=200; total time=   0.3s\n",
            "[CV] END max_depth=20, max_features=sqrt, min_samples_leaf=10, n_estimators=200; total time=   0.3s\n",
            "[CV] END max_depth=20, max_features=sqrt, min_samples_leaf=10, n_estimators=200; total time=   0.3s\n",
            "[CV] END max_depth=20, max_features=sqrt, min_samples_leaf=10, n_estimators=200; total time=   0.3s\n",
            "[CV] END max_depth=20, max_features=sqrt, min_samples_leaf=10, n_estimators=200; total time=   0.3s\n",
            "[CV] END max_depth=20, max_features=sqrt, min_samples_leaf=10, n_estimators=300; total time=   0.4s\n",
            "[CV] END max_depth=20, max_features=sqrt, min_samples_leaf=10, n_estimators=300; total time=   0.5s\n",
            "[CV] END max_depth=20, max_features=sqrt, min_samples_leaf=10, n_estimators=300; total time=   0.4s\n",
            "[CV] END max_depth=20, max_features=sqrt, min_samples_leaf=10, n_estimators=300; total time=   0.4s\n",
            "[CV] END max_depth=20, max_features=sqrt, min_samples_leaf=10, n_estimators=300; total time=   0.4s\n",
            "[CV] END max_depth=20, max_features=sqrt, min_samples_leaf=10, n_estimators=400; total time=   0.6s\n",
            "[CV] END max_depth=20, max_features=sqrt, min_samples_leaf=10, n_estimators=400; total time=   0.6s\n",
            "[CV] END max_depth=20, max_features=sqrt, min_samples_leaf=10, n_estimators=400; total time=   0.6s\n",
            "[CV] END max_depth=20, max_features=sqrt, min_samples_leaf=10, n_estimators=400; total time=   0.6s\n",
            "[CV] END max_depth=20, max_features=sqrt, min_samples_leaf=10, n_estimators=400; total time=   0.6s\n",
            "[CV] END max_depth=20, max_features=sqrt, min_samples_leaf=10, n_estimators=500; total time=   0.7s\n",
            "[CV] END max_depth=20, max_features=sqrt, min_samples_leaf=10, n_estimators=500; total time=   0.7s\n",
            "[CV] END max_depth=20, max_features=sqrt, min_samples_leaf=10, n_estimators=500; total time=   0.8s\n",
            "[CV] END max_depth=20, max_features=sqrt, min_samples_leaf=10, n_estimators=500; total time=   0.7s\n",
            "[CV] END max_depth=20, max_features=sqrt, min_samples_leaf=10, n_estimators=500; total time=   0.7s\n"
          ]
        },
        {
          "output_type": "execute_result",
          "data": {
            "text/plain": [
              "GridSearchCV(cv=5, estimator=RandomForestClassifier(random_state=42), n_jobs=1,\n",
              "             param_grid={'max_depth': [2, 3, 5, 10, 20],\n",
              "                         'max_features': ['auto', 'sqrt'],\n",
              "                         'min_samples_leaf': [1, 2, 5, 10],\n",
              "                         'n_estimators': [100, 200, 300, 400, 500]},\n",
              "             scoring='neg_mean_squared_error', verbose=2)"
            ]
          },
          "metadata": {},
          "execution_count": 603
        }
      ]
    },
    {
      "cell_type": "code",
      "source": [
        "rf_gridCV.best_params_"
      ],
      "metadata": {
        "colab": {
          "base_uri": "https://localhost:8080/"
        },
        "id": "CeglnqECg9MC",
        "outputId": "53d69b04-e56c-4ad8-cd54-15e81ff76321"
      },
      "execution_count": null,
      "outputs": [
        {
          "output_type": "execute_result",
          "data": {
            "text/plain": [
              "{'max_depth': 2,\n",
              " 'max_features': 'auto',\n",
              " 'min_samples_leaf': 1,\n",
              " 'n_estimators': 100}"
            ]
          },
          "metadata": {},
          "execution_count": 604
        }
      ]
    },
    {
      "cell_type": "code",
      "source": [
        "#####################################################\n",
        "# rf_gridCV = RandomForestClassifier(n_estimators = 100, max_depth = 2, min_samples_leaf = 1, max_features = 'auto', random_state = 42)"
      ],
      "metadata": {
        "id": "5DuyX85fRHNg"
      },
      "execution_count": null,
      "outputs": []
    },
    {
      "cell_type": "code",
      "source": [
        "#######################################################\n",
        "# rf_gridCV.fit(x_train, y_train)"
      ],
      "metadata": {
        "colab": {
          "base_uri": "https://localhost:8080/"
        },
        "id": "WLBlRh9RRcnw",
        "outputId": "43d1c773-d312-4468-bdb7-9fe2712bdf06"
      },
      "execution_count": null,
      "outputs": [
        {
          "output_type": "execute_result",
          "data": {
            "text/plain": [
              "RandomForestClassifier(max_depth=2, min_samples_leaf=5, random_state=42)"
            ]
          },
          "metadata": {},
          "execution_count": 350
        }
      ]
    },
    {
      "cell_type": "code",
      "source": [
        "# predictions on test set\n",
        "rf_test_pred = rf_gridCV.predict(x_test)"
      ],
      "metadata": {
        "id": "5x81VUtLhBap"
      },
      "execution_count": null,
      "outputs": []
    },
    {
      "cell_type": "code",
      "source": [
        "# predictions on train set\n",
        "rf_train_pred = rf_gridCV.predict(x_train)"
      ],
      "metadata": {
        "id": "CGp9WQS2xRHj"
      },
      "execution_count": null,
      "outputs": []
    },
    {
      "cell_type": "code",
      "source": [
        "# accuracy of Random forest classifier model using train set\n",
        "rf_accuracy = accuracy_score(y_train, rf_train_pred)\n",
        "rf = round(rf_accuracy*100, 2)\n",
        "rf"
      ],
      "metadata": {
        "colab": {
          "base_uri": "https://localhost:8080/"
        },
        "id": "ip7yc6eyRj2Q",
        "outputId": "7030efac-f1d0-43f3-ea03-cbd4ba4ebb88"
      },
      "execution_count": null,
      "outputs": [
        {
          "output_type": "execute_result",
          "data": {
            "text/plain": [
              "81.19"
            ]
          },
          "metadata": {},
          "execution_count": 607
        }
      ]
    },
    {
      "cell_type": "code",
      "source": [
        "# without considering test set \n",
        "# rf_accuracy = accuracy_score(y_test, rf_pred)\n",
        "# rf_accuracy"
      ],
      "metadata": {
        "id": "OP-Zq5pMhJQs"
      },
      "execution_count": null,
      "outputs": []
    },
    {
      "cell_type": "code",
      "source": [
        "# rf_df = pd.DataFrame({'Actual':y_train, 'Predicted':rf_train_pred})\n",
        "# sns.heatmap(rf_df.corr(), annot=True, cmap='Greens')"
      ],
      "metadata": {
        "id": "efeumBwhSXdr"
      },
      "execution_count": null,
      "outputs": []
    },
    {
      "cell_type": "markdown",
      "source": [
        "##Q9.\n",
        "9. Which model are you going to choose and define the reason for going with the same model?\n",
        "\n",
        "* lor <- 81.35%\n",
        "* rf <- 81.19%\n",
        "* nb <- 80.69%\n",
        "* dc <- 79.87%\n",
        "* svc <- 69.47%\n",
        "\n",
        "**Logistic regression model gives the best model with the highest accuracy of 81.35%. Overall all the models are giving an accuracy closer to 70%.**"
      ],
      "metadata": {
        "id": "6_N6w8EpyveV"
      }
    },
    {
      "cell_type": "markdown",
      "source": [
        "##Q12.\n",
        "12. What's the accuracy of your model?\n",
        "\n",
        "> 0.8135313531353136\n"
      ],
      "metadata": {
        "id": "ZwxPgWntzf73"
      }
    },
    {
      "cell_type": "markdown",
      "source": [
        "##Q11.\n",
        "11. Compare the Actual results with the Predicted results"
      ],
      "metadata": {
        "id": "SAWVbm-2zT4o"
      }
    },
    {
      "cell_type": "markdown",
      "source": [
        "**The actual values of the target variable is not given in the test set. Therefore, the predicted test values cannot be compared with its actual ones.**\n",
        "\n",
        "**Instead, the training set values can be compared.**"
      ],
      "metadata": {
        "id": "9gCbmlL9xk4D"
      }
    },
    {
      "cell_type": "code",
      "source": [
        "# Actual Vs Predicted comparison\n",
        "lor_df = pd.DataFrame({'Actual':y_train, 'Predicted':lor_train_pred})\n",
        "lor_df.head(10)"
      ],
      "metadata": {
        "id": "OTKk5fFJhVmI",
        "colab": {
          "base_uri": "https://localhost:8080/",
          "height": 363
        },
        "outputId": "c1d16953-1a61-4eab-f8ca-b5a54f289e9b"
      },
      "execution_count": null,
      "outputs": [
        {
          "output_type": "execute_result",
          "data": {
            "text/html": [
              "\n",
              "  <div id=\"df-9816c501-3e3f-4224-a7b7-1c39e9f756b3\">\n",
              "    <div class=\"colab-df-container\">\n",
              "      <div>\n",
              "<style scoped>\n",
              "    .dataframe tbody tr th:only-of-type {\n",
              "        vertical-align: middle;\n",
              "    }\n",
              "\n",
              "    .dataframe tbody tr th {\n",
              "        vertical-align: top;\n",
              "    }\n",
              "\n",
              "    .dataframe thead th {\n",
              "        text-align: right;\n",
              "    }\n",
              "</style>\n",
              "<table border=\"1\" class=\"dataframe\">\n",
              "  <thead>\n",
              "    <tr style=\"text-align: right;\">\n",
              "      <th></th>\n",
              "      <th>Actual</th>\n",
              "      <th>Predicted</th>\n",
              "    </tr>\n",
              "  </thead>\n",
              "  <tbody>\n",
              "    <tr>\n",
              "      <th>0</th>\n",
              "      <td>1</td>\n",
              "      <td>1</td>\n",
              "    </tr>\n",
              "    <tr>\n",
              "      <th>1</th>\n",
              "      <td>0</td>\n",
              "      <td>1</td>\n",
              "    </tr>\n",
              "    <tr>\n",
              "      <th>2</th>\n",
              "      <td>1</td>\n",
              "      <td>1</td>\n",
              "    </tr>\n",
              "    <tr>\n",
              "      <th>3</th>\n",
              "      <td>1</td>\n",
              "      <td>1</td>\n",
              "    </tr>\n",
              "    <tr>\n",
              "      <th>4</th>\n",
              "      <td>1</td>\n",
              "      <td>1</td>\n",
              "    </tr>\n",
              "    <tr>\n",
              "      <th>5</th>\n",
              "      <td>1</td>\n",
              "      <td>1</td>\n",
              "    </tr>\n",
              "    <tr>\n",
              "      <th>6</th>\n",
              "      <td>1</td>\n",
              "      <td>1</td>\n",
              "    </tr>\n",
              "    <tr>\n",
              "      <th>7</th>\n",
              "      <td>0</td>\n",
              "      <td>0</td>\n",
              "    </tr>\n",
              "    <tr>\n",
              "      <th>8</th>\n",
              "      <td>1</td>\n",
              "      <td>1</td>\n",
              "    </tr>\n",
              "    <tr>\n",
              "      <th>9</th>\n",
              "      <td>0</td>\n",
              "      <td>1</td>\n",
              "    </tr>\n",
              "  </tbody>\n",
              "</table>\n",
              "</div>\n",
              "      <button class=\"colab-df-convert\" onclick=\"convertToInteractive('df-9816c501-3e3f-4224-a7b7-1c39e9f756b3')\"\n",
              "              title=\"Convert this dataframe to an interactive table.\"\n",
              "              style=\"display:none;\">\n",
              "        \n",
              "  <svg xmlns=\"http://www.w3.org/2000/svg\" height=\"24px\"viewBox=\"0 0 24 24\"\n",
              "       width=\"24px\">\n",
              "    <path d=\"M0 0h24v24H0V0z\" fill=\"none\"/>\n",
              "    <path d=\"M18.56 5.44l.94 2.06.94-2.06 2.06-.94-2.06-.94-.94-2.06-.94 2.06-2.06.94zm-11 1L8.5 8.5l.94-2.06 2.06-.94-2.06-.94L8.5 2.5l-.94 2.06-2.06.94zm10 10l.94 2.06.94-2.06 2.06-.94-2.06-.94-.94-2.06-.94 2.06-2.06.94z\"/><path d=\"M17.41 7.96l-1.37-1.37c-.4-.4-.92-.59-1.43-.59-.52 0-1.04.2-1.43.59L10.3 9.45l-7.72 7.72c-.78.78-.78 2.05 0 2.83L4 21.41c.39.39.9.59 1.41.59.51 0 1.02-.2 1.41-.59l7.78-7.78 2.81-2.81c.8-.78.8-2.07 0-2.86zM5.41 20L4 18.59l7.72-7.72 1.47 1.35L5.41 20z\"/>\n",
              "  </svg>\n",
              "      </button>\n",
              "      \n",
              "  <style>\n",
              "    .colab-df-container {\n",
              "      display:flex;\n",
              "      flex-wrap:wrap;\n",
              "      gap: 12px;\n",
              "    }\n",
              "\n",
              "    .colab-df-convert {\n",
              "      background-color: #E8F0FE;\n",
              "      border: none;\n",
              "      border-radius: 50%;\n",
              "      cursor: pointer;\n",
              "      display: none;\n",
              "      fill: #1967D2;\n",
              "      height: 32px;\n",
              "      padding: 0 0 0 0;\n",
              "      width: 32px;\n",
              "    }\n",
              "\n",
              "    .colab-df-convert:hover {\n",
              "      background-color: #E2EBFA;\n",
              "      box-shadow: 0px 1px 2px rgba(60, 64, 67, 0.3), 0px 1px 3px 1px rgba(60, 64, 67, 0.15);\n",
              "      fill: #174EA6;\n",
              "    }\n",
              "\n",
              "    [theme=dark] .colab-df-convert {\n",
              "      background-color: #3B4455;\n",
              "      fill: #D2E3FC;\n",
              "    }\n",
              "\n",
              "    [theme=dark] .colab-df-convert:hover {\n",
              "      background-color: #434B5C;\n",
              "      box-shadow: 0px 1px 3px 1px rgba(0, 0, 0, 0.15);\n",
              "      filter: drop-shadow(0px 1px 2px rgba(0, 0, 0, 0.3));\n",
              "      fill: #FFFFFF;\n",
              "    }\n",
              "  </style>\n",
              "\n",
              "      <script>\n",
              "        const buttonEl =\n",
              "          document.querySelector('#df-9816c501-3e3f-4224-a7b7-1c39e9f756b3 button.colab-df-convert');\n",
              "        buttonEl.style.display =\n",
              "          google.colab.kernel.accessAllowed ? 'block' : 'none';\n",
              "\n",
              "        async function convertToInteractive(key) {\n",
              "          const element = document.querySelector('#df-9816c501-3e3f-4224-a7b7-1c39e9f756b3');\n",
              "          const dataTable =\n",
              "            await google.colab.kernel.invokeFunction('convertToInteractive',\n",
              "                                                     [key], {});\n",
              "          if (!dataTable) return;\n",
              "\n",
              "          const docLinkHtml = 'Like what you see? Visit the ' +\n",
              "            '<a target=\"_blank\" href=https://colab.research.google.com/notebooks/data_table.ipynb>data table notebook</a>'\n",
              "            + ' to learn more about interactive tables.';\n",
              "          element.innerHTML = '';\n",
              "          dataTable['output_type'] = 'display_data';\n",
              "          await google.colab.output.renderOutput(dataTable, element);\n",
              "          const docLink = document.createElement('div');\n",
              "          docLink.innerHTML = docLinkHtml;\n",
              "          element.appendChild(docLink);\n",
              "        }\n",
              "      </script>\n",
              "    </div>\n",
              "  </div>\n",
              "  "
            ],
            "text/plain": [
              "   Actual  Predicted\n",
              "0       1          1\n",
              "1       0          1\n",
              "2       1          1\n",
              "3       1          1\n",
              "4       1          1\n",
              "5       1          1\n",
              "6       1          1\n",
              "7       0          0\n",
              "8       1          1\n",
              "9       0          1"
            ]
          },
          "metadata": {},
          "execution_count": 610
        }
      ]
    },
    {
      "cell_type": "code",
      "source": [
        "# The predicted values of the test set\n",
        "lor_test_pred"
      ],
      "metadata": {
        "colab": {
          "base_uri": "https://localhost:8080/"
        },
        "id": "ObE05jp4613y",
        "outputId": "3b554dc2-abb0-4dba-ab94-d38c0655e8af"
      },
      "execution_count": null,
      "outputs": [
        {
          "output_type": "execute_result",
          "data": {
            "text/plain": [
              "array([1, 1, 1, 1, 1, 1, 1, 0, 1, 1, 1, 1, 1, 0, 1, 1, 1, 1, 1, 1, 1, 1,\n",
              "       1, 1, 1, 0, 1, 1, 1, 1, 1, 1, 1, 1, 1, 0, 1, 1, 1, 1, 1, 1, 1, 1,\n",
              "       1, 1, 1, 1, 1, 1, 1, 1, 1, 1, 1, 0, 1, 1, 0, 1, 1, 1, 1, 0, 1, 1,\n",
              "       0, 0, 1, 0, 1, 1, 1, 1, 1, 1, 1, 1, 1, 1, 0, 1, 0, 1, 0, 1, 1, 1,\n",
              "       1, 1, 1, 1, 1, 1, 0, 1, 1, 1, 1, 1, 1, 0, 1, 1, 1, 1, 0, 1, 1, 1,\n",
              "       1, 1, 1, 1, 1, 1, 1, 0, 0, 0, 1, 1, 1, 0, 0, 1, 0, 1, 1, 1, 1, 1,\n",
              "       1, 1, 1, 1, 1, 1, 1, 1, 0, 1, 0, 1, 1, 1, 1, 0, 1, 1, 1, 1, 1, 0,\n",
              "       1, 1, 1, 1, 1, 1, 1, 0, 1, 1, 1, 0, 0, 1, 0, 1, 1, 1, 1, 0, 0, 1,\n",
              "       1, 1, 1, 1, 1, 1, 1, 1, 1, 1, 1, 1, 1, 1, 1, 1, 0, 0, 1, 1, 0, 1,\n",
              "       0, 1, 1, 1, 1, 1, 1, 1, 1, 1, 1, 1, 1, 0, 1, 1, 1, 1, 1, 1, 1, 1,\n",
              "       1, 1, 1, 1, 0, 1, 1, 1, 1, 0, 1, 1, 1, 1, 1, 0, 0, 1, 1, 1, 1, 0,\n",
              "       1, 0, 1, 0, 1, 1, 1, 1, 0, 1, 1, 1, 1, 0, 1, 1, 1, 1, 1, 1, 1, 1,\n",
              "       1, 1, 0, 1, 0, 1, 1, 1, 1, 0, 0, 1, 1, 1, 0, 1, 1, 1, 1, 1, 1, 1,\n",
              "       1, 1, 1, 1, 1, 1, 1, 0, 1, 1, 1, 1, 1, 1, 1, 0, 1, 1, 1, 1, 1, 1,\n",
              "       1, 1, 1, 0, 1, 1, 1, 1, 1, 0, 1, 1, 1, 1, 1, 1, 1, 0, 1, 1, 1, 1,\n",
              "       1, 1, 1, 1, 1, 1, 1, 1, 1, 0, 1, 1, 1, 1, 1, 1, 0, 1, 1, 1, 1, 1,\n",
              "       1, 1, 0, 1, 1, 1, 1, 1, 1, 1, 1, 1, 1, 1, 1])"
            ]
          },
          "metadata": {},
          "execution_count": 615
        }
      ]
    },
    {
      "cell_type": "code",
      "source": [
        "sns.heatmap(lor_df.corr(), annot=True, cmap='Greens')"
      ],
      "metadata": {
        "colab": {
          "base_uri": "https://localhost:8080/",
          "height": 287
        },
        "id": "7DozIHpqhfaU",
        "outputId": "1545d9d6-10df-4f6f-ed4b-16ae7e4073db"
      },
      "execution_count": null,
      "outputs": [
        {
          "output_type": "execute_result",
          "data": {
            "text/plain": [
              "<matplotlib.axes._subplots.AxesSubplot at 0x7f747e6dcb10>"
            ]
          },
          "metadata": {},
          "execution_count": 611
        },
        {
          "output_type": "display_data",
          "data": {
            "image/png": "[encoded data removed]",
            "text/plain": [
              "<Figure size 432x288 with 2 Axes>"
            ]
          },
          "metadata": {
            "needs_background": "light"
          }
        }
      ]
    },
    {
      "cell_type": "markdown",
      "source": [
        "**Correlation between actual and predicted is not very close to 1. But it gives a correlation of 0.55 (55%).**"
      ],
      "metadata": {
        "id": "fgcGPkMN5g-Y"
      }
    },
    {
      "cell_type": "markdown",
      "source": [
        "##Q13.\n",
        "13. In order to improve the accuracy, what more approaches can be done?\n",
        "\n",
        "* Remove or substitute an appropriate value for outliers.\n",
        "* Collect more data. Because 600+ data points are not sufficient to build an accurate model.\n",
        "* Increasing the number of parameters in hyperparameter tunning.\n",
        "\n"
      ],
      "metadata": {
        "id": "t_i8SAzuzohu"
      }
    },
    {
      "cell_type": "code",
      "source": [
        "######################################################################################## fill"
      ],
      "metadata": {
        "id": "BhPkqFHL7ZnK"
      },
      "execution_count": null,
      "outputs": []
    },
    {
      "cell_type": "markdown",
      "source": [
        "##Q14.\n",
        "14. What can you conclude with respect to the data?\n",
        "\n",
        "* Most of the loan status has been disproved when the credit history does not meet the guidelines. \n"
      ],
      "metadata": {
        "id": "_bgJ8kfczqGw"
      }
    },
    {
      "cell_type": "markdown",
      "source": [
        "#Pickle"
      ],
      "metadata": {
        "id": "XFjucfJN7dr_"
      }
    },
    {
      "cell_type": "code",
      "source": [
        "import pickle"
      ],
      "metadata": {
        "id": "GSfwuALP7fxH"
      },
      "execution_count": null,
      "outputs": []
    }
  ]
}